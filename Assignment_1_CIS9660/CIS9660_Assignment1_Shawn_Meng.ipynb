{
 "cells": [
  {
   "cell_type": "markdown",
   "metadata": {},
   "source": [
    "# Assignment 1: Logistic Regression and Linear Regression with Python\n",
    "# 6/23/2021\n",
    "# Shawn Meng"
   ]
  },
  {
   "cell_type": "markdown",
   "metadata": {},
   "source": [
    "## Part 1"
   ]
  },
  {
   "cell_type": "markdown",
   "metadata": {},
   "source": [
    "### 1. Loading and Joining data"
   ]
  },
  {
   "cell_type": "code",
   "execution_count": 1,
   "metadata": {},
   "outputs": [],
   "source": [
    "import pandas as pd\n",
    "import numpy as np\n",
    "pd.set_option('display.float_format', lambda x: '%.5f' % x)"
   ]
  },
  {
   "cell_type": "code",
   "execution_count": 2,
   "metadata": {},
   "outputs": [
    {
     "name": "stderr",
     "output_type": "stream",
     "text": [
      "C:\\ProgramData\\Anaconda3\\lib\\site-packages\\IPython\\core\\interactiveshell.py:3146: DtypeWarning: Columns (49) have mixed types.Specify dtype option on import or set low_memory=False.\n",
      "  has_raised = await self.run_ast_nodes(code_ast.body, cell_name,\n"
     ]
    }
   ],
   "source": [
    "train_2017 = pd.read_csv('train_2017.csv')\n",
    "properties_2017 = pd.read_csv('properties_2017.csv')"
   ]
  },
  {
   "cell_type": "code",
   "execution_count": 3,
   "metadata": {},
   "outputs": [],
   "source": [
    "df1 = pd.merge(train_2017, properties_2017, how = 'inner', on = train_2017.columns[0])"
   ]
  },
  {
   "cell_type": "markdown",
   "metadata": {},
   "source": [
    "### 2. Split the dataset into training/validation using the standard 70/30% split"
   ]
  },
  {
   "cell_type": "code",
   "execution_count": 4,
   "metadata": {},
   "outputs": [],
   "source": [
    "from sklearn.model_selection import train_test_split "
   ]
  },
  {
   "cell_type": "code",
   "execution_count": 5,
   "metadata": {},
   "outputs": [],
   "source": [
    "train_set, val_set = train_test_split(df1, train_size = 0.7, random_state = 9660)"
   ]
  },
  {
   "cell_type": "markdown",
   "metadata": {},
   "source": [
    "### 3. Data cleaning."
   ]
  },
  {
   "cell_type": "code",
   "execution_count": 6,
   "metadata": {},
   "outputs": [
    {
     "data": {
      "text/html": [
       "<div>\n",
       "<style scoped>\n",
       "    .dataframe tbody tr th:only-of-type {\n",
       "        vertical-align: middle;\n",
       "    }\n",
       "\n",
       "    .dataframe tbody tr th {\n",
       "        vertical-align: top;\n",
       "    }\n",
       "\n",
       "    .dataframe thead th {\n",
       "        text-align: right;\n",
       "    }\n",
       "</style>\n",
       "<table border=\"1\" class=\"dataframe\">\n",
       "  <thead>\n",
       "    <tr style=\"text-align: right;\">\n",
       "      <th></th>\n",
       "      <th>Feature</th>\n",
       "      <th>unique_counts</th>\n",
       "      <th>unique_values</th>\n",
       "      <th>na_percent</th>\n",
       "      <th>Description</th>\n",
       "    </tr>\n",
       "  </thead>\n",
       "  <tbody>\n",
       "    <tr>\n",
       "      <th>0</th>\n",
       "      <td>parcelid</td>\n",
       "      <td>54231</td>\n",
       "      <td>[14669079, 17199048, 11634788, 17089180, 12677...</td>\n",
       "      <td>0.00000</td>\n",
       "      <td>Unique identifier for parcels (lots)</td>\n",
       "    </tr>\n",
       "    <tr>\n",
       "      <th>1</th>\n",
       "      <td>logerror</td>\n",
       "      <td>54038</td>\n",
       "      <td>[0.0142071003593, -0.025691371146400004, 0.050...</td>\n",
       "      <td>0.00000</td>\n",
       "      <td>NaN</td>\n",
       "    </tr>\n",
       "    <tr>\n",
       "      <th>2</th>\n",
       "      <td>transactiondate</td>\n",
       "      <td>258</td>\n",
       "      <td>[2017-05-15, 2017-02-28, 2017-02-03, 2017-06-1...</td>\n",
       "      <td>0.00000</td>\n",
       "      <td>NaN</td>\n",
       "    </tr>\n",
       "    <tr>\n",
       "      <th>3</th>\n",
       "      <td>airconditioningtypeid</td>\n",
       "      <td>6</td>\n",
       "      <td>[nan, 1.0, 13.0, 11.0, 5.0, 9.0]</td>\n",
       "      <td>0.67827</td>\n",
       "      <td>Type of cooling system present in the home (i...</td>\n",
       "    </tr>\n",
       "    <tr>\n",
       "      <th>4</th>\n",
       "      <td>architecturalstyletypeid</td>\n",
       "      <td>6</td>\n",
       "      <td>[nan, 7.0, 8.0, 3.0, 2.0, 21.0]</td>\n",
       "      <td>0.99728</td>\n",
       "      <td>Architectural style of the home (i.e. ranch, ...</td>\n",
       "    </tr>\n",
       "    <tr>\n",
       "      <th>5</th>\n",
       "      <td>basementsqft</td>\n",
       "      <td>30</td>\n",
       "      <td>[nan, 515.0, 380.0, 1416.0, 1969.0, 3560.0, 28...</td>\n",
       "      <td>0.99941</td>\n",
       "      <td>Finished living area below or partially below...</td>\n",
       "    </tr>\n",
       "    <tr>\n",
       "      <th>6</th>\n",
       "      <td>bathroomcnt</td>\n",
       "      <td>22</td>\n",
       "      <td>[2.5, 2.0, 7.0, 3.0, 4.0, 1.0, 4.5, 10.0, 6.5,...</td>\n",
       "      <td>0.00042</td>\n",
       "      <td>Number of bathrooms in home including fractio...</td>\n",
       "    </tr>\n",
       "    <tr>\n",
       "      <th>7</th>\n",
       "      <td>bedroomcnt</td>\n",
       "      <td>16</td>\n",
       "      <td>[3.0, 2.0, 8.0, 4.0, 5.0, 6.0, 9.0, 0.0, 1.0, ...</td>\n",
       "      <td>0.00042</td>\n",
       "      <td>Number of bedrooms in home</td>\n",
       "    </tr>\n",
       "    <tr>\n",
       "      <th>8</th>\n",
       "      <td>buildingclasstypeid</td>\n",
       "      <td>2</td>\n",
       "      <td>[nan, 4.0]</td>\n",
       "      <td>0.99980</td>\n",
       "      <td>The building framing type (steel frame, wood f...</td>\n",
       "    </tr>\n",
       "    <tr>\n",
       "      <th>9</th>\n",
       "      <td>buildingqualitytypeid</td>\n",
       "      <td>13</td>\n",
       "      <td>[nan, 6.0, 8.0, 4.0, 9.0, 5.0, 7.0, 11.0, 3.0,...</td>\n",
       "      <td>0.35662</td>\n",
       "      <td>Overall assessment of condition of the buildi...</td>\n",
       "    </tr>\n",
       "    <tr>\n",
       "      <th>10</th>\n",
       "      <td>calculatedbathnbr</td>\n",
       "      <td>21</td>\n",
       "      <td>[2.5, 2.0, 7.0, 3.0, 4.0, 1.0, 4.5, 10.0, 6.5,...</td>\n",
       "      <td>0.00825</td>\n",
       "      <td>Number of bathrooms in home including fractio...</td>\n",
       "    </tr>\n",
       "    <tr>\n",
       "      <th>11</th>\n",
       "      <td>decktypeid</td>\n",
       "      <td>2</td>\n",
       "      <td>[nan, 66.0]</td>\n",
       "      <td>0.99212</td>\n",
       "      <td>Type of deck (if any) present on parcel</td>\n",
       "    </tr>\n",
       "    <tr>\n",
       "      <th>12</th>\n",
       "      <td>finishedfloor1squarefeet</td>\n",
       "      <td>1562</td>\n",
       "      <td>[nan, 893.0, 880.0, 1772.0, 514.0, 876.0, 1369...</td>\n",
       "      <td>0.92225</td>\n",
       "      <td>Size of the finished living area on the first...</td>\n",
       "    </tr>\n",
       "    <tr>\n",
       "      <th>13</th>\n",
       "      <td>calculatedfinishedsquarefeet</td>\n",
       "      <td>4594</td>\n",
       "      <td>[1876.0, 1826.0, 888.0, 1660.0, 4169.0, 1804.0...</td>\n",
       "      <td>0.00280</td>\n",
       "      <td>Calculated total finished living area of the ...</td>\n",
       "    </tr>\n",
       "    <tr>\n",
       "      <th>14</th>\n",
       "      <td>finishedsquarefeet12</td>\n",
       "      <td>4487</td>\n",
       "      <td>[1876.0, 1826.0, 888.0, 1660.0, nan, 1804.0, 2...</td>\n",
       "      <td>0.04769</td>\n",
       "      <td>Finished living area</td>\n",
       "    </tr>\n",
       "    <tr>\n",
       "      <th>15</th>\n",
       "      <td>finishedsquarefeet13</td>\n",
       "      <td>12</td>\n",
       "      <td>[nan, 1344.0, 1536.0, 1440.0, 1488.0, 1560.0, ...</td>\n",
       "      <td>0.99948</td>\n",
       "      <td>Perimeter  living area</td>\n",
       "    </tr>\n",
       "    <tr>\n",
       "      <th>16</th>\n",
       "      <td>finishedsquarefeet15</td>\n",
       "      <td>1391</td>\n",
       "      <td>[nan, 4169.0, 1584.0, 2664.0, 1771.0, 4746.0, ...</td>\n",
       "      <td>0.96035</td>\n",
       "      <td>Total area</td>\n",
       "    </tr>\n",
       "    <tr>\n",
       "      <th>17</th>\n",
       "      <td>finishedsquarefeet50</td>\n",
       "      <td>1577</td>\n",
       "      <td>[nan, 893.0, 880.0, 1772.0, 514.0, 876.0, 1369...</td>\n",
       "      <td>0.92225</td>\n",
       "      <td>Size of the finished living area on the first...</td>\n",
       "    </tr>\n",
       "    <tr>\n",
       "      <th>18</th>\n",
       "      <td>finishedsquarefeet6</td>\n",
       "      <td>240</td>\n",
       "      <td>[nan, 3470.0, 1085.0, 4198.0, 2110.0, 2630.0, ...</td>\n",
       "      <td>0.99527</td>\n",
       "      <td>Base unfinished and finished area</td>\n",
       "    </tr>\n",
       "    <tr>\n",
       "      <th>19</th>\n",
       "      <td>fips</td>\n",
       "      <td>4</td>\n",
       "      <td>[6059.0, 6111.0, 6037.0, nan]</td>\n",
       "      <td>0.00042</td>\n",
       "      <td>Federal Information Processing Standard code ...</td>\n",
       "    </tr>\n",
       "    <tr>\n",
       "      <th>20</th>\n",
       "      <td>fireplacecnt</td>\n",
       "      <td>6</td>\n",
       "      <td>[nan, 1.0, 2.0, 3.0, 4.0, 5.0]</td>\n",
       "      <td>0.89295</td>\n",
       "      <td>Number of fireplaces in a home (if any)</td>\n",
       "    </tr>\n",
       "    <tr>\n",
       "      <th>21</th>\n",
       "      <td>fullbathcnt</td>\n",
       "      <td>13</td>\n",
       "      <td>[2.0, 7.0, 3.0, 4.0, 1.0, 10.0, 6.0, nan, 5.0,...</td>\n",
       "      <td>0.00825</td>\n",
       "      <td>Number of full bathrooms (sink, shower + bath...</td>\n",
       "    </tr>\n",
       "    <tr>\n",
       "      <th>22</th>\n",
       "      <td>garagecarcnt</td>\n",
       "      <td>14</td>\n",
       "      <td>[2.0, nan, 1.0, 4.0, 3.0, 0.0, 5.0, 13.0, 6.0,...</td>\n",
       "      <td>0.67244</td>\n",
       "      <td>Total number of garages on the lot including ...</td>\n",
       "    </tr>\n",
       "    <tr>\n",
       "      <th>23</th>\n",
       "      <td>garagetotalsqft</td>\n",
       "      <td>767</td>\n",
       "      <td>[0.0, 443.0, nan, 420.0, 613.0, 360.0, 467.0, ...</td>\n",
       "      <td>0.67244</td>\n",
       "      <td>Total number of square feet of all garages on...</td>\n",
       "    </tr>\n",
       "    <tr>\n",
       "      <th>24</th>\n",
       "      <td>hashottuborspa</td>\n",
       "      <td>2</td>\n",
       "      <td>[nan, True]</td>\n",
       "      <td>0.97990</td>\n",
       "      <td>Does the home have a hot tub or spa</td>\n",
       "    </tr>\n",
       "    <tr>\n",
       "      <th>25</th>\n",
       "      <td>heatingorsystemtypeid</td>\n",
       "      <td>11</td>\n",
       "      <td>[nan, 2.0, 7.0, 24.0, 13.0, 20.0, 6.0, 18.0, 1...</td>\n",
       "      <td>0.36108</td>\n",
       "      <td>Type of home heating system</td>\n",
       "    </tr>\n",
       "    <tr>\n",
       "      <th>26</th>\n",
       "      <td>latitude</td>\n",
       "      <td>46170</td>\n",
       "      <td>[33736385.0, 34271990.0, 34083062.0, 34267162....</td>\n",
       "      <td>0.00042</td>\n",
       "      <td>Latitude of the middle of the parcel multipli...</td>\n",
       "    </tr>\n",
       "    <tr>\n",
       "      <th>27</th>\n",
       "      <td>longitude</td>\n",
       "      <td>44609</td>\n",
       "      <td>[-117787977.0, -118890693.0, -118387341.0, -11...</td>\n",
       "      <td>0.00042</td>\n",
       "      <td>Longitude of the middle of the parcel multipl...</td>\n",
       "    </tr>\n",
       "    <tr>\n",
       "      <th>28</th>\n",
       "      <td>lotsizesquarefeet</td>\n",
       "      <td>16060</td>\n",
       "      <td>[nan, 4749.0, 3679.0, 6818.0, 10789.0, 21798.0...</td>\n",
       "      <td>0.10637</td>\n",
       "      <td>Area of the lot in square feet</td>\n",
       "    </tr>\n",
       "    <tr>\n",
       "      <th>29</th>\n",
       "      <td>poolcnt</td>\n",
       "      <td>2</td>\n",
       "      <td>[nan, 1.0]</td>\n",
       "      <td>0.79077</td>\n",
       "      <td>Number of pools on the lot (if any)</td>\n",
       "    </tr>\n",
       "    <tr>\n",
       "      <th>30</th>\n",
       "      <td>poolsizesum</td>\n",
       "      <td>217</td>\n",
       "      <td>[nan, 512.0, 450.0, 480.0, 375.0, 238.0, 600.0...</td>\n",
       "      <td>0.98875</td>\n",
       "      <td>Total square footage of all pools on property</td>\n",
       "    </tr>\n",
       "    <tr>\n",
       "      <th>31</th>\n",
       "      <td>pooltypeid10</td>\n",
       "      <td>2</td>\n",
       "      <td>[nan, 1.0]</td>\n",
       "      <td>0.99404</td>\n",
       "      <td>Spa or Hot Tub</td>\n",
       "    </tr>\n",
       "    <tr>\n",
       "      <th>32</th>\n",
       "      <td>pooltypeid2</td>\n",
       "      <td>2</td>\n",
       "      <td>[nan, 1.0]</td>\n",
       "      <td>0.98586</td>\n",
       "      <td>Pool with Spa/Hot Tub</td>\n",
       "    </tr>\n",
       "    <tr>\n",
       "      <th>33</th>\n",
       "      <td>pooltypeid7</td>\n",
       "      <td>2</td>\n",
       "      <td>[nan, 1.0]</td>\n",
       "      <td>0.80519</td>\n",
       "      <td>Pool without hot tub</td>\n",
       "    </tr>\n",
       "    <tr>\n",
       "      <th>34</th>\n",
       "      <td>propertycountylandusecode</td>\n",
       "      <td>72</td>\n",
       "      <td>[34, 1111, 0101, 1129, 0400, 010C, 122, 0100, ...</td>\n",
       "      <td>0.00042</td>\n",
       "      <td>County land use code i.e. it's zoning at the ...</td>\n",
       "    </tr>\n",
       "    <tr>\n",
       "      <th>35</th>\n",
       "      <td>propertylandusetypeid</td>\n",
       "      <td>14</td>\n",
       "      <td>[266.0, 261.0, 248.0, 246.0, 247.0, 269.0, 265...</td>\n",
       "      <td>0.00042</td>\n",
       "      <td>Type of land use the property is zoned for</td>\n",
       "    </tr>\n",
       "    <tr>\n",
       "      <th>36</th>\n",
       "      <td>propertyzoningdesc</td>\n",
       "      <td>1743</td>\n",
       "      <td>[nan, WDR2*, TORR-MD, MNRH, ESR1YY, LAR1, LAR3...</td>\n",
       "      <td>0.34871</td>\n",
       "      <td>Description of the allowed land uses (zoning)...</td>\n",
       "    </tr>\n",
       "    <tr>\n",
       "      <th>37</th>\n",
       "      <td>rawcensustractandblock</td>\n",
       "      <td>31428</td>\n",
       "      <td>[60590756.075002, 61110076.091002, 60377005.01...</td>\n",
       "      <td>0.00042</td>\n",
       "      <td>Census tract and block ID combined - also con...</td>\n",
       "    </tr>\n",
       "    <tr>\n",
       "      <th>38</th>\n",
       "      <td>regionidcity</td>\n",
       "      <td>176</td>\n",
       "      <td>[27491.0, 25974.0, 48424.0, 34543.0, 54722.0, ...</td>\n",
       "      <td>0.01912</td>\n",
       "      <td>City in which the property is located (if any)</td>\n",
       "    </tr>\n",
       "    <tr>\n",
       "      <th>39</th>\n",
       "      <td>regionidcounty</td>\n",
       "      <td>4</td>\n",
       "      <td>[1286.0, 2061.0, 3101.0, nan]</td>\n",
       "      <td>0.00042</td>\n",
       "      <td>County in which the property is located</td>\n",
       "    </tr>\n",
       "    <tr>\n",
       "      <th>40</th>\n",
       "      <td>regionidneighborhood</td>\n",
       "      <td>468</td>\n",
       "      <td>[nan, 762177.0, 416336.0, 268548.0, 27080.0, 2...</td>\n",
       "      <td>0.59883</td>\n",
       "      <td>Neighborhood in which the property is located</td>\n",
       "    </tr>\n",
       "    <tr>\n",
       "      <th>41</th>\n",
       "      <td>regionidzip</td>\n",
       "      <td>387</td>\n",
       "      <td>[97018.0, 97097.0, 96050.0, 97083.0, 96161.0, ...</td>\n",
       "      <td>0.00107</td>\n",
       "      <td>Zip code in which the property is located</td>\n",
       "    </tr>\n",
       "    <tr>\n",
       "      <th>42</th>\n",
       "      <td>roomcnt</td>\n",
       "      <td>17</td>\n",
       "      <td>[0.0, 7.0, 8.0, 5.0, 6.0, 4.0, 3.0, 11.0, 9.0,...</td>\n",
       "      <td>0.00042</td>\n",
       "      <td>Total number of rooms in the principal residence</td>\n",
       "    </tr>\n",
       "    <tr>\n",
       "      <th>43</th>\n",
       "      <td>storytypeid</td>\n",
       "      <td>2</td>\n",
       "      <td>[nan, 7.0]</td>\n",
       "      <td>0.99941</td>\n",
       "      <td>Type of floors in a multi-story house (i.e. b...</td>\n",
       "    </tr>\n",
       "    <tr>\n",
       "      <th>44</th>\n",
       "      <td>threequarterbathnbr</td>\n",
       "      <td>5</td>\n",
       "      <td>[1.0, nan, 2.0, 3.0, 7.0]</td>\n",
       "      <td>0.86989</td>\n",
       "      <td>Number of 3/4 bathrooms in house (shower + si...</td>\n",
       "    </tr>\n",
       "    <tr>\n",
       "      <th>45</th>\n",
       "      <td>typeconstructiontypeid</td>\n",
       "      <td>4</td>\n",
       "      <td>[nan, 6.0, 10.0, 13.0]</td>\n",
       "      <td>0.99700</td>\n",
       "      <td>What type of construction material was used t...</td>\n",
       "    </tr>\n",
       "    <tr>\n",
       "      <th>46</th>\n",
       "      <td>unitcnt</td>\n",
       "      <td>8</td>\n",
       "      <td>[nan, 1.0, 4.0, 2.0, 3.0, 42.0, 45.0, 237.0]</td>\n",
       "      <td>0.34538</td>\n",
       "      <td>Number of units the structure is built into (...</td>\n",
       "    </tr>\n",
       "    <tr>\n",
       "      <th>47</th>\n",
       "      <td>yardbuildingsqft17</td>\n",
       "      <td>454</td>\n",
       "      <td>[nan, 572.0, 230.0, 140.0, 200.0, 600.0, 459.0...</td>\n",
       "      <td>0.96904</td>\n",
       "      <td>Patio in  yard</td>\n",
       "    </tr>\n",
       "    <tr>\n",
       "      <th>48</th>\n",
       "      <td>yardbuildingsqft26</td>\n",
       "      <td>39</td>\n",
       "      <td>[nan, 37.0, 461.0, 216.0, 868.0, 48.0, 314.0, ...</td>\n",
       "      <td>0.99925</td>\n",
       "      <td>Storage shed/building in yard</td>\n",
       "    </tr>\n",
       "    <tr>\n",
       "      <th>49</th>\n",
       "      <td>yearbuilt</td>\n",
       "      <td>133</td>\n",
       "      <td>[1994.0, 1985.0, 1922.0, 1991.0, 1964.0, 1989....</td>\n",
       "      <td>0.00364</td>\n",
       "      <td>The Year the principal residence was built</td>\n",
       "    </tr>\n",
       "    <tr>\n",
       "      <th>50</th>\n",
       "      <td>numberofstories</td>\n",
       "      <td>5</td>\n",
       "      <td>[nan, 2.0, 1.0, 3.0, 6.0]</td>\n",
       "      <td>0.77356</td>\n",
       "      <td>Number of stories or levels the home has</td>\n",
       "    </tr>\n",
       "    <tr>\n",
       "      <th>51</th>\n",
       "      <td>fireplaceflag</td>\n",
       "      <td>2</td>\n",
       "      <td>[nan, True]</td>\n",
       "      <td>0.99774</td>\n",
       "      <td>Is a fireplace present in this home</td>\n",
       "    </tr>\n",
       "    <tr>\n",
       "      <th>52</th>\n",
       "      <td>structuretaxvaluedollarcnt</td>\n",
       "      <td>37763</td>\n",
       "      <td>[237033.0, 256441.0, 233507.0, 140000.0, 13190...</td>\n",
       "      <td>0.00191</td>\n",
       "      <td>The assessed value of the built structure on t...</td>\n",
       "    </tr>\n",
       "    <tr>\n",
       "      <th>53</th>\n",
       "      <td>taxvaluedollarcnt</td>\n",
       "      <td>37858</td>\n",
       "      <td>[729000.0, 427397.0, 1167537.0, 399000.0, 1892...</td>\n",
       "      <td>0.00042</td>\n",
       "      <td>The total tax assessed value of the parcel</td>\n",
       "    </tr>\n",
       "    <tr>\n",
       "      <th>54</th>\n",
       "      <td>assessmentyear</td>\n",
       "      <td>2</td>\n",
       "      <td>[2016.0, nan]</td>\n",
       "      <td>0.00042</td>\n",
       "      <td>The year of the property tax assessment</td>\n",
       "    </tr>\n",
       "    <tr>\n",
       "      <th>55</th>\n",
       "      <td>landtaxvaluedollarcnt</td>\n",
       "      <td>38201</td>\n",
       "      <td>[491967.0, 170956.0, 934030.0, 259000.0, 57343...</td>\n",
       "      <td>0.00042</td>\n",
       "      <td>The assessed value of the land area of the parcel</td>\n",
       "    </tr>\n",
       "    <tr>\n",
       "      <th>56</th>\n",
       "      <td>taxamount</td>\n",
       "      <td>52416</td>\n",
       "      <td>[8188.76, 4758.52, 14276.37, 4241.72, 2682.54,...</td>\n",
       "      <td>0.00048</td>\n",
       "      <td>The total property tax assessed for that asses...</td>\n",
       "    </tr>\n",
       "    <tr>\n",
       "      <th>57</th>\n",
       "      <td>taxdelinquencyflag</td>\n",
       "      <td>2</td>\n",
       "      <td>[nan, Y]</td>\n",
       "      <td>0.96197</td>\n",
       "      <td>Property taxes for this parcel are past due as...</td>\n",
       "    </tr>\n",
       "    <tr>\n",
       "      <th>58</th>\n",
       "      <td>taxdelinquencyyear</td>\n",
       "      <td>13</td>\n",
       "      <td>[nan, 12.0, 15.0, 14.0, 10.0, 11.0, 9.0, 13.0,...</td>\n",
       "      <td>0.96197</td>\n",
       "      <td>Year for which the unpaid propert taxes were due</td>\n",
       "    </tr>\n",
       "    <tr>\n",
       "      <th>59</th>\n",
       "      <td>censustractandblock</td>\n",
       "      <td>31283</td>\n",
       "      <td>[60590756075002.0, 61110076091002.0, 603770050...</td>\n",
       "      <td>0.00361</td>\n",
       "      <td>Census tract and block ID combined - also con...</td>\n",
       "    </tr>\n",
       "  </tbody>\n",
       "</table>\n",
       "</div>"
      ],
      "text/plain": [
       "                         Feature  unique_counts  \\\n",
       "0                       parcelid          54231   \n",
       "1                       logerror          54038   \n",
       "2                transactiondate            258   \n",
       "3          airconditioningtypeid              6   \n",
       "4       architecturalstyletypeid              6   \n",
       "5                   basementsqft             30   \n",
       "6                    bathroomcnt             22   \n",
       "7                     bedroomcnt             16   \n",
       "8            buildingclasstypeid              2   \n",
       "9          buildingqualitytypeid             13   \n",
       "10             calculatedbathnbr             21   \n",
       "11                    decktypeid              2   \n",
       "12      finishedfloor1squarefeet           1562   \n",
       "13  calculatedfinishedsquarefeet           4594   \n",
       "14          finishedsquarefeet12           4487   \n",
       "15          finishedsquarefeet13             12   \n",
       "16          finishedsquarefeet15           1391   \n",
       "17          finishedsquarefeet50           1577   \n",
       "18           finishedsquarefeet6            240   \n",
       "19                          fips              4   \n",
       "20                  fireplacecnt              6   \n",
       "21                   fullbathcnt             13   \n",
       "22                  garagecarcnt             14   \n",
       "23               garagetotalsqft            767   \n",
       "24                hashottuborspa              2   \n",
       "25         heatingorsystemtypeid             11   \n",
       "26                      latitude          46170   \n",
       "27                     longitude          44609   \n",
       "28             lotsizesquarefeet          16060   \n",
       "29                       poolcnt              2   \n",
       "30                   poolsizesum            217   \n",
       "31                  pooltypeid10              2   \n",
       "32                   pooltypeid2              2   \n",
       "33                   pooltypeid7              2   \n",
       "34     propertycountylandusecode             72   \n",
       "35         propertylandusetypeid             14   \n",
       "36            propertyzoningdesc           1743   \n",
       "37        rawcensustractandblock          31428   \n",
       "38                  regionidcity            176   \n",
       "39                regionidcounty              4   \n",
       "40          regionidneighborhood            468   \n",
       "41                   regionidzip            387   \n",
       "42                       roomcnt             17   \n",
       "43                   storytypeid              2   \n",
       "44           threequarterbathnbr              5   \n",
       "45        typeconstructiontypeid              4   \n",
       "46                       unitcnt              8   \n",
       "47            yardbuildingsqft17            454   \n",
       "48            yardbuildingsqft26             39   \n",
       "49                     yearbuilt            133   \n",
       "50               numberofstories              5   \n",
       "51                 fireplaceflag              2   \n",
       "52    structuretaxvaluedollarcnt          37763   \n",
       "53             taxvaluedollarcnt          37858   \n",
       "54                assessmentyear              2   \n",
       "55         landtaxvaluedollarcnt          38201   \n",
       "56                     taxamount          52416   \n",
       "57            taxdelinquencyflag              2   \n",
       "58            taxdelinquencyyear             13   \n",
       "59           censustractandblock          31283   \n",
       "\n",
       "                                        unique_values  na_percent  \\\n",
       "0   [14669079, 17199048, 11634788, 17089180, 12677...     0.00000   \n",
       "1   [0.0142071003593, -0.025691371146400004, 0.050...     0.00000   \n",
       "2   [2017-05-15, 2017-02-28, 2017-02-03, 2017-06-1...     0.00000   \n",
       "3                    [nan, 1.0, 13.0, 11.0, 5.0, 9.0]     0.67827   \n",
       "4                     [nan, 7.0, 8.0, 3.0, 2.0, 21.0]     0.99728   \n",
       "5   [nan, 515.0, 380.0, 1416.0, 1969.0, 3560.0, 28...     0.99941   \n",
       "6   [2.5, 2.0, 7.0, 3.0, 4.0, 1.0, 4.5, 10.0, 6.5,...     0.00042   \n",
       "7   [3.0, 2.0, 8.0, 4.0, 5.0, 6.0, 9.0, 0.0, 1.0, ...     0.00042   \n",
       "8                                          [nan, 4.0]     0.99980   \n",
       "9   [nan, 6.0, 8.0, 4.0, 9.0, 5.0, 7.0, 11.0, 3.0,...     0.35662   \n",
       "10  [2.5, 2.0, 7.0, 3.0, 4.0, 1.0, 4.5, 10.0, 6.5,...     0.00825   \n",
       "11                                        [nan, 66.0]     0.99212   \n",
       "12  [nan, 893.0, 880.0, 1772.0, 514.0, 876.0, 1369...     0.92225   \n",
       "13  [1876.0, 1826.0, 888.0, 1660.0, 4169.0, 1804.0...     0.00280   \n",
       "14  [1876.0, 1826.0, 888.0, 1660.0, nan, 1804.0, 2...     0.04769   \n",
       "15  [nan, 1344.0, 1536.0, 1440.0, 1488.0, 1560.0, ...     0.99948   \n",
       "16  [nan, 4169.0, 1584.0, 2664.0, 1771.0, 4746.0, ...     0.96035   \n",
       "17  [nan, 893.0, 880.0, 1772.0, 514.0, 876.0, 1369...     0.92225   \n",
       "18  [nan, 3470.0, 1085.0, 4198.0, 2110.0, 2630.0, ...     0.99527   \n",
       "19                      [6059.0, 6111.0, 6037.0, nan]     0.00042   \n",
       "20                     [nan, 1.0, 2.0, 3.0, 4.0, 5.0]     0.89295   \n",
       "21  [2.0, 7.0, 3.0, 4.0, 1.0, 10.0, 6.0, nan, 5.0,...     0.00825   \n",
       "22  [2.0, nan, 1.0, 4.0, 3.0, 0.0, 5.0, 13.0, 6.0,...     0.67244   \n",
       "23  [0.0, 443.0, nan, 420.0, 613.0, 360.0, 467.0, ...     0.67244   \n",
       "24                                        [nan, True]     0.97990   \n",
       "25  [nan, 2.0, 7.0, 24.0, 13.0, 20.0, 6.0, 18.0, 1...     0.36108   \n",
       "26  [33736385.0, 34271990.0, 34083062.0, 34267162....     0.00042   \n",
       "27  [-117787977.0, -118890693.0, -118387341.0, -11...     0.00042   \n",
       "28  [nan, 4749.0, 3679.0, 6818.0, 10789.0, 21798.0...     0.10637   \n",
       "29                                         [nan, 1.0]     0.79077   \n",
       "30  [nan, 512.0, 450.0, 480.0, 375.0, 238.0, 600.0...     0.98875   \n",
       "31                                         [nan, 1.0]     0.99404   \n",
       "32                                         [nan, 1.0]     0.98586   \n",
       "33                                         [nan, 1.0]     0.80519   \n",
       "34  [34, 1111, 0101, 1129, 0400, 010C, 122, 0100, ...     0.00042   \n",
       "35  [266.0, 261.0, 248.0, 246.0, 247.0, 269.0, 265...     0.00042   \n",
       "36  [nan, WDR2*, TORR-MD, MNRH, ESR1YY, LAR1, LAR3...     0.34871   \n",
       "37  [60590756.075002, 61110076.091002, 60377005.01...     0.00042   \n",
       "38  [27491.0, 25974.0, 48424.0, 34543.0, 54722.0, ...     0.01912   \n",
       "39                      [1286.0, 2061.0, 3101.0, nan]     0.00042   \n",
       "40  [nan, 762177.0, 416336.0, 268548.0, 27080.0, 2...     0.59883   \n",
       "41  [97018.0, 97097.0, 96050.0, 97083.0, 96161.0, ...     0.00107   \n",
       "42  [0.0, 7.0, 8.0, 5.0, 6.0, 4.0, 3.0, 11.0, 9.0,...     0.00042   \n",
       "43                                         [nan, 7.0]     0.99941   \n",
       "44                          [1.0, nan, 2.0, 3.0, 7.0]     0.86989   \n",
       "45                             [nan, 6.0, 10.0, 13.0]     0.99700   \n",
       "46       [nan, 1.0, 4.0, 2.0, 3.0, 42.0, 45.0, 237.0]     0.34538   \n",
       "47  [nan, 572.0, 230.0, 140.0, 200.0, 600.0, 459.0...     0.96904   \n",
       "48  [nan, 37.0, 461.0, 216.0, 868.0, 48.0, 314.0, ...     0.99925   \n",
       "49  [1994.0, 1985.0, 1922.0, 1991.0, 1964.0, 1989....     0.00364   \n",
       "50                          [nan, 2.0, 1.0, 3.0, 6.0]     0.77356   \n",
       "51                                        [nan, True]     0.99774   \n",
       "52  [237033.0, 256441.0, 233507.0, 140000.0, 13190...     0.00191   \n",
       "53  [729000.0, 427397.0, 1167537.0, 399000.0, 1892...     0.00042   \n",
       "54                                      [2016.0, nan]     0.00042   \n",
       "55  [491967.0, 170956.0, 934030.0, 259000.0, 57343...     0.00042   \n",
       "56  [8188.76, 4758.52, 14276.37, 4241.72, 2682.54,...     0.00048   \n",
       "57                                           [nan, Y]     0.96197   \n",
       "58  [nan, 12.0, 15.0, 14.0, 10.0, 11.0, 9.0, 13.0,...     0.96197   \n",
       "59  [60590756075002.0, 61110076091002.0, 603770050...     0.00361   \n",
       "\n",
       "                                          Description  \n",
       "0               Unique identifier for parcels (lots)   \n",
       "1                                                 NaN  \n",
       "2                                                 NaN  \n",
       "3    Type of cooling system present in the home (i...  \n",
       "4    Architectural style of the home (i.e. ranch, ...  \n",
       "5    Finished living area below or partially below...  \n",
       "6    Number of bathrooms in home including fractio...  \n",
       "7                         Number of bedrooms in home   \n",
       "8   The building framing type (steel frame, wood f...  \n",
       "9    Overall assessment of condition of the buildi...  \n",
       "10   Number of bathrooms in home including fractio...  \n",
       "11            Type of deck (if any) present on parcel  \n",
       "12   Size of the finished living area on the first...  \n",
       "13   Calculated total finished living area of the ...  \n",
       "14                               Finished living area  \n",
       "15                             Perimeter  living area  \n",
       "16                                         Total area  \n",
       "17   Size of the finished living area on the first...  \n",
       "18                  Base unfinished and finished area  \n",
       "19   Federal Information Processing Standard code ...  \n",
       "20            Number of fireplaces in a home (if any)  \n",
       "21   Number of full bathrooms (sink, shower + bath...  \n",
       "22   Total number of garages on the lot including ...  \n",
       "23   Total number of square feet of all garages on...  \n",
       "24                Does the home have a hot tub or spa  \n",
       "25                        Type of home heating system  \n",
       "26   Latitude of the middle of the parcel multipli...  \n",
       "27   Longitude of the middle of the parcel multipl...  \n",
       "28                     Area of the lot in square feet  \n",
       "29                Number of pools on the lot (if any)  \n",
       "30      Total square footage of all pools on property  \n",
       "31                                     Spa or Hot Tub  \n",
       "32                              Pool with Spa/Hot Tub  \n",
       "33                               Pool without hot tub  \n",
       "34   County land use code i.e. it's zoning at the ...  \n",
       "35         Type of land use the property is zoned for  \n",
       "36   Description of the allowed land uses (zoning)...  \n",
       "37   Census tract and block ID combined - also con...  \n",
       "38     City in which the property is located (if any)  \n",
       "39            County in which the property is located  \n",
       "40      Neighborhood in which the property is located  \n",
       "41          Zip code in which the property is located  \n",
       "42   Total number of rooms in the principal residence  \n",
       "43   Type of floors in a multi-story house (i.e. b...  \n",
       "44   Number of 3/4 bathrooms in house (shower + si...  \n",
       "45   What type of construction material was used t...  \n",
       "46   Number of units the structure is built into (...  \n",
       "47                                     Patio in  yard  \n",
       "48                      Storage shed/building in yard  \n",
       "49        The Year the principal residence was built   \n",
       "50           Number of stories or levels the home has  \n",
       "51               Is a fireplace present in this home   \n",
       "52  The assessed value of the built structure on t...  \n",
       "53         The total tax assessed value of the parcel  \n",
       "54           The year of the property tax assessment   \n",
       "55  The assessed value of the land area of the parcel  \n",
       "56  The total property tax assessed for that asses...  \n",
       "57  Property taxes for this parcel are past due as...  \n",
       "58  Year for which the unpaid propert taxes were due   \n",
       "59   Census tract and block ID combined - also con...  "
      ]
     },
     "execution_count": 6,
     "metadata": {},
     "output_type": "execute_result"
    }
   ],
   "source": [
    "## similar code from lab2 to create a reference for the variables' description\n",
    "unique_ns =[]\n",
    "unique_values = []\n",
    "na_percent = train_set.isna().sum()/train_set.shape[0]\n",
    "for i in train_set.columns:\n",
    "    unique_ns.append(len(train_set[i].unique()))\n",
    "    unique_values.append(train_set[i].unique())\n",
    "    \n",
    "df3 = pd.DataFrame(list(zip(train_set.columns,unique_ns, unique_values, na_percent)), columns=['Feature', 'unique_counts', 'unique_values','na_percent'])\n",
    "data_dictionary = pd.read_excel('data_dictionary.xlsx', header =0)\n",
    "data_dictionary.Feature = data_dictionary.Feature.str.strip(\"''\")\n",
    "df4 = pd.merge(df3, data_dictionary, how = 'left', on = \"Feature\")\n",
    "df4"
   ]
  },
  {
   "cell_type": "code",
   "execution_count": null,
   "metadata": {},
   "outputs": [],
   "source": []
  },
  {
   "cell_type": "code",
   "execution_count": 7,
   "metadata": {},
   "outputs": [
    {
     "data": {
      "text/html": [
       "<style  type=\"text/css\" >\n",
       "</style><table id=\"T_808401a1_db83_11eb_a723_5cbaef0c7fc4\" ><thead>    <tr>        <th class=\"blank level0\" ></th>        <th class=\"col_heading level0 col0\" >Feature</th>        <th class=\"col_heading level0 col1\" >unique_counts</th>        <th class=\"col_heading level0 col2\" >unique_values</th>        <th class=\"col_heading level0 col3\" >na_percent</th>        <th class=\"col_heading level0 col4\" >Description</th>    </tr></thead><tbody>\n",
       "                <tr>\n",
       "                        <th id=\"T_808401a1_db83_11eb_a723_5cbaef0c7fc4level0_row0\" class=\"row_heading level0 row0\" >3</th>\n",
       "                        <td id=\"T_808401a1_db83_11eb_a723_5cbaef0c7fc4row0_col0\" class=\"data row0 col0\" >airconditioningtypeid</td>\n",
       "                        <td id=\"T_808401a1_db83_11eb_a723_5cbaef0c7fc4row0_col1\" class=\"data row0 col1\" >6</td>\n",
       "                        <td id=\"T_808401a1_db83_11eb_a723_5cbaef0c7fc4row0_col2\" class=\"data row0 col2\" >[nan  1. 13. 11.  5.  9.]</td>\n",
       "                        <td id=\"T_808401a1_db83_11eb_a723_5cbaef0c7fc4row0_col3\" class=\"data row0 col3\" >0.678275</td>\n",
       "                        <td id=\"T_808401a1_db83_11eb_a723_5cbaef0c7fc4row0_col4\" class=\"data row0 col4\" > Type of cooling system present in the home (if any)</td>\n",
       "            </tr>\n",
       "            <tr>\n",
       "                        <th id=\"T_808401a1_db83_11eb_a723_5cbaef0c7fc4level0_row1\" class=\"row_heading level0 row1\" >4</th>\n",
       "                        <td id=\"T_808401a1_db83_11eb_a723_5cbaef0c7fc4row1_col0\" class=\"data row1 col0\" >architecturalstyletypeid</td>\n",
       "                        <td id=\"T_808401a1_db83_11eb_a723_5cbaef0c7fc4row1_col1\" class=\"data row1 col1\" >6</td>\n",
       "                        <td id=\"T_808401a1_db83_11eb_a723_5cbaef0c7fc4row1_col2\" class=\"data row1 col2\" >[nan  7.  8.  3.  2. 21.]</td>\n",
       "                        <td id=\"T_808401a1_db83_11eb_a723_5cbaef0c7fc4row1_col3\" class=\"data row1 col3\" >0.997276</td>\n",
       "                        <td id=\"T_808401a1_db83_11eb_a723_5cbaef0c7fc4row1_col4\" class=\"data row1 col4\" > Architectural style of the home (i.e. ranch, colonial, split-level, etc…)</td>\n",
       "            </tr>\n",
       "            <tr>\n",
       "                        <th id=\"T_808401a1_db83_11eb_a723_5cbaef0c7fc4level0_row2\" class=\"row_heading level0 row2\" >6</th>\n",
       "                        <td id=\"T_808401a1_db83_11eb_a723_5cbaef0c7fc4row2_col0\" class=\"data row2 col0\" >bathroomcnt</td>\n",
       "                        <td id=\"T_808401a1_db83_11eb_a723_5cbaef0c7fc4row2_col1\" class=\"data row2 col1\" >22</td>\n",
       "                        <td id=\"T_808401a1_db83_11eb_a723_5cbaef0c7fc4row2_col2\" class=\"data row2 col2\" >[ 2.5  2.   7.   3.   4.   1.   4.5 10.   6.5  6.   1.5  0.   3.5  5.\n",
       "  nan  7.5  8.   5.5  8.5  9.  18.  11. ]</td>\n",
       "                        <td id=\"T_808401a1_db83_11eb_a723_5cbaef0c7fc4row2_col3\" class=\"data row2 col3\" >0.000423</td>\n",
       "                        <td id=\"T_808401a1_db83_11eb_a723_5cbaef0c7fc4row2_col4\" class=\"data row2 col4\" > Number of bathrooms in home including fractional bathrooms</td>\n",
       "            </tr>\n",
       "            <tr>\n",
       "                        <th id=\"T_808401a1_db83_11eb_a723_5cbaef0c7fc4level0_row3\" class=\"row_heading level0 row3\" >7</th>\n",
       "                        <td id=\"T_808401a1_db83_11eb_a723_5cbaef0c7fc4row3_col0\" class=\"data row3 col0\" >bedroomcnt</td>\n",
       "                        <td id=\"T_808401a1_db83_11eb_a723_5cbaef0c7fc4row3_col1\" class=\"data row3 col1\" >16</td>\n",
       "                        <td id=\"T_808401a1_db83_11eb_a723_5cbaef0c7fc4row3_col2\" class=\"data row3 col2\" >[ 3.  2.  8.  4.  5.  6.  9.  0.  1.  7. nan 12. 10. 11. 13. 14.]</td>\n",
       "                        <td id=\"T_808401a1_db83_11eb_a723_5cbaef0c7fc4row3_col3\" class=\"data row3 col3\" >0.000423</td>\n",
       "                        <td id=\"T_808401a1_db83_11eb_a723_5cbaef0c7fc4row3_col4\" class=\"data row3 col4\" > Number of bedrooms in home </td>\n",
       "            </tr>\n",
       "            <tr>\n",
       "                        <th id=\"T_808401a1_db83_11eb_a723_5cbaef0c7fc4level0_row4\" class=\"row_heading level0 row4\" >8</th>\n",
       "                        <td id=\"T_808401a1_db83_11eb_a723_5cbaef0c7fc4row4_col0\" class=\"data row4 col0\" >buildingclasstypeid</td>\n",
       "                        <td id=\"T_808401a1_db83_11eb_a723_5cbaef0c7fc4row4_col1\" class=\"data row4 col1\" >2</td>\n",
       "                        <td id=\"T_808401a1_db83_11eb_a723_5cbaef0c7fc4row4_col2\" class=\"data row4 col2\" >[nan  4.]</td>\n",
       "                        <td id=\"T_808401a1_db83_11eb_a723_5cbaef0c7fc4row4_col3\" class=\"data row4 col3\" >0.999798</td>\n",
       "                        <td id=\"T_808401a1_db83_11eb_a723_5cbaef0c7fc4row4_col4\" class=\"data row4 col4\" >The building framing type (steel frame, wood frame, concrete/brick) </td>\n",
       "            </tr>\n",
       "            <tr>\n",
       "                        <th id=\"T_808401a1_db83_11eb_a723_5cbaef0c7fc4level0_row5\" class=\"row_heading level0 row5\" >9</th>\n",
       "                        <td id=\"T_808401a1_db83_11eb_a723_5cbaef0c7fc4row5_col0\" class=\"data row5 col0\" >buildingqualitytypeid</td>\n",
       "                        <td id=\"T_808401a1_db83_11eb_a723_5cbaef0c7fc4row5_col1\" class=\"data row5 col1\" >13</td>\n",
       "                        <td id=\"T_808401a1_db83_11eb_a723_5cbaef0c7fc4row5_col2\" class=\"data row5 col2\" >[nan  6.  8.  4.  9.  5.  7. 11.  3. 12.  1. 10.  2.]</td>\n",
       "                        <td id=\"T_808401a1_db83_11eb_a723_5cbaef0c7fc4row5_col3\" class=\"data row5 col3\" >0.356624</td>\n",
       "                        <td id=\"T_808401a1_db83_11eb_a723_5cbaef0c7fc4row5_col4\" class=\"data row5 col4\" > Overall assessment of condition of the building from best (lowest) to worst (highest)</td>\n",
       "            </tr>\n",
       "            <tr>\n",
       "                        <th id=\"T_808401a1_db83_11eb_a723_5cbaef0c7fc4level0_row6\" class=\"row_heading level0 row6\" >10</th>\n",
       "                        <td id=\"T_808401a1_db83_11eb_a723_5cbaef0c7fc4row6_col0\" class=\"data row6 col0\" >calculatedbathnbr</td>\n",
       "                        <td id=\"T_808401a1_db83_11eb_a723_5cbaef0c7fc4row6_col1\" class=\"data row6 col1\" >21</td>\n",
       "                        <td id=\"T_808401a1_db83_11eb_a723_5cbaef0c7fc4row6_col2\" class=\"data row6 col2\" >[ 2.5  2.   7.   3.   4.   1.   4.5 10.   6.5  6.   1.5  nan  3.5  5.\n",
       "  7.5  8.   5.5  8.5  9.  18.  11. ]</td>\n",
       "                        <td id=\"T_808401a1_db83_11eb_a723_5cbaef0c7fc4row6_col3\" class=\"data row6 col3\" >0.008246</td>\n",
       "                        <td id=\"T_808401a1_db83_11eb_a723_5cbaef0c7fc4row6_col4\" class=\"data row6 col4\" > Number of bathrooms in home including fractional bathroom</td>\n",
       "            </tr>\n",
       "            <tr>\n",
       "                        <th id=\"T_808401a1_db83_11eb_a723_5cbaef0c7fc4level0_row7\" class=\"row_heading level0 row7\" >11</th>\n",
       "                        <td id=\"T_808401a1_db83_11eb_a723_5cbaef0c7fc4row7_col0\" class=\"data row7 col0\" >decktypeid</td>\n",
       "                        <td id=\"T_808401a1_db83_11eb_a723_5cbaef0c7fc4row7_col1\" class=\"data row7 col1\" >2</td>\n",
       "                        <td id=\"T_808401a1_db83_11eb_a723_5cbaef0c7fc4row7_col2\" class=\"data row7 col2\" >[nan 66.]</td>\n",
       "                        <td id=\"T_808401a1_db83_11eb_a723_5cbaef0c7fc4row7_col3\" class=\"data row7 col3\" >0.992122</td>\n",
       "                        <td id=\"T_808401a1_db83_11eb_a723_5cbaef0c7fc4row7_col4\" class=\"data row7 col4\" >Type of deck (if any) present on parcel</td>\n",
       "            </tr>\n",
       "            <tr>\n",
       "                        <th id=\"T_808401a1_db83_11eb_a723_5cbaef0c7fc4level0_row8\" class=\"row_heading level0 row8\" >15</th>\n",
       "                        <td id=\"T_808401a1_db83_11eb_a723_5cbaef0c7fc4row8_col0\" class=\"data row8 col0\" >finishedsquarefeet13</td>\n",
       "                        <td id=\"T_808401a1_db83_11eb_a723_5cbaef0c7fc4row8_col1\" class=\"data row8 col1\" >12</td>\n",
       "                        <td id=\"T_808401a1_db83_11eb_a723_5cbaef0c7fc4row8_col2\" class=\"data row8 col2\" >[  nan 1344. 1536. 1440. 1488. 1560. 1152. 1300. 1200. 1248. 1392. 1512.]</td>\n",
       "                        <td id=\"T_808401a1_db83_11eb_a723_5cbaef0c7fc4row8_col3\" class=\"data row8 col3\" >0.999485</td>\n",
       "                        <td id=\"T_808401a1_db83_11eb_a723_5cbaef0c7fc4row8_col4\" class=\"data row8 col4\" >Perimeter  living area</td>\n",
       "            </tr>\n",
       "            <tr>\n",
       "                        <th id=\"T_808401a1_db83_11eb_a723_5cbaef0c7fc4level0_row9\" class=\"row_heading level0 row9\" >19</th>\n",
       "                        <td id=\"T_808401a1_db83_11eb_a723_5cbaef0c7fc4row9_col0\" class=\"data row9 col0\" >fips</td>\n",
       "                        <td id=\"T_808401a1_db83_11eb_a723_5cbaef0c7fc4row9_col1\" class=\"data row9 col1\" >4</td>\n",
       "                        <td id=\"T_808401a1_db83_11eb_a723_5cbaef0c7fc4row9_col2\" class=\"data row9 col2\" >[6059. 6111. 6037.   nan]</td>\n",
       "                        <td id=\"T_808401a1_db83_11eb_a723_5cbaef0c7fc4row9_col3\" class=\"data row9 col3\" >0.000423</td>\n",
       "                        <td id=\"T_808401a1_db83_11eb_a723_5cbaef0c7fc4row9_col4\" class=\"data row9 col4\" > Federal Information Processing Standard code -  see https://en.wikipedia.org/wiki/FIPS_county_code for more details</td>\n",
       "            </tr>\n",
       "            <tr>\n",
       "                        <th id=\"T_808401a1_db83_11eb_a723_5cbaef0c7fc4level0_row10\" class=\"row_heading level0 row10\" >20</th>\n",
       "                        <td id=\"T_808401a1_db83_11eb_a723_5cbaef0c7fc4row10_col0\" class=\"data row10 col0\" >fireplacecnt</td>\n",
       "                        <td id=\"T_808401a1_db83_11eb_a723_5cbaef0c7fc4row10_col1\" class=\"data row10 col1\" >6</td>\n",
       "                        <td id=\"T_808401a1_db83_11eb_a723_5cbaef0c7fc4row10_col2\" class=\"data row10 col2\" >[nan  1.  2.  3.  4.  5.]</td>\n",
       "                        <td id=\"T_808401a1_db83_11eb_a723_5cbaef0c7fc4row10_col3\" class=\"data row10 col3\" >0.892949</td>\n",
       "                        <td id=\"T_808401a1_db83_11eb_a723_5cbaef0c7fc4row10_col4\" class=\"data row10 col4\" > Number of fireplaces in a home (if any)</td>\n",
       "            </tr>\n",
       "            <tr>\n",
       "                        <th id=\"T_808401a1_db83_11eb_a723_5cbaef0c7fc4level0_row11\" class=\"row_heading level0 row11\" >21</th>\n",
       "                        <td id=\"T_808401a1_db83_11eb_a723_5cbaef0c7fc4row11_col0\" class=\"data row11 col0\" >fullbathcnt</td>\n",
       "                        <td id=\"T_808401a1_db83_11eb_a723_5cbaef0c7fc4row11_col1\" class=\"data row11 col1\" >13</td>\n",
       "                        <td id=\"T_808401a1_db83_11eb_a723_5cbaef0c7fc4row11_col2\" class=\"data row11 col2\" >[ 2.  7.  3.  4.  1. 10.  6. nan  5.  8.  9. 18. 11.]</td>\n",
       "                        <td id=\"T_808401a1_db83_11eb_a723_5cbaef0c7fc4row11_col3\" class=\"data row11 col3\" >0.008246</td>\n",
       "                        <td id=\"T_808401a1_db83_11eb_a723_5cbaef0c7fc4row11_col4\" class=\"data row11 col4\" > Number of full bathrooms (sink, shower + bathtub, and toilet) present in home</td>\n",
       "            </tr>\n",
       "            <tr>\n",
       "                        <th id=\"T_808401a1_db83_11eb_a723_5cbaef0c7fc4level0_row12\" class=\"row_heading level0 row12\" >22</th>\n",
       "                        <td id=\"T_808401a1_db83_11eb_a723_5cbaef0c7fc4row12_col0\" class=\"data row12 col0\" >garagecarcnt</td>\n",
       "                        <td id=\"T_808401a1_db83_11eb_a723_5cbaef0c7fc4row12_col1\" class=\"data row12 col1\" >14</td>\n",
       "                        <td id=\"T_808401a1_db83_11eb_a723_5cbaef0c7fc4row12_col2\" class=\"data row12 col2\" >[ 2. nan  1.  4.  3.  0.  5. 13.  6. 10.  8.  9.  7. 11.]</td>\n",
       "                        <td id=\"T_808401a1_db83_11eb_a723_5cbaef0c7fc4row12_col3\" class=\"data row12 col3\" >0.672440</td>\n",
       "                        <td id=\"T_808401a1_db83_11eb_a723_5cbaef0c7fc4row12_col4\" class=\"data row12 col4\" > Total number of garages on the lot including an attached garage</td>\n",
       "            </tr>\n",
       "            <tr>\n",
       "                        <th id=\"T_808401a1_db83_11eb_a723_5cbaef0c7fc4level0_row13\" class=\"row_heading level0 row13\" >24</th>\n",
       "                        <td id=\"T_808401a1_db83_11eb_a723_5cbaef0c7fc4row13_col0\" class=\"data row13 col0\" >hashottuborspa</td>\n",
       "                        <td id=\"T_808401a1_db83_11eb_a723_5cbaef0c7fc4row13_col1\" class=\"data row13 col1\" >2</td>\n",
       "                        <td id=\"T_808401a1_db83_11eb_a723_5cbaef0c7fc4row13_col2\" class=\"data row13 col2\" >[nan True]</td>\n",
       "                        <td id=\"T_808401a1_db83_11eb_a723_5cbaef0c7fc4row13_col3\" class=\"data row13 col3\" >0.979900</td>\n",
       "                        <td id=\"T_808401a1_db83_11eb_a723_5cbaef0c7fc4row13_col4\" class=\"data row13 col4\" > Does the home have a hot tub or spa</td>\n",
       "            </tr>\n",
       "            <tr>\n",
       "                        <th id=\"T_808401a1_db83_11eb_a723_5cbaef0c7fc4level0_row14\" class=\"row_heading level0 row14\" >25</th>\n",
       "                        <td id=\"T_808401a1_db83_11eb_a723_5cbaef0c7fc4row14_col0\" class=\"data row14 col0\" >heatingorsystemtypeid</td>\n",
       "                        <td id=\"T_808401a1_db83_11eb_a723_5cbaef0c7fc4row14_col1\" class=\"data row14 col1\" >11</td>\n",
       "                        <td id=\"T_808401a1_db83_11eb_a723_5cbaef0c7fc4row14_col2\" class=\"data row14 col2\" >[nan  2.  7. 24. 13. 20.  6. 18.  1. 10. 11.]</td>\n",
       "                        <td id=\"T_808401a1_db83_11eb_a723_5cbaef0c7fc4row14_col3\" class=\"data row14 col3\" >0.361078</td>\n",
       "                        <td id=\"T_808401a1_db83_11eb_a723_5cbaef0c7fc4row14_col4\" class=\"data row14 col4\" > Type of home heating system</td>\n",
       "            </tr>\n",
       "            <tr>\n",
       "                        <th id=\"T_808401a1_db83_11eb_a723_5cbaef0c7fc4level0_row15\" class=\"row_heading level0 row15\" >29</th>\n",
       "                        <td id=\"T_808401a1_db83_11eb_a723_5cbaef0c7fc4row15_col0\" class=\"data row15 col0\" >poolcnt</td>\n",
       "                        <td id=\"T_808401a1_db83_11eb_a723_5cbaef0c7fc4row15_col1\" class=\"data row15 col1\" >2</td>\n",
       "                        <td id=\"T_808401a1_db83_11eb_a723_5cbaef0c7fc4row15_col2\" class=\"data row15 col2\" >[nan  1.]</td>\n",
       "                        <td id=\"T_808401a1_db83_11eb_a723_5cbaef0c7fc4row15_col3\" class=\"data row15 col3\" >0.790775</td>\n",
       "                        <td id=\"T_808401a1_db83_11eb_a723_5cbaef0c7fc4row15_col4\" class=\"data row15 col4\" > Number of pools on the lot (if any)</td>\n",
       "            </tr>\n",
       "            <tr>\n",
       "                        <th id=\"T_808401a1_db83_11eb_a723_5cbaef0c7fc4level0_row16\" class=\"row_heading level0 row16\" >31</th>\n",
       "                        <td id=\"T_808401a1_db83_11eb_a723_5cbaef0c7fc4row16_col0\" class=\"data row16 col0\" >pooltypeid10</td>\n",
       "                        <td id=\"T_808401a1_db83_11eb_a723_5cbaef0c7fc4row16_col1\" class=\"data row16 col1\" >2</td>\n",
       "                        <td id=\"T_808401a1_db83_11eb_a723_5cbaef0c7fc4row16_col2\" class=\"data row16 col2\" >[nan  1.]</td>\n",
       "                        <td id=\"T_808401a1_db83_11eb_a723_5cbaef0c7fc4row16_col3\" class=\"data row16 col3\" >0.994036</td>\n",
       "                        <td id=\"T_808401a1_db83_11eb_a723_5cbaef0c7fc4row16_col4\" class=\"data row16 col4\" > Spa or Hot Tub</td>\n",
       "            </tr>\n",
       "            <tr>\n",
       "                        <th id=\"T_808401a1_db83_11eb_a723_5cbaef0c7fc4level0_row17\" class=\"row_heading level0 row17\" >32</th>\n",
       "                        <td id=\"T_808401a1_db83_11eb_a723_5cbaef0c7fc4row17_col0\" class=\"data row17 col0\" >pooltypeid2</td>\n",
       "                        <td id=\"T_808401a1_db83_11eb_a723_5cbaef0c7fc4row17_col1\" class=\"data row17 col1\" >2</td>\n",
       "                        <td id=\"T_808401a1_db83_11eb_a723_5cbaef0c7fc4row17_col2\" class=\"data row17 col2\" >[nan  1.]</td>\n",
       "                        <td id=\"T_808401a1_db83_11eb_a723_5cbaef0c7fc4row17_col3\" class=\"data row17 col3\" >0.985864</td>\n",
       "                        <td id=\"T_808401a1_db83_11eb_a723_5cbaef0c7fc4row17_col4\" class=\"data row17 col4\" > Pool with Spa/Hot Tub</td>\n",
       "            </tr>\n",
       "            <tr>\n",
       "                        <th id=\"T_808401a1_db83_11eb_a723_5cbaef0c7fc4level0_row18\" class=\"row_heading level0 row18\" >33</th>\n",
       "                        <td id=\"T_808401a1_db83_11eb_a723_5cbaef0c7fc4row18_col0\" class=\"data row18 col0\" >pooltypeid7</td>\n",
       "                        <td id=\"T_808401a1_db83_11eb_a723_5cbaef0c7fc4row18_col1\" class=\"data row18 col1\" >2</td>\n",
       "                        <td id=\"T_808401a1_db83_11eb_a723_5cbaef0c7fc4row18_col2\" class=\"data row18 col2\" >[nan  1.]</td>\n",
       "                        <td id=\"T_808401a1_db83_11eb_a723_5cbaef0c7fc4row18_col3\" class=\"data row18 col3\" >0.805187</td>\n",
       "                        <td id=\"T_808401a1_db83_11eb_a723_5cbaef0c7fc4row18_col4\" class=\"data row18 col4\" > Pool without hot tub</td>\n",
       "            </tr>\n",
       "            <tr>\n",
       "                        <th id=\"T_808401a1_db83_11eb_a723_5cbaef0c7fc4level0_row19\" class=\"row_heading level0 row19\" >35</th>\n",
       "                        <td id=\"T_808401a1_db83_11eb_a723_5cbaef0c7fc4row19_col0\" class=\"data row19 col0\" >propertylandusetypeid</td>\n",
       "                        <td id=\"T_808401a1_db83_11eb_a723_5cbaef0c7fc4row19_col1\" class=\"data row19 col1\" >14</td>\n",
       "                        <td id=\"T_808401a1_db83_11eb_a723_5cbaef0c7fc4row19_col2\" class=\"data row19 col2\" >[266. 261. 248. 246. 247. 269. 265. 263.  nan  31. 260. 267. 275. 264.]</td>\n",
       "                        <td id=\"T_808401a1_db83_11eb_a723_5cbaef0c7fc4row19_col3\" class=\"data row19 col3\" >0.000423</td>\n",
       "                        <td id=\"T_808401a1_db83_11eb_a723_5cbaef0c7fc4row19_col4\" class=\"data row19 col4\" > Type of land use the property is zoned for</td>\n",
       "            </tr>\n",
       "            <tr>\n",
       "                        <th id=\"T_808401a1_db83_11eb_a723_5cbaef0c7fc4level0_row20\" class=\"row_heading level0 row20\" >39</th>\n",
       "                        <td id=\"T_808401a1_db83_11eb_a723_5cbaef0c7fc4row20_col0\" class=\"data row20 col0\" >regionidcounty</td>\n",
       "                        <td id=\"T_808401a1_db83_11eb_a723_5cbaef0c7fc4row20_col1\" class=\"data row20 col1\" >4</td>\n",
       "                        <td id=\"T_808401a1_db83_11eb_a723_5cbaef0c7fc4row20_col2\" class=\"data row20 col2\" >[1286. 2061. 3101.   nan]</td>\n",
       "                        <td id=\"T_808401a1_db83_11eb_a723_5cbaef0c7fc4row20_col3\" class=\"data row20 col3\" >0.000423</td>\n",
       "                        <td id=\"T_808401a1_db83_11eb_a723_5cbaef0c7fc4row20_col4\" class=\"data row20 col4\" >County in which the property is located</td>\n",
       "            </tr>\n",
       "            <tr>\n",
       "                        <th id=\"T_808401a1_db83_11eb_a723_5cbaef0c7fc4level0_row21\" class=\"row_heading level0 row21\" >42</th>\n",
       "                        <td id=\"T_808401a1_db83_11eb_a723_5cbaef0c7fc4row21_col0\" class=\"data row21 col0\" >roomcnt</td>\n",
       "                        <td id=\"T_808401a1_db83_11eb_a723_5cbaef0c7fc4row21_col1\" class=\"data row21 col1\" >17</td>\n",
       "                        <td id=\"T_808401a1_db83_11eb_a723_5cbaef0c7fc4row21_col2\" class=\"data row21 col2\" >[ 0.  7.  8.  5.  6.  4.  3. 11.  9. nan 10. 12.  2. 13. 14. 15.  1.]</td>\n",
       "                        <td id=\"T_808401a1_db83_11eb_a723_5cbaef0c7fc4row21_col3\" class=\"data row21 col3\" >0.000423</td>\n",
       "                        <td id=\"T_808401a1_db83_11eb_a723_5cbaef0c7fc4row21_col4\" class=\"data row21 col4\" > Total number of rooms in the principal residence</td>\n",
       "            </tr>\n",
       "            <tr>\n",
       "                        <th id=\"T_808401a1_db83_11eb_a723_5cbaef0c7fc4level0_row22\" class=\"row_heading level0 row22\" >43</th>\n",
       "                        <td id=\"T_808401a1_db83_11eb_a723_5cbaef0c7fc4row22_col0\" class=\"data row22 col0\" >storytypeid</td>\n",
       "                        <td id=\"T_808401a1_db83_11eb_a723_5cbaef0c7fc4row22_col1\" class=\"data row22 col1\" >2</td>\n",
       "                        <td id=\"T_808401a1_db83_11eb_a723_5cbaef0c7fc4row22_col2\" class=\"data row22 col2\" >[nan  7.]</td>\n",
       "                        <td id=\"T_808401a1_db83_11eb_a723_5cbaef0c7fc4row22_col3\" class=\"data row22 col3\" >0.999411</td>\n",
       "                        <td id=\"T_808401a1_db83_11eb_a723_5cbaef0c7fc4row22_col4\" class=\"data row22 col4\" > Type of floors in a multi-story house (i.e. basement and main level, split-level, attic, etc.).  See tab for details.</td>\n",
       "            </tr>\n",
       "            <tr>\n",
       "                        <th id=\"T_808401a1_db83_11eb_a723_5cbaef0c7fc4level0_row23\" class=\"row_heading level0 row23\" >44</th>\n",
       "                        <td id=\"T_808401a1_db83_11eb_a723_5cbaef0c7fc4row23_col0\" class=\"data row23 col0\" >threequarterbathnbr</td>\n",
       "                        <td id=\"T_808401a1_db83_11eb_a723_5cbaef0c7fc4row23_col1\" class=\"data row23 col1\" >5</td>\n",
       "                        <td id=\"T_808401a1_db83_11eb_a723_5cbaef0c7fc4row23_col2\" class=\"data row23 col2\" >[ 1. nan  2.  3.  7.]</td>\n",
       "                        <td id=\"T_808401a1_db83_11eb_a723_5cbaef0c7fc4row23_col3\" class=\"data row23 col3\" >0.869885</td>\n",
       "                        <td id=\"T_808401a1_db83_11eb_a723_5cbaef0c7fc4row23_col4\" class=\"data row23 col4\" > Number of 3/4 bathrooms in house (shower + sink + toilet)</td>\n",
       "            </tr>\n",
       "            <tr>\n",
       "                        <th id=\"T_808401a1_db83_11eb_a723_5cbaef0c7fc4level0_row24\" class=\"row_heading level0 row24\" >45</th>\n",
       "                        <td id=\"T_808401a1_db83_11eb_a723_5cbaef0c7fc4row24_col0\" class=\"data row24 col0\" >typeconstructiontypeid</td>\n",
       "                        <td id=\"T_808401a1_db83_11eb_a723_5cbaef0c7fc4row24_col1\" class=\"data row24 col1\" >4</td>\n",
       "                        <td id=\"T_808401a1_db83_11eb_a723_5cbaef0c7fc4row24_col2\" class=\"data row24 col2\" >[nan  6. 10. 13.]</td>\n",
       "                        <td id=\"T_808401a1_db83_11eb_a723_5cbaef0c7fc4row24_col3\" class=\"data row24 col3\" >0.997000</td>\n",
       "                        <td id=\"T_808401a1_db83_11eb_a723_5cbaef0c7fc4row24_col4\" class=\"data row24 col4\" > What type of construction material was used to construct the home</td>\n",
       "            </tr>\n",
       "            <tr>\n",
       "                        <th id=\"T_808401a1_db83_11eb_a723_5cbaef0c7fc4level0_row25\" class=\"row_heading level0 row25\" >46</th>\n",
       "                        <td id=\"T_808401a1_db83_11eb_a723_5cbaef0c7fc4row25_col0\" class=\"data row25 col0\" >unitcnt</td>\n",
       "                        <td id=\"T_808401a1_db83_11eb_a723_5cbaef0c7fc4row25_col1\" class=\"data row25 col1\" >8</td>\n",
       "                        <td id=\"T_808401a1_db83_11eb_a723_5cbaef0c7fc4row25_col2\" class=\"data row25 col2\" >[ nan   1.   4.   2.   3.  42.  45. 237.]</td>\n",
       "                        <td id=\"T_808401a1_db83_11eb_a723_5cbaef0c7fc4row25_col3\" class=\"data row25 col3\" >0.345377</td>\n",
       "                        <td id=\"T_808401a1_db83_11eb_a723_5cbaef0c7fc4row25_col4\" class=\"data row25 col4\" > Number of units the structure is built into (i.e. 2 = duplex, 3 = triplex, etc...)</td>\n",
       "            </tr>\n",
       "            <tr>\n",
       "                        <th id=\"T_808401a1_db83_11eb_a723_5cbaef0c7fc4level0_row26\" class=\"row_heading level0 row26\" >50</th>\n",
       "                        <td id=\"T_808401a1_db83_11eb_a723_5cbaef0c7fc4row26_col0\" class=\"data row26 col0\" >numberofstories</td>\n",
       "                        <td id=\"T_808401a1_db83_11eb_a723_5cbaef0c7fc4row26_col1\" class=\"data row26 col1\" >5</td>\n",
       "                        <td id=\"T_808401a1_db83_11eb_a723_5cbaef0c7fc4row26_col2\" class=\"data row26 col2\" >[nan  2.  1.  3.  6.]</td>\n",
       "                        <td id=\"T_808401a1_db83_11eb_a723_5cbaef0c7fc4row26_col3\" class=\"data row26 col3\" >0.773565</td>\n",
       "                        <td id=\"T_808401a1_db83_11eb_a723_5cbaef0c7fc4row26_col4\" class=\"data row26 col4\" > Number of stories or levels the home has</td>\n",
       "            </tr>\n",
       "            <tr>\n",
       "                        <th id=\"T_808401a1_db83_11eb_a723_5cbaef0c7fc4level0_row27\" class=\"row_heading level0 row27\" >51</th>\n",
       "                        <td id=\"T_808401a1_db83_11eb_a723_5cbaef0c7fc4row27_col0\" class=\"data row27 col0\" >fireplaceflag</td>\n",
       "                        <td id=\"T_808401a1_db83_11eb_a723_5cbaef0c7fc4row27_col1\" class=\"data row27 col1\" >2</td>\n",
       "                        <td id=\"T_808401a1_db83_11eb_a723_5cbaef0c7fc4row27_col2\" class=\"data row27 col2\" >[nan True]</td>\n",
       "                        <td id=\"T_808401a1_db83_11eb_a723_5cbaef0c7fc4row27_col3\" class=\"data row27 col3\" >0.997736</td>\n",
       "                        <td id=\"T_808401a1_db83_11eb_a723_5cbaef0c7fc4row27_col4\" class=\"data row27 col4\" > Is a fireplace present in this home </td>\n",
       "            </tr>\n",
       "            <tr>\n",
       "                        <th id=\"T_808401a1_db83_11eb_a723_5cbaef0c7fc4level0_row28\" class=\"row_heading level0 row28\" >54</th>\n",
       "                        <td id=\"T_808401a1_db83_11eb_a723_5cbaef0c7fc4row28_col0\" class=\"data row28 col0\" >assessmentyear</td>\n",
       "                        <td id=\"T_808401a1_db83_11eb_a723_5cbaef0c7fc4row28_col1\" class=\"data row28 col1\" >2</td>\n",
       "                        <td id=\"T_808401a1_db83_11eb_a723_5cbaef0c7fc4row28_col2\" class=\"data row28 col2\" >[2016.   nan]</td>\n",
       "                        <td id=\"T_808401a1_db83_11eb_a723_5cbaef0c7fc4row28_col3\" class=\"data row28 col3\" >0.000423</td>\n",
       "                        <td id=\"T_808401a1_db83_11eb_a723_5cbaef0c7fc4row28_col4\" class=\"data row28 col4\" >The year of the property tax assessment </td>\n",
       "            </tr>\n",
       "            <tr>\n",
       "                        <th id=\"T_808401a1_db83_11eb_a723_5cbaef0c7fc4level0_row29\" class=\"row_heading level0 row29\" >57</th>\n",
       "                        <td id=\"T_808401a1_db83_11eb_a723_5cbaef0c7fc4row29_col0\" class=\"data row29 col0\" >taxdelinquencyflag</td>\n",
       "                        <td id=\"T_808401a1_db83_11eb_a723_5cbaef0c7fc4row29_col1\" class=\"data row29 col1\" >2</td>\n",
       "                        <td id=\"T_808401a1_db83_11eb_a723_5cbaef0c7fc4row29_col2\" class=\"data row29 col2\" >[nan 'Y']</td>\n",
       "                        <td id=\"T_808401a1_db83_11eb_a723_5cbaef0c7fc4row29_col3\" class=\"data row29 col3\" >0.961972</td>\n",
       "                        <td id=\"T_808401a1_db83_11eb_a723_5cbaef0c7fc4row29_col4\" class=\"data row29 col4\" >Property taxes for this parcel are past due as of 2015</td>\n",
       "            </tr>\n",
       "            <tr>\n",
       "                        <th id=\"T_808401a1_db83_11eb_a723_5cbaef0c7fc4level0_row30\" class=\"row_heading level0 row30\" >58</th>\n",
       "                        <td id=\"T_808401a1_db83_11eb_a723_5cbaef0c7fc4row30_col0\" class=\"data row30 col0\" >taxdelinquencyyear</td>\n",
       "                        <td id=\"T_808401a1_db83_11eb_a723_5cbaef0c7fc4row30_col1\" class=\"data row30 col1\" >13</td>\n",
       "                        <td id=\"T_808401a1_db83_11eb_a723_5cbaef0c7fc4row30_col2\" class=\"data row30 col2\" >[nan 12. 15. 14. 10. 11.  9. 13.  8.  7.  3.  6.  4.]</td>\n",
       "                        <td id=\"T_808401a1_db83_11eb_a723_5cbaef0c7fc4row30_col3\" class=\"data row30 col3\" >0.961972</td>\n",
       "                        <td id=\"T_808401a1_db83_11eb_a723_5cbaef0c7fc4row30_col4\" class=\"data row30 col4\" >Year for which the unpaid propert taxes were due </td>\n",
       "            </tr>\n",
       "    </tbody></table>"
      ],
      "text/plain": [
       "<pandas.io.formats.style.Styler at 0x22a000457c0>"
      ]
     },
     "execution_count": 7,
     "metadata": {},
     "output_type": "execute_result"
    }
   ],
   "source": [
    "#same code from lab2 to find discrete variables first\n",
    "possible_discrete = df4[df4.unique_counts<30]#set the threshood for filtering discrete variable as of 30 \n",
    "possible_discrete.style"
   ]
  },
  {
   "cell_type": "markdown",
   "metadata": {},
   "source": [
    "### dealing with nan for all the variables here. Some nan needs to be replaced by 0, sending to a list of replace_0\n",
    "### some nan needs to be replaced by median, sending to a list of replace_median\n",
    "### some vars maybe better to be dropped, sending to a list of drop_vars.\n",
    "### some maybe better to be replaced by missing, sending to a list of replace_missing"
   ]
  },
  {
   "cell_type": "code",
   "execution_count": 8,
   "metadata": {},
   "outputs": [],
   "source": [
    "## 1. look at the variables which are suitable to replace NA with 0\n",
    "##'airconditioningtypeid'. Based on description, replace nan with 0 as no AC\n",
    "replace_0 = ['airconditioningtypeid']"
   ]
  },
  {
   "cell_type": "code",
   "execution_count": 9,
   "metadata": {},
   "outputs": [],
   "source": [
    "## 2. 'architecturalstyletypeid' This variable has more than 99.7% missing values. \n",
    "## I think it is reasonable to drop this variable\n",
    "drop_vars = ['architecturalstyletypeid']"
   ]
  },
  {
   "cell_type": "code",
   "execution_count": 10,
   "metadata": {},
   "outputs": [
    {
     "data": {
      "text/plain": [
       "count   54306.00000\n",
       "mean        2.29430\n",
       "std         0.99365\n",
       "min         0.00000\n",
       "25%         2.00000\n",
       "50%         2.00000\n",
       "75%         3.00000\n",
       "max        18.00000\n",
       "Name: bathroomcnt, dtype: float64"
      ]
     },
     "execution_count": 10,
     "metadata": {},
     "output_type": "execute_result"
    }
   ],
   "source": [
    "## 3. for bathroomcnt, it is an ordinal categorical variable.\n",
    "## also, it has 0 in its values. If we replace nan with 0, that will mix up with the properties with no bathroom.\n",
    "## I think it is better to replace nan with median here.\n",
    "train_set.bathroomcnt.describe()"
   ]
  },
  {
   "cell_type": "code",
   "execution_count": 11,
   "metadata": {},
   "outputs": [
    {
     "data": {
      "text/plain": [
       "count   54306.00000\n",
       "mean        3.04802\n",
       "std         1.13833\n",
       "min         0.00000\n",
       "25%         2.00000\n",
       "50%         3.00000\n",
       "75%         4.00000\n",
       "max        14.00000\n",
       "Name: bedroomcnt, dtype: float64"
      ]
     },
     "execution_count": 11,
     "metadata": {},
     "output_type": "execute_result"
    }
   ],
   "source": [
    "## similar for bedroomcnt\n",
    "train_set.bedroomcnt.describe()"
   ]
  },
  {
   "cell_type": "code",
   "execution_count": 12,
   "metadata": {},
   "outputs": [],
   "source": [
    "replace_median = ['bathroomcnt','bedroomcnt']"
   ]
  },
  {
   "cell_type": "code",
   "execution_count": 13,
   "metadata": {},
   "outputs": [],
   "source": [
    "## 4. for buildingclasstypeid, 99.97% are missing values. \n",
    "## this one should be dropped\n",
    "drop_vars.append('buildingclasstypeid')"
   ]
  },
  {
   "cell_type": "code",
   "execution_count": 14,
   "metadata": {},
   "outputs": [],
   "source": [
    "## 5. for buildingqualitytypeid, this is ordinal categorical variable with ~35% nan.\n",
    "## I think nan should be replaced by median\n",
    "replace_median.append('buildingqualitytypeid')\n"
   ]
  },
  {
   "cell_type": "code",
   "execution_count": 15,
   "metadata": {},
   "outputs": [],
   "source": [
    "## 6. for calculatedbathnbr, it seems it related to bathroomcnt without 0.\n",
    "## not sure what it means for 'fractional bathroom'.\n",
    "## I think it should take the median, similar to bathroomcnt\n",
    "replace_median.append('calculatedbathnbr')"
   ]
  },
  {
   "cell_type": "code",
   "execution_count": 16,
   "metadata": {},
   "outputs": [],
   "source": [
    "## 7. for decktypeid, there are two possible values, nan or 66\n",
    "## not sure what '66' stands for.\n",
    "## I think nan means no deck and 66 stands for has deck?\n",
    "## so it might be reasonable to replace nan with 0\n",
    "replace_0.append('decktypeid')"
   ]
  },
  {
   "cell_type": "code",
   "execution_count": 17,
   "metadata": {},
   "outputs": [],
   "source": [
    "## 8. for finishedsquarefeet13, it seems it is a continous variable.\n",
    "## but it might be better to drop it sincere to many missing values\n",
    "drop_vars.append('finishedsquarefeet13')"
   ]
  },
  {
   "cell_type": "code",
   "execution_count": 18,
   "metadata": {},
   "outputs": [],
   "source": [
    "## 9. for fips, it represents the geographical location, replace nan with missing\n",
    "replace_missing = ['fips']"
   ]
  },
  {
   "cell_type": "code",
   "execution_count": 19,
   "metadata": {},
   "outputs": [],
   "source": [
    "## 10. for fireplacecnt, it seems nan means no fireplace, replace with 0\n",
    "replace_0.append('fireplacecnt')"
   ]
  },
  {
   "cell_type": "code",
   "execution_count": 20,
   "metadata": {},
   "outputs": [],
   "source": [
    "## 11. for fullbathcnt, another variable related to bathroomcnt.\n",
    "## replace with median\n",
    "replace_median.append('fullbathcnt')"
   ]
  },
  {
   "cell_type": "code",
   "execution_count": 21,
   "metadata": {},
   "outputs": [
    {
     "data": {
      "text/plain": [
       "nan         36533\n",
       "2.00000     13013\n",
       "1.00000      3937\n",
       "3.00000       445\n",
       "4.00000       185\n",
       "0.00000       162\n",
       "5.00000        32\n",
       "6.00000        12\n",
       "7.00000         3\n",
       "10.00000        2\n",
       "9.00000         2\n",
       "13.00000        1\n",
       "11.00000        1\n",
       "8.00000         1\n",
       "Name: garagecarcnt, dtype: int64"
      ]
     },
     "execution_count": 21,
     "metadata": {},
     "output_type": "execute_result"
    }
   ],
   "source": [
    "## 12. for garagecarcnt,take a closer look.\n",
    "## I think replace na with median is better because there are values with 0\n",
    "train_set.garagecarcnt.value_counts(dropna=False)"
   ]
  },
  {
   "cell_type": "code",
   "execution_count": 22,
   "metadata": {},
   "outputs": [],
   "source": [
    "replace_median.append('garagecarcnt')"
   ]
  },
  {
   "cell_type": "code",
   "execution_count": 23,
   "metadata": {},
   "outputs": [],
   "source": [
    "## for hashottuborspa, nan means no hot tub or spa\n",
    "replace_0.append('hashottuborspa')"
   ]
  },
  {
   "cell_type": "code",
   "execution_count": 24,
   "metadata": {},
   "outputs": [],
   "source": [
    "## for heatingorsystemtypeid, categorical variable.\n",
    "## replace nan with missing\n",
    "replace_missing.append('heatingorsystemtypeid')"
   ]
  },
  {
   "cell_type": "code",
   "execution_count": 25,
   "metadata": {},
   "outputs": [],
   "source": [
    "## for poolcnt,pooltypeid10, pooltypeid2, pooltypeid7\n",
    "## replace nan with 0\n",
    "replace_0.extend(['poolcnt','pooltypeid10','pooltypeid2','pooltypeid7'])"
   ]
  },
  {
   "cell_type": "code",
   "execution_count": 26,
   "metadata": {},
   "outputs": [],
   "source": [
    "## for propertylandusetypeid, categorical var with 0.0004 missing\n",
    "## replace with missing\n",
    "replace_missing.append('propertylandusetypeid')"
   ]
  },
  {
   "cell_type": "code",
   "execution_count": 27,
   "metadata": {},
   "outputs": [],
   "source": [
    "## for regionidcounty, also replace na with missing\n",
    "replace_missing.append('regionidcounty')"
   ]
  },
  {
   "cell_type": "code",
   "execution_count": 28,
   "metadata": {},
   "outputs": [],
   "source": [
    "## for roomcnt, replace na with median\n",
    "replace_median.append('roomcnt')"
   ]
  },
  {
   "cell_type": "code",
   "execution_count": 29,
   "metadata": {},
   "outputs": [],
   "source": [
    "## for storytypeid, I think it needs to be droped because too many missing values\n",
    "drop_vars.append('storytypeid')"
   ]
  },
  {
   "cell_type": "code",
   "execution_count": 30,
   "metadata": {},
   "outputs": [],
   "source": [
    "## for threequarterbathnbr, it another var related to bathroom.\n",
    "## I think it is better to treat na as missing because we don't know if there is no 3/4 bath or something else.\n",
    "replace_missing.append('threequarterbathnbr')"
   ]
  },
  {
   "cell_type": "code",
   "execution_count": 31,
   "metadata": {},
   "outputs": [],
   "source": [
    "## for typeconstructiontypeid, it is categorical var, but too many missing values.\n",
    "## I think it is better to drop this one\n",
    "drop_vars.append('typeconstructiontypeid')"
   ]
  },
  {
   "cell_type": "code",
   "execution_count": 32,
   "metadata": {},
   "outputs": [],
   "source": [
    "## for unitcnt, nominal categorical var, I think it is better to replace nan with 0 as a new category\n",
    "replace_0.append('unitcnt')"
   ]
  },
  {
   "cell_type": "code",
   "execution_count": 33,
   "metadata": {},
   "outputs": [
    {
     "data": {
      "text/plain": [
       "nan        42027\n",
       "1.00000     7277\n",
       "2.00000     4717\n",
       "3.00000      307\n",
       "6.00000        1\n",
       "Name: numberofstories, dtype: int64"
      ]
     },
     "execution_count": 33,
     "metadata": {},
     "output_type": "execute_result"
    }
   ],
   "source": [
    "## for numberofstories, take a closer look\n",
    "train_set.numberofstories.value_counts(dropna=False)"
   ]
  },
  {
   "cell_type": "code",
   "execution_count": 34,
   "metadata": {},
   "outputs": [
    {
     "name": "stderr",
     "output_type": "stream",
     "text": [
      "C:\\ProgramData\\Anaconda3\\lib\\site-packages\\pandas\\core\\series.py:4517: SettingWithCopyWarning: \n",
      "A value is trying to be set on a copy of a slice from a DataFrame\n",
      "\n",
      "See the caveats in the documentation: https://pandas.pydata.org/pandas-docs/stable/user_guide/indexing.html#returning-a-view-versus-a-copy\n",
      "  return super().fillna(\n"
     ]
    }
   ],
   "source": [
    "## In the lab2 solution,nan was replaced by 1, I am a little doultful about this treatment as the missing values are too many\n",
    "## but I will follow the same treatment here\n",
    "train_set.numberofstories.fillna(1, inplace = True)\n",
    "val_set.numberofstories.fillna(1, inplace = True)"
   ]
  },
  {
   "cell_type": "code",
   "execution_count": 35,
   "metadata": {},
   "outputs": [],
   "source": [
    "## for fireplaceflag, there are over 99% missing values.\n",
    "## it seems the missing values means no fireplace. But I think it is very suspecious because there is another variable\n",
    "##'fireplacecnt' which is the number of fireplace presents. ther are ~89% missing values.\n",
    "## it seems there are over 10% properties have at least one fireplace, which is controdicting to this var.\n",
    "## I think it is better to drop this var because I am questioning the validity of this var.\n",
    "## I feel deeper investigation into the data source is needed.\n",
    "drop_vars.append('fireplaceflag')"
   ]
  },
  {
   "cell_type": "code",
   "execution_count": 36,
   "metadata": {},
   "outputs": [],
   "source": [
    "## for assessmentyear, most value is 2016 and about 0.000423 missing values.\n",
    "## I think it should be dropped because it does not provide much insight for our model\n",
    "drop_vars.append('assessmentyear')"
   ]
  },
  {
   "cell_type": "code",
   "execution_count": 37,
   "metadata": {},
   "outputs": [],
   "source": [
    "## for taxdelinquencyflag, replace nan with 'N'\n",
    "train_set.taxdelinquencyflag.fillna('N', inplace = True)\n",
    "val_set.taxdelinquencyflag.fillna('N', inplace = True)"
   ]
  },
  {
   "cell_type": "code",
   "execution_count": 38,
   "metadata": {},
   "outputs": [],
   "source": [
    "## for taxdelinquencyyear, replace nan with 0 as it means no tax deliquency\n",
    "replace_0.append('taxdelinquencyyear')"
   ]
  },
  {
   "cell_type": "code",
   "execution_count": 39,
   "metadata": {},
   "outputs": [
    {
     "data": {
      "text/html": [
       "<div>\n",
       "<style scoped>\n",
       "    .dataframe tbody tr th:only-of-type {\n",
       "        vertical-align: middle;\n",
       "    }\n",
       "\n",
       "    .dataframe tbody tr th {\n",
       "        vertical-align: top;\n",
       "    }\n",
       "\n",
       "    .dataframe thead th {\n",
       "        text-align: right;\n",
       "    }\n",
       "</style>\n",
       "<table border=\"1\" class=\"dataframe\">\n",
       "  <thead>\n",
       "    <tr style=\"text-align: right;\">\n",
       "      <th></th>\n",
       "      <th>Feature</th>\n",
       "      <th>unique_counts</th>\n",
       "      <th>unique_values</th>\n",
       "      <th>na_percent</th>\n",
       "      <th>Description</th>\n",
       "    </tr>\n",
       "  </thead>\n",
       "  <tbody>\n",
       "    <tr>\n",
       "      <th>0</th>\n",
       "      <td>parcelid</td>\n",
       "      <td>54231</td>\n",
       "      <td>[14669079, 17199048, 11634788, 17089180, 12677...</td>\n",
       "      <td>0.00000</td>\n",
       "      <td>Unique identifier for parcels (lots)</td>\n",
       "    </tr>\n",
       "    <tr>\n",
       "      <th>1</th>\n",
       "      <td>logerror</td>\n",
       "      <td>54038</td>\n",
       "      <td>[0.0142071003593, -0.025691371146400004, 0.050...</td>\n",
       "      <td>0.00000</td>\n",
       "      <td>NaN</td>\n",
       "    </tr>\n",
       "    <tr>\n",
       "      <th>2</th>\n",
       "      <td>transactiondate</td>\n",
       "      <td>258</td>\n",
       "      <td>[2017-05-15, 2017-02-28, 2017-02-03, 2017-06-1...</td>\n",
       "      <td>0.00000</td>\n",
       "      <td>NaN</td>\n",
       "    </tr>\n",
       "    <tr>\n",
       "      <th>5</th>\n",
       "      <td>basementsqft</td>\n",
       "      <td>30</td>\n",
       "      <td>[nan, 515.0, 380.0, 1416.0, 1969.0, 3560.0, 28...</td>\n",
       "      <td>0.99941</td>\n",
       "      <td>Finished living area below or partially below...</td>\n",
       "    </tr>\n",
       "    <tr>\n",
       "      <th>12</th>\n",
       "      <td>finishedfloor1squarefeet</td>\n",
       "      <td>1562</td>\n",
       "      <td>[nan, 893.0, 880.0, 1772.0, 514.0, 876.0, 1369...</td>\n",
       "      <td>0.92225</td>\n",
       "      <td>Size of the finished living area on the first...</td>\n",
       "    </tr>\n",
       "    <tr>\n",
       "      <th>13</th>\n",
       "      <td>calculatedfinishedsquarefeet</td>\n",
       "      <td>4594</td>\n",
       "      <td>[1876.0, 1826.0, 888.0, 1660.0, 4169.0, 1804.0...</td>\n",
       "      <td>0.00280</td>\n",
       "      <td>Calculated total finished living area of the ...</td>\n",
       "    </tr>\n",
       "    <tr>\n",
       "      <th>14</th>\n",
       "      <td>finishedsquarefeet12</td>\n",
       "      <td>4487</td>\n",
       "      <td>[1876.0, 1826.0, 888.0, 1660.0, nan, 1804.0, 2...</td>\n",
       "      <td>0.04769</td>\n",
       "      <td>Finished living area</td>\n",
       "    </tr>\n",
       "    <tr>\n",
       "      <th>16</th>\n",
       "      <td>finishedsquarefeet15</td>\n",
       "      <td>1391</td>\n",
       "      <td>[nan, 4169.0, 1584.0, 2664.0, 1771.0, 4746.0, ...</td>\n",
       "      <td>0.96035</td>\n",
       "      <td>Total area</td>\n",
       "    </tr>\n",
       "    <tr>\n",
       "      <th>17</th>\n",
       "      <td>finishedsquarefeet50</td>\n",
       "      <td>1577</td>\n",
       "      <td>[nan, 893.0, 880.0, 1772.0, 514.0, 876.0, 1369...</td>\n",
       "      <td>0.92225</td>\n",
       "      <td>Size of the finished living area on the first...</td>\n",
       "    </tr>\n",
       "    <tr>\n",
       "      <th>18</th>\n",
       "      <td>finishedsquarefeet6</td>\n",
       "      <td>240</td>\n",
       "      <td>[nan, 3470.0, 1085.0, 4198.0, 2110.0, 2630.0, ...</td>\n",
       "      <td>0.99527</td>\n",
       "      <td>Base unfinished and finished area</td>\n",
       "    </tr>\n",
       "    <tr>\n",
       "      <th>23</th>\n",
       "      <td>garagetotalsqft</td>\n",
       "      <td>767</td>\n",
       "      <td>[0.0, 443.0, nan, 420.0, 613.0, 360.0, 467.0, ...</td>\n",
       "      <td>0.67244</td>\n",
       "      <td>Total number of square feet of all garages on...</td>\n",
       "    </tr>\n",
       "    <tr>\n",
       "      <th>26</th>\n",
       "      <td>latitude</td>\n",
       "      <td>46170</td>\n",
       "      <td>[33736385.0, 34271990.0, 34083062.0, 34267162....</td>\n",
       "      <td>0.00042</td>\n",
       "      <td>Latitude of the middle of the parcel multipli...</td>\n",
       "    </tr>\n",
       "    <tr>\n",
       "      <th>27</th>\n",
       "      <td>longitude</td>\n",
       "      <td>44609</td>\n",
       "      <td>[-117787977.0, -118890693.0, -118387341.0, -11...</td>\n",
       "      <td>0.00042</td>\n",
       "      <td>Longitude of the middle of the parcel multipl...</td>\n",
       "    </tr>\n",
       "    <tr>\n",
       "      <th>28</th>\n",
       "      <td>lotsizesquarefeet</td>\n",
       "      <td>16060</td>\n",
       "      <td>[nan, 4749.0, 3679.0, 6818.0, 10789.0, 21798.0...</td>\n",
       "      <td>0.10637</td>\n",
       "      <td>Area of the lot in square feet</td>\n",
       "    </tr>\n",
       "    <tr>\n",
       "      <th>30</th>\n",
       "      <td>poolsizesum</td>\n",
       "      <td>217</td>\n",
       "      <td>[nan, 512.0, 450.0, 480.0, 375.0, 238.0, 600.0...</td>\n",
       "      <td>0.98875</td>\n",
       "      <td>Total square footage of all pools on property</td>\n",
       "    </tr>\n",
       "    <tr>\n",
       "      <th>34</th>\n",
       "      <td>propertycountylandusecode</td>\n",
       "      <td>72</td>\n",
       "      <td>[34, 1111, 0101, 1129, 0400, 010C, 122, 0100, ...</td>\n",
       "      <td>0.00042</td>\n",
       "      <td>County land use code i.e. it's zoning at the ...</td>\n",
       "    </tr>\n",
       "    <tr>\n",
       "      <th>36</th>\n",
       "      <td>propertyzoningdesc</td>\n",
       "      <td>1743</td>\n",
       "      <td>[nan, WDR2*, TORR-MD, MNRH, ESR1YY, LAR1, LAR3...</td>\n",
       "      <td>0.34871</td>\n",
       "      <td>Description of the allowed land uses (zoning)...</td>\n",
       "    </tr>\n",
       "    <tr>\n",
       "      <th>37</th>\n",
       "      <td>rawcensustractandblock</td>\n",
       "      <td>31428</td>\n",
       "      <td>[60590756.075002, 61110076.091002, 60377005.01...</td>\n",
       "      <td>0.00042</td>\n",
       "      <td>Census tract and block ID combined - also con...</td>\n",
       "    </tr>\n",
       "    <tr>\n",
       "      <th>38</th>\n",
       "      <td>regionidcity</td>\n",
       "      <td>176</td>\n",
       "      <td>[27491.0, 25974.0, 48424.0, 34543.0, 54722.0, ...</td>\n",
       "      <td>0.01912</td>\n",
       "      <td>City in which the property is located (if any)</td>\n",
       "    </tr>\n",
       "    <tr>\n",
       "      <th>40</th>\n",
       "      <td>regionidneighborhood</td>\n",
       "      <td>468</td>\n",
       "      <td>[nan, 762177.0, 416336.0, 268548.0, 27080.0, 2...</td>\n",
       "      <td>0.59883</td>\n",
       "      <td>Neighborhood in which the property is located</td>\n",
       "    </tr>\n",
       "    <tr>\n",
       "      <th>41</th>\n",
       "      <td>regionidzip</td>\n",
       "      <td>387</td>\n",
       "      <td>[97018.0, 97097.0, 96050.0, 97083.0, 96161.0, ...</td>\n",
       "      <td>0.00107</td>\n",
       "      <td>Zip code in which the property is located</td>\n",
       "    </tr>\n",
       "    <tr>\n",
       "      <th>47</th>\n",
       "      <td>yardbuildingsqft17</td>\n",
       "      <td>454</td>\n",
       "      <td>[nan, 572.0, 230.0, 140.0, 200.0, 600.0, 459.0...</td>\n",
       "      <td>0.96904</td>\n",
       "      <td>Patio in  yard</td>\n",
       "    </tr>\n",
       "    <tr>\n",
       "      <th>48</th>\n",
       "      <td>yardbuildingsqft26</td>\n",
       "      <td>39</td>\n",
       "      <td>[nan, 37.0, 461.0, 216.0, 868.0, 48.0, 314.0, ...</td>\n",
       "      <td>0.99925</td>\n",
       "      <td>Storage shed/building in yard</td>\n",
       "    </tr>\n",
       "    <tr>\n",
       "      <th>49</th>\n",
       "      <td>yearbuilt</td>\n",
       "      <td>133</td>\n",
       "      <td>[1994.0, 1985.0, 1922.0, 1991.0, 1964.0, 1989....</td>\n",
       "      <td>0.00364</td>\n",
       "      <td>The Year the principal residence was built</td>\n",
       "    </tr>\n",
       "    <tr>\n",
       "      <th>52</th>\n",
       "      <td>structuretaxvaluedollarcnt</td>\n",
       "      <td>37763</td>\n",
       "      <td>[237033.0, 256441.0, 233507.0, 140000.0, 13190...</td>\n",
       "      <td>0.00191</td>\n",
       "      <td>The assessed value of the built structure on t...</td>\n",
       "    </tr>\n",
       "    <tr>\n",
       "      <th>53</th>\n",
       "      <td>taxvaluedollarcnt</td>\n",
       "      <td>37858</td>\n",
       "      <td>[729000.0, 427397.0, 1167537.0, 399000.0, 1892...</td>\n",
       "      <td>0.00042</td>\n",
       "      <td>The total tax assessed value of the parcel</td>\n",
       "    </tr>\n",
       "    <tr>\n",
       "      <th>55</th>\n",
       "      <td>landtaxvaluedollarcnt</td>\n",
       "      <td>38201</td>\n",
       "      <td>[491967.0, 170956.0, 934030.0, 259000.0, 57343...</td>\n",
       "      <td>0.00042</td>\n",
       "      <td>The assessed value of the land area of the parcel</td>\n",
       "    </tr>\n",
       "    <tr>\n",
       "      <th>56</th>\n",
       "      <td>taxamount</td>\n",
       "      <td>52416</td>\n",
       "      <td>[8188.76, 4758.52, 14276.37, 4241.72, 2682.54,...</td>\n",
       "      <td>0.00048</td>\n",
       "      <td>The total property tax assessed for that asses...</td>\n",
       "    </tr>\n",
       "    <tr>\n",
       "      <th>59</th>\n",
       "      <td>censustractandblock</td>\n",
       "      <td>31283</td>\n",
       "      <td>[60590756075002.0, 61110076091002.0, 603770050...</td>\n",
       "      <td>0.00361</td>\n",
       "      <td>Census tract and block ID combined - also con...</td>\n",
       "    </tr>\n",
       "  </tbody>\n",
       "</table>\n",
       "</div>"
      ],
      "text/plain": [
       "                         Feature  unique_counts  \\\n",
       "0                       parcelid          54231   \n",
       "1                       logerror          54038   \n",
       "2                transactiondate            258   \n",
       "5                   basementsqft             30   \n",
       "12      finishedfloor1squarefeet           1562   \n",
       "13  calculatedfinishedsquarefeet           4594   \n",
       "14          finishedsquarefeet12           4487   \n",
       "16          finishedsquarefeet15           1391   \n",
       "17          finishedsquarefeet50           1577   \n",
       "18           finishedsquarefeet6            240   \n",
       "23               garagetotalsqft            767   \n",
       "26                      latitude          46170   \n",
       "27                     longitude          44609   \n",
       "28             lotsizesquarefeet          16060   \n",
       "30                   poolsizesum            217   \n",
       "34     propertycountylandusecode             72   \n",
       "36            propertyzoningdesc           1743   \n",
       "37        rawcensustractandblock          31428   \n",
       "38                  regionidcity            176   \n",
       "40          regionidneighborhood            468   \n",
       "41                   regionidzip            387   \n",
       "47            yardbuildingsqft17            454   \n",
       "48            yardbuildingsqft26             39   \n",
       "49                     yearbuilt            133   \n",
       "52    structuretaxvaluedollarcnt          37763   \n",
       "53             taxvaluedollarcnt          37858   \n",
       "55         landtaxvaluedollarcnt          38201   \n",
       "56                     taxamount          52416   \n",
       "59           censustractandblock          31283   \n",
       "\n",
       "                                        unique_values  na_percent  \\\n",
       "0   [14669079, 17199048, 11634788, 17089180, 12677...     0.00000   \n",
       "1   [0.0142071003593, -0.025691371146400004, 0.050...     0.00000   \n",
       "2   [2017-05-15, 2017-02-28, 2017-02-03, 2017-06-1...     0.00000   \n",
       "5   [nan, 515.0, 380.0, 1416.0, 1969.0, 3560.0, 28...     0.99941   \n",
       "12  [nan, 893.0, 880.0, 1772.0, 514.0, 876.0, 1369...     0.92225   \n",
       "13  [1876.0, 1826.0, 888.0, 1660.0, 4169.0, 1804.0...     0.00280   \n",
       "14  [1876.0, 1826.0, 888.0, 1660.0, nan, 1804.0, 2...     0.04769   \n",
       "16  [nan, 4169.0, 1584.0, 2664.0, 1771.0, 4746.0, ...     0.96035   \n",
       "17  [nan, 893.0, 880.0, 1772.0, 514.0, 876.0, 1369...     0.92225   \n",
       "18  [nan, 3470.0, 1085.0, 4198.0, 2110.0, 2630.0, ...     0.99527   \n",
       "23  [0.0, 443.0, nan, 420.0, 613.0, 360.0, 467.0, ...     0.67244   \n",
       "26  [33736385.0, 34271990.0, 34083062.0, 34267162....     0.00042   \n",
       "27  [-117787977.0, -118890693.0, -118387341.0, -11...     0.00042   \n",
       "28  [nan, 4749.0, 3679.0, 6818.0, 10789.0, 21798.0...     0.10637   \n",
       "30  [nan, 512.0, 450.0, 480.0, 375.0, 238.0, 600.0...     0.98875   \n",
       "34  [34, 1111, 0101, 1129, 0400, 010C, 122, 0100, ...     0.00042   \n",
       "36  [nan, WDR2*, TORR-MD, MNRH, ESR1YY, LAR1, LAR3...     0.34871   \n",
       "37  [60590756.075002, 61110076.091002, 60377005.01...     0.00042   \n",
       "38  [27491.0, 25974.0, 48424.0, 34543.0, 54722.0, ...     0.01912   \n",
       "40  [nan, 762177.0, 416336.0, 268548.0, 27080.0, 2...     0.59883   \n",
       "41  [97018.0, 97097.0, 96050.0, 97083.0, 96161.0, ...     0.00107   \n",
       "47  [nan, 572.0, 230.0, 140.0, 200.0, 600.0, 459.0...     0.96904   \n",
       "48  [nan, 37.0, 461.0, 216.0, 868.0, 48.0, 314.0, ...     0.99925   \n",
       "49  [1994.0, 1985.0, 1922.0, 1991.0, 1964.0, 1989....     0.00364   \n",
       "52  [237033.0, 256441.0, 233507.0, 140000.0, 13190...     0.00191   \n",
       "53  [729000.0, 427397.0, 1167537.0, 399000.0, 1892...     0.00042   \n",
       "55  [491967.0, 170956.0, 934030.0, 259000.0, 57343...     0.00042   \n",
       "56  [8188.76, 4758.52, 14276.37, 4241.72, 2682.54,...     0.00048   \n",
       "59  [60590756075002.0, 61110076091002.0, 603770050...     0.00361   \n",
       "\n",
       "                                          Description  \n",
       "0               Unique identifier for parcels (lots)   \n",
       "1                                                 NaN  \n",
       "2                                                 NaN  \n",
       "5    Finished living area below or partially below...  \n",
       "12   Size of the finished living area on the first...  \n",
       "13   Calculated total finished living area of the ...  \n",
       "14                               Finished living area  \n",
       "16                                         Total area  \n",
       "17   Size of the finished living area on the first...  \n",
       "18                  Base unfinished and finished area  \n",
       "23   Total number of square feet of all garages on...  \n",
       "26   Latitude of the middle of the parcel multipli...  \n",
       "27   Longitude of the middle of the parcel multipl...  \n",
       "28                     Area of the lot in square feet  \n",
       "30      Total square footage of all pools on property  \n",
       "34   County land use code i.e. it's zoning at the ...  \n",
       "36   Description of the allowed land uses (zoning)...  \n",
       "37   Census tract and block ID combined - also con...  \n",
       "38     City in which the property is located (if any)  \n",
       "40      Neighborhood in which the property is located  \n",
       "41          Zip code in which the property is located  \n",
       "47                                     Patio in  yard  \n",
       "48                      Storage shed/building in yard  \n",
       "49        The Year the principal residence was built   \n",
       "52  The assessed value of the built structure on t...  \n",
       "53         The total tax assessed value of the parcel  \n",
       "55  The assessed value of the land area of the parcel  \n",
       "56  The total property tax assessed for that asses...  \n",
       "59   Census tract and block ID combined - also con...  "
      ]
     },
     "execution_count": 39,
     "metadata": {},
     "output_type": "execute_result"
    }
   ],
   "source": [
    "## now looks at the other half of vars which are less likely to be discrete\n",
    "df4[df4.unique_counts>=30]"
   ]
  },
  {
   "cell_type": "code",
   "execution_count": 40,
   "metadata": {},
   "outputs": [],
   "source": [
    "## for basementsqft, I think over 99.9% missing is not reasonable.\n",
    "## I don't think 99.9% properties don't have basement. \n",
    "## In my opinion, we should drop this feature.\n",
    "drop_vars.append('basementsqft')"
   ]
  },
  {
   "cell_type": "code",
   "execution_count": 41,
   "metadata": {},
   "outputs": [],
   "source": [
    "## similar to basementsqft, I think finishedfloor1squarefeet, finishedsquarefeet15, finishedsquarefeet50, finishedsquarefeet6\n",
    "## these features should be droped too because too many missing values. Also, the description is not clear.\n",
    "drop_vars.extend(['finishedfloor1squarefeet','finishedsquarefeet15','finishedsquarefeet50','finishedsquarefeet6'])"
   ]
  },
  {
   "cell_type": "code",
   "execution_count": 42,
   "metadata": {},
   "outputs": [],
   "source": [
    "## for calculatedfinishedsquarefeet and finishedsquarefeet12, I think it is reasonable to replace nan with median\n",
    "replace_median.extend(['calculatedfinishedsquarefeet','finishedsquarefeet12'])"
   ]
  },
  {
   "cell_type": "code",
   "execution_count": 43,
   "metadata": {},
   "outputs": [],
   "source": [
    "## for garagetotalsqft, it seems it is correlated to garagecnt.\n",
    "## replace nan with median\n",
    "replace_median.append('garagetotalsqft')"
   ]
  },
  {
   "cell_type": "code",
   "execution_count": 44,
   "metadata": {},
   "outputs": [],
   "source": [
    "## for latitude and longitude, replace nan with median\n",
    "replace_median.extend(['latitude', 'longitude'])"
   ]
  },
  {
   "cell_type": "code",
   "execution_count": 45,
   "metadata": {},
   "outputs": [],
   "source": [
    "## for lotsizesquarefeet, about 10% missing value.\n",
    "## I think it should be replaced by median too\n",
    "replace_median.append('lotsizesquarefeet')"
   ]
  },
  {
   "cell_type": "code",
   "execution_count": 46,
   "metadata": {},
   "outputs": [],
   "source": [
    "## for poolsizesum, I think it needs to be dropped as too many missing values\n",
    "## also, it is concrodicting to the poolcnt.\n",
    "drop_vars.append('poolsizesum')"
   ]
  },
  {
   "cell_type": "code",
   "execution_count": 47,
   "metadata": {},
   "outputs": [],
   "source": [
    "## for propertycountylandusecode and propertyzoningdesc, it seems to be categorical variables. It doesn't have information abouth all the codes it used here.\n",
    "## replace nan with missing.\n",
    "replace_missing.extend(['propertycountylandusecode','propertyzoningdesc'])"
   ]
  },
  {
   "cell_type": "code",
   "execution_count": 48,
   "metadata": {},
   "outputs": [],
   "source": [
    "## for rawcensustractandblock and censustractandblock.\n",
    "## I am not sure what the description means. it seems these two vars are related to location?\n",
    "## replace nan with missing\n",
    "replace_missing.extend(['rawcensustractandblock','censustractandblock'])"
   ]
  },
  {
   "cell_type": "code",
   "execution_count": 49,
   "metadata": {},
   "outputs": [],
   "source": [
    "## for regionidcity, it is categorial variable\n",
    "## replace with missing\n",
    "replace_missing.append('regionidcity')"
   ]
  },
  {
   "cell_type": "code",
   "execution_count": 50,
   "metadata": {},
   "outputs": [],
   "source": [
    "## for regionidneighborhood, it seems to be categorical too\n",
    "## replace nan with missing\n",
    "replace_missing.append('regionidneighborhood')"
   ]
  },
  {
   "cell_type": "code",
   "execution_count": 51,
   "metadata": {},
   "outputs": [],
   "source": [
    "## for regionidzip, it is categorical variable\n",
    "## replace with missing\n",
    "replace_missing.append('regionidzip')"
   ]
  },
  {
   "cell_type": "code",
   "execution_count": 52,
   "metadata": {},
   "outputs": [],
   "source": [
    "## for yardbuildingsqft17 and yardbuildingsqft26\n",
    "## replace nan with 0 based on description\n",
    "replace_0.extend(['yardbuildingsqft17','yardbuildingsqft26'])"
   ]
  },
  {
   "cell_type": "code",
   "execution_count": 53,
   "metadata": {},
   "outputs": [],
   "source": [
    "## for yearbuilt, I think it can be replaced by median\n",
    "replace_median.append('yearbuilt')"
   ]
  },
  {
   "cell_type": "code",
   "execution_count": 54,
   "metadata": {},
   "outputs": [],
   "source": [
    "## for structuretaxvaluedollarcnt,taxvaluedollarcnt,landtaxvaluedollarcnt and taxamount\n",
    "## replace nan with median \n",
    "replace_median.extend(['structuretaxvaluedollarcnt','taxvaluedollarcnt','landtaxvaluedollarcnt','taxamount'])"
   ]
  },
  {
   "cell_type": "code",
   "execution_count": 55,
   "metadata": {},
   "outputs": [
    {
     "data": {
      "text/plain": [
       "['bathroomcnt',\n",
       " 'bedroomcnt',\n",
       " 'buildingqualitytypeid',\n",
       " 'calculatedbathnbr',\n",
       " 'fullbathcnt',\n",
       " 'garagecarcnt',\n",
       " 'roomcnt',\n",
       " 'calculatedfinishedsquarefeet',\n",
       " 'finishedsquarefeet12',\n",
       " 'garagetotalsqft',\n",
       " 'latitude',\n",
       " 'longitude',\n",
       " 'lotsizesquarefeet',\n",
       " 'yearbuilt',\n",
       " 'structuretaxvaluedollarcnt',\n",
       " 'taxvaluedollarcnt',\n",
       " 'landtaxvaluedollarcnt',\n",
       " 'taxamount']"
      ]
     },
     "execution_count": 55,
     "metadata": {},
     "output_type": "execute_result"
    }
   ],
   "source": [
    "## Now take a look of the lists just created\n",
    "replace_median"
   ]
  },
  {
   "cell_type": "code",
   "execution_count": 56,
   "metadata": {},
   "outputs": [
    {
     "data": {
      "text/plain": [
       "['airconditioningtypeid',\n",
       " 'decktypeid',\n",
       " 'fireplacecnt',\n",
       " 'hashottuborspa',\n",
       " 'poolcnt',\n",
       " 'pooltypeid10',\n",
       " 'pooltypeid2',\n",
       " 'pooltypeid7',\n",
       " 'unitcnt',\n",
       " 'taxdelinquencyyear',\n",
       " 'yardbuildingsqft17',\n",
       " 'yardbuildingsqft26']"
      ]
     },
     "execution_count": 56,
     "metadata": {},
     "output_type": "execute_result"
    }
   ],
   "source": [
    "replace_0"
   ]
  },
  {
   "cell_type": "code",
   "execution_count": 57,
   "metadata": {},
   "outputs": [
    {
     "data": {
      "text/plain": [
       "['architecturalstyletypeid',\n",
       " 'buildingclasstypeid',\n",
       " 'finishedsquarefeet13',\n",
       " 'storytypeid',\n",
       " 'typeconstructiontypeid',\n",
       " 'fireplaceflag',\n",
       " 'assessmentyear',\n",
       " 'basementsqft',\n",
       " 'finishedfloor1squarefeet',\n",
       " 'finishedsquarefeet15',\n",
       " 'finishedsquarefeet50',\n",
       " 'finishedsquarefeet6',\n",
       " 'poolsizesum']"
      ]
     },
     "execution_count": 57,
     "metadata": {},
     "output_type": "execute_result"
    }
   ],
   "source": [
    "drop_vars"
   ]
  },
  {
   "cell_type": "code",
   "execution_count": 58,
   "metadata": {},
   "outputs": [
    {
     "data": {
      "text/plain": [
       "['fips',\n",
       " 'heatingorsystemtypeid',\n",
       " 'propertylandusetypeid',\n",
       " 'regionidcounty',\n",
       " 'threequarterbathnbr',\n",
       " 'propertycountylandusecode',\n",
       " 'propertyzoningdesc',\n",
       " 'rawcensustractandblock',\n",
       " 'censustractandblock',\n",
       " 'regionidcity',\n",
       " 'regionidneighborhood',\n",
       " 'regionidzip']"
      ]
     },
     "execution_count": 58,
     "metadata": {},
     "output_type": "execute_result"
    }
   ],
   "source": [
    "replace_missing"
   ]
  },
  {
   "cell_type": "code",
   "execution_count": 59,
   "metadata": {},
   "outputs": [
    {
     "name": "stderr",
     "output_type": "stream",
     "text": [
      "C:\\ProgramData\\Anaconda3\\lib\\site-packages\\pandas\\core\\series.py:4517: SettingWithCopyWarning: \n",
      "A value is trying to be set on a copy of a slice from a DataFrame\n",
      "\n",
      "See the caveats in the documentation: https://pandas.pydata.org/pandas-docs/stable/user_guide/indexing.html#returning-a-view-versus-a-copy\n",
      "  return super().fillna(\n"
     ]
    }
   ],
   "source": [
    "## implement replacements\n",
    "for i in replace_median:\n",
    "    train_set[i].fillna(train_set[i].median(), inplace = True)\n",
    "    val_set[i].fillna(train_set[i].median(), inplace = True)"
   ]
  },
  {
   "cell_type": "code",
   "execution_count": 60,
   "metadata": {},
   "outputs": [
    {
     "name": "stderr",
     "output_type": "stream",
     "text": [
      "<ipython-input-60-55a438610337>:2: SettingWithCopyWarning: \n",
      "A value is trying to be set on a copy of a slice from a DataFrame.\n",
      "Try using .loc[row_indexer,col_indexer] = value instead\n",
      "\n",
      "See the caveats in the documentation: https://pandas.pydata.org/pandas-docs/stable/user_guide/indexing.html#returning-a-view-versus-a-copy\n",
      "  train_set[i] = train_set[i].fillna(0)\n",
      "<ipython-input-60-55a438610337>:3: SettingWithCopyWarning: \n",
      "A value is trying to be set on a copy of a slice from a DataFrame.\n",
      "Try using .loc[row_indexer,col_indexer] = value instead\n",
      "\n",
      "See the caveats in the documentation: https://pandas.pydata.org/pandas-docs/stable/user_guide/indexing.html#returning-a-view-versus-a-copy\n",
      "  val_set[i] = val_set[i].fillna(0)\n"
     ]
    }
   ],
   "source": [
    "for i in replace_0:\n",
    "    train_set[i] = train_set[i].fillna(0)\n",
    "    val_set[i] = val_set[i].fillna(0)"
   ]
  },
  {
   "cell_type": "code",
   "execution_count": 61,
   "metadata": {},
   "outputs": [
    {
     "name": "stderr",
     "output_type": "stream",
     "text": [
      "<ipython-input-61-bc4ef2892d85>:2: SettingWithCopyWarning: \n",
      "A value is trying to be set on a copy of a slice from a DataFrame.\n",
      "Try using .loc[row_indexer,col_indexer] = value instead\n",
      "\n",
      "See the caveats in the documentation: https://pandas.pydata.org/pandas-docs/stable/user_guide/indexing.html#returning-a-view-versus-a-copy\n",
      "  train_set[i] = train_set[i].fillna('missing')\n",
      "<ipython-input-61-bc4ef2892d85>:3: SettingWithCopyWarning: \n",
      "A value is trying to be set on a copy of a slice from a DataFrame.\n",
      "Try using .loc[row_indexer,col_indexer] = value instead\n",
      "\n",
      "See the caveats in the documentation: https://pandas.pydata.org/pandas-docs/stable/user_guide/indexing.html#returning-a-view-versus-a-copy\n",
      "  val_set[i] = val_set[i].fillna('missing')\n"
     ]
    }
   ],
   "source": [
    "for i in replace_missing:\n",
    "    train_set[i] = train_set[i].fillna('missing')\n",
    "    val_set[i] = val_set[i].fillna('missing')"
   ]
  },
  {
   "cell_type": "code",
   "execution_count": 62,
   "metadata": {},
   "outputs": [],
   "source": [
    "for i in drop_vars:\n",
    "    del train_set[i]\n",
    "    del val_set[i]"
   ]
  },
  {
   "cell_type": "code",
   "execution_count": 63,
   "metadata": {},
   "outputs": [
    {
     "data": {
      "text/plain": [
       "0"
      ]
     },
     "execution_count": 63,
     "metadata": {},
     "output_type": "execute_result"
    }
   ],
   "source": [
    "train_set.isna().any().sum()"
   ]
  },
  {
   "cell_type": "markdown",
   "metadata": {},
   "source": [
    "## 4. Use as many raw inputs as you think nessary and train a lasso regression model using the training dataset. explian your initial selection of variables."
   ]
  },
  {
   "cell_type": "markdown",
   "metadata": {},
   "source": [
    "## a. provide inital set of variables and correspinding explanation as described abobe."
   ]
  },
  {
   "cell_type": "code",
   "execution_count": 64,
   "metadata": {},
   "outputs": [
    {
     "data": {
      "text/html": [
       "<div>\n",
       "<style scoped>\n",
       "    .dataframe tbody tr th:only-of-type {\n",
       "        vertical-align: middle;\n",
       "    }\n",
       "\n",
       "    .dataframe tbody tr th {\n",
       "        vertical-align: top;\n",
       "    }\n",
       "\n",
       "    .dataframe thead th {\n",
       "        text-align: right;\n",
       "    }\n",
       "</style>\n",
       "<table border=\"1\" class=\"dataframe\">\n",
       "  <thead>\n",
       "    <tr style=\"text-align: right;\">\n",
       "      <th></th>\n",
       "      <th>Feature</th>\n",
       "      <th>unique_counts</th>\n",
       "      <th>unique_values</th>\n",
       "      <th>na_percent</th>\n",
       "      <th>Description</th>\n",
       "    </tr>\n",
       "  </thead>\n",
       "  <tbody>\n",
       "    <tr>\n",
       "      <th>0</th>\n",
       "      <td>parcelid</td>\n",
       "      <td>54231</td>\n",
       "      <td>[14669079, 17199048, 11634788, 17089180, 12677...</td>\n",
       "      <td>0.00000</td>\n",
       "      <td>Unique identifier for parcels (lots)</td>\n",
       "    </tr>\n",
       "    <tr>\n",
       "      <th>1</th>\n",
       "      <td>logerror</td>\n",
       "      <td>54038</td>\n",
       "      <td>[0.0142071003593, -0.025691371146400004, 0.050...</td>\n",
       "      <td>0.00000</td>\n",
       "      <td>NaN</td>\n",
       "    </tr>\n",
       "    <tr>\n",
       "      <th>2</th>\n",
       "      <td>transactiondate</td>\n",
       "      <td>258</td>\n",
       "      <td>[2017-05-15, 2017-02-28, 2017-02-03, 2017-06-1...</td>\n",
       "      <td>0.00000</td>\n",
       "      <td>NaN</td>\n",
       "    </tr>\n",
       "    <tr>\n",
       "      <th>3</th>\n",
       "      <td>airconditioningtypeid</td>\n",
       "      <td>6</td>\n",
       "      <td>[nan, 1.0, 13.0, 11.0, 5.0, 9.0]</td>\n",
       "      <td>0.67827</td>\n",
       "      <td>Type of cooling system present in the home (i...</td>\n",
       "    </tr>\n",
       "    <tr>\n",
       "      <th>6</th>\n",
       "      <td>bathroomcnt</td>\n",
       "      <td>22</td>\n",
       "      <td>[2.5, 2.0, 7.0, 3.0, 4.0, 1.0, 4.5, 10.0, 6.5,...</td>\n",
       "      <td>0.00042</td>\n",
       "      <td>Number of bathrooms in home including fractio...</td>\n",
       "    </tr>\n",
       "    <tr>\n",
       "      <th>7</th>\n",
       "      <td>bedroomcnt</td>\n",
       "      <td>16</td>\n",
       "      <td>[3.0, 2.0, 8.0, 4.0, 5.0, 6.0, 9.0, 0.0, 1.0, ...</td>\n",
       "      <td>0.00042</td>\n",
       "      <td>Number of bedrooms in home</td>\n",
       "    </tr>\n",
       "    <tr>\n",
       "      <th>9</th>\n",
       "      <td>buildingqualitytypeid</td>\n",
       "      <td>13</td>\n",
       "      <td>[nan, 6.0, 8.0, 4.0, 9.0, 5.0, 7.0, 11.0, 3.0,...</td>\n",
       "      <td>0.35662</td>\n",
       "      <td>Overall assessment of condition of the buildi...</td>\n",
       "    </tr>\n",
       "    <tr>\n",
       "      <th>10</th>\n",
       "      <td>calculatedbathnbr</td>\n",
       "      <td>21</td>\n",
       "      <td>[2.5, 2.0, 7.0, 3.0, 4.0, 1.0, 4.5, 10.0, 6.5,...</td>\n",
       "      <td>0.00825</td>\n",
       "      <td>Number of bathrooms in home including fractio...</td>\n",
       "    </tr>\n",
       "    <tr>\n",
       "      <th>11</th>\n",
       "      <td>decktypeid</td>\n",
       "      <td>2</td>\n",
       "      <td>[nan, 66.0]</td>\n",
       "      <td>0.99212</td>\n",
       "      <td>Type of deck (if any) present on parcel</td>\n",
       "    </tr>\n",
       "    <tr>\n",
       "      <th>13</th>\n",
       "      <td>calculatedfinishedsquarefeet</td>\n",
       "      <td>4594</td>\n",
       "      <td>[1876.0, 1826.0, 888.0, 1660.0, 4169.0, 1804.0...</td>\n",
       "      <td>0.00280</td>\n",
       "      <td>Calculated total finished living area of the ...</td>\n",
       "    </tr>\n",
       "    <tr>\n",
       "      <th>14</th>\n",
       "      <td>finishedsquarefeet12</td>\n",
       "      <td>4487</td>\n",
       "      <td>[1876.0, 1826.0, 888.0, 1660.0, nan, 1804.0, 2...</td>\n",
       "      <td>0.04769</td>\n",
       "      <td>Finished living area</td>\n",
       "    </tr>\n",
       "    <tr>\n",
       "      <th>19</th>\n",
       "      <td>fips</td>\n",
       "      <td>4</td>\n",
       "      <td>[6059.0, 6111.0, 6037.0, nan]</td>\n",
       "      <td>0.00042</td>\n",
       "      <td>Federal Information Processing Standard code ...</td>\n",
       "    </tr>\n",
       "    <tr>\n",
       "      <th>20</th>\n",
       "      <td>fireplacecnt</td>\n",
       "      <td>6</td>\n",
       "      <td>[nan, 1.0, 2.0, 3.0, 4.0, 5.0]</td>\n",
       "      <td>0.89295</td>\n",
       "      <td>Number of fireplaces in a home (if any)</td>\n",
       "    </tr>\n",
       "    <tr>\n",
       "      <th>21</th>\n",
       "      <td>fullbathcnt</td>\n",
       "      <td>13</td>\n",
       "      <td>[2.0, 7.0, 3.0, 4.0, 1.0, 10.0, 6.0, nan, 5.0,...</td>\n",
       "      <td>0.00825</td>\n",
       "      <td>Number of full bathrooms (sink, shower + bath...</td>\n",
       "    </tr>\n",
       "    <tr>\n",
       "      <th>22</th>\n",
       "      <td>garagecarcnt</td>\n",
       "      <td>14</td>\n",
       "      <td>[2.0, nan, 1.0, 4.0, 3.0, 0.0, 5.0, 13.0, 6.0,...</td>\n",
       "      <td>0.67244</td>\n",
       "      <td>Total number of garages on the lot including ...</td>\n",
       "    </tr>\n",
       "    <tr>\n",
       "      <th>23</th>\n",
       "      <td>garagetotalsqft</td>\n",
       "      <td>767</td>\n",
       "      <td>[0.0, 443.0, nan, 420.0, 613.0, 360.0, 467.0, ...</td>\n",
       "      <td>0.67244</td>\n",
       "      <td>Total number of square feet of all garages on...</td>\n",
       "    </tr>\n",
       "    <tr>\n",
       "      <th>24</th>\n",
       "      <td>hashottuborspa</td>\n",
       "      <td>2</td>\n",
       "      <td>[nan, True]</td>\n",
       "      <td>0.97990</td>\n",
       "      <td>Does the home have a hot tub or spa</td>\n",
       "    </tr>\n",
       "    <tr>\n",
       "      <th>25</th>\n",
       "      <td>heatingorsystemtypeid</td>\n",
       "      <td>11</td>\n",
       "      <td>[nan, 2.0, 7.0, 24.0, 13.0, 20.0, 6.0, 18.0, 1...</td>\n",
       "      <td>0.36108</td>\n",
       "      <td>Type of home heating system</td>\n",
       "    </tr>\n",
       "    <tr>\n",
       "      <th>26</th>\n",
       "      <td>latitude</td>\n",
       "      <td>46170</td>\n",
       "      <td>[33736385.0, 34271990.0, 34083062.0, 34267162....</td>\n",
       "      <td>0.00042</td>\n",
       "      <td>Latitude of the middle of the parcel multipli...</td>\n",
       "    </tr>\n",
       "    <tr>\n",
       "      <th>27</th>\n",
       "      <td>longitude</td>\n",
       "      <td>44609</td>\n",
       "      <td>[-117787977.0, -118890693.0, -118387341.0, -11...</td>\n",
       "      <td>0.00042</td>\n",
       "      <td>Longitude of the middle of the parcel multipl...</td>\n",
       "    </tr>\n",
       "    <tr>\n",
       "      <th>28</th>\n",
       "      <td>lotsizesquarefeet</td>\n",
       "      <td>16060</td>\n",
       "      <td>[nan, 4749.0, 3679.0, 6818.0, 10789.0, 21798.0...</td>\n",
       "      <td>0.10637</td>\n",
       "      <td>Area of the lot in square feet</td>\n",
       "    </tr>\n",
       "    <tr>\n",
       "      <th>29</th>\n",
       "      <td>poolcnt</td>\n",
       "      <td>2</td>\n",
       "      <td>[nan, 1.0]</td>\n",
       "      <td>0.79077</td>\n",
       "      <td>Number of pools on the lot (if any)</td>\n",
       "    </tr>\n",
       "    <tr>\n",
       "      <th>31</th>\n",
       "      <td>pooltypeid10</td>\n",
       "      <td>2</td>\n",
       "      <td>[nan, 1.0]</td>\n",
       "      <td>0.99404</td>\n",
       "      <td>Spa or Hot Tub</td>\n",
       "    </tr>\n",
       "    <tr>\n",
       "      <th>32</th>\n",
       "      <td>pooltypeid2</td>\n",
       "      <td>2</td>\n",
       "      <td>[nan, 1.0]</td>\n",
       "      <td>0.98586</td>\n",
       "      <td>Pool with Spa/Hot Tub</td>\n",
       "    </tr>\n",
       "    <tr>\n",
       "      <th>33</th>\n",
       "      <td>pooltypeid7</td>\n",
       "      <td>2</td>\n",
       "      <td>[nan, 1.0]</td>\n",
       "      <td>0.80519</td>\n",
       "      <td>Pool without hot tub</td>\n",
       "    </tr>\n",
       "    <tr>\n",
       "      <th>34</th>\n",
       "      <td>propertycountylandusecode</td>\n",
       "      <td>72</td>\n",
       "      <td>[34, 1111, 0101, 1129, 0400, 010C, 122, 0100, ...</td>\n",
       "      <td>0.00042</td>\n",
       "      <td>County land use code i.e. it's zoning at the ...</td>\n",
       "    </tr>\n",
       "    <tr>\n",
       "      <th>35</th>\n",
       "      <td>propertylandusetypeid</td>\n",
       "      <td>14</td>\n",
       "      <td>[266.0, 261.0, 248.0, 246.0, 247.0, 269.0, 265...</td>\n",
       "      <td>0.00042</td>\n",
       "      <td>Type of land use the property is zoned for</td>\n",
       "    </tr>\n",
       "    <tr>\n",
       "      <th>36</th>\n",
       "      <td>propertyzoningdesc</td>\n",
       "      <td>1743</td>\n",
       "      <td>[nan, WDR2*, TORR-MD, MNRH, ESR1YY, LAR1, LAR3...</td>\n",
       "      <td>0.34871</td>\n",
       "      <td>Description of the allowed land uses (zoning)...</td>\n",
       "    </tr>\n",
       "    <tr>\n",
       "      <th>37</th>\n",
       "      <td>rawcensustractandblock</td>\n",
       "      <td>31428</td>\n",
       "      <td>[60590756.075002, 61110076.091002, 60377005.01...</td>\n",
       "      <td>0.00042</td>\n",
       "      <td>Census tract and block ID combined - also con...</td>\n",
       "    </tr>\n",
       "    <tr>\n",
       "      <th>38</th>\n",
       "      <td>regionidcity</td>\n",
       "      <td>176</td>\n",
       "      <td>[27491.0, 25974.0, 48424.0, 34543.0, 54722.0, ...</td>\n",
       "      <td>0.01912</td>\n",
       "      <td>City in which the property is located (if any)</td>\n",
       "    </tr>\n",
       "    <tr>\n",
       "      <th>39</th>\n",
       "      <td>regionidcounty</td>\n",
       "      <td>4</td>\n",
       "      <td>[1286.0, 2061.0, 3101.0, nan]</td>\n",
       "      <td>0.00042</td>\n",
       "      <td>County in which the property is located</td>\n",
       "    </tr>\n",
       "    <tr>\n",
       "      <th>40</th>\n",
       "      <td>regionidneighborhood</td>\n",
       "      <td>468</td>\n",
       "      <td>[nan, 762177.0, 416336.0, 268548.0, 27080.0, 2...</td>\n",
       "      <td>0.59883</td>\n",
       "      <td>Neighborhood in which the property is located</td>\n",
       "    </tr>\n",
       "    <tr>\n",
       "      <th>41</th>\n",
       "      <td>regionidzip</td>\n",
       "      <td>387</td>\n",
       "      <td>[97018.0, 97097.0, 96050.0, 97083.0, 96161.0, ...</td>\n",
       "      <td>0.00107</td>\n",
       "      <td>Zip code in which the property is located</td>\n",
       "    </tr>\n",
       "    <tr>\n",
       "      <th>42</th>\n",
       "      <td>roomcnt</td>\n",
       "      <td>17</td>\n",
       "      <td>[0.0, 7.0, 8.0, 5.0, 6.0, 4.0, 3.0, 11.0, 9.0,...</td>\n",
       "      <td>0.00042</td>\n",
       "      <td>Total number of rooms in the principal residence</td>\n",
       "    </tr>\n",
       "    <tr>\n",
       "      <th>44</th>\n",
       "      <td>threequarterbathnbr</td>\n",
       "      <td>5</td>\n",
       "      <td>[1.0, nan, 2.0, 3.0, 7.0]</td>\n",
       "      <td>0.86989</td>\n",
       "      <td>Number of 3/4 bathrooms in house (shower + si...</td>\n",
       "    </tr>\n",
       "    <tr>\n",
       "      <th>46</th>\n",
       "      <td>unitcnt</td>\n",
       "      <td>8</td>\n",
       "      <td>[nan, 1.0, 4.0, 2.0, 3.0, 42.0, 45.0, 237.0]</td>\n",
       "      <td>0.34538</td>\n",
       "      <td>Number of units the structure is built into (...</td>\n",
       "    </tr>\n",
       "    <tr>\n",
       "      <th>47</th>\n",
       "      <td>yardbuildingsqft17</td>\n",
       "      <td>454</td>\n",
       "      <td>[nan, 572.0, 230.0, 140.0, 200.0, 600.0, 459.0...</td>\n",
       "      <td>0.96904</td>\n",
       "      <td>Patio in  yard</td>\n",
       "    </tr>\n",
       "    <tr>\n",
       "      <th>48</th>\n",
       "      <td>yardbuildingsqft26</td>\n",
       "      <td>39</td>\n",
       "      <td>[nan, 37.0, 461.0, 216.0, 868.0, 48.0, 314.0, ...</td>\n",
       "      <td>0.99925</td>\n",
       "      <td>Storage shed/building in yard</td>\n",
       "    </tr>\n",
       "    <tr>\n",
       "      <th>49</th>\n",
       "      <td>yearbuilt</td>\n",
       "      <td>133</td>\n",
       "      <td>[1994.0, 1985.0, 1922.0, 1991.0, 1964.0, 1989....</td>\n",
       "      <td>0.00364</td>\n",
       "      <td>The Year the principal residence was built</td>\n",
       "    </tr>\n",
       "    <tr>\n",
       "      <th>50</th>\n",
       "      <td>numberofstories</td>\n",
       "      <td>5</td>\n",
       "      <td>[nan, 2.0, 1.0, 3.0, 6.0]</td>\n",
       "      <td>0.77356</td>\n",
       "      <td>Number of stories or levels the home has</td>\n",
       "    </tr>\n",
       "    <tr>\n",
       "      <th>52</th>\n",
       "      <td>structuretaxvaluedollarcnt</td>\n",
       "      <td>37763</td>\n",
       "      <td>[237033.0, 256441.0, 233507.0, 140000.0, 13190...</td>\n",
       "      <td>0.00191</td>\n",
       "      <td>The assessed value of the built structure on t...</td>\n",
       "    </tr>\n",
       "    <tr>\n",
       "      <th>53</th>\n",
       "      <td>taxvaluedollarcnt</td>\n",
       "      <td>37858</td>\n",
       "      <td>[729000.0, 427397.0, 1167537.0, 399000.0, 1892...</td>\n",
       "      <td>0.00042</td>\n",
       "      <td>The total tax assessed value of the parcel</td>\n",
       "    </tr>\n",
       "    <tr>\n",
       "      <th>55</th>\n",
       "      <td>landtaxvaluedollarcnt</td>\n",
       "      <td>38201</td>\n",
       "      <td>[491967.0, 170956.0, 934030.0, 259000.0, 57343...</td>\n",
       "      <td>0.00042</td>\n",
       "      <td>The assessed value of the land area of the parcel</td>\n",
       "    </tr>\n",
       "    <tr>\n",
       "      <th>56</th>\n",
       "      <td>taxamount</td>\n",
       "      <td>52416</td>\n",
       "      <td>[8188.76, 4758.52, 14276.37, 4241.72, 2682.54,...</td>\n",
       "      <td>0.00048</td>\n",
       "      <td>The total property tax assessed for that asses...</td>\n",
       "    </tr>\n",
       "    <tr>\n",
       "      <th>57</th>\n",
       "      <td>taxdelinquencyflag</td>\n",
       "      <td>2</td>\n",
       "      <td>[nan, Y]</td>\n",
       "      <td>0.96197</td>\n",
       "      <td>Property taxes for this parcel are past due as...</td>\n",
       "    </tr>\n",
       "    <tr>\n",
       "      <th>58</th>\n",
       "      <td>taxdelinquencyyear</td>\n",
       "      <td>13</td>\n",
       "      <td>[nan, 12.0, 15.0, 14.0, 10.0, 11.0, 9.0, 13.0,...</td>\n",
       "      <td>0.96197</td>\n",
       "      <td>Year for which the unpaid propert taxes were due</td>\n",
       "    </tr>\n",
       "    <tr>\n",
       "      <th>59</th>\n",
       "      <td>censustractandblock</td>\n",
       "      <td>31283</td>\n",
       "      <td>[60590756075002.0, 61110076091002.0, 603770050...</td>\n",
       "      <td>0.00361</td>\n",
       "      <td>Census tract and block ID combined - also con...</td>\n",
       "    </tr>\n",
       "  </tbody>\n",
       "</table>\n",
       "</div>"
      ],
      "text/plain": [
       "                         Feature  unique_counts  \\\n",
       "0                       parcelid          54231   \n",
       "1                       logerror          54038   \n",
       "2                transactiondate            258   \n",
       "3          airconditioningtypeid              6   \n",
       "6                    bathroomcnt             22   \n",
       "7                     bedroomcnt             16   \n",
       "9          buildingqualitytypeid             13   \n",
       "10             calculatedbathnbr             21   \n",
       "11                    decktypeid              2   \n",
       "13  calculatedfinishedsquarefeet           4594   \n",
       "14          finishedsquarefeet12           4487   \n",
       "19                          fips              4   \n",
       "20                  fireplacecnt              6   \n",
       "21                   fullbathcnt             13   \n",
       "22                  garagecarcnt             14   \n",
       "23               garagetotalsqft            767   \n",
       "24                hashottuborspa              2   \n",
       "25         heatingorsystemtypeid             11   \n",
       "26                      latitude          46170   \n",
       "27                     longitude          44609   \n",
       "28             lotsizesquarefeet          16060   \n",
       "29                       poolcnt              2   \n",
       "31                  pooltypeid10              2   \n",
       "32                   pooltypeid2              2   \n",
       "33                   pooltypeid7              2   \n",
       "34     propertycountylandusecode             72   \n",
       "35         propertylandusetypeid             14   \n",
       "36            propertyzoningdesc           1743   \n",
       "37        rawcensustractandblock          31428   \n",
       "38                  regionidcity            176   \n",
       "39                regionidcounty              4   \n",
       "40          regionidneighborhood            468   \n",
       "41                   regionidzip            387   \n",
       "42                       roomcnt             17   \n",
       "44           threequarterbathnbr              5   \n",
       "46                       unitcnt              8   \n",
       "47            yardbuildingsqft17            454   \n",
       "48            yardbuildingsqft26             39   \n",
       "49                     yearbuilt            133   \n",
       "50               numberofstories              5   \n",
       "52    structuretaxvaluedollarcnt          37763   \n",
       "53             taxvaluedollarcnt          37858   \n",
       "55         landtaxvaluedollarcnt          38201   \n",
       "56                     taxamount          52416   \n",
       "57            taxdelinquencyflag              2   \n",
       "58            taxdelinquencyyear             13   \n",
       "59           censustractandblock          31283   \n",
       "\n",
       "                                        unique_values  na_percent  \\\n",
       "0   [14669079, 17199048, 11634788, 17089180, 12677...     0.00000   \n",
       "1   [0.0142071003593, -0.025691371146400004, 0.050...     0.00000   \n",
       "2   [2017-05-15, 2017-02-28, 2017-02-03, 2017-06-1...     0.00000   \n",
       "3                    [nan, 1.0, 13.0, 11.0, 5.0, 9.0]     0.67827   \n",
       "6   [2.5, 2.0, 7.0, 3.0, 4.0, 1.0, 4.5, 10.0, 6.5,...     0.00042   \n",
       "7   [3.0, 2.0, 8.0, 4.0, 5.0, 6.0, 9.0, 0.0, 1.0, ...     0.00042   \n",
       "9   [nan, 6.0, 8.0, 4.0, 9.0, 5.0, 7.0, 11.0, 3.0,...     0.35662   \n",
       "10  [2.5, 2.0, 7.0, 3.0, 4.0, 1.0, 4.5, 10.0, 6.5,...     0.00825   \n",
       "11                                        [nan, 66.0]     0.99212   \n",
       "13  [1876.0, 1826.0, 888.0, 1660.0, 4169.0, 1804.0...     0.00280   \n",
       "14  [1876.0, 1826.0, 888.0, 1660.0, nan, 1804.0, 2...     0.04769   \n",
       "19                      [6059.0, 6111.0, 6037.0, nan]     0.00042   \n",
       "20                     [nan, 1.0, 2.0, 3.0, 4.0, 5.0]     0.89295   \n",
       "21  [2.0, 7.0, 3.0, 4.0, 1.0, 10.0, 6.0, nan, 5.0,...     0.00825   \n",
       "22  [2.0, nan, 1.0, 4.0, 3.0, 0.0, 5.0, 13.0, 6.0,...     0.67244   \n",
       "23  [0.0, 443.0, nan, 420.0, 613.0, 360.0, 467.0, ...     0.67244   \n",
       "24                                        [nan, True]     0.97990   \n",
       "25  [nan, 2.0, 7.0, 24.0, 13.0, 20.0, 6.0, 18.0, 1...     0.36108   \n",
       "26  [33736385.0, 34271990.0, 34083062.0, 34267162....     0.00042   \n",
       "27  [-117787977.0, -118890693.0, -118387341.0, -11...     0.00042   \n",
       "28  [nan, 4749.0, 3679.0, 6818.0, 10789.0, 21798.0...     0.10637   \n",
       "29                                         [nan, 1.0]     0.79077   \n",
       "31                                         [nan, 1.0]     0.99404   \n",
       "32                                         [nan, 1.0]     0.98586   \n",
       "33                                         [nan, 1.0]     0.80519   \n",
       "34  [34, 1111, 0101, 1129, 0400, 010C, 122, 0100, ...     0.00042   \n",
       "35  [266.0, 261.0, 248.0, 246.0, 247.0, 269.0, 265...     0.00042   \n",
       "36  [nan, WDR2*, TORR-MD, MNRH, ESR1YY, LAR1, LAR3...     0.34871   \n",
       "37  [60590756.075002, 61110076.091002, 60377005.01...     0.00042   \n",
       "38  [27491.0, 25974.0, 48424.0, 34543.0, 54722.0, ...     0.01912   \n",
       "39                      [1286.0, 2061.0, 3101.0, nan]     0.00042   \n",
       "40  [nan, 762177.0, 416336.0, 268548.0, 27080.0, 2...     0.59883   \n",
       "41  [97018.0, 97097.0, 96050.0, 97083.0, 96161.0, ...     0.00107   \n",
       "42  [0.0, 7.0, 8.0, 5.0, 6.0, 4.0, 3.0, 11.0, 9.0,...     0.00042   \n",
       "44                          [1.0, nan, 2.0, 3.0, 7.0]     0.86989   \n",
       "46       [nan, 1.0, 4.0, 2.0, 3.0, 42.0, 45.0, 237.0]     0.34538   \n",
       "47  [nan, 572.0, 230.0, 140.0, 200.0, 600.0, 459.0...     0.96904   \n",
       "48  [nan, 37.0, 461.0, 216.0, 868.0, 48.0, 314.0, ...     0.99925   \n",
       "49  [1994.0, 1985.0, 1922.0, 1991.0, 1964.0, 1989....     0.00364   \n",
       "50                          [nan, 2.0, 1.0, 3.0, 6.0]     0.77356   \n",
       "52  [237033.0, 256441.0, 233507.0, 140000.0, 13190...     0.00191   \n",
       "53  [729000.0, 427397.0, 1167537.0, 399000.0, 1892...     0.00042   \n",
       "55  [491967.0, 170956.0, 934030.0, 259000.0, 57343...     0.00042   \n",
       "56  [8188.76, 4758.52, 14276.37, 4241.72, 2682.54,...     0.00048   \n",
       "57                                           [nan, Y]     0.96197   \n",
       "58  [nan, 12.0, 15.0, 14.0, 10.0, 11.0, 9.0, 13.0,...     0.96197   \n",
       "59  [60590756075002.0, 61110076091002.0, 603770050...     0.00361   \n",
       "\n",
       "                                          Description  \n",
       "0               Unique identifier for parcels (lots)   \n",
       "1                                                 NaN  \n",
       "2                                                 NaN  \n",
       "3    Type of cooling system present in the home (i...  \n",
       "6    Number of bathrooms in home including fractio...  \n",
       "7                         Number of bedrooms in home   \n",
       "9    Overall assessment of condition of the buildi...  \n",
       "10   Number of bathrooms in home including fractio...  \n",
       "11            Type of deck (if any) present on parcel  \n",
       "13   Calculated total finished living area of the ...  \n",
       "14                               Finished living area  \n",
       "19   Federal Information Processing Standard code ...  \n",
       "20            Number of fireplaces in a home (if any)  \n",
       "21   Number of full bathrooms (sink, shower + bath...  \n",
       "22   Total number of garages on the lot including ...  \n",
       "23   Total number of square feet of all garages on...  \n",
       "24                Does the home have a hot tub or spa  \n",
       "25                        Type of home heating system  \n",
       "26   Latitude of the middle of the parcel multipli...  \n",
       "27   Longitude of the middle of the parcel multipl...  \n",
       "28                     Area of the lot in square feet  \n",
       "29                Number of pools on the lot (if any)  \n",
       "31                                     Spa or Hot Tub  \n",
       "32                              Pool with Spa/Hot Tub  \n",
       "33                               Pool without hot tub  \n",
       "34   County land use code i.e. it's zoning at the ...  \n",
       "35         Type of land use the property is zoned for  \n",
       "36   Description of the allowed land uses (zoning)...  \n",
       "37   Census tract and block ID combined - also con...  \n",
       "38     City in which the property is located (if any)  \n",
       "39            County in which the property is located  \n",
       "40      Neighborhood in which the property is located  \n",
       "41          Zip code in which the property is located  \n",
       "42   Total number of rooms in the principal residence  \n",
       "44   Number of 3/4 bathrooms in house (shower + si...  \n",
       "46   Number of units the structure is built into (...  \n",
       "47                                     Patio in  yard  \n",
       "48                      Storage shed/building in yard  \n",
       "49        The Year the principal residence was built   \n",
       "50           Number of stories or levels the home has  \n",
       "52  The assessed value of the built structure on t...  \n",
       "53         The total tax assessed value of the parcel  \n",
       "55  The assessed value of the land area of the parcel  \n",
       "56  The total property tax assessed for that asses...  \n",
       "57  Property taxes for this parcel are past due as...  \n",
       "58  Year for which the unpaid propert taxes were due   \n",
       "59   Census tract and block ID combined - also con...  "
      ]
     },
     "execution_count": 64,
     "metadata": {},
     "output_type": "execute_result"
    }
   ],
   "source": [
    "##filter for features we kept\n",
    "df4[df4.Feature.isin(train_set.columns)]"
   ]
  },
  {
   "cell_type": "code",
   "execution_count": 65,
   "metadata": {},
   "outputs": [],
   "source": [
    "## transformate some categorical features with one hot encoding.\n",
    "## create a list of vars for one hot encoding\n",
    "one_hot =['decktypeid', 'fips', 'hashottuborspa', 'poolcnt', 'pooltypeid10',\n",
    "          'pooltypeid2', 'pooltypeid7','regionidcounty', 'taxdelinquencyflag']\n",
    "## used these variables for one hot encoding because these are categorical vars with limited categories.\n",
    "## some categorigol vars has too many values which will make the model too complex. for example, regionidzip has almost \n",
    "## 400 values. I think it should be engineered furthur before use.\n",
    "\n"
   ]
  },
  {
   "cell_type": "code",
   "execution_count": 66,
   "metadata": {},
   "outputs": [],
   "source": [
    "list2 = []\n",
    "for i in one_hot:\n",
    "    temp = pd.get_dummies(train_set[i], prefix = i, drop_first = True)\n",
    "    list2.extend(temp.columns.tolist())\n",
    "    train_set = pd.concat([train_set, temp], axis =1)\n",
    "    del train_set[i]\n",
    "    temp = pd.get_dummies(val_set[i], prefix = i, drop_first = True)\n",
    "    val_set = pd.concat([val_set, temp], axis =1)\n",
    "    del val_set[i]"
   ]
  },
  {
   "cell_type": "code",
   "execution_count": null,
   "metadata": {},
   "outputs": [],
   "source": []
  },
  {
   "cell_type": "code",
   "execution_count": 67,
   "metadata": {},
   "outputs": [],
   "source": [
    "## then, I think we can incorporate the variables with \"cnt\" in it and then normalize it\n",
    "## these are numerical values which are easier to normalize\n",
    "list1 = train_set.columns[train_set.columns.str.contains('cnt')].tolist()"
   ]
  },
  {
   "cell_type": "code",
   "execution_count": 68,
   "metadata": {},
   "outputs": [],
   "source": [
    "## also include some of the variables which were used in lab2 and some other variables I think are suitable to include\n",
    "list1 = list1 + ['taxamount', 'lotsizesquarefeet', 'calculatedbathnbr', 'calculatedfinishedsquarefeet', 'finishedsquarefeet12']\n",
    "## I choose these vars because these vars have smaller proportion of missing values."
   ]
  },
  {
   "cell_type": "code",
   "execution_count": 69,
   "metadata": {},
   "outputs": [],
   "source": [
    "list1.remove('poolcnt_1.0')\n",
    "## remove this one because this has been one hot encoded, no need for normalization"
   ]
  },
  {
   "cell_type": "code",
   "execution_count": 70,
   "metadata": {},
   "outputs": [],
   "source": [
    "## normalization\n",
    "temp = train_set[list1]\n",
    "train_set[list1] = (temp - temp.mean()) / temp.std()\n",
    "val_set[list1] = (val_set[list1] - temp.mean()) / temp.std()"
   ]
  },
  {
   "cell_type": "code",
   "execution_count": 71,
   "metadata": {},
   "outputs": [],
   "source": [
    "## create a subset of train_set as train_set_1 for the variables I would like to use for lasso regression\n",
    "train_set_1 = pd.DataFrame()\n",
    "val_set_1 = pd.DataFrame()"
   ]
  },
  {
   "cell_type": "code",
   "execution_count": 72,
   "metadata": {},
   "outputs": [
    {
     "data": {
      "text/plain": [
       "['bathroomcnt',\n",
       " 'bedroomcnt',\n",
       " 'fireplacecnt',\n",
       " 'fullbathcnt',\n",
       " 'garagecarcnt',\n",
       " 'roomcnt',\n",
       " 'unitcnt',\n",
       " 'structuretaxvaluedollarcnt',\n",
       " 'taxvaluedollarcnt',\n",
       " 'landtaxvaluedollarcnt',\n",
       " 'taxamount',\n",
       " 'lotsizesquarefeet',\n",
       " 'calculatedbathnbr',\n",
       " 'calculatedfinishedsquarefeet',\n",
       " 'finishedsquarefeet12']"
      ]
     },
     "execution_count": 72,
     "metadata": {},
     "output_type": "execute_result"
    }
   ],
   "source": [
    "list1"
   ]
  },
  {
   "cell_type": "code",
   "execution_count": 73,
   "metadata": {},
   "outputs": [],
   "source": [
    "## add these vars in list1 to the train_set_1 and val_set_1\n",
    "list1 = list1 + list2\n",
    "train_set_1 = train_set[list1]\n",
    "val_set_1 = val_set[list1]"
   ]
  },
  {
   "cell_type": "code",
   "execution_count": 74,
   "metadata": {},
   "outputs": [
    {
     "data": {
      "text/html": [
       "<div>\n",
       "<style scoped>\n",
       "    .dataframe tbody tr th:only-of-type {\n",
       "        vertical-align: middle;\n",
       "    }\n",
       "\n",
       "    .dataframe tbody tr th {\n",
       "        vertical-align: top;\n",
       "    }\n",
       "\n",
       "    .dataframe thead th {\n",
       "        text-align: right;\n",
       "    }\n",
       "</style>\n",
       "<table border=\"1\" class=\"dataframe\">\n",
       "  <thead>\n",
       "    <tr style=\"text-align: right;\">\n",
       "      <th></th>\n",
       "      <th>bathroomcnt</th>\n",
       "      <th>bedroomcnt</th>\n",
       "      <th>fireplacecnt</th>\n",
       "      <th>fullbathcnt</th>\n",
       "      <th>garagecarcnt</th>\n",
       "      <th>roomcnt</th>\n",
       "      <th>unitcnt</th>\n",
       "      <th>structuretaxvaluedollarcnt</th>\n",
       "      <th>taxvaluedollarcnt</th>\n",
       "      <th>landtaxvaluedollarcnt</th>\n",
       "      <th>...</th>\n",
       "      <th>fips_missing</th>\n",
       "      <th>hashottuborspa_True</th>\n",
       "      <th>poolcnt_1.0</th>\n",
       "      <th>pooltypeid10_1.0</th>\n",
       "      <th>pooltypeid2_1.0</th>\n",
       "      <th>pooltypeid7_1.0</th>\n",
       "      <th>regionidcounty_2061.0</th>\n",
       "      <th>regionidcounty_3101.0</th>\n",
       "      <th>regionidcounty_missing</th>\n",
       "      <th>taxdelinquencyflag_Y</th>\n",
       "    </tr>\n",
       "  </thead>\n",
       "  <tbody>\n",
       "    <tr>\n",
       "      <th>36290</th>\n",
       "      <td>0.20718</td>\n",
       "      <td>-0.04218</td>\n",
       "      <td>-0.31770</td>\n",
       "      <td>-0.25378</td>\n",
       "      <td>0.17067</td>\n",
       "      <td>-0.52291</td>\n",
       "      <td>-0.59482</td>\n",
       "      <td>0.21666</td>\n",
       "      <td>0.35921</td>\n",
       "      <td>0.37124</td>\n",
       "      <td>...</td>\n",
       "      <td>0</td>\n",
       "      <td>0</td>\n",
       "      <td>0</td>\n",
       "      <td>0</td>\n",
       "      <td>0</td>\n",
       "      <td>0</td>\n",
       "      <td>0</td>\n",
       "      <td>0</td>\n",
       "      <td>0</td>\n",
       "      <td>0</td>\n",
       "    </tr>\n",
       "    <tr>\n",
       "      <th>13121</th>\n",
       "      <td>0.20718</td>\n",
       "      <td>-0.04218</td>\n",
       "      <td>2.18346</td>\n",
       "      <td>-0.25378</td>\n",
       "      <td>0.17067</td>\n",
       "      <td>1.95863</td>\n",
       "      <td>-0.59482</td>\n",
       "      <td>0.30282</td>\n",
       "      <td>-0.09358</td>\n",
       "      <td>-0.25511</td>\n",
       "      <td>...</td>\n",
       "      <td>0</td>\n",
       "      <td>0</td>\n",
       "      <td>0</td>\n",
       "      <td>0</td>\n",
       "      <td>0</td>\n",
       "      <td>0</td>\n",
       "      <td>1</td>\n",
       "      <td>0</td>\n",
       "      <td>0</td>\n",
       "      <td>0</td>\n",
       "    </tr>\n",
       "    <tr>\n",
       "      <th>7852</th>\n",
       "      <td>-0.29612</td>\n",
       "      <td>-0.92084</td>\n",
       "      <td>-0.31770</td>\n",
       "      <td>-0.25378</td>\n",
       "      <td>0.17067</td>\n",
       "      <td>-0.52291</td>\n",
       "      <td>0.22097</td>\n",
       "      <td>0.20101</td>\n",
       "      <td>1.01757</td>\n",
       "      <td>1.23379</td>\n",
       "      <td>...</td>\n",
       "      <td>0</td>\n",
       "      <td>0</td>\n",
       "      <td>1</td>\n",
       "      <td>0</td>\n",
       "      <td>0</td>\n",
       "      <td>1</td>\n",
       "      <td>0</td>\n",
       "      <td>1</td>\n",
       "      <td>0</td>\n",
       "      <td>0</td>\n",
       "    </tr>\n",
       "    <tr>\n",
       "      <th>47914</th>\n",
       "      <td>0.20718</td>\n",
       "      <td>-0.04218</td>\n",
       "      <td>2.18346</td>\n",
       "      <td>-0.25378</td>\n",
       "      <td>0.17067</td>\n",
       "      <td>1.95863</td>\n",
       "      <td>-0.59482</td>\n",
       "      <td>-0.21406</td>\n",
       "      <td>-0.13621</td>\n",
       "      <td>-0.08332</td>\n",
       "      <td>...</td>\n",
       "      <td>0</td>\n",
       "      <td>0</td>\n",
       "      <td>0</td>\n",
       "      <td>0</td>\n",
       "      <td>0</td>\n",
       "      <td>0</td>\n",
       "      <td>1</td>\n",
       "      <td>0</td>\n",
       "      <td>0</td>\n",
       "      <td>0</td>\n",
       "    </tr>\n",
       "    <tr>\n",
       "      <th>50735</th>\n",
       "      <td>4.73683</td>\n",
       "      <td>4.35113</td>\n",
       "      <td>-0.31770</td>\n",
       "      <td>4.95653</td>\n",
       "      <td>0.17067</td>\n",
       "      <td>-0.52291</td>\n",
       "      <td>2.66836</td>\n",
       "      <td>-0.24999</td>\n",
       "      <td>-0.45111</td>\n",
       "      <td>-0.47679</td>\n",
       "      <td>...</td>\n",
       "      <td>0</td>\n",
       "      <td>0</td>\n",
       "      <td>0</td>\n",
       "      <td>0</td>\n",
       "      <td>0</td>\n",
       "      <td>0</td>\n",
       "      <td>0</td>\n",
       "      <td>1</td>\n",
       "      <td>0</td>\n",
       "      <td>0</td>\n",
       "    </tr>\n",
       "    <tr>\n",
       "      <th>...</th>\n",
       "      <td>...</td>\n",
       "      <td>...</td>\n",
       "      <td>...</td>\n",
       "      <td>...</td>\n",
       "      <td>...</td>\n",
       "      <td>...</td>\n",
       "      <td>...</td>\n",
       "      <td>...</td>\n",
       "      <td>...</td>\n",
       "      <td>...</td>\n",
       "      <td>...</td>\n",
       "      <td>...</td>\n",
       "      <td>...</td>\n",
       "      <td>...</td>\n",
       "      <td>...</td>\n",
       "      <td>...</td>\n",
       "      <td>...</td>\n",
       "      <td>...</td>\n",
       "      <td>...</td>\n",
       "      <td>...</td>\n",
       "      <td>...</td>\n",
       "    </tr>\n",
       "    <tr>\n",
       "      <th>71552</th>\n",
       "      <td>-0.29612</td>\n",
       "      <td>-0.92084</td>\n",
       "      <td>-0.31770</td>\n",
       "      <td>-0.25378</td>\n",
       "      <td>0.17067</td>\n",
       "      <td>-0.52291</td>\n",
       "      <td>0.22097</td>\n",
       "      <td>-0.39184</td>\n",
       "      <td>-0.30177</td>\n",
       "      <td>-0.22035</td>\n",
       "      <td>...</td>\n",
       "      <td>0</td>\n",
       "      <td>0</td>\n",
       "      <td>0</td>\n",
       "      <td>0</td>\n",
       "      <td>0</td>\n",
       "      <td>0</td>\n",
       "      <td>0</td>\n",
       "      <td>1</td>\n",
       "      <td>0</td>\n",
       "      <td>0</td>\n",
       "    </tr>\n",
       "    <tr>\n",
       "      <th>75939</th>\n",
       "      <td>-0.29612</td>\n",
       "      <td>-0.92084</td>\n",
       "      <td>2.18346</td>\n",
       "      <td>-0.25378</td>\n",
       "      <td>0.17067</td>\n",
       "      <td>1.60413</td>\n",
       "      <td>-0.59482</td>\n",
       "      <td>-0.26527</td>\n",
       "      <td>-0.03472</td>\n",
       "      <td>0.07110</td>\n",
       "      <td>...</td>\n",
       "      <td>0</td>\n",
       "      <td>0</td>\n",
       "      <td>0</td>\n",
       "      <td>0</td>\n",
       "      <td>0</td>\n",
       "      <td>0</td>\n",
       "      <td>0</td>\n",
       "      <td>0</td>\n",
       "      <td>0</td>\n",
       "      <td>0</td>\n",
       "    </tr>\n",
       "    <tr>\n",
       "      <th>64338</th>\n",
       "      <td>-0.29612</td>\n",
       "      <td>-0.04218</td>\n",
       "      <td>-0.31770</td>\n",
       "      <td>-0.25378</td>\n",
       "      <td>0.17067</td>\n",
       "      <td>-0.52291</td>\n",
       "      <td>0.22097</td>\n",
       "      <td>-0.09013</td>\n",
       "      <td>0.05053</td>\n",
       "      <td>0.10491</td>\n",
       "      <td>...</td>\n",
       "      <td>0</td>\n",
       "      <td>0</td>\n",
       "      <td>0</td>\n",
       "      <td>0</td>\n",
       "      <td>0</td>\n",
       "      <td>0</td>\n",
       "      <td>0</td>\n",
       "      <td>1</td>\n",
       "      <td>0</td>\n",
       "      <td>0</td>\n",
       "    </tr>\n",
       "    <tr>\n",
       "      <th>57850</th>\n",
       "      <td>-0.29612</td>\n",
       "      <td>-0.92084</td>\n",
       "      <td>-0.31770</td>\n",
       "      <td>-0.25378</td>\n",
       "      <td>0.17067</td>\n",
       "      <td>-0.52291</td>\n",
       "      <td>-0.59482</td>\n",
       "      <td>0.94459</td>\n",
       "      <td>0.36713</td>\n",
       "      <td>0.06158</td>\n",
       "      <td>...</td>\n",
       "      <td>0</td>\n",
       "      <td>0</td>\n",
       "      <td>0</td>\n",
       "      <td>0</td>\n",
       "      <td>0</td>\n",
       "      <td>0</td>\n",
       "      <td>0</td>\n",
       "      <td>0</td>\n",
       "      <td>0</td>\n",
       "      <td>0</td>\n",
       "    </tr>\n",
       "    <tr>\n",
       "      <th>17193</th>\n",
       "      <td>0.20718</td>\n",
       "      <td>-0.04218</td>\n",
       "      <td>-0.31770</td>\n",
       "      <td>-0.25378</td>\n",
       "      <td>-2.69908</td>\n",
       "      <td>-0.52291</td>\n",
       "      <td>-0.59482</td>\n",
       "      <td>-0.06993</td>\n",
       "      <td>0.06904</td>\n",
       "      <td>0.12009</td>\n",
       "      <td>...</td>\n",
       "      <td>0</td>\n",
       "      <td>0</td>\n",
       "      <td>0</td>\n",
       "      <td>0</td>\n",
       "      <td>0</td>\n",
       "      <td>0</td>\n",
       "      <td>0</td>\n",
       "      <td>0</td>\n",
       "      <td>0</td>\n",
       "      <td>0</td>\n",
       "    </tr>\n",
       "  </tbody>\n",
       "</table>\n",
       "<p>54329 rows × 28 columns</p>\n",
       "</div>"
      ],
      "text/plain": [
       "       bathroomcnt  bedroomcnt  fireplacecnt  fullbathcnt  garagecarcnt  \\\n",
       "36290      0.20718    -0.04218      -0.31770     -0.25378       0.17067   \n",
       "13121      0.20718    -0.04218       2.18346     -0.25378       0.17067   \n",
       "7852      -0.29612    -0.92084      -0.31770     -0.25378       0.17067   \n",
       "47914      0.20718    -0.04218       2.18346     -0.25378       0.17067   \n",
       "50735      4.73683     4.35113      -0.31770      4.95653       0.17067   \n",
       "...            ...         ...           ...          ...           ...   \n",
       "71552     -0.29612    -0.92084      -0.31770     -0.25378       0.17067   \n",
       "75939     -0.29612    -0.92084       2.18346     -0.25378       0.17067   \n",
       "64338     -0.29612    -0.04218      -0.31770     -0.25378       0.17067   \n",
       "57850     -0.29612    -0.92084      -0.31770     -0.25378       0.17067   \n",
       "17193      0.20718    -0.04218      -0.31770     -0.25378      -2.69908   \n",
       "\n",
       "       roomcnt  unitcnt  structuretaxvaluedollarcnt  taxvaluedollarcnt  \\\n",
       "36290 -0.52291 -0.59482                     0.21666            0.35921   \n",
       "13121  1.95863 -0.59482                     0.30282           -0.09358   \n",
       "7852  -0.52291  0.22097                     0.20101            1.01757   \n",
       "47914  1.95863 -0.59482                    -0.21406           -0.13621   \n",
       "50735 -0.52291  2.66836                    -0.24999           -0.45111   \n",
       "...        ...      ...                         ...                ...   \n",
       "71552 -0.52291  0.22097                    -0.39184           -0.30177   \n",
       "75939  1.60413 -0.59482                    -0.26527           -0.03472   \n",
       "64338 -0.52291  0.22097                    -0.09013            0.05053   \n",
       "57850 -0.52291 -0.59482                     0.94459            0.36713   \n",
       "17193 -0.52291 -0.59482                    -0.06993            0.06904   \n",
       "\n",
       "       landtaxvaluedollarcnt  ...  fips_missing  hashottuborspa_True  \\\n",
       "36290                0.37124  ...             0                    0   \n",
       "13121               -0.25511  ...             0                    0   \n",
       "7852                 1.23379  ...             0                    0   \n",
       "47914               -0.08332  ...             0                    0   \n",
       "50735               -0.47679  ...             0                    0   \n",
       "...                      ...  ...           ...                  ...   \n",
       "71552               -0.22035  ...             0                    0   \n",
       "75939                0.07110  ...             0                    0   \n",
       "64338                0.10491  ...             0                    0   \n",
       "57850                0.06158  ...             0                    0   \n",
       "17193                0.12009  ...             0                    0   \n",
       "\n",
       "       poolcnt_1.0  pooltypeid10_1.0  pooltypeid2_1.0  pooltypeid7_1.0  \\\n",
       "36290            0                 0                0                0   \n",
       "13121            0                 0                0                0   \n",
       "7852             1                 0                0                1   \n",
       "47914            0                 0                0                0   \n",
       "50735            0                 0                0                0   \n",
       "...            ...               ...              ...              ...   \n",
       "71552            0                 0                0                0   \n",
       "75939            0                 0                0                0   \n",
       "64338            0                 0                0                0   \n",
       "57850            0                 0                0                0   \n",
       "17193            0                 0                0                0   \n",
       "\n",
       "       regionidcounty_2061.0  regionidcounty_3101.0  regionidcounty_missing  \\\n",
       "36290                      0                      0                       0   \n",
       "13121                      1                      0                       0   \n",
       "7852                       0                      1                       0   \n",
       "47914                      1                      0                       0   \n",
       "50735                      0                      1                       0   \n",
       "...                      ...                    ...                     ...   \n",
       "71552                      0                      1                       0   \n",
       "75939                      0                      0                       0   \n",
       "64338                      0                      1                       0   \n",
       "57850                      0                      0                       0   \n",
       "17193                      0                      0                       0   \n",
       "\n",
       "       taxdelinquencyflag_Y  \n",
       "36290                     0  \n",
       "13121                     0  \n",
       "7852                      0  \n",
       "47914                     0  \n",
       "50735                     0  \n",
       "...                     ...  \n",
       "71552                     0  \n",
       "75939                     0  \n",
       "64338                     0  \n",
       "57850                     0  \n",
       "17193                     0  \n",
       "\n",
       "[54329 rows x 28 columns]"
      ]
     },
     "execution_count": 74,
     "metadata": {},
     "output_type": "execute_result"
    }
   ],
   "source": [
    "train_set_1"
   ]
  },
  {
   "cell_type": "code",
   "execution_count": null,
   "metadata": {},
   "outputs": [],
   "source": []
  },
  {
   "cell_type": "code",
   "execution_count": 75,
   "metadata": {},
   "outputs": [
    {
     "name": "stdout",
     "output_type": "stream",
     "text": [
      "['bathroomcnt', 'bedroomcnt', 'fireplacecnt', 'fullbathcnt', 'garagecarcnt', 'roomcnt', 'unitcnt', 'structuretaxvaluedollarcnt', 'taxvaluedollarcnt', 'landtaxvaluedollarcnt', 'taxamount', 'lotsizesquarefeet', 'calculatedbathnbr', 'calculatedfinishedsquarefeet', 'finishedsquarefeet12', 'decktypeid_66.0', 'fips_6059.0', 'fips_6111.0', 'fips_missing', 'hashottuborspa_True', 'poolcnt_1.0', 'pooltypeid10_1.0', 'pooltypeid2_1.0', 'pooltypeid7_1.0', 'regionidcounty_2061.0', 'regionidcounty_3101.0', 'regionidcounty_missing', 'taxdelinquencyflag_Y']\n"
     ]
    }
   ],
   "source": [
    "## list1 contains the initial set of variables for lasso regression\n",
    "## It is because these variable easier to use. Other variable like longitude or regionzipid needs furthure engineering.\n",
    "print(list1)"
   ]
  },
  {
   "cell_type": "markdown",
   "metadata": {},
   "source": [
    "## b. tuning for the optimal parameters is often needed in training machine learning models. One way to do this is to perform k-fold cross validation on the dataset. Use k = 5 and perform cross validation on the training set to tune for the optimal value for the regularization parameter. Report this value and show the code you write to obtain this value."
   ]
  },
  {
   "cell_type": "code",
   "execution_count": 76,
   "metadata": {},
   "outputs": [],
   "source": [
    "from sklearn.linear_model import LassoCV, RidgeCV\n",
    "from sklearn import metrics"
   ]
  },
  {
   "cell_type": "code",
   "execution_count": 77,
   "metadata": {},
   "outputs": [],
   "source": [
    "##split the label, logerror\n",
    "y_train = train_set['logerror']\n",
    "del train_set['logerror']\n",
    "\n",
    "y_val = val_set['logerror']\n",
    "\n",
    "del val_set['logerror']"
   ]
  },
  {
   "cell_type": "code",
   "execution_count": 78,
   "metadata": {},
   "outputs": [],
   "source": [
    "## create a list for alpha values\n",
    "alpha_1 = list(range(1,50))+(list(np.arange(0.1,1,0.1)))\n"
   ]
  },
  {
   "cell_type": "code",
   "execution_count": 79,
   "metadata": {},
   "outputs": [
    {
     "name": "stdout",
     "output_type": "stream",
     "text": [
      "[1, 2, 3, 4, 5, 6, 7, 8, 9, 10, 11, 12, 13, 14, 15, 16, 17, 18, 19, 20, 21, 22, 23, 24, 25, 26, 27, 28, 29, 30, 31, 32, 33, 34, 35, 36, 37, 38, 39, 40, 41, 42, 43, 44, 45, 46, 47, 48, 49, 0.1, 0.2, 0.30000000000000004, 0.4, 0.5, 0.6, 0.7000000000000001, 0.8, 0.9]\n"
     ]
    }
   ],
   "source": [
    "print(alpha_1)"
   ]
  },
  {
   "cell_type": "code",
   "execution_count": 80,
   "metadata": {},
   "outputs": [],
   "source": [
    "## 5 fold validation for lasso model\n",
    "lasso1 = LassoCV(cv = 5, alphas = alpha_1, random_state = 9660).fit(train_set_1, y_train)"
   ]
  },
  {
   "cell_type": "code",
   "execution_count": 81,
   "metadata": {},
   "outputs": [
    {
     "data": {
      "text/plain": [
       "49.0"
      ]
     },
     "execution_count": 81,
     "metadata": {},
     "output_type": "execute_result"
    }
   ],
   "source": [
    "## get the best alpha for this model\n",
    "lasso1.alpha_"
   ]
  },
  {
   "cell_type": "code",
   "execution_count": 82,
   "metadata": {},
   "outputs": [
    {
     "data": {
      "text/plain": [
       "array([ 0.,  0.,  0.,  0.,  0.,  0., -0.,  0.,  0.,  0.,  0.,  0.,  0.,\n",
       "        0.,  0.,  0.,  0., -0., -0., -0., -0.,  0., -0., -0., -0., -0.,\n",
       "       -0.,  0.])"
      ]
     },
     "execution_count": 82,
     "metadata": {},
     "output_type": "execute_result"
    }
   ],
   "source": [
    "lasso1.coef_"
   ]
  },
  {
   "cell_type": "code",
   "execution_count": 83,
   "metadata": {},
   "outputs": [
    {
     "name": "stderr",
     "output_type": "stream",
     "text": [
      "C:\\ProgramData\\Anaconda3\\lib\\site-packages\\sklearn\\linear_model\\_coordinate_descent.py:525: ConvergenceWarning: Objective did not converge. You might want to increase the number of iterations. Duality gap: 1.0670613232280175, tolerance: 0.12302325038303484\n",
      "  model = cd_fast.enet_coordinate_descent_gram(\n",
      "C:\\ProgramData\\Anaconda3\\lib\\site-packages\\sklearn\\linear_model\\_coordinate_descent.py:525: ConvergenceWarning: Objective did not converge. You might want to increase the number of iterations. Duality gap: 3.261297004532935, tolerance: 0.12302325038303484\n",
      "  model = cd_fast.enet_coordinate_descent_gram(\n",
      "C:\\ProgramData\\Anaconda3\\lib\\site-packages\\sklearn\\linear_model\\_coordinate_descent.py:525: ConvergenceWarning: Objective did not converge. You might want to increase the number of iterations. Duality gap: 6.407921811366123, tolerance: 0.12302325038303484\n",
      "  model = cd_fast.enet_coordinate_descent_gram(\n",
      "C:\\ProgramData\\Anaconda3\\lib\\site-packages\\sklearn\\linear_model\\_coordinate_descent.py:525: ConvergenceWarning: Objective did not converge. You might want to increase the number of iterations. Duality gap: 10.318325793718714, tolerance: 0.12302325038303484\n",
      "  model = cd_fast.enet_coordinate_descent_gram(\n",
      "C:\\ProgramData\\Anaconda3\\lib\\site-packages\\sklearn\\linear_model\\_coordinate_descent.py:525: ConvergenceWarning: Objective did not converge. You might want to increase the number of iterations. Duality gap: 0.45386294869490484, tolerance: 0.12302325038303484\n",
      "  model = cd_fast.enet_coordinate_descent_gram(\n",
      "C:\\ProgramData\\Anaconda3\\lib\\site-packages\\sklearn\\linear_model\\_coordinate_descent.py:525: ConvergenceWarning: Objective did not converge. You might want to increase the number of iterations. Duality gap: 0.21471205032185026, tolerance: 0.12302325038303484\n",
      "  model = cd_fast.enet_coordinate_descent_gram(\n",
      "C:\\ProgramData\\Anaconda3\\lib\\site-packages\\sklearn\\linear_model\\_coordinate_descent.py:525: ConvergenceWarning: Objective did not converge. You might want to increase the number of iterations. Duality gap: 0.6064404613534862, tolerance: 0.12381020180917454\n",
      "  model = cd_fast.enet_coordinate_descent_gram(\n",
      "C:\\ProgramData\\Anaconda3\\lib\\site-packages\\sklearn\\linear_model\\_coordinate_descent.py:525: ConvergenceWarning: Objective did not converge. You might want to increase the number of iterations. Duality gap: 2.449055464694311, tolerance: 0.12381020180917454\n",
      "  model = cd_fast.enet_coordinate_descent_gram(\n",
      "C:\\ProgramData\\Anaconda3\\lib\\site-packages\\sklearn\\linear_model\\_coordinate_descent.py:525: ConvergenceWarning: Objective did not converge. You might want to increase the number of iterations. Duality gap: 5.2895399034528054, tolerance: 0.12381020180917454\n",
      "  model = cd_fast.enet_coordinate_descent_gram(\n",
      "C:\\ProgramData\\Anaconda3\\lib\\site-packages\\sklearn\\linear_model\\_coordinate_descent.py:525: ConvergenceWarning: Objective did not converge. You might want to increase the number of iterations. Duality gap: 8.930887439083108, tolerance: 0.12381020180917454\n",
      "  model = cd_fast.enet_coordinate_descent_gram(\n",
      "C:\\ProgramData\\Anaconda3\\lib\\site-packages\\sklearn\\linear_model\\_coordinate_descent.py:525: ConvergenceWarning: Objective did not converge. You might want to increase the number of iterations. Duality gap: 13.212363383742968, tolerance: 0.12381020180917454\n",
      "  model = cd_fast.enet_coordinate_descent_gram(\n",
      "C:\\ProgramData\\Anaconda3\\lib\\site-packages\\sklearn\\linear_model\\_coordinate_descent.py:525: ConvergenceWarning: Objective did not converge. You might want to increase the number of iterations. Duality gap: 18.00236934892098, tolerance: 0.12381020180917454\n",
      "  model = cd_fast.enet_coordinate_descent_gram(\n",
      "C:\\ProgramData\\Anaconda3\\lib\\site-packages\\sklearn\\linear_model\\_coordinate_descent.py:525: ConvergenceWarning: Objective did not converge. You might want to increase the number of iterations. Duality gap: 1.4952102958163778, tolerance: 0.12548454138194906\n",
      "  model = cd_fast.enet_coordinate_descent_gram(\n",
      "C:\\ProgramData\\Anaconda3\\lib\\site-packages\\sklearn\\linear_model\\_coordinate_descent.py:525: ConvergenceWarning: Objective did not converge. You might want to increase the number of iterations. Duality gap: 3.8082465081201917, tolerance: 0.12548454138194906\n",
      "  model = cd_fast.enet_coordinate_descent_gram(\n",
      "C:\\ProgramData\\Anaconda3\\lib\\site-packages\\sklearn\\linear_model\\_coordinate_descent.py:525: ConvergenceWarning: Objective did not converge. You might want to increase the number of iterations. Duality gap: 0.2508177780625829, tolerance: 0.12548454138194906\n",
      "  model = cd_fast.enet_coordinate_descent_gram(\n",
      "C:\\ProgramData\\Anaconda3\\lib\\site-packages\\sklearn\\linear_model\\_coordinate_descent.py:525: ConvergenceWarning: Objective did not converge. You might want to increase the number of iterations. Duality gap: 0.3378978239963999, tolerance: 0.12548454138194906\n",
      "  model = cd_fast.enet_coordinate_descent_gram(\n",
      "C:\\ProgramData\\Anaconda3\\lib\\site-packages\\sklearn\\linear_model\\_coordinate_descent.py:525: ConvergenceWarning: Objective did not converge. You might want to increase the number of iterations. Duality gap: 4.300047372857989, tolerance: 0.12548454138194906\n",
      "  model = cd_fast.enet_coordinate_descent_gram(\n",
      "C:\\ProgramData\\Anaconda3\\lib\\site-packages\\sklearn\\linear_model\\_coordinate_descent.py:525: ConvergenceWarning: Objective did not converge. You might want to increase the number of iterations. Duality gap: 0.800315647939442, tolerance: 0.12697998678239064\n",
      "  model = cd_fast.enet_coordinate_descent_gram(\n",
      "C:\\ProgramData\\Anaconda3\\lib\\site-packages\\sklearn\\linear_model\\_coordinate_descent.py:525: ConvergenceWarning: Objective did not converge. You might want to increase the number of iterations. Duality gap: 2.8848233482592605, tolerance: 0.12697998678239064\n",
      "  model = cd_fast.enet_coordinate_descent_gram(\n",
      "C:\\ProgramData\\Anaconda3\\lib\\site-packages\\sklearn\\linear_model\\_coordinate_descent.py:525: ConvergenceWarning: Objective did not converge. You might want to increase the number of iterations. Duality gap: 6.021156600919767, tolerance: 0.12697998678239064\n",
      "  model = cd_fast.enet_coordinate_descent_gram(\n",
      "C:\\ProgramData\\Anaconda3\\lib\\site-packages\\sklearn\\linear_model\\_coordinate_descent.py:525: ConvergenceWarning: Objective did not converge. You might want to increase the number of iterations. Duality gap: 10.01727601701964, tolerance: 0.12697998678239064\n",
      "  model = cd_fast.enet_coordinate_descent_gram(\n",
      "C:\\ProgramData\\Anaconda3\\lib\\site-packages\\sklearn\\linear_model\\_coordinate_descent.py:525: ConvergenceWarning: Objective did not converge. You might want to increase the number of iterations. Duality gap: 0.12793272315047943, tolerance: 0.12697998678239064\n",
      "  model = cd_fast.enet_coordinate_descent_gram(\n",
      "C:\\ProgramData\\Anaconda3\\lib\\site-packages\\sklearn\\linear_model\\_coordinate_descent.py:525: ConvergenceWarning: Objective did not converge. You might want to increase the number of iterations. Duality gap: 0.66313671903049, tolerance: 0.12613999250644825\n",
      "  model = cd_fast.enet_coordinate_descent_gram(\n",
      "C:\\ProgramData\\Anaconda3\\lib\\site-packages\\sklearn\\linear_model\\_coordinate_descent.py:525: ConvergenceWarning: Objective did not converge. You might want to increase the number of iterations. Duality gap: 2.5008373078865134, tolerance: 0.12613999250644825\n",
      "  model = cd_fast.enet_coordinate_descent_gram(\n",
      "C:\\ProgramData\\Anaconda3\\lib\\site-packages\\sklearn\\linear_model\\_coordinate_descent.py:525: ConvergenceWarning: Objective did not converge. You might want to increase the number of iterations. Duality gap: 5.301086778465333, tolerance: 0.12613999250644825\n",
      "  model = cd_fast.enet_coordinate_descent_gram(\n",
      "C:\\ProgramData\\Anaconda3\\lib\\site-packages\\sklearn\\linear_model\\_coordinate_descent.py:525: ConvergenceWarning: Objective did not converge. You might want to increase the number of iterations. Duality gap: 8.888627262059117, tolerance: 0.12613999250644825\n",
      "  model = cd_fast.enet_coordinate_descent_gram(\n",
      "C:\\ProgramData\\Anaconda3\\lib\\site-packages\\sklearn\\linear_model\\_coordinate_descent.py:525: ConvergenceWarning: Objective did not converge. You might want to increase the number of iterations. Duality gap: 13.118089342987105, tolerance: 0.12613999250644825\n",
      "  model = cd_fast.enet_coordinate_descent_gram(\n",
      "C:\\ProgramData\\Anaconda3\\lib\\site-packages\\sklearn\\linear_model\\_coordinate_descent.py:525: ConvergenceWarning: Objective did not converge. You might want to increase the number of iterations. Duality gap: 3.2016949098490386, tolerance: 0.12613999250644825\n",
      "  model = cd_fast.enet_coordinate_descent_gram(\n",
      "C:\\ProgramData\\Anaconda3\\lib\\site-packages\\sklearn\\linear_model\\_coordinate_descent.py:525: ConvergenceWarning: Objective did not converge. You might want to increase the number of iterations. Duality gap: 17.818176379913893, tolerance: 0.12613999250644825\n",
      "  model = cd_fast.enet_coordinate_descent_gram(\n",
      "C:\\ProgramData\\Anaconda3\\lib\\site-packages\\sklearn\\linear_model\\_coordinate_descent.py:525: ConvergenceWarning: Objective did not converge. You might want to increase the number of iterations. Duality gap: 38.39090360184764, tolerance: 0.12613999250644825\n",
      "  model = cd_fast.enet_coordinate_descent_gram(\n"
     ]
    }
   ],
   "source": [
    "## it seems higher alpha is better for this model, let losso try to find an initial alpha\n",
    "lasso2 = LassoCV(cv = 5, random_state=9660).fit(train_set_1, y_train)"
   ]
  },
  {
   "cell_type": "code",
   "execution_count": 84,
   "metadata": {},
   "outputs": [
    {
     "data": {
      "text/plain": [
       "7.953827556510052e-05"
      ]
     },
     "execution_count": 84,
     "metadata": {},
     "output_type": "execute_result"
    }
   ],
   "source": [
    "lasso2.alpha_"
   ]
  },
  {
   "cell_type": "code",
   "execution_count": 85,
   "metadata": {},
   "outputs": [
    {
     "data": {
      "text/plain": [
       "array([-0.00976288,  0.00165943, -0.00308442,  0.0038838 ,  0.00035779,\n",
       "        0.00129992, -0.0001114 , -0.00063122,  0.        ,  0.00936827,\n",
       "       -0.01534192,  0.00239152,  0.00464068,  0.        ,  0.01403636,\n",
       "       -0.        ,  0.00335954,  0.        , -0.        , -0.00890004,\n",
       "       -0.00832968, -0.        , -0.00307832,  0.        ,  0.        ,\n",
       "       -0.00200016, -0.        ,  0.01229338])"
      ]
     },
     "execution_count": 85,
     "metadata": {},
     "output_type": "execute_result"
    }
   ],
   "source": [
    "lasso2.coef_"
   ]
  },
  {
   "cell_type": "code",
   "execution_count": 86,
   "metadata": {},
   "outputs": [],
   "source": [
    "## It seems the parameter alpha needs to be very small. create a new list of alpha to see if it improves\n",
    "alpha_2 = list(np.arange(1e-6, 1e-5, 1e-6))+[lasso2.alpha_]"
   ]
  },
  {
   "cell_type": "code",
   "execution_count": 87,
   "metadata": {},
   "outputs": [
    {
     "name": "stderr",
     "output_type": "stream",
     "text": [
      "C:\\ProgramData\\Anaconda3\\lib\\site-packages\\sklearn\\linear_model\\_coordinate_descent.py:525: ConvergenceWarning: Objective did not converge. You might want to increase the number of iterations. Duality gap: 110.55072971593404, tolerance: 0.12302325038303484\n",
      "  model = cd_fast.enet_coordinate_descent_gram(\n",
      "C:\\ProgramData\\Anaconda3\\lib\\site-packages\\sklearn\\linear_model\\_coordinate_descent.py:525: ConvergenceWarning: Objective did not converge. You might want to increase the number of iterations. Duality gap: 0.8855486938259673, tolerance: 0.12302325038303484\n",
      "  model = cd_fast.enet_coordinate_descent_gram(\n",
      "C:\\ProgramData\\Anaconda3\\lib\\site-packages\\sklearn\\linear_model\\_coordinate_descent.py:525: ConvergenceWarning: Objective did not converge. You might want to increase the number of iterations. Duality gap: 0.29699432286201954, tolerance: 0.12302325038303484\n",
      "  model = cd_fast.enet_coordinate_descent_gram(\n",
      "C:\\ProgramData\\Anaconda3\\lib\\site-packages\\sklearn\\linear_model\\_coordinate_descent.py:525: ConvergenceWarning: Objective did not converge. You might want to increase the number of iterations. Duality gap: 44.875739034057574, tolerance: 0.12302325038303484\n",
      "  model = cd_fast.enet_coordinate_descent_gram(\n",
      "C:\\ProgramData\\Anaconda3\\lib\\site-packages\\sklearn\\linear_model\\_coordinate_descent.py:525: ConvergenceWarning: Objective did not converge. You might want to increase the number of iterations. Duality gap: 131.83521656920925, tolerance: 0.12302325038303484\n",
      "  model = cd_fast.enet_coordinate_descent_gram(\n",
      "C:\\ProgramData\\Anaconda3\\lib\\site-packages\\sklearn\\linear_model\\_coordinate_descent.py:525: ConvergenceWarning: Objective did not converge. You might want to increase the number of iterations. Duality gap: 237.85349946361674, tolerance: 0.12302325038303484\n",
      "  model = cd_fast.enet_coordinate_descent_gram(\n",
      "C:\\ProgramData\\Anaconda3\\lib\\site-packages\\sklearn\\linear_model\\_coordinate_descent.py:525: ConvergenceWarning: Objective did not converge. You might want to increase the number of iterations. Duality gap: 354.40713089342444, tolerance: 0.12302325038303484\n",
      "  model = cd_fast.enet_coordinate_descent_gram(\n",
      "C:\\ProgramData\\Anaconda3\\lib\\site-packages\\sklearn\\linear_model\\_coordinate_descent.py:525: ConvergenceWarning: Objective did not converge. You might want to increase the number of iterations. Duality gap: 479.0649110397917, tolerance: 0.12302325038303484\n",
      "  model = cd_fast.enet_coordinate_descent_gram(\n",
      "C:\\ProgramData\\Anaconda3\\lib\\site-packages\\sklearn\\linear_model\\_coordinate_descent.py:525: ConvergenceWarning: Objective did not converge. You might want to increase the number of iterations. Duality gap: 26.678782674896866, tolerance: 0.12381020180917454\n",
      "  model = cd_fast.enet_coordinate_descent_gram(\n",
      "C:\\ProgramData\\Anaconda3\\lib\\site-packages\\sklearn\\linear_model\\_coordinate_descent.py:525: ConvergenceWarning: Objective did not converge. You might want to increase the number of iterations. Duality gap: 38.89925887906338, tolerance: 0.12381020180917454\n",
      "  model = cd_fast.enet_coordinate_descent_gram(\n",
      "C:\\ProgramData\\Anaconda3\\lib\\site-packages\\sklearn\\linear_model\\_coordinate_descent.py:525: ConvergenceWarning: Objective did not converge. You might want to increase the number of iterations. Duality gap: 54.99354930736331, tolerance: 0.12381020180917454\n",
      "  model = cd_fast.enet_coordinate_descent_gram(\n",
      "C:\\ProgramData\\Anaconda3\\lib\\site-packages\\sklearn\\linear_model\\_coordinate_descent.py:525: ConvergenceWarning: Objective did not converge. You might want to increase the number of iterations. Duality gap: 34.77139342849955, tolerance: 0.12381020180917454\n",
      "  model = cd_fast.enet_coordinate_descent_gram(\n",
      "C:\\ProgramData\\Anaconda3\\lib\\site-packages\\sklearn\\linear_model\\_coordinate_descent.py:525: ConvergenceWarning: Objective did not converge. You might want to increase the number of iterations. Duality gap: 195.93185735529255, tolerance: 0.12381020180917454\n",
      "  model = cd_fast.enet_coordinate_descent_gram(\n",
      "C:\\ProgramData\\Anaconda3\\lib\\site-packages\\sklearn\\linear_model\\_coordinate_descent.py:525: ConvergenceWarning: Objective did not converge. You might want to increase the number of iterations. Duality gap: 398.8105384237208, tolerance: 0.12381020180917454\n",
      "  model = cd_fast.enet_coordinate_descent_gram(\n",
      "C:\\ProgramData\\Anaconda3\\lib\\site-packages\\sklearn\\linear_model\\_coordinate_descent.py:525: ConvergenceWarning: Objective did not converge. You might want to increase the number of iterations. Duality gap: 16.742241184861086, tolerance: 0.12548454138194906\n",
      "  model = cd_fast.enet_coordinate_descent_gram(\n",
      "C:\\ProgramData\\Anaconda3\\lib\\site-packages\\sklearn\\linear_model\\_coordinate_descent.py:525: ConvergenceWarning: Objective did not converge. You might want to increase the number of iterations. Duality gap: 67.3564112675715, tolerance: 0.12548454138194906\n",
      "  model = cd_fast.enet_coordinate_descent_gram(\n",
      "C:\\ProgramData\\Anaconda3\\lib\\site-packages\\sklearn\\linear_model\\_coordinate_descent.py:525: ConvergenceWarning: Objective did not converge. You might want to increase the number of iterations. Duality gap: 135.90234917261182, tolerance: 0.12548454138194906\n",
      "  model = cd_fast.enet_coordinate_descent_gram(\n",
      "C:\\ProgramData\\Anaconda3\\lib\\site-packages\\sklearn\\linear_model\\_coordinate_descent.py:525: ConvergenceWarning: Objective did not converge. You might want to increase the number of iterations. Duality gap: 215.4395950576221, tolerance: 0.12548454138194906\n",
      "  model = cd_fast.enet_coordinate_descent_gram(\n",
      "C:\\ProgramData\\Anaconda3\\lib\\site-packages\\sklearn\\linear_model\\_coordinate_descent.py:525: ConvergenceWarning: Objective did not converge. You might want to increase the number of iterations. Duality gap: 303.6133043800437, tolerance: 0.12548454138194906\n",
      "  model = cd_fast.enet_coordinate_descent_gram(\n",
      "C:\\ProgramData\\Anaconda3\\lib\\site-packages\\sklearn\\linear_model\\_coordinate_descent.py:525: ConvergenceWarning: Objective did not converge. You might want to increase the number of iterations. Duality gap: 400.2313739608445, tolerance: 0.12548454138194906\n",
      "  model = cd_fast.enet_coordinate_descent_gram(\n",
      "C:\\ProgramData\\Anaconda3\\lib\\site-packages\\sklearn\\linear_model\\_coordinate_descent.py:525: ConvergenceWarning: Objective did not converge. You might want to increase the number of iterations. Duality gap: 506.45348165679997, tolerance: 0.12548454138194906\n",
      "  model = cd_fast.enet_coordinate_descent_gram(\n",
      "C:\\ProgramData\\Anaconda3\\lib\\site-packages\\sklearn\\linear_model\\_coordinate_descent.py:525: ConvergenceWarning: Objective did not converge. You might want to increase the number of iterations. Duality gap: 147.96328262431098, tolerance: 0.12697998678239064\n",
      "  model = cd_fast.enet_coordinate_descent_gram(\n",
      "C:\\ProgramData\\Anaconda3\\lib\\site-packages\\sklearn\\linear_model\\_coordinate_descent.py:525: ConvergenceWarning: Objective did not converge. You might want to increase the number of iterations. Duality gap: 32.15373193078051, tolerance: 0.12697998678239064\n",
      "  model = cd_fast.enet_coordinate_descent_gram(\n",
      "C:\\ProgramData\\Anaconda3\\lib\\site-packages\\sklearn\\linear_model\\_coordinate_descent.py:525: ConvergenceWarning: Objective did not converge. You might want to increase the number of iterations. Duality gap: 102.50238399665568, tolerance: 0.12697998678239064\n",
      "  model = cd_fast.enet_coordinate_descent_gram(\n",
      "C:\\ProgramData\\Anaconda3\\lib\\site-packages\\sklearn\\linear_model\\_coordinate_descent.py:525: ConvergenceWarning: Objective did not converge. You might want to increase the number of iterations. Duality gap: 191.27129607402082, tolerance: 0.12697998678239064\n",
      "  model = cd_fast.enet_coordinate_descent_gram(\n",
      "C:\\ProgramData\\Anaconda3\\lib\\site-packages\\sklearn\\linear_model\\_coordinate_descent.py:525: ConvergenceWarning: Objective did not converge. You might want to increase the number of iterations. Duality gap: 290.3732772101539, tolerance: 0.12697998678239064\n",
      "  model = cd_fast.enet_coordinate_descent_gram(\n",
      "C:\\ProgramData\\Anaconda3\\lib\\site-packages\\sklearn\\linear_model\\_coordinate_descent.py:525: ConvergenceWarning: Objective did not converge. You might want to increase the number of iterations. Duality gap: 396.95962462669695, tolerance: 0.12697998678239064\n",
      "  model = cd_fast.enet_coordinate_descent_gram(\n",
      "C:\\ProgramData\\Anaconda3\\lib\\site-packages\\sklearn\\linear_model\\_coordinate_descent.py:525: ConvergenceWarning: Objective did not converge. You might want to increase the number of iterations. Duality gap: 510.3902890567439, tolerance: 0.12697998678239064\n",
      "  model = cd_fast.enet_coordinate_descent_gram(\n",
      "C:\\ProgramData\\Anaconda3\\lib\\site-packages\\sklearn\\linear_model\\_coordinate_descent.py:525: ConvergenceWarning: Objective did not converge. You might want to increase the number of iterations. Duality gap: 203.31185669069566, tolerance: 0.12613999250644825\n",
      "  model = cd_fast.enet_coordinate_descent_gram(\n",
      "C:\\ProgramData\\Anaconda3\\lib\\site-packages\\sklearn\\linear_model\\_coordinate_descent.py:525: ConvergenceWarning: Objective did not converge. You might want to increase the number of iterations. Duality gap: 17.22169233325144, tolerance: 0.12613999250644825\n",
      "  model = cd_fast.enet_coordinate_descent_gram(\n",
      "C:\\ProgramData\\Anaconda3\\lib\\site-packages\\sklearn\\linear_model\\_coordinate_descent.py:525: ConvergenceWarning: Objective did not converge. You might want to increase the number of iterations. Duality gap: 62.33849271048041, tolerance: 0.12613999250644825\n",
      "  model = cd_fast.enet_coordinate_descent_gram(\n",
      "C:\\ProgramData\\Anaconda3\\lib\\site-packages\\sklearn\\linear_model\\_coordinate_descent.py:525: ConvergenceWarning: Objective did not converge. You might want to increase the number of iterations. Duality gap: 122.44445391241777, tolerance: 0.12613999250644825\n",
      "  model = cd_fast.enet_coordinate_descent_gram(\n",
      "C:\\ProgramData\\Anaconda3\\lib\\site-packages\\sklearn\\linear_model\\_coordinate_descent.py:525: ConvergenceWarning: Objective did not converge. You might want to increase the number of iterations. Duality gap: 191.58167712181887, tolerance: 0.12613999250644825\n",
      "  model = cd_fast.enet_coordinate_descent_gram(\n",
      "C:\\ProgramData\\Anaconda3\\lib\\site-packages\\sklearn\\linear_model\\_coordinate_descent.py:525: ConvergenceWarning: Objective did not converge. You might want to increase the number of iterations. Duality gap: 267.03543777333016, tolerance: 0.12613999250644825\n",
      "  model = cd_fast.enet_coordinate_descent_gram(\n",
      "C:\\ProgramData\\Anaconda3\\lib\\site-packages\\sklearn\\linear_model\\_coordinate_descent.py:525: ConvergenceWarning: Objective did not converge. You might want to increase the number of iterations. Duality gap: 347.883570483961, tolerance: 0.12613999250644825\n",
      "  model = cd_fast.enet_coordinate_descent_gram(\n",
      "C:\\ProgramData\\Anaconda3\\lib\\site-packages\\sklearn\\linear_model\\_coordinate_descent.py:525: ConvergenceWarning: Objective did not converge. You might want to increase the number of iterations. Duality gap: 434.29842696272806, tolerance: 0.12613999250644825\n",
      "  model = cd_fast.enet_coordinate_descent_gram(\n",
      "C:\\ProgramData\\Anaconda3\\lib\\site-packages\\sklearn\\linear_model\\_coordinate_descent.py:525: ConvergenceWarning: Objective did not converge. You might want to increase the number of iterations. Duality gap: 526.9266909791833, tolerance: 0.12613999250644825\n",
      "  model = cd_fast.enet_coordinate_descent_gram(\n"
     ]
    }
   ],
   "source": [
    "lasso3 = LassoCV(cv=5, alphas= alpha_2, random_state=9660).fit(train_set_1, y_train)"
   ]
  },
  {
   "cell_type": "code",
   "execution_count": 88,
   "metadata": {},
   "outputs": [
    {
     "data": {
      "text/plain": [
       "7.953827556510052e-05"
      ]
     },
     "execution_count": 88,
     "metadata": {},
     "output_type": "execute_result"
    }
   ],
   "source": [
    "lasso3.alpha_"
   ]
  },
  {
   "cell_type": "code",
   "execution_count": 89,
   "metadata": {},
   "outputs": [],
   "source": [
    "## my new list does not improve the model, the optimal parameter is still ~7.95e-05"
   ]
  },
  {
   "cell_type": "code",
   "execution_count": 90,
   "metadata": {},
   "outputs": [],
   "source": [
    "## evaluate the model\n",
    "lasso3_train_yhat = lasso3.predict(train_set_1)\n",
    "lasso3_val_yhat = lasso3.predict(val_set_1)"
   ]
  },
  {
   "cell_type": "code",
   "execution_count": 91,
   "metadata": {},
   "outputs": [
    {
     "name": "stdout",
     "output_type": "stream",
     "text": [
      "0.16922816355110076\n",
      "0.0706736823374634\n"
     ]
    }
   ],
   "source": [
    "## find RMSE and MAE for lasso3 model\n",
    "lasso3_train_rmse = metrics.mean_squared_error(y_train, lasso3_train_yhat, squared = False)\n",
    "lasso3_train_mae = metrics.mean_absolute_error(y_train, lasso3_train_yhat)\n",
    "print(lasso3_train_rmse)\n",
    "print(lasso3_train_mae)"
   ]
  },
  {
   "cell_type": "code",
   "execution_count": 92,
   "metadata": {},
   "outputs": [
    {
     "name": "stdout",
     "output_type": "stream",
     "text": [
      "0.1734246018332096\n",
      "0.07091992854543157\n"
     ]
    }
   ],
   "source": [
    "# same for val set\n",
    "lasso3_val_rmse = metrics.mean_squared_error(y_val, lasso3_val_yhat, squared = False)\n",
    "lasso3_val_mae = metrics.mean_absolute_error(y_val, lasso3_val_yhat)\n",
    "print(lasso3_val_rmse)\n",
    "print(lasso3_val_mae)"
   ]
  },
  {
   "cell_type": "markdown",
   "metadata": {},
   "source": [
    "### compare with the result from lab2 the reuslt is almost the same.\n",
    "### lasso regression didn't improve proformance for now."
   ]
  },
  {
   "cell_type": "markdown",
   "metadata": {},
   "source": [
    "### The best parameter for this lasso regression model is `7.95e-05`"
   ]
  },
  {
   "cell_type": "markdown",
   "metadata": {},
   "source": [
    "## 5. Train a ridge regression model using your initial set of variables ( also using 5-fold cv)\n",
    "## compare the performance against the lasso model. is one better than the other? explain"
   ]
  },
  {
   "cell_type": "code",
   "execution_count": 93,
   "metadata": {},
   "outputs": [],
   "source": [
    "## ridge regreesion should be similar to lasso regression. The difference is ridge regression uses absolute value for the regularization \n",
    "## parameter. thus ridge regression does not select features.\n",
    "## I don't expect better performance from the ridge model\n",
    "ridge1 = RidgeCV(cv = 5).fit(train_set_1, y_train)"
   ]
  },
  {
   "cell_type": "code",
   "execution_count": 94,
   "metadata": {},
   "outputs": [
    {
     "data": {
      "text/plain": [
       "10.0"
      ]
     },
     "execution_count": 94,
     "metadata": {},
     "output_type": "execute_result"
    }
   ],
   "source": [
    "ridge1.alpha_"
   ]
  },
  {
   "cell_type": "code",
   "execution_count": 95,
   "metadata": {},
   "outputs": [
    {
     "data": {
      "text/plain": [
       "array([-0.01595371,  0.00227486, -0.00345278,  0.00447162,  0.0007511 ,\n",
       "        0.00088571, -0.00025616, -0.01440417,  0.04629268, -0.02117485,\n",
       "       -0.02183136,  0.00253194,  0.01021063, -0.00116291,  0.01520082,\n",
       "       -0.00216976,  0.01535169,  0.00636202, -0.03045866, -0.00459118,\n",
       "       -0.02410468, -0.00544407,  0.00085289,  0.01573717,  0.00636202,\n",
       "        0.00874495, -0.03045866,  0.01457957])"
      ]
     },
     "execution_count": 95,
     "metadata": {},
     "output_type": "execute_result"
    }
   ],
   "source": [
    "ridge1.coef_"
   ]
  },
  {
   "cell_type": "code",
   "execution_count": 96,
   "metadata": {},
   "outputs": [],
   "source": [
    "ridge1_train_yhat = ridge1.predict(train_set_1)\n",
    "ridge1_val_yhat = ridge1.predict(val_set_1)"
   ]
  },
  {
   "cell_type": "code",
   "execution_count": 97,
   "metadata": {},
   "outputs": [
    {
     "name": "stdout",
     "output_type": "stream",
     "text": [
      "0.16920644137432134\n",
      "0.07076442880710235\n"
     ]
    }
   ],
   "source": [
    "## evaluate the ridge1 model\n",
    "ridge1_train_rmse = metrics.mean_squared_error(y_train, ridge1_train_yhat, squared = False)\n",
    "ridge1_train_mae = metrics.mean_absolute_error(y_train, ridge1_train_yhat)\n",
    "print(ridge1_train_rmse)\n",
    "print(ridge1_train_mae)"
   ]
  },
  {
   "cell_type": "code",
   "execution_count": 98,
   "metadata": {},
   "outputs": [
    {
     "name": "stdout",
     "output_type": "stream",
     "text": [
      "0.1734329716235683\n",
      "0.07101616901741076\n"
     ]
    }
   ],
   "source": [
    "ridge1_val_rmse = metrics.mean_squared_error(y_val, ridge1_val_yhat, squared = False)\n",
    "ridge1_val_mae = metrics.mean_absolute_error(y_val, ridge1_val_yhat)\n",
    "print(ridge1_val_rmse)\n",
    "print(ridge1_val_mae)"
   ]
  },
  {
   "cell_type": "code",
   "execution_count": 99,
   "metadata": {},
   "outputs": [],
   "source": [
    "## The performance of the ridge model is almost the same compare to the lasso model.\n",
    "## The advantage of lasso model is it helps select features."
   ]
  },
  {
   "cell_type": "markdown",
   "metadata": {},
   "source": [
    "## 6. Using any or all of the raw variables, try creating new features and testing these in the model"
   ]
  },
  {
   "cell_type": "markdown",
   "metadata": {},
   "source": [
    "### a. define how you would measure \"performance\" from a technical perspective"
   ]
  },
  {
   "cell_type": "markdown",
   "metadata": {},
   "source": [
    "### the performance of a regression model can be measured by RMSE and MAE. The lower the RMSE and MAE, the better. Since in this part we are using lasso and ridge regression, RMSE and MAE would be suitable to measure the performance.\n",
    "### for the part2, which is a classification model, the performance may be measured by precision, recall, AUC or F-1 score."
   ]
  },
  {
   "cell_type": "markdown",
   "metadata": {},
   "source": [
    "### b. How would you explain a in a non-statistical/non-technical way?"
   ]
  },
  {
   "cell_type": "markdown",
   "metadata": {},
   "source": [
    "### To achieve a better performance of a model, we want to lower the difference between the predicted values and the actual values. Generally, the smaller difference the better, but it also depends on application, model complexity, computational time and many other restraints. For example, in theoritical physics, we probably want the differece to be 0. But in some business settings, it is probably more tolerate. A more efficient model may have appropriate. For example, a weather forecast model takes several days of computational time to predict tomorrow's weather is useless even if it has higher performance."
   ]
  },
  {
   "cell_type": "markdown",
   "metadata": {},
   "source": [
    "### c. What's the best model performance you can achieve? Try at least 4-5 features?"
   ]
  },
  {
   "cell_type": "code",
   "execution_count": 100,
   "metadata": {},
   "outputs": [],
   "source": [
    "## The feature engineering for this model is challeging because we do not know how the model was built which generates the logerros\n",
    "## I am not sure use posteriori knowledge for feature engineering will help improving the model.\n",
    "## yearbuilt is a variable measure when the building was constructed.\n",
    "## maybe it is better to transform it to the age of the building??\n",
    "\n",
    "train_set[\"BuildingAge\"]=2021 -train_set[\"yearbuilt\"]"
   ]
  },
  {
   "cell_type": "code",
   "execution_count": 101,
   "metadata": {},
   "outputs": [
    {
     "data": {
      "text/plain": [
       "66.00000     1366\n",
       "32.00000     1253\n",
       "57.00000     1169\n",
       "71.00000     1159\n",
       "68.00000     1105\n",
       "             ... \n",
       "124.00000       2\n",
       "143.00000       1\n",
       "127.00000       1\n",
       "141.00000       1\n",
       "138.00000       1\n",
       "Name: BuildingAge, Length: 132, dtype: int64"
      ]
     },
     "execution_count": 101,
     "metadata": {},
     "output_type": "execute_result"
    }
   ],
   "source": [
    "## created a new feature for the age of the building by subtract yearbuilt by this year(2021)\n",
    "train_set[\"BuildingAge\"].value_counts(sort=True)"
   ]
  },
  {
   "cell_type": "code",
   "execution_count": 102,
   "metadata": {},
   "outputs": [],
   "source": [
    "## same to the validation part\n",
    "val_set[\"BuildingAge\"] = 2021-val_set[\"yearbuilt\"]"
   ]
  },
  {
   "cell_type": "code",
   "execution_count": 103,
   "metadata": {},
   "outputs": [],
   "source": [
    "## this 'regionidzip' contains almost 400 categories. I think it is not suitable for one hot encoding because it will make the \n",
    "## model to complicated.\n",
    "## Maybe another way to look at this feature is to count how many properties on the market for each zipcode?\n",
    "## the reasoning is that supply and demand curve. let's see if adding this will improve the model\n",
    "## name the new feature as p_per_zip\n",
    "train_set['p_per_zip'] = train_set['regionidzip'].map(train_set.groupby('regionidzip')['regionidzip'].count().to_dict())\n",
    "## regionidzip 399675 looks suspicious. It worth further investigation as us zipcodes are 5 digits. "
   ]
  },
  {
   "cell_type": "code",
   "execution_count": 104,
   "metadata": {},
   "outputs": [],
   "source": [
    "## same for val set\n",
    "val_set[\"p_per_zip\"] = val_set['regionidzip'].map(val_set.groupby('regionidzip')['regionidzip'].count().to_dict())"
   ]
  },
  {
   "cell_type": "code",
   "execution_count": 105,
   "metadata": {},
   "outputs": [],
   "source": [
    "## For the longitude and latitude, I think it is better transform it because numerical values of longitude and latituade is not linear\n",
    "## Because the earth is spherical, when using Longitude and latitude to represtents 3D geographical location, we can transform it to 3D data(x,y,z in cartesian coordinates)\n",
    "## reference to https://datascience.stackexchange.com/questions/13567/ways-to-deal-with-longitude-latitude-feature\n",
    "train_set[\"x\"] = np.cos(train_set[\"latitude\"]) * np.cos(train_set[\"longitude\"])\n",
    "train_set[\"y\"] = np.cos(train_set[\"latitude\"]) * np.sin(train_set[\"longitude\"])\n",
    "train_set[\"z\"] = np.sin(train_set[\"latitude\"])"
   ]
  },
  {
   "cell_type": "code",
   "execution_count": 106,
   "metadata": {},
   "outputs": [],
   "source": [
    "## same for val set\n",
    "val_set[\"x\"] = np.cos(val_set[\"latitude\"]) * np.cos(val_set[\"longitude\"])\n",
    "val_set[\"y\"] = np.cos(val_set[\"latitude\"]) * np.sin(val_set[\"longitude\"])\n",
    "val_set[\"z\"] = np.sin(val_set[\"latitude\"])"
   ]
  },
  {
   "cell_type": "code",
   "execution_count": 107,
   "metadata": {},
   "outputs": [
    {
     "data": {
      "text/plain": [
       "36290    2017-05-15\n",
       "13121    2017-02-28\n",
       "7852     2017-02-03\n",
       "47914    2017-06-19\n",
       "50735    2017-06-27\n",
       "            ...    \n",
       "71552    2017-08-30\n",
       "75939    2017-09-12\n",
       "64338    2017-08-08\n",
       "57850    2017-07-17\n",
       "17193    2017-03-15\n",
       "Name: transactiondate, Length: 54329, dtype: object"
      ]
     },
     "execution_count": 107,
     "metadata": {},
     "output_type": "execute_result"
    }
   ],
   "source": [
    "## transform the transactiondate\n",
    "train_set.transactiondate"
   ]
  },
  {
   "cell_type": "code",
   "execution_count": 108,
   "metadata": {},
   "outputs": [],
   "source": [
    "train_set['transactiondate']= pd.to_datetime(train_set['transactiondate'])\n",
    "val_set['transactiondate']= pd.to_datetime(val_set['transactiondate'])"
   ]
  },
  {
   "cell_type": "code",
   "execution_count": 109,
   "metadata": {},
   "outputs": [],
   "source": [
    "## create month, this feature may provide information about seasonality\n",
    "train_set['t_month'] = train_set['transactiondate'].dt.month"
   ]
  },
  {
   "cell_type": "code",
   "execution_count": 110,
   "metadata": {},
   "outputs": [],
   "source": [
    "val_set['t_month'] = val_set['transactiondate'].dt.month"
   ]
  },
  {
   "cell_type": "code",
   "execution_count": 111,
   "metadata": {},
   "outputs": [],
   "source": [
    "## put the new features to a list for normalization\n",
    "new_feature = ['BuildingAge','p_per_zip', 'x', 'y', 'z']"
   ]
  },
  {
   "cell_type": "code",
   "execution_count": 112,
   "metadata": {},
   "outputs": [],
   "source": [
    "## normalization\n",
    "temp = train_set[new_feature]\n",
    "train_set[new_feature] = (temp - temp.mean()) / temp.std()\n",
    "val_set[new_feature] = (val_set[new_feature] - temp.mean()) / temp.std()"
   ]
  },
  {
   "cell_type": "code",
   "execution_count": 113,
   "metadata": {},
   "outputs": [],
   "source": [
    "## t_month is categorical. one hot encoding for it\n",
    "temp = pd.get_dummies(train_set['t_month'], prefix = 't_month', drop_first = True)\n",
    "train_set = pd.concat([train_set, temp], axis =1)\n",
    "del train_set['t_month']\n",
    "temp = pd.get_dummies(val_set['t_month'], prefix = 't_month', drop_first = True)\n",
    "val_set = pd.concat([val_set, temp], axis =1)\n",
    "del val_set['t_month']"
   ]
  },
  {
   "cell_type": "code",
   "execution_count": 114,
   "metadata": {},
   "outputs": [],
   "source": [
    "## add t_month to the new feature list\n",
    "new_feature += train_set.columns[train_set.columns.str.contains('t_month')].tolist()"
   ]
  },
  {
   "cell_type": "code",
   "execution_count": 115,
   "metadata": {},
   "outputs": [],
   "source": [
    "##create a new subset for lasso \n",
    "train_set_2 = pd.concat([train_set_1,train_set[new_feature]], axis=1)"
   ]
  },
  {
   "cell_type": "code",
   "execution_count": 116,
   "metadata": {},
   "outputs": [],
   "source": [
    "## same for val set\n",
    "val_set_2 = pd.concat([val_set_1,val_set[new_feature]], axis=1)"
   ]
  },
  {
   "cell_type": "code",
   "execution_count": 117,
   "metadata": {},
   "outputs": [
    {
     "name": "stderr",
     "output_type": "stream",
     "text": [
      "C:\\ProgramData\\Anaconda3\\lib\\site-packages\\sklearn\\linear_model\\_coordinate_descent.py:525: ConvergenceWarning: Objective did not converge. You might want to increase the number of iterations. Duality gap: 0.8644607295520927, tolerance: 0.12302325038303484\n",
      "  model = cd_fast.enet_coordinate_descent_gram(\n",
      "C:\\ProgramData\\Anaconda3\\lib\\site-packages\\sklearn\\linear_model\\_coordinate_descent.py:525: ConvergenceWarning: Objective did not converge. You might want to increase the number of iterations. Duality gap: 2.923781537530658, tolerance: 0.12302325038303484\n",
      "  model = cd_fast.enet_coordinate_descent_gram(\n",
      "C:\\ProgramData\\Anaconda3\\lib\\site-packages\\sklearn\\linear_model\\_coordinate_descent.py:525: ConvergenceWarning: Objective did not converge. You might want to increase the number of iterations. Duality gap: 5.962303133722116, tolerance: 0.12302325038303484\n",
      "  model = cd_fast.enet_coordinate_descent_gram(\n",
      "C:\\ProgramData\\Anaconda3\\lib\\site-packages\\sklearn\\linear_model\\_coordinate_descent.py:525: ConvergenceWarning: Objective did not converge. You might want to increase the number of iterations. Duality gap: 9.787981502727916, tolerance: 0.12302325038303484\n",
      "  model = cd_fast.enet_coordinate_descent_gram(\n",
      "C:\\ProgramData\\Anaconda3\\lib\\site-packages\\sklearn\\linear_model\\_coordinate_descent.py:525: ConvergenceWarning: Objective did not converge. You might want to increase the number of iterations. Duality gap: 0.12962880256782228, tolerance: 0.12302325038303484\n",
      "  model = cd_fast.enet_coordinate_descent_gram(\n",
      "C:\\ProgramData\\Anaconda3\\lib\\site-packages\\sklearn\\linear_model\\_coordinate_descent.py:525: ConvergenceWarning: Objective did not converge. You might want to increase the number of iterations. Duality gap: 0.5274235597830739, tolerance: 0.12381020180917454\n",
      "  model = cd_fast.enet_coordinate_descent_gram(\n",
      "C:\\ProgramData\\Anaconda3\\lib\\site-packages\\sklearn\\linear_model\\_coordinate_descent.py:525: ConvergenceWarning: Objective did not converge. You might want to increase the number of iterations. Duality gap: 2.302173966594637, tolerance: 0.12381020180917454\n",
      "  model = cd_fast.enet_coordinate_descent_gram(\n",
      "C:\\ProgramData\\Anaconda3\\lib\\site-packages\\sklearn\\linear_model\\_coordinate_descent.py:525: ConvergenceWarning: Objective did not converge. You might want to increase the number of iterations. Duality gap: 5.092085440402798, tolerance: 0.12381020180917454\n",
      "  model = cd_fast.enet_coordinate_descent_gram(\n",
      "C:\\ProgramData\\Anaconda3\\lib\\site-packages\\sklearn\\linear_model\\_coordinate_descent.py:525: ConvergenceWarning: Objective did not converge. You might want to increase the number of iterations. Duality gap: 8.696507338943093, tolerance: 0.12381020180917454\n",
      "  model = cd_fast.enet_coordinate_descent_gram(\n",
      "C:\\ProgramData\\Anaconda3\\lib\\site-packages\\sklearn\\linear_model\\_coordinate_descent.py:525: ConvergenceWarning: Objective did not converge. You might want to increase the number of iterations. Duality gap: 12.95184123966601, tolerance: 0.12381020180917454\n",
      "  model = cd_fast.enet_coordinate_descent_gram(\n",
      "C:\\ProgramData\\Anaconda3\\lib\\site-packages\\sklearn\\linear_model\\_coordinate_descent.py:525: ConvergenceWarning: Objective did not converge. You might want to increase the number of iterations. Duality gap: 17.72422796558635, tolerance: 0.12381020180917454\n",
      "  model = cd_fast.enet_coordinate_descent_gram(\n",
      "C:\\ProgramData\\Anaconda3\\lib\\site-packages\\sklearn\\linear_model\\_coordinate_descent.py:525: ConvergenceWarning: Objective did not converge. You might want to increase the number of iterations. Duality gap: 1.4135564448647528, tolerance: 0.12548454138194906\n",
      "  model = cd_fast.enet_coordinate_descent_gram(\n",
      "C:\\ProgramData\\Anaconda3\\lib\\site-packages\\sklearn\\linear_model\\_coordinate_descent.py:525: ConvergenceWarning: Objective did not converge. You might want to increase the number of iterations. Duality gap: 3.6948279523060137, tolerance: 0.12548454138194906\n",
      "  model = cd_fast.enet_coordinate_descent_gram(\n",
      "C:\\ProgramData\\Anaconda3\\lib\\site-packages\\sklearn\\linear_model\\_coordinate_descent.py:525: ConvergenceWarning: Objective did not converge. You might want to increase the number of iterations. Duality gap: 0.18237789666682147, tolerance: 0.12548454138194906\n",
      "  model = cd_fast.enet_coordinate_descent_gram(\n",
      "C:\\ProgramData\\Anaconda3\\lib\\site-packages\\sklearn\\linear_model\\_coordinate_descent.py:525: ConvergenceWarning: Objective did not converge. You might want to increase the number of iterations. Duality gap: 0.3154338214465042, tolerance: 0.12548454138194906\n",
      "  model = cd_fast.enet_coordinate_descent_gram(\n",
      "C:\\ProgramData\\Anaconda3\\lib\\site-packages\\sklearn\\linear_model\\_coordinate_descent.py:525: ConvergenceWarning: Objective did not converge. You might want to increase the number of iterations. Duality gap: 5.089446052332505, tolerance: 0.12548454138194906\n",
      "  model = cd_fast.enet_coordinate_descent_gram(\n",
      "C:\\ProgramData\\Anaconda3\\lib\\site-packages\\sklearn\\linear_model\\_coordinate_descent.py:525: ConvergenceWarning: Objective did not converge. You might want to increase the number of iterations. Duality gap: 0.9811522372740455, tolerance: 0.12697998678239064\n",
      "  model = cd_fast.enet_coordinate_descent_gram(\n",
      "C:\\ProgramData\\Anaconda3\\lib\\site-packages\\sklearn\\linear_model\\_coordinate_descent.py:525: ConvergenceWarning: Objective did not converge. You might want to increase the number of iterations. Duality gap: 3.206100638161388, tolerance: 0.12697998678239064\n",
      "  model = cd_fast.enet_coordinate_descent_gram(\n",
      "C:\\ProgramData\\Anaconda3\\lib\\site-packages\\sklearn\\linear_model\\_coordinate_descent.py:525: ConvergenceWarning: Objective did not converge. You might want to increase the number of iterations. Duality gap: 6.462646775639314, tolerance: 0.12697998678239064\n",
      "  model = cd_fast.enet_coordinate_descent_gram(\n",
      "C:\\ProgramData\\Anaconda3\\lib\\site-packages\\sklearn\\linear_model\\_coordinate_descent.py:525: ConvergenceWarning: Objective did not converge. You might want to increase the number of iterations. Duality gap: 10.561379227835914, tolerance: 0.12697998678239064\n",
      "  model = cd_fast.enet_coordinate_descent_gram(\n",
      "C:\\ProgramData\\Anaconda3\\lib\\site-packages\\sklearn\\linear_model\\_coordinate_descent.py:525: ConvergenceWarning: Objective did not converge. You might want to increase the number of iterations. Duality gap: 0.22179140854404977, tolerance: 0.12697998678239064\n",
      "  model = cd_fast.enet_coordinate_descent_gram(\n",
      "C:\\ProgramData\\Anaconda3\\lib\\site-packages\\sklearn\\linear_model\\_coordinate_descent.py:525: ConvergenceWarning: Objective did not converge. You might want to increase the number of iterations. Duality gap: 0.8586621309079874, tolerance: 0.12613999250644825\n",
      "  model = cd_fast.enet_coordinate_descent_gram(\n",
      "C:\\ProgramData\\Anaconda3\\lib\\site-packages\\sklearn\\linear_model\\_coordinate_descent.py:525: ConvergenceWarning: Objective did not converge. You might want to increase the number of iterations. Duality gap: 2.8523723372436507, tolerance: 0.12613999250644825\n",
      "  model = cd_fast.enet_coordinate_descent_gram(\n",
      "C:\\ProgramData\\Anaconda3\\lib\\site-packages\\sklearn\\linear_model\\_coordinate_descent.py:525: ConvergenceWarning: Objective did not converge. You might want to increase the number of iterations. Duality gap: 5.786163684718986, tolerance: 0.12613999250644825\n",
      "  model = cd_fast.enet_coordinate_descent_gram(\n",
      "C:\\ProgramData\\Anaconda3\\lib\\site-packages\\sklearn\\linear_model\\_coordinate_descent.py:525: ConvergenceWarning: Objective did not converge. You might want to increase the number of iterations. Duality gap: 9.488249459587905, tolerance: 0.12613999250644825\n",
      "  model = cd_fast.enet_coordinate_descent_gram(\n",
      "C:\\ProgramData\\Anaconda3\\lib\\site-packages\\sklearn\\linear_model\\_coordinate_descent.py:525: ConvergenceWarning: Objective did not converge. You might want to increase the number of iterations. Duality gap: 0.25730787138763844, tolerance: 0.12613999250644825\n",
      "  model = cd_fast.enet_coordinate_descent_gram(\n",
      "C:\\ProgramData\\Anaconda3\\lib\\site-packages\\sklearn\\linear_model\\_coordinate_descent.py:525: ConvergenceWarning: Objective did not converge. You might want to increase the number of iterations. Duality gap: 6.130020121965117, tolerance: 0.12613999250644825\n",
      "  model = cd_fast.enet_coordinate_descent_gram(\n",
      "C:\\ProgramData\\Anaconda3\\lib\\site-packages\\sklearn\\linear_model\\_coordinate_descent.py:525: ConvergenceWarning: Objective did not converge. You might want to increase the number of iterations. Duality gap: 22.796630413684056, tolerance: 0.12613999250644825\n",
      "  model = cd_fast.enet_coordinate_descent_gram(\n",
      "C:\\ProgramData\\Anaconda3\\lib\\site-packages\\sklearn\\linear_model\\_coordinate_descent.py:525: ConvergenceWarning: Objective did not converge. You might want to increase the number of iterations. Duality gap: 44.242269355135704, tolerance: 0.12613999250644825\n",
      "  model = cd_fast.enet_coordinate_descent_gram(\n"
     ]
    }
   ],
   "source": [
    "## train a new lasso model\n",
    "lasso4 = LassoCV(cv=5, random_state=9660).fit(train_set_2, y_train)"
   ]
  },
  {
   "cell_type": "code",
   "execution_count": 118,
   "metadata": {},
   "outputs": [
    {
     "data": {
      "text/plain": [
       "6.451594753869906e-05"
      ]
     },
     "execution_count": 118,
     "metadata": {},
     "output_type": "execute_result"
    }
   ],
   "source": [
    "lasso4.alpha_"
   ]
  },
  {
   "cell_type": "code",
   "execution_count": 119,
   "metadata": {},
   "outputs": [
    {
     "data": {
      "text/plain": [
       "array([-1.01965268e-02,  1.51735175e-03, -3.02392307e-03,  3.35691267e-03,\n",
       "        4.39329932e-04,  8.31794829e-04, -2.58724121e-04, -2.24566257e-04,\n",
       "        0.00000000e+00,  9.52480088e-03, -1.60066577e-02,  2.54449296e-03,\n",
       "        6.22893155e-03, -0.00000000e+00,  1.40782830e-02, -0.00000000e+00,\n",
       "        3.00386905e-03,  0.00000000e+00, -0.00000000e+00, -8.58824179e-03,\n",
       "       -8.20691530e-03,  0.00000000e+00, -5.12965990e-03,  0.00000000e+00,\n",
       "        0.00000000e+00, -4.39733674e-03, -0.00000000e+00,  1.24307765e-02,\n",
       "        1.17682271e-03, -1.23581090e-03,  1.13337358e-04,  2.95285788e-05,\n",
       "        5.88313597e-04, -0.00000000e+00, -5.28601701e-03, -9.98352576e-03,\n",
       "       -9.44914959e-03, -6.97182267e-03, -2.69999744e-03,  2.87387724e-04,\n",
       "        6.47766432e-03])"
      ]
     },
     "execution_count": 119,
     "metadata": {},
     "output_type": "execute_result"
    }
   ],
   "source": [
    "lasso4.coef_"
   ]
  },
  {
   "cell_type": "code",
   "execution_count": 120,
   "metadata": {},
   "outputs": [
    {
     "data": {
      "text/plain": [
       "{'bathroomcnt': -0.010196526809113461,\n",
       " 'bedroomcnt': 0.001517351754330918,\n",
       " 'fireplacecnt': -0.0030239230704895543,\n",
       " 'fullbathcnt': 0.003356912670328511,\n",
       " 'garagecarcnt': 0.00043932993152831566,\n",
       " 'roomcnt': 0.0008317948285314616,\n",
       " 'unitcnt': -0.00025872412057949945,\n",
       " 'structuretaxvaluedollarcnt': -0.00022456625744964268,\n",
       " 'taxvaluedollarcnt': 0.0,\n",
       " 'landtaxvaluedollarcnt': 0.009524800876635478,\n",
       " 'taxamount': -0.01600665774668362,\n",
       " 'lotsizesquarefeet': 0.0025444929642845153,\n",
       " 'calculatedbathnbr': 0.0062289315450999375,\n",
       " 'calculatedfinishedsquarefeet': -0.0,\n",
       " 'finishedsquarefeet12': 0.01407828295273018,\n",
       " 'decktypeid_66.0': -0.0,\n",
       " 'fips_6059.0': 0.0030038690457586956,\n",
       " 'fips_6111.0': 0.0,\n",
       " 'fips_missing': -0.0,\n",
       " 'hashottuborspa_True': -0.008588241789260187,\n",
       " 'poolcnt_1.0': -0.008206915304082834,\n",
       " 'pooltypeid10_1.0': 0.0,\n",
       " 'pooltypeid2_1.0': -0.005129659898384701,\n",
       " 'pooltypeid7_1.0': 0.0,\n",
       " 'regionidcounty_2061.0': 0.0,\n",
       " 'regionidcounty_3101.0': -0.004397336743140092,\n",
       " 'regionidcounty_missing': -0.0,\n",
       " 'taxdelinquencyflag_Y': 0.012430776492701932,\n",
       " 'BuildingAge': 0.001176822710128524,\n",
       " 'p_per_zip': -0.0012358109042144938,\n",
       " 'x': 0.00011333735760764094,\n",
       " 'y': 2.9528578804566266e-05,\n",
       " 'z': 0.000588313597337612,\n",
       " 't_month_2': -0.0,\n",
       " 't_month_3': -0.005286017011453733,\n",
       " 't_month_4': -0.00998352575902726,\n",
       " 't_month_5': -0.009449149594682205,\n",
       " 't_month_6': -0.006971822669385766,\n",
       " 't_month_7': -0.0026999974358123463,\n",
       " 't_month_8': 0.0002873877242332984,\n",
       " 't_month_9': 0.006477664321609383}"
      ]
     },
     "execution_count": 120,
     "metadata": {},
     "output_type": "execute_result"
    }
   ],
   "source": [
    "{feature : coef for feature, coef in zip(train_set_2.columns, lasso4.coef_)}"
   ]
  },
  {
   "cell_type": "code",
   "execution_count": 121,
   "metadata": {},
   "outputs": [],
   "source": [
    "lasso4_train_yhat = lasso4.predict(train_set_2)\n",
    "lasso4_val_yhat = lasso4.predict(val_set_2)"
   ]
  },
  {
   "cell_type": "code",
   "execution_count": 122,
   "metadata": {},
   "outputs": [
    {
     "name": "stdout",
     "output_type": "stream",
     "text": [
      "0.16913535604800645\n",
      "0.07055089546436129\n"
     ]
    }
   ],
   "source": [
    "## rmse and mae\n",
    "lasso4_train_rmse = metrics.mean_squared_error(y_train, lasso4_train_yhat, squared = False)\n",
    "lasso4_train_mae = metrics.mean_absolute_error(y_train, lasso4_train_yhat)\n",
    "print(lasso4_train_rmse)\n",
    "print(lasso4_train_mae)"
   ]
  },
  {
   "cell_type": "code",
   "execution_count": 123,
   "metadata": {},
   "outputs": [
    {
     "name": "stdout",
     "output_type": "stream",
     "text": [
      "0.17339383179358026\n",
      "0.07112590229356737\n"
     ]
    }
   ],
   "source": [
    "# same for val set\n",
    "lasso4_val_rmse = metrics.mean_squared_error(y_val, lasso4_val_yhat, squared = False)\n",
    "lasso4_val_mae = metrics.mean_absolute_error(y_val, lasso4_val_yhat)\n",
    "print(lasso4_val_rmse)\n",
    "print(lasso4_val_mae)"
   ]
  },
  {
   "cell_type": "code",
   "execution_count": 124,
   "metadata": {},
   "outputs": [
    {
     "data": {
      "text/plain": [
       "0.0005484164169062321"
      ]
     },
     "execution_count": 124,
     "metadata": {},
     "output_type": "execute_result"
    }
   ],
   "source": [
    "(lasso3_train_rmse-lasso4_train_rmse)/lasso3_train_rmse"
   ]
  },
  {
   "cell_type": "code",
   "execution_count": 125,
   "metadata": {},
   "outputs": [
    {
     "data": {
      "text/plain": [
       "0.00017742603589157346"
      ]
     },
     "execution_count": 125,
     "metadata": {},
     "output_type": "execute_result"
    }
   ],
   "source": [
    "(lasso3_val_rmse-lasso4_val_rmse)/lasso3_val_rmse"
   ]
  },
  {
   "cell_type": "markdown",
   "metadata": {},
   "source": [
    "### with new features, the rmse for the new model is slightly improved."
   ]
  },
  {
   "cell_type": "markdown",
   "metadata": {},
   "source": [
    "## Part 2. Predicting customer churn using logistic regression. Customer churn is defined as when a customer decides to stop being a recurring customer. Canceling your Netflix account is an example of customer churn. Predicting customer churn is a common task for businesses becaues if they know what customers are more likely to quit their services/products, they can make change or target those customers for retention. this can ultimately drive higher revenue and potentially happier customer."
   ]
  },
  {
   "cell_type": "markdown",
   "metadata": {},
   "source": [
    "### 1. Read in the churn_data.csv dataset. Report the following \n",
    "### a. Number of rows and columns"
   ]
  },
  {
   "cell_type": "code",
   "execution_count": 126,
   "metadata": {},
   "outputs": [],
   "source": [
    "##read data\n",
    "churn_data = pd.read_csv('churn_data.csv')"
   ]
  },
  {
   "cell_type": "code",
   "execution_count": 127,
   "metadata": {},
   "outputs": [
    {
     "data": {
      "text/plain": [
       "(7043, 21)"
      ]
     },
     "execution_count": 127,
     "metadata": {},
     "output_type": "execute_result"
    }
   ],
   "source": [
    "churn_data.shape"
   ]
  },
  {
   "cell_type": "markdown",
   "metadata": {},
   "source": [
    "### this dataset has 7043 rows and 21 columns"
   ]
  },
  {
   "cell_type": "markdown",
   "metadata": {},
   "source": [
    "### b. List the columns with missing values"
   ]
  },
  {
   "cell_type": "code",
   "execution_count": 128,
   "metadata": {},
   "outputs": [
    {
     "data": {
      "text/plain": [
       "customerID          False\n",
       "gender              False\n",
       "SeniorCitizen       False\n",
       "Partner             False\n",
       "Dependents          False\n",
       "tenure              False\n",
       "PhoneService        False\n",
       "MultipleLines       False\n",
       "InternetService     False\n",
       "OnlineSecurity      False\n",
       "OnlineBackup        False\n",
       "DeviceProtection    False\n",
       "TechSupport         False\n",
       "StreamingTV         False\n",
       "StreamingMovies     False\n",
       "Contract            False\n",
       "PaperlessBilling    False\n",
       "PaymentMethod       False\n",
       "MonthlyCharges      False\n",
       "TotalCharges        False\n",
       "Churn               False\n",
       "dtype: bool"
      ]
     },
     "execution_count": 128,
     "metadata": {},
     "output_type": "execute_result"
    }
   ],
   "source": [
    "churn_data.isna().any()"
   ]
  },
  {
   "cell_type": "code",
   "execution_count": 129,
   "metadata": {},
   "outputs": [
    {
     "data": {
      "text/html": [
       "<div>\n",
       "<style scoped>\n",
       "    .dataframe tbody tr th:only-of-type {\n",
       "        vertical-align: middle;\n",
       "    }\n",
       "\n",
       "    .dataframe tbody tr th {\n",
       "        vertical-align: top;\n",
       "    }\n",
       "\n",
       "    .dataframe thead th {\n",
       "        text-align: right;\n",
       "    }\n",
       "</style>\n",
       "<table border=\"1\" class=\"dataframe\">\n",
       "  <thead>\n",
       "    <tr style=\"text-align: right;\">\n",
       "      <th></th>\n",
       "      <th>customerID</th>\n",
       "      <th>gender</th>\n",
       "      <th>SeniorCitizen</th>\n",
       "      <th>Partner</th>\n",
       "      <th>Dependents</th>\n",
       "      <th>tenure</th>\n",
       "      <th>PhoneService</th>\n",
       "      <th>MultipleLines</th>\n",
       "      <th>InternetService</th>\n",
       "      <th>OnlineSecurity</th>\n",
       "      <th>...</th>\n",
       "      <th>DeviceProtection</th>\n",
       "      <th>TechSupport</th>\n",
       "      <th>StreamingTV</th>\n",
       "      <th>StreamingMovies</th>\n",
       "      <th>Contract</th>\n",
       "      <th>PaperlessBilling</th>\n",
       "      <th>PaymentMethod</th>\n",
       "      <th>MonthlyCharges</th>\n",
       "      <th>TotalCharges</th>\n",
       "      <th>Churn</th>\n",
       "    </tr>\n",
       "  </thead>\n",
       "  <tbody>\n",
       "    <tr>\n",
       "      <th>0</th>\n",
       "      <td>7590-VHVEG</td>\n",
       "      <td>Female</td>\n",
       "      <td>0</td>\n",
       "      <td>Yes</td>\n",
       "      <td>No</td>\n",
       "      <td>1</td>\n",
       "      <td>No</td>\n",
       "      <td>No phone service</td>\n",
       "      <td>DSL</td>\n",
       "      <td>No</td>\n",
       "      <td>...</td>\n",
       "      <td>No</td>\n",
       "      <td>No</td>\n",
       "      <td>No</td>\n",
       "      <td>No</td>\n",
       "      <td>Month-to-month</td>\n",
       "      <td>Yes</td>\n",
       "      <td>Electronic check</td>\n",
       "      <td>29.85000</td>\n",
       "      <td>29.85</td>\n",
       "      <td>No</td>\n",
       "    </tr>\n",
       "    <tr>\n",
       "      <th>1</th>\n",
       "      <td>5575-GNVDE</td>\n",
       "      <td>Male</td>\n",
       "      <td>0</td>\n",
       "      <td>No</td>\n",
       "      <td>No</td>\n",
       "      <td>34</td>\n",
       "      <td>Yes</td>\n",
       "      <td>No</td>\n",
       "      <td>DSL</td>\n",
       "      <td>Yes</td>\n",
       "      <td>...</td>\n",
       "      <td>Yes</td>\n",
       "      <td>No</td>\n",
       "      <td>No</td>\n",
       "      <td>No</td>\n",
       "      <td>One year</td>\n",
       "      <td>No</td>\n",
       "      <td>Mailed check</td>\n",
       "      <td>56.95000</td>\n",
       "      <td>1889.5</td>\n",
       "      <td>No</td>\n",
       "    </tr>\n",
       "    <tr>\n",
       "      <th>2</th>\n",
       "      <td>3668-QPYBK</td>\n",
       "      <td>Male</td>\n",
       "      <td>0</td>\n",
       "      <td>No</td>\n",
       "      <td>No</td>\n",
       "      <td>2</td>\n",
       "      <td>Yes</td>\n",
       "      <td>No</td>\n",
       "      <td>DSL</td>\n",
       "      <td>Yes</td>\n",
       "      <td>...</td>\n",
       "      <td>No</td>\n",
       "      <td>No</td>\n",
       "      <td>No</td>\n",
       "      <td>No</td>\n",
       "      <td>Month-to-month</td>\n",
       "      <td>Yes</td>\n",
       "      <td>Mailed check</td>\n",
       "      <td>53.85000</td>\n",
       "      <td>108.15</td>\n",
       "      <td>Yes</td>\n",
       "    </tr>\n",
       "    <tr>\n",
       "      <th>3</th>\n",
       "      <td>7795-CFOCW</td>\n",
       "      <td>Male</td>\n",
       "      <td>0</td>\n",
       "      <td>No</td>\n",
       "      <td>No</td>\n",
       "      <td>45</td>\n",
       "      <td>No</td>\n",
       "      <td>No phone service</td>\n",
       "      <td>DSL</td>\n",
       "      <td>Yes</td>\n",
       "      <td>...</td>\n",
       "      <td>Yes</td>\n",
       "      <td>Yes</td>\n",
       "      <td>No</td>\n",
       "      <td>No</td>\n",
       "      <td>One year</td>\n",
       "      <td>No</td>\n",
       "      <td>Bank transfer (automatic)</td>\n",
       "      <td>42.30000</td>\n",
       "      <td>1840.75</td>\n",
       "      <td>No</td>\n",
       "    </tr>\n",
       "    <tr>\n",
       "      <th>4</th>\n",
       "      <td>9237-HQITU</td>\n",
       "      <td>Female</td>\n",
       "      <td>0</td>\n",
       "      <td>No</td>\n",
       "      <td>No</td>\n",
       "      <td>2</td>\n",
       "      <td>Yes</td>\n",
       "      <td>No</td>\n",
       "      <td>Fiber optic</td>\n",
       "      <td>No</td>\n",
       "      <td>...</td>\n",
       "      <td>No</td>\n",
       "      <td>No</td>\n",
       "      <td>No</td>\n",
       "      <td>No</td>\n",
       "      <td>Month-to-month</td>\n",
       "      <td>Yes</td>\n",
       "      <td>Electronic check</td>\n",
       "      <td>70.70000</td>\n",
       "      <td>151.65</td>\n",
       "      <td>Yes</td>\n",
       "    </tr>\n",
       "  </tbody>\n",
       "</table>\n",
       "<p>5 rows × 21 columns</p>\n",
       "</div>"
      ],
      "text/plain": [
       "   customerID  gender  SeniorCitizen Partner Dependents  tenure PhoneService  \\\n",
       "0  7590-VHVEG  Female              0     Yes         No       1           No   \n",
       "1  5575-GNVDE    Male              0      No         No      34          Yes   \n",
       "2  3668-QPYBK    Male              0      No         No       2          Yes   \n",
       "3  7795-CFOCW    Male              0      No         No      45           No   \n",
       "4  9237-HQITU  Female              0      No         No       2          Yes   \n",
       "\n",
       "      MultipleLines InternetService OnlineSecurity  ... DeviceProtection  \\\n",
       "0  No phone service             DSL             No  ...               No   \n",
       "1                No             DSL            Yes  ...              Yes   \n",
       "2                No             DSL            Yes  ...               No   \n",
       "3  No phone service             DSL            Yes  ...              Yes   \n",
       "4                No     Fiber optic             No  ...               No   \n",
       "\n",
       "  TechSupport StreamingTV StreamingMovies        Contract PaperlessBilling  \\\n",
       "0          No          No              No  Month-to-month              Yes   \n",
       "1          No          No              No        One year               No   \n",
       "2          No          No              No  Month-to-month              Yes   \n",
       "3         Yes          No              No        One year               No   \n",
       "4          No          No              No  Month-to-month              Yes   \n",
       "\n",
       "               PaymentMethod MonthlyCharges  TotalCharges Churn  \n",
       "0           Electronic check       29.85000         29.85    No  \n",
       "1               Mailed check       56.95000        1889.5    No  \n",
       "2               Mailed check       53.85000        108.15   Yes  \n",
       "3  Bank transfer (automatic)       42.30000       1840.75    No  \n",
       "4           Electronic check       70.70000        151.65   Yes  \n",
       "\n",
       "[5 rows x 21 columns]"
      ]
     },
     "execution_count": 129,
     "metadata": {},
     "output_type": "execute_result"
    }
   ],
   "source": [
    "churn_data.head()"
   ]
  },
  {
   "cell_type": "markdown",
   "metadata": {},
   "source": [
    "### Initially I thought there is no column with missing value in this dataset. But some missing values are hided as \" \" in the TotalCharges columns. See later in the cleaning part."
   ]
  },
  {
   "cell_type": "markdown",
   "metadata": {},
   "source": [
    "### c. Get a frequency count of the \"target\" field"
   ]
  },
  {
   "cell_type": "code",
   "execution_count": 130,
   "metadata": {},
   "outputs": [
    {
     "data": {
      "text/plain": [
       "No     5174\n",
       "Yes    1869\n",
       "Name: Churn, dtype: int64"
      ]
     },
     "execution_count": 130,
     "metadata": {},
     "output_type": "execute_result"
    }
   ],
   "source": [
    "## the target field is the label, in this case, it is the last column 'Churn'\n",
    "churn_data.Churn.value_counts()"
   ]
  },
  {
   "cell_type": "markdown",
   "metadata": {},
   "source": [
    "### There are 5174 observations of No and 1869 observations of Yes in the \"target\" field"
   ]
  },
  {
   "cell_type": "markdown",
   "metadata": {},
   "source": [
    "### 2. Split the dataset into training/validation. use 70/30 split"
   ]
  },
  {
   "cell_type": "code",
   "execution_count": 131,
   "metadata": {},
   "outputs": [],
   "source": [
    "train_s, val_s = train_test_split(churn_data, train_size = 0.7, random_state = 9660)"
   ]
  },
  {
   "cell_type": "markdown",
   "metadata": {},
   "source": [
    "### 3. Data cleaning/processing"
   ]
  },
  {
   "cell_type": "code",
   "execution_count": 132,
   "metadata": {},
   "outputs": [
    {
     "name": "stdout",
     "output_type": "stream",
     "text": [
      "<class 'pandas.core.frame.DataFrame'>\n",
      "Int64Index: 4930 entries, 899 to 809\n",
      "Data columns (total 21 columns):\n",
      " #   Column            Non-Null Count  Dtype  \n",
      "---  ------            --------------  -----  \n",
      " 0   customerID        4930 non-null   object \n",
      " 1   gender            4930 non-null   object \n",
      " 2   SeniorCitizen     4930 non-null   int64  \n",
      " 3   Partner           4930 non-null   object \n",
      " 4   Dependents        4930 non-null   object \n",
      " 5   tenure            4930 non-null   int64  \n",
      " 6   PhoneService      4930 non-null   object \n",
      " 7   MultipleLines     4930 non-null   object \n",
      " 8   InternetService   4930 non-null   object \n",
      " 9   OnlineSecurity    4930 non-null   object \n",
      " 10  OnlineBackup      4930 non-null   object \n",
      " 11  DeviceProtection  4930 non-null   object \n",
      " 12  TechSupport       4930 non-null   object \n",
      " 13  StreamingTV       4930 non-null   object \n",
      " 14  StreamingMovies   4930 non-null   object \n",
      " 15  Contract          4930 non-null   object \n",
      " 16  PaperlessBilling  4930 non-null   object \n",
      " 17  PaymentMethod     4930 non-null   object \n",
      " 18  MonthlyCharges    4930 non-null   float64\n",
      " 19  TotalCharges      4930 non-null   object \n",
      " 20  Churn             4930 non-null   object \n",
      "dtypes: float64(1), int64(2), object(18)\n",
      "memory usage: 847.3+ KB\n"
     ]
    }
   ],
   "source": [
    "## check the data type\n",
    "train_s.info()\n"
   ]
  },
  {
   "cell_type": "markdown",
   "metadata": {},
   "source": [
    "### as seen earlier, there is no missing values for this set. But many categorical vars"
   ]
  },
  {
   "cell_type": "code",
   "execution_count": 133,
   "metadata": {},
   "outputs": [],
   "source": [
    "unique_n1 =[]\n",
    "unique_value1 = []\n",
    "for i in train_s.columns:\n",
    "    unique_n1.append(len(train_s[i].unique()))\n",
    "    unique_value1.append(train_s[i].unique())"
   ]
  },
  {
   "cell_type": "code",
   "execution_count": 134,
   "metadata": {},
   "outputs": [
    {
     "data": {
      "text/html": [
       "<div>\n",
       "<style scoped>\n",
       "    .dataframe tbody tr th:only-of-type {\n",
       "        vertical-align: middle;\n",
       "    }\n",
       "\n",
       "    .dataframe tbody tr th {\n",
       "        vertical-align: top;\n",
       "    }\n",
       "\n",
       "    .dataframe thead th {\n",
       "        text-align: right;\n",
       "    }\n",
       "</style>\n",
       "<table border=\"1\" class=\"dataframe\">\n",
       "  <thead>\n",
       "    <tr style=\"text-align: right;\">\n",
       "      <th></th>\n",
       "      <th>Feature</th>\n",
       "      <th>unique_counts</th>\n",
       "      <th>unique_values</th>\n",
       "    </tr>\n",
       "  </thead>\n",
       "  <tbody>\n",
       "    <tr>\n",
       "      <th>0</th>\n",
       "      <td>customerID</td>\n",
       "      <td>4930</td>\n",
       "      <td>[2267-FPIMA, 3982-DQLUS, 0089-IIQKO, 4097-YODC...</td>\n",
       "    </tr>\n",
       "    <tr>\n",
       "      <th>1</th>\n",
       "      <td>gender</td>\n",
       "      <td>2</td>\n",
       "      <td>[Male, Female]</td>\n",
       "    </tr>\n",
       "    <tr>\n",
       "      <th>2</th>\n",
       "      <td>SeniorCitizen</td>\n",
       "      <td>2</td>\n",
       "      <td>[0, 1]</td>\n",
       "    </tr>\n",
       "    <tr>\n",
       "      <th>3</th>\n",
       "      <td>Partner</td>\n",
       "      <td>2</td>\n",
       "      <td>[Yes, No]</td>\n",
       "    </tr>\n",
       "    <tr>\n",
       "      <th>4</th>\n",
       "      <td>Dependents</td>\n",
       "      <td>2</td>\n",
       "      <td>[No, Yes]</td>\n",
       "    </tr>\n",
       "    <tr>\n",
       "      <th>5</th>\n",
       "      <td>tenure</td>\n",
       "      <td>73</td>\n",
       "      <td>[50, 65, 39, 34, 37, 66, 56, 11, 18, 7, 24, 41...</td>\n",
       "    </tr>\n",
       "    <tr>\n",
       "      <th>6</th>\n",
       "      <td>PhoneService</td>\n",
       "      <td>2</td>\n",
       "      <td>[Yes, No]</td>\n",
       "    </tr>\n",
       "    <tr>\n",
       "      <th>7</th>\n",
       "      <td>MultipleLines</td>\n",
       "      <td>3</td>\n",
       "      <td>[Yes, No, No phone service]</td>\n",
       "    </tr>\n",
       "    <tr>\n",
       "      <th>8</th>\n",
       "      <td>InternetService</td>\n",
       "      <td>3</td>\n",
       "      <td>[Fiber optic, No, DSL]</td>\n",
       "    </tr>\n",
       "    <tr>\n",
       "      <th>9</th>\n",
       "      <td>OnlineSecurity</td>\n",
       "      <td>3</td>\n",
       "      <td>[Yes, No, No internet service]</td>\n",
       "    </tr>\n",
       "    <tr>\n",
       "      <th>10</th>\n",
       "      <td>OnlineBackup</td>\n",
       "      <td>3</td>\n",
       "      <td>[Yes, No, No internet service]</td>\n",
       "    </tr>\n",
       "    <tr>\n",
       "      <th>11</th>\n",
       "      <td>DeviceProtection</td>\n",
       "      <td>3</td>\n",
       "      <td>[No, No internet service, Yes]</td>\n",
       "    </tr>\n",
       "    <tr>\n",
       "      <th>12</th>\n",
       "      <td>TechSupport</td>\n",
       "      <td>3</td>\n",
       "      <td>[No, Yes, No internet service]</td>\n",
       "    </tr>\n",
       "    <tr>\n",
       "      <th>13</th>\n",
       "      <td>StreamingTV</td>\n",
       "      <td>3</td>\n",
       "      <td>[No, Yes, No internet service]</td>\n",
       "    </tr>\n",
       "    <tr>\n",
       "      <th>14</th>\n",
       "      <td>StreamingMovies</td>\n",
       "      <td>3</td>\n",
       "      <td>[Yes, No, No internet service]</td>\n",
       "    </tr>\n",
       "    <tr>\n",
       "      <th>15</th>\n",
       "      <td>Contract</td>\n",
       "      <td>3</td>\n",
       "      <td>[Month-to-month, One year, Two year]</td>\n",
       "    </tr>\n",
       "    <tr>\n",
       "      <th>16</th>\n",
       "      <td>PaperlessBilling</td>\n",
       "      <td>2</td>\n",
       "      <td>[Yes, No]</td>\n",
       "    </tr>\n",
       "    <tr>\n",
       "      <th>17</th>\n",
       "      <td>PaymentMethod</td>\n",
       "      <td>4</td>\n",
       "      <td>[Credit card (automatic), Electronic check, Ba...</td>\n",
       "    </tr>\n",
       "    <tr>\n",
       "      <th>18</th>\n",
       "      <td>MonthlyCharges</td>\n",
       "      <td>1448</td>\n",
       "      <td>[94.4, 85.75, 99.95, 103.8, 20.3, 104.05, 73.8...</td>\n",
       "    </tr>\n",
       "    <tr>\n",
       "      <th>19</th>\n",
       "      <td>TotalCharges</td>\n",
       "      <td>4663</td>\n",
       "      <td>[4914.9, 5688.45, 3767.4, 3470.8, 755.4, 6890,...</td>\n",
       "    </tr>\n",
       "    <tr>\n",
       "      <th>20</th>\n",
       "      <td>Churn</td>\n",
       "      <td>2</td>\n",
       "      <td>[No, Yes]</td>\n",
       "    </tr>\n",
       "  </tbody>\n",
       "</table>\n",
       "</div>"
      ],
      "text/plain": [
       "             Feature  unique_counts  \\\n",
       "0         customerID           4930   \n",
       "1             gender              2   \n",
       "2      SeniorCitizen              2   \n",
       "3            Partner              2   \n",
       "4         Dependents              2   \n",
       "5             tenure             73   \n",
       "6       PhoneService              2   \n",
       "7      MultipleLines              3   \n",
       "8    InternetService              3   \n",
       "9     OnlineSecurity              3   \n",
       "10      OnlineBackup              3   \n",
       "11  DeviceProtection              3   \n",
       "12       TechSupport              3   \n",
       "13       StreamingTV              3   \n",
       "14   StreamingMovies              3   \n",
       "15          Contract              3   \n",
       "16  PaperlessBilling              2   \n",
       "17     PaymentMethod              4   \n",
       "18    MonthlyCharges           1448   \n",
       "19      TotalCharges           4663   \n",
       "20             Churn              2   \n",
       "\n",
       "                                        unique_values  \n",
       "0   [2267-FPIMA, 3982-DQLUS, 0089-IIQKO, 4097-YODC...  \n",
       "1                                      [Male, Female]  \n",
       "2                                              [0, 1]  \n",
       "3                                           [Yes, No]  \n",
       "4                                           [No, Yes]  \n",
       "5   [50, 65, 39, 34, 37, 66, 56, 11, 18, 7, 24, 41...  \n",
       "6                                           [Yes, No]  \n",
       "7                         [Yes, No, No phone service]  \n",
       "8                              [Fiber optic, No, DSL]  \n",
       "9                      [Yes, No, No internet service]  \n",
       "10                     [Yes, No, No internet service]  \n",
       "11                     [No, No internet service, Yes]  \n",
       "12                     [No, Yes, No internet service]  \n",
       "13                     [No, Yes, No internet service]  \n",
       "14                     [Yes, No, No internet service]  \n",
       "15               [Month-to-month, One year, Two year]  \n",
       "16                                          [Yes, No]  \n",
       "17  [Credit card (automatic), Electronic check, Ba...  \n",
       "18  [94.4, 85.75, 99.95, 103.8, 20.3, 104.05, 73.8...  \n",
       "19  [4914.9, 5688.45, 3767.4, 3470.8, 755.4, 6890,...  \n",
       "20                                          [No, Yes]  "
      ]
     },
     "execution_count": 134,
     "metadata": {},
     "output_type": "execute_result"
    }
   ],
   "source": [
    "churn_feature_df = pd.DataFrame(list(zip(train_s.columns,unique_n1, unique_value1)), columns=['Feature', 'unique_counts', 'unique_values'])\n",
    "churn_feature_df"
   ]
  },
  {
   "cell_type": "code",
   "execution_count": 135,
   "metadata": {},
   "outputs": [
    {
     "data": {
      "text/html": [
       "<div>\n",
       "<style scoped>\n",
       "    .dataframe tbody tr th:only-of-type {\n",
       "        vertical-align: middle;\n",
       "    }\n",
       "\n",
       "    .dataframe tbody tr th {\n",
       "        vertical-align: top;\n",
       "    }\n",
       "\n",
       "    .dataframe thead th {\n",
       "        text-align: right;\n",
       "    }\n",
       "</style>\n",
       "<table border=\"1\" class=\"dataframe\">\n",
       "  <thead>\n",
       "    <tr style=\"text-align: right;\">\n",
       "      <th></th>\n",
       "      <th>customerID</th>\n",
       "      <th>gender</th>\n",
       "      <th>SeniorCitizen</th>\n",
       "      <th>Partner</th>\n",
       "      <th>Dependents</th>\n",
       "      <th>tenure</th>\n",
       "      <th>PhoneService</th>\n",
       "      <th>MultipleLines</th>\n",
       "      <th>InternetService</th>\n",
       "      <th>OnlineSecurity</th>\n",
       "      <th>...</th>\n",
       "      <th>DeviceProtection</th>\n",
       "      <th>TechSupport</th>\n",
       "      <th>StreamingTV</th>\n",
       "      <th>StreamingMovies</th>\n",
       "      <th>Contract</th>\n",
       "      <th>PaperlessBilling</th>\n",
       "      <th>PaymentMethod</th>\n",
       "      <th>MonthlyCharges</th>\n",
       "      <th>TotalCharges</th>\n",
       "      <th>Churn</th>\n",
       "    </tr>\n",
       "  </thead>\n",
       "  <tbody>\n",
       "  </tbody>\n",
       "</table>\n",
       "<p>0 rows × 21 columns</p>\n",
       "</div>"
      ],
      "text/plain": [
       "Empty DataFrame\n",
       "Columns: [customerID, gender, SeniorCitizen, Partner, Dependents, tenure, PhoneService, MultipleLines, InternetService, OnlineSecurity, OnlineBackup, DeviceProtection, TechSupport, StreamingTV, StreamingMovies, Contract, PaperlessBilling, PaymentMethod, MonthlyCharges, TotalCharges, Churn]\n",
       "Index: []\n",
       "\n",
       "[0 rows x 21 columns]"
      ]
     },
     "execution_count": 135,
     "metadata": {},
     "output_type": "execute_result"
    }
   ],
   "source": [
    "## Totalcharges needs attention as it should be a single class of float, however it is object.\n",
    "train_s[train_s.TotalCharges.str.isalpha()]"
   ]
  },
  {
   "cell_type": "code",
   "execution_count": 136,
   "metadata": {},
   "outputs": [
    {
     "data": {
      "text/plain": [
       "899      4914.9\n",
       "3474    5688.45\n",
       "4921     3767.4\n",
       "5405     3470.8\n",
       "4844      755.4\n",
       "         ...   \n",
       "2211     5232.9\n",
       "6994     993.15\n",
       "506       851.8\n",
       "6359    4238.45\n",
       "809       69.55\n",
       "Name: TotalCharges, Length: 4711, dtype: object"
      ]
     },
     "execution_count": 136,
     "metadata": {},
     "output_type": "execute_result"
    }
   ],
   "source": [
    "train_s[~train_s.TotalCharges.str.isnumeric()].TotalCharges"
   ]
  },
  {
   "cell_type": "code",
   "execution_count": 137,
   "metadata": {},
   "outputs": [
    {
     "data": {
      "text/plain": [
       "2812    6890\n",
       "5669    4304\n",
       "4884    3848\n",
       "5152    1388\n",
       "501     5676\n",
       "        ... \n",
       "1802     280\n",
       "1283    7544\n",
       "6748      85\n",
       "5905      85\n",
       "4130     374\n",
       "Name: TotalCharges, Length: 219, dtype: object"
      ]
     },
     "execution_count": 137,
     "metadata": {},
     "output_type": "execute_result"
    }
   ],
   "source": [
    "train_s[train_s.TotalCharges.str.isnumeric()].TotalCharges"
   ]
  },
  {
   "cell_type": "code",
   "execution_count": 138,
   "metadata": {},
   "outputs": [
    {
     "data": {
      "text/html": [
       "<div>\n",
       "<style scoped>\n",
       "    .dataframe tbody tr th:only-of-type {\n",
       "        vertical-align: middle;\n",
       "    }\n",
       "\n",
       "    .dataframe tbody tr th {\n",
       "        vertical-align: top;\n",
       "    }\n",
       "\n",
       "    .dataframe thead th {\n",
       "        text-align: right;\n",
       "    }\n",
       "</style>\n",
       "<table border=\"1\" class=\"dataframe\">\n",
       "  <thead>\n",
       "    <tr style=\"text-align: right;\">\n",
       "      <th></th>\n",
       "      <th>customerID</th>\n",
       "      <th>gender</th>\n",
       "      <th>SeniorCitizen</th>\n",
       "      <th>Partner</th>\n",
       "      <th>Dependents</th>\n",
       "      <th>tenure</th>\n",
       "      <th>PhoneService</th>\n",
       "      <th>MultipleLines</th>\n",
       "      <th>InternetService</th>\n",
       "      <th>OnlineSecurity</th>\n",
       "      <th>...</th>\n",
       "      <th>DeviceProtection</th>\n",
       "      <th>TechSupport</th>\n",
       "      <th>StreamingTV</th>\n",
       "      <th>StreamingMovies</th>\n",
       "      <th>Contract</th>\n",
       "      <th>PaperlessBilling</th>\n",
       "      <th>PaymentMethod</th>\n",
       "      <th>MonthlyCharges</th>\n",
       "      <th>TotalCharges</th>\n",
       "      <th>Churn</th>\n",
       "    </tr>\n",
       "  </thead>\n",
       "  <tbody>\n",
       "    <tr>\n",
       "      <th>5218</th>\n",
       "      <td>2923-ARZLG</td>\n",
       "      <td>Male</td>\n",
       "      <td>0</td>\n",
       "      <td>Yes</td>\n",
       "      <td>Yes</td>\n",
       "      <td>0</td>\n",
       "      <td>Yes</td>\n",
       "      <td>No</td>\n",
       "      <td>No</td>\n",
       "      <td>No internet service</td>\n",
       "      <td>...</td>\n",
       "      <td>No internet service</td>\n",
       "      <td>No internet service</td>\n",
       "      <td>No internet service</td>\n",
       "      <td>No internet service</td>\n",
       "      <td>One year</td>\n",
       "      <td>Yes</td>\n",
       "      <td>Mailed check</td>\n",
       "      <td>19.70000</td>\n",
       "      <td></td>\n",
       "      <td>No</td>\n",
       "    </tr>\n",
       "    <tr>\n",
       "      <th>753</th>\n",
       "      <td>3115-CZMZD</td>\n",
       "      <td>Male</td>\n",
       "      <td>0</td>\n",
       "      <td>No</td>\n",
       "      <td>Yes</td>\n",
       "      <td>0</td>\n",
       "      <td>Yes</td>\n",
       "      <td>No</td>\n",
       "      <td>No</td>\n",
       "      <td>No internet service</td>\n",
       "      <td>...</td>\n",
       "      <td>No internet service</td>\n",
       "      <td>No internet service</td>\n",
       "      <td>No internet service</td>\n",
       "      <td>No internet service</td>\n",
       "      <td>Two year</td>\n",
       "      <td>No</td>\n",
       "      <td>Mailed check</td>\n",
       "      <td>20.25000</td>\n",
       "      <td></td>\n",
       "      <td>No</td>\n",
       "    </tr>\n",
       "    <tr>\n",
       "      <th>4380</th>\n",
       "      <td>2520-SGTTA</td>\n",
       "      <td>Female</td>\n",
       "      <td>0</td>\n",
       "      <td>Yes</td>\n",
       "      <td>Yes</td>\n",
       "      <td>0</td>\n",
       "      <td>Yes</td>\n",
       "      <td>No</td>\n",
       "      <td>No</td>\n",
       "      <td>No internet service</td>\n",
       "      <td>...</td>\n",
       "      <td>No internet service</td>\n",
       "      <td>No internet service</td>\n",
       "      <td>No internet service</td>\n",
       "      <td>No internet service</td>\n",
       "      <td>Two year</td>\n",
       "      <td>No</td>\n",
       "      <td>Mailed check</td>\n",
       "      <td>20.00000</td>\n",
       "      <td></td>\n",
       "      <td>No</td>\n",
       "    </tr>\n",
       "    <tr>\n",
       "      <th>3826</th>\n",
       "      <td>3213-VVOLG</td>\n",
       "      <td>Male</td>\n",
       "      <td>0</td>\n",
       "      <td>Yes</td>\n",
       "      <td>Yes</td>\n",
       "      <td>0</td>\n",
       "      <td>Yes</td>\n",
       "      <td>Yes</td>\n",
       "      <td>No</td>\n",
       "      <td>No internet service</td>\n",
       "      <td>...</td>\n",
       "      <td>No internet service</td>\n",
       "      <td>No internet service</td>\n",
       "      <td>No internet service</td>\n",
       "      <td>No internet service</td>\n",
       "      <td>Two year</td>\n",
       "      <td>No</td>\n",
       "      <td>Mailed check</td>\n",
       "      <td>25.35000</td>\n",
       "      <td></td>\n",
       "      <td>No</td>\n",
       "    </tr>\n",
       "    <tr>\n",
       "      <th>1340</th>\n",
       "      <td>1371-DWPAZ</td>\n",
       "      <td>Female</td>\n",
       "      <td>0</td>\n",
       "      <td>Yes</td>\n",
       "      <td>Yes</td>\n",
       "      <td>0</td>\n",
       "      <td>No</td>\n",
       "      <td>No phone service</td>\n",
       "      <td>DSL</td>\n",
       "      <td>Yes</td>\n",
       "      <td>...</td>\n",
       "      <td>Yes</td>\n",
       "      <td>Yes</td>\n",
       "      <td>Yes</td>\n",
       "      <td>No</td>\n",
       "      <td>Two year</td>\n",
       "      <td>No</td>\n",
       "      <td>Credit card (automatic)</td>\n",
       "      <td>56.05000</td>\n",
       "      <td></td>\n",
       "      <td>No</td>\n",
       "    </tr>\n",
       "    <tr>\n",
       "      <th>6670</th>\n",
       "      <td>4075-WKNIU</td>\n",
       "      <td>Female</td>\n",
       "      <td>0</td>\n",
       "      <td>Yes</td>\n",
       "      <td>Yes</td>\n",
       "      <td>0</td>\n",
       "      <td>Yes</td>\n",
       "      <td>Yes</td>\n",
       "      <td>DSL</td>\n",
       "      <td>No</td>\n",
       "      <td>...</td>\n",
       "      <td>Yes</td>\n",
       "      <td>Yes</td>\n",
       "      <td>Yes</td>\n",
       "      <td>No</td>\n",
       "      <td>Two year</td>\n",
       "      <td>No</td>\n",
       "      <td>Mailed check</td>\n",
       "      <td>73.35000</td>\n",
       "      <td></td>\n",
       "      <td>No</td>\n",
       "    </tr>\n",
       "    <tr>\n",
       "      <th>3331</th>\n",
       "      <td>7644-OMVMY</td>\n",
       "      <td>Male</td>\n",
       "      <td>0</td>\n",
       "      <td>Yes</td>\n",
       "      <td>Yes</td>\n",
       "      <td>0</td>\n",
       "      <td>Yes</td>\n",
       "      <td>No</td>\n",
       "      <td>No</td>\n",
       "      <td>No internet service</td>\n",
       "      <td>...</td>\n",
       "      <td>No internet service</td>\n",
       "      <td>No internet service</td>\n",
       "      <td>No internet service</td>\n",
       "      <td>No internet service</td>\n",
       "      <td>Two year</td>\n",
       "      <td>No</td>\n",
       "      <td>Mailed check</td>\n",
       "      <td>19.85000</td>\n",
       "      <td></td>\n",
       "      <td>No</td>\n",
       "    </tr>\n",
       "  </tbody>\n",
       "</table>\n",
       "<p>7 rows × 21 columns</p>\n",
       "</div>"
      ],
      "text/plain": [
       "      customerID  gender  SeniorCitizen Partner Dependents  tenure  \\\n",
       "5218  2923-ARZLG    Male              0     Yes        Yes       0   \n",
       "753   3115-CZMZD    Male              0      No        Yes       0   \n",
       "4380  2520-SGTTA  Female              0     Yes        Yes       0   \n",
       "3826  3213-VVOLG    Male              0     Yes        Yes       0   \n",
       "1340  1371-DWPAZ  Female              0     Yes        Yes       0   \n",
       "6670  4075-WKNIU  Female              0     Yes        Yes       0   \n",
       "3331  7644-OMVMY    Male              0     Yes        Yes       0   \n",
       "\n",
       "     PhoneService     MultipleLines InternetService       OnlineSecurity  ...  \\\n",
       "5218          Yes                No              No  No internet service  ...   \n",
       "753           Yes                No              No  No internet service  ...   \n",
       "4380          Yes                No              No  No internet service  ...   \n",
       "3826          Yes               Yes              No  No internet service  ...   \n",
       "1340           No  No phone service             DSL                  Yes  ...   \n",
       "6670          Yes               Yes             DSL                   No  ...   \n",
       "3331          Yes                No              No  No internet service  ...   \n",
       "\n",
       "         DeviceProtection          TechSupport          StreamingTV  \\\n",
       "5218  No internet service  No internet service  No internet service   \n",
       "753   No internet service  No internet service  No internet service   \n",
       "4380  No internet service  No internet service  No internet service   \n",
       "3826  No internet service  No internet service  No internet service   \n",
       "1340                  Yes                  Yes                  Yes   \n",
       "6670                  Yes                  Yes                  Yes   \n",
       "3331  No internet service  No internet service  No internet service   \n",
       "\n",
       "          StreamingMovies  Contract PaperlessBilling            PaymentMethod  \\\n",
       "5218  No internet service  One year              Yes             Mailed check   \n",
       "753   No internet service  Two year               No             Mailed check   \n",
       "4380  No internet service  Two year               No             Mailed check   \n",
       "3826  No internet service  Two year               No             Mailed check   \n",
       "1340                   No  Two year               No  Credit card (automatic)   \n",
       "6670                   No  Two year               No             Mailed check   \n",
       "3331  No internet service  Two year               No             Mailed check   \n",
       "\n",
       "     MonthlyCharges  TotalCharges Churn  \n",
       "5218       19.70000                  No  \n",
       "753        20.25000                  No  \n",
       "4380       20.00000                  No  \n",
       "3826       25.35000                  No  \n",
       "1340       56.05000                  No  \n",
       "6670       73.35000                  No  \n",
       "3331       19.85000                  No  \n",
       "\n",
       "[7 rows x 21 columns]"
      ]
     },
     "execution_count": 138,
     "metadata": {},
     "output_type": "execute_result"
    }
   ],
   "source": [
    "train_s[train_s.TotalCharges==\" \"]"
   ]
  },
  {
   "cell_type": "code",
   "execution_count": 139,
   "metadata": {},
   "outputs": [
    {
     "name": "stderr",
     "output_type": "stream",
     "text": [
      "<ipython-input-139-200a3b438fdb>:2: SettingWithCopyWarning: \n",
      "A value is trying to be set on a copy of a slice from a DataFrame.\n",
      "Try using .loc[row_indexer,col_indexer] = value instead\n",
      "\n",
      "See the caveats in the documentation: https://pandas.pydata.org/pandas-docs/stable/user_guide/indexing.html#returning-a-view-versus-a-copy\n",
      "  train_s['TotalCharges']=pd.to_numeric(train_s['TotalCharges'], downcast='float', errors = \"coerce\")\n",
      "<ipython-input-139-200a3b438fdb>:3: SettingWithCopyWarning: \n",
      "A value is trying to be set on a copy of a slice from a DataFrame.\n",
      "Try using .loc[row_indexer,col_indexer] = value instead\n",
      "\n",
      "See the caveats in the documentation: https://pandas.pydata.org/pandas-docs/stable/user_guide/indexing.html#returning-a-view-versus-a-copy\n",
      "  val_s['TotalCharges']=pd.to_numeric(val_s['TotalCharges'], downcast = 'float', errors = \"coerce\")\n"
     ]
    }
   ],
   "source": [
    "## total charge mixed string and float. also Some missing value as \" \"\n",
    "train_s['TotalCharges']=pd.to_numeric(train_s['TotalCharges'], downcast='float', errors = \"coerce\")\n",
    "val_s['TotalCharges']=pd.to_numeric(val_s['TotalCharges'], downcast = 'float', errors = \"coerce\")"
   ]
  },
  {
   "cell_type": "code",
   "execution_count": 140,
   "metadata": {},
   "outputs": [
    {
     "data": {
      "text/plain": [
       "7"
      ]
     },
     "execution_count": 140,
     "metadata": {},
     "output_type": "execute_result"
    }
   ],
   "source": [
    "train_s.TotalCharges.isna().sum()"
   ]
  },
  {
   "cell_type": "code",
   "execution_count": 141,
   "metadata": {},
   "outputs": [
    {
     "data": {
      "text/plain": [
       "4"
      ]
     },
     "execution_count": 141,
     "metadata": {},
     "output_type": "execute_result"
    }
   ],
   "source": [
    "val_s.TotalCharges.isna().sum()"
   ]
  },
  {
   "cell_type": "code",
   "execution_count": 142,
   "metadata": {},
   "outputs": [
    {
     "data": {
      "text/plain": [
       "0.0014198782961460446"
      ]
     },
     "execution_count": 142,
     "metadata": {},
     "output_type": "execute_result"
    }
   ],
   "source": [
    "## calculat the percentage of missing values\n",
    "train_s.TotalCharges.isna().sum()/train_s.shape[0]"
   ]
  },
  {
   "cell_type": "code",
   "execution_count": 143,
   "metadata": {},
   "outputs": [
    {
     "data": {
      "image/png": "[encoded data removed]",
      "text/plain": [
       "<Figure size 432x288 with 1 Axes>"
      ]
     },
     "metadata": {
      "needs_background": "light"
     },
     "output_type": "display_data"
    }
   ],
   "source": [
    "## distribution of Total charges\n",
    "import matplotlib.pyplot as plt\n",
    "train_s.TotalCharges.hist()\n",
    "plt.title(\"distribution of total charges\")\n",
    "plt.show()"
   ]
  },
  {
   "cell_type": "code",
   "execution_count": 144,
   "metadata": {},
   "outputs": [
    {
     "name": "stderr",
     "output_type": "stream",
     "text": [
      "<ipython-input-144-d3242803f356>:2: SettingWithCopyWarning: \n",
      "A value is trying to be set on a copy of a slice from a DataFrame.\n",
      "Try using .loc[row_indexer,col_indexer] = value instead\n",
      "\n",
      "See the caveats in the documentation: https://pandas.pydata.org/pandas-docs/stable/user_guide/indexing.html#returning-a-view-versus-a-copy\n",
      "  train_s['TotalCharges'] = train_s.TotalCharges.fillna(train_s.TotalCharges.median())\n"
     ]
    }
   ],
   "source": [
    "##use median of total charges to impute missing values\n",
    "train_s['TotalCharges'] = train_s.TotalCharges.fillna(train_s.TotalCharges.median())"
   ]
  },
  {
   "cell_type": "code",
   "execution_count": 145,
   "metadata": {},
   "outputs": [
    {
     "name": "stderr",
     "output_type": "stream",
     "text": [
      "<ipython-input-145-9c5365151642>:2: SettingWithCopyWarning: \n",
      "A value is trying to be set on a copy of a slice from a DataFrame.\n",
      "Try using .loc[row_indexer,col_indexer] = value instead\n",
      "\n",
      "See the caveats in the documentation: https://pandas.pydata.org/pandas-docs/stable/user_guide/indexing.html#returning-a-view-versus-a-copy\n",
      "  val_s['TotalCharges'] = val_s.TotalCharges.fillna(val_s.TotalCharges.median())\n"
     ]
    }
   ],
   "source": [
    "##same for Validation set\n",
    "val_s['TotalCharges'] = val_s.TotalCharges.fillna(val_s.TotalCharges.median())"
   ]
  },
  {
   "cell_type": "code",
   "execution_count": 146,
   "metadata": {},
   "outputs": [
    {
     "data": {
      "image/png": "[encoded data removed]",
      "text/plain": [
       "<Figure size 432x288 with 1 Axes>"
      ]
     },
     "metadata": {
      "needs_background": "light"
     },
     "output_type": "display_data"
    },
    {
     "data": {
      "image/png": "[encoded data removed]",
      "text/plain": [
       "<Figure size 432x288 with 1 Axes>"
      ]
     },
     "metadata": {
      "needs_background": "light"
     },
     "output_type": "display_data"
    },
    {
     "data": {
      "image/png": "[encoded data removed]",
      "text/plain": [
       "<Figure size 432x288 with 1 Axes>"
      ]
     },
     "metadata": {
      "needs_background": "light"
     },
     "output_type": "display_data"
    },
    {
     "data": {
      "image/png": "[encoded data removed]",
      "text/plain": [
       "<Figure size 432x288 with 1 Axes>"
      ]
     },
     "metadata": {
      "needs_background": "light"
     },
     "output_type": "display_data"
    },
    {
     "data": {
      "image/png": "[encoded data removed]",
      "text/plain": [
       "<Figure size 432x288 with 1 Axes>"
      ]
     },
     "metadata": {
      "needs_background": "light"
     },
     "output_type": "display_data"
    },
    {
     "data": {
      "image/png": "[encoded data removed]",
      "text/plain": [
       "<Figure size 432x288 with 1 Axes>"
      ]
     },
     "metadata": {
      "needs_background": "light"
     },
     "output_type": "display_data"
    },
    {
     "data": {
      "image/png": "[encoded data removed]",
      "text/plain": [
       "<Figure size 432x288 with 1 Axes>"
      ]
     },
     "metadata": {
      "needs_background": "light"
     },
     "output_type": "display_data"
    },
    {
     "data": {
      "image/png": "[encoded data removed]",
      "text/plain": [
       "<Figure size 432x288 with 1 Axes>"
      ]
     },
     "metadata": {
      "needs_background": "light"
     },
     "output_type": "display_data"
    },
    {
     "data": {
      "image/png": "[encoded data removed]",
      "text/plain": [
       "<Figure size 432x288 with 1 Axes>"
      ]
     },
     "metadata": {
      "needs_background": "light"
     },
     "output_type": "display_data"
    },
    {
     "data": {
      "image/png": "[encoded data removed]",
      "text/plain": [
       "<Figure size 432x288 with 1 Axes>"
      ]
     },
     "metadata": {
      "needs_background": "light"
     },
     "output_type": "display_data"
    },
    {
     "data": {
      "image/png": "[encoded data removed]",
      "text/plain": [
       "<Figure size 432x288 with 1 Axes>"
      ]
     },
     "metadata": {
      "needs_background": "light"
     },
     "output_type": "display_data"
    },
    {
     "data": {
      "image/png": "[encoded data removed]",
      "text/plain": [
       "<Figure size 432x288 with 1 Axes>"
      ]
     },
     "metadata": {
      "needs_background": "light"
     },
     "output_type": "display_data"
    },
    {
     "data": {
      "image/png": "[encoded data removed]",
      "text/plain": [
       "<Figure size 432x288 with 1 Axes>"
      ]
     },
     "metadata": {
      "needs_background": "light"
     },
     "output_type": "display_data"
    },
    {
     "data": {
      "image/png": "[encoded data removed]",
      "text/plain": [
       "<Figure size 432x288 with 1 Axes>"
      ]
     },
     "metadata": {
      "needs_background": "light"
     },
     "output_type": "display_data"
    },
    {
     "data": {
      "image/png": "[encoded data removed]",
      "text/plain": [
       "<Figure size 432x288 with 1 Axes>"
      ]
     },
     "metadata": {
      "needs_background": "light"
     },
     "output_type": "display_data"
    },
    {
     "data": {
      "image/png": "[encoded data removed]",
      "text/plain": [
       "<Figure size 432x288 with 1 Axes>"
      ]
     },
     "metadata": {
      "needs_background": "light"
     },
     "output_type": "display_data"
    },
    {
     "data": {
      "image/png": "[encoded data removed]",
      "text/plain": [
       "<Figure size 432x288 with 1 Axes>"
      ]
     },
     "metadata": {
      "needs_background": "light"
     },
     "output_type": "display_data"
    },
    {
     "data": {
      "image/png": "[encoded data removed]",
      "text/plain": [
       "<Figure size 432x288 with 1 Axes>"
      ]
     },
     "metadata": {
      "needs_background": "light"
     },
     "output_type": "display_data"
    },
    {
     "data": {
      "image/png": "[encoded data removed]",
      "text/plain": [
       "<Figure size 432x288 with 1 Axes>"
      ]
     },
     "metadata": {
      "needs_background": "light"
     },
     "output_type": "display_data"
    },
    {
     "data": {
      "image/png": "[encoded data removed]",
      "text/plain": [
       "<Figure size 432x288 with 1 Axes>"
      ]
     },
     "metadata": {
      "needs_background": "light"
     },
     "output_type": "display_data"
    },
    {
     "data": {
      "image/png": "[encoded data removed]",
      "text/plain": [
       "<Figure size 432x288 with 1 Axes>"
      ]
     },
     "metadata": {
      "needs_background": "light"
     },
     "output_type": "display_data"
    }
   ],
   "source": [
    "## check the distribution for the rest of the vars\n",
    "for i in train_s.columns:\n",
    "    train_s[i].hist()\n",
    "    plt.title(\"distribution of \"+i)\n",
    "    plt.show()"
   ]
  },
  {
   "cell_type": "code",
   "execution_count": 147,
   "metadata": {},
   "outputs": [],
   "source": [
    "##split out the label and predictors\n",
    "train_x = train_s.drop('Churn', axis=1)"
   ]
  },
  {
   "cell_type": "code",
   "execution_count": 148,
   "metadata": {},
   "outputs": [],
   "source": [
    "train_y = train_s.Churn"
   ]
  },
  {
   "cell_type": "code",
   "execution_count": 149,
   "metadata": {},
   "outputs": [],
   "source": [
    "## same for val set\n",
    "val_x = val_s.drop('Churn', axis=1)\n",
    "val_y = val_s.Churn"
   ]
  },
  {
   "cell_type": "code",
   "execution_count": 150,
   "metadata": {},
   "outputs": [],
   "source": [
    "train_y = train_y.map(lambda x:1 if x == \"Yes\" else 0)"
   ]
  },
  {
   "cell_type": "code",
   "execution_count": 151,
   "metadata": {},
   "outputs": [],
   "source": [
    "val_y = val_y.map(lambda x:1 if x==\"Yes\" else 0)"
   ]
  },
  {
   "cell_type": "code",
   "execution_count": 152,
   "metadata": {},
   "outputs": [],
   "source": [
    "## get a list for categorical vars \n",
    "cat_vars = churn_feature_df[churn_feature_df.unique_counts<=4].Feature.tolist()"
   ]
  },
  {
   "cell_type": "code",
   "execution_count": 153,
   "metadata": {},
   "outputs": [],
   "source": [
    "cat_vars.remove(\"Churn\")"
   ]
  },
  {
   "cell_type": "code",
   "execution_count": 154,
   "metadata": {},
   "outputs": [],
   "source": [
    "for i in cat_vars:\n",
    "    temp = pd.get_dummies(train_x[i], prefix = i, drop_first =True)\n",
    "    train_x = pd.concat([train_x, temp], axis =1 )\n",
    "    del train_x[i]\n",
    "    temp = pd.get_dummies(val_x[i], prefix = i, drop_first =True)\n",
    "    val_x = pd.concat([val_x, temp], axis =1 )\n",
    "    del val_x[i]"
   ]
  },
  {
   "cell_type": "code",
   "execution_count": 155,
   "metadata": {},
   "outputs": [
    {
     "name": "stdout",
     "output_type": "stream",
     "text": [
      "<class 'pandas.core.frame.DataFrame'>\n",
      "Int64Index: 4930 entries, 899 to 809\n",
      "Data columns (total 31 columns):\n",
      " #   Column                                 Non-Null Count  Dtype  \n",
      "---  ------                                 --------------  -----  \n",
      " 0   customerID                             4930 non-null   object \n",
      " 1   tenure                                 4930 non-null   int64  \n",
      " 2   MonthlyCharges                         4930 non-null   float64\n",
      " 3   TotalCharges                           4930 non-null   float32\n",
      " 4   gender_Male                            4930 non-null   uint8  \n",
      " 5   SeniorCitizen_1                        4930 non-null   uint8  \n",
      " 6   Partner_Yes                            4930 non-null   uint8  \n",
      " 7   Dependents_Yes                         4930 non-null   uint8  \n",
      " 8   PhoneService_Yes                       4930 non-null   uint8  \n",
      " 9   MultipleLines_No phone service         4930 non-null   uint8  \n",
      " 10  MultipleLines_Yes                      4930 non-null   uint8  \n",
      " 11  InternetService_Fiber optic            4930 non-null   uint8  \n",
      " 12  InternetService_No                     4930 non-null   uint8  \n",
      " 13  OnlineSecurity_No internet service     4930 non-null   uint8  \n",
      " 14  OnlineSecurity_Yes                     4930 non-null   uint8  \n",
      " 15  OnlineBackup_No internet service       4930 non-null   uint8  \n",
      " 16  OnlineBackup_Yes                       4930 non-null   uint8  \n",
      " 17  DeviceProtection_No internet service   4930 non-null   uint8  \n",
      " 18  DeviceProtection_Yes                   4930 non-null   uint8  \n",
      " 19  TechSupport_No internet service        4930 non-null   uint8  \n",
      " 20  TechSupport_Yes                        4930 non-null   uint8  \n",
      " 21  StreamingTV_No internet service        4930 non-null   uint8  \n",
      " 22  StreamingTV_Yes                        4930 non-null   uint8  \n",
      " 23  StreamingMovies_No internet service    4930 non-null   uint8  \n",
      " 24  StreamingMovies_Yes                    4930 non-null   uint8  \n",
      " 25  Contract_One year                      4930 non-null   uint8  \n",
      " 26  Contract_Two year                      4930 non-null   uint8  \n",
      " 27  PaperlessBilling_Yes                   4930 non-null   uint8  \n",
      " 28  PaymentMethod_Credit card (automatic)  4930 non-null   uint8  \n",
      " 29  PaymentMethod_Electronic check         4930 non-null   uint8  \n",
      " 30  PaymentMethod_Mailed check             4930 non-null   uint8  \n",
      "dtypes: float32(1), float64(1), int64(1), object(1), uint8(27)\n",
      "memory usage: 303.3+ KB\n"
     ]
    }
   ],
   "source": [
    "train_x.info()"
   ]
  },
  {
   "cell_type": "code",
   "execution_count": 156,
   "metadata": {},
   "outputs": [],
   "source": [
    "## customerID is not a useful predictor, thus should be deleted\n",
    "del train_x['customerID']\n",
    "del val_x['customerID']"
   ]
  },
  {
   "cell_type": "code",
   "execution_count": 157,
   "metadata": {},
   "outputs": [],
   "source": [
    "## normalization for numeric vars\n",
    "for i in ['tenure', 'MonthlyCharges','TotalCharges']:\n",
    "    mean = train_x[i].mean()\n",
    "    std = train_x[i].std()\n",
    "    train_x[i] = (train_x[i] - mean)/std\n",
    "    val_x[i] = (val_x[i] - mean)/std"
   ]
  },
  {
   "cell_type": "code",
   "execution_count": 158,
   "metadata": {
    "scrolled": true
   },
   "outputs": [
    {
     "data": {
      "text/html": [
       "<div>\n",
       "<style scoped>\n",
       "    .dataframe tbody tr th:only-of-type {\n",
       "        vertical-align: middle;\n",
       "    }\n",
       "\n",
       "    .dataframe tbody tr th {\n",
       "        vertical-align: top;\n",
       "    }\n",
       "\n",
       "    .dataframe thead th {\n",
       "        text-align: right;\n",
       "    }\n",
       "</style>\n",
       "<table border=\"1\" class=\"dataframe\">\n",
       "  <thead>\n",
       "    <tr style=\"text-align: right;\">\n",
       "      <th></th>\n",
       "      <th>tenure</th>\n",
       "      <th>MonthlyCharges</th>\n",
       "      <th>TotalCharges</th>\n",
       "      <th>gender_Male</th>\n",
       "      <th>SeniorCitizen_1</th>\n",
       "      <th>Partner_Yes</th>\n",
       "      <th>Dependents_Yes</th>\n",
       "      <th>PhoneService_Yes</th>\n",
       "      <th>MultipleLines_No phone service</th>\n",
       "      <th>MultipleLines_Yes</th>\n",
       "      <th>...</th>\n",
       "      <th>StreamingTV_No internet service</th>\n",
       "      <th>StreamingTV_Yes</th>\n",
       "      <th>StreamingMovies_No internet service</th>\n",
       "      <th>StreamingMovies_Yes</th>\n",
       "      <th>Contract_One year</th>\n",
       "      <th>Contract_Two year</th>\n",
       "      <th>PaperlessBilling_Yes</th>\n",
       "      <th>PaymentMethod_Credit card (automatic)</th>\n",
       "      <th>PaymentMethod_Electronic check</th>\n",
       "      <th>PaymentMethod_Mailed check</th>\n",
       "    </tr>\n",
       "  </thead>\n",
       "  <tbody>\n",
       "    <tr>\n",
       "      <th>count</th>\n",
       "      <td>4930.00000</td>\n",
       "      <td>4930.00000</td>\n",
       "      <td>4930.00000</td>\n",
       "      <td>4930.00000</td>\n",
       "      <td>4930.00000</td>\n",
       "      <td>4930.00000</td>\n",
       "      <td>4930.00000</td>\n",
       "      <td>4930.00000</td>\n",
       "      <td>4930.00000</td>\n",
       "      <td>4930.00000</td>\n",
       "      <td>...</td>\n",
       "      <td>4930.00000</td>\n",
       "      <td>4930.00000</td>\n",
       "      <td>4930.00000</td>\n",
       "      <td>4930.00000</td>\n",
       "      <td>4930.00000</td>\n",
       "      <td>4930.00000</td>\n",
       "      <td>4930.00000</td>\n",
       "      <td>4930.00000</td>\n",
       "      <td>4930.00000</td>\n",
       "      <td>4930.00000</td>\n",
       "    </tr>\n",
       "    <tr>\n",
       "      <th>mean</th>\n",
       "      <td>0.00000</td>\n",
       "      <td>0.00000</td>\n",
       "      <td>-0.00000</td>\n",
       "      <td>0.50548</td>\n",
       "      <td>0.16268</td>\n",
       "      <td>0.48763</td>\n",
       "      <td>0.30162</td>\n",
       "      <td>0.90041</td>\n",
       "      <td>0.09959</td>\n",
       "      <td>0.41846</td>\n",
       "      <td>...</td>\n",
       "      <td>0.21582</td>\n",
       "      <td>0.39026</td>\n",
       "      <td>0.21582</td>\n",
       "      <td>0.39189</td>\n",
       "      <td>0.20994</td>\n",
       "      <td>0.23813</td>\n",
       "      <td>0.59371</td>\n",
       "      <td>0.21704</td>\n",
       "      <td>0.33306</td>\n",
       "      <td>0.23124</td>\n",
       "    </tr>\n",
       "    <tr>\n",
       "      <th>std</th>\n",
       "      <td>1.00000</td>\n",
       "      <td>1.00000</td>\n",
       "      <td>1.00000</td>\n",
       "      <td>0.50002</td>\n",
       "      <td>0.36911</td>\n",
       "      <td>0.49990</td>\n",
       "      <td>0.45901</td>\n",
       "      <td>0.29949</td>\n",
       "      <td>0.29949</td>\n",
       "      <td>0.49336</td>\n",
       "      <td>...</td>\n",
       "      <td>0.41143</td>\n",
       "      <td>0.48786</td>\n",
       "      <td>0.41143</td>\n",
       "      <td>0.48822</td>\n",
       "      <td>0.40731</td>\n",
       "      <td>0.42598</td>\n",
       "      <td>0.49119</td>\n",
       "      <td>0.41227</td>\n",
       "      <td>0.47136</td>\n",
       "      <td>0.42167</td>\n",
       "    </tr>\n",
       "    <tr>\n",
       "      <th>min</th>\n",
       "      <td>-1.33121</td>\n",
       "      <td>-1.54188</td>\n",
       "      <td>-1.00620</td>\n",
       "      <td>0.00000</td>\n",
       "      <td>0.00000</td>\n",
       "      <td>0.00000</td>\n",
       "      <td>0.00000</td>\n",
       "      <td>0.00000</td>\n",
       "      <td>0.00000</td>\n",
       "      <td>0.00000</td>\n",
       "      <td>...</td>\n",
       "      <td>0.00000</td>\n",
       "      <td>0.00000</td>\n",
       "      <td>0.00000</td>\n",
       "      <td>0.00000</td>\n",
       "      <td>0.00000</td>\n",
       "      <td>0.00000</td>\n",
       "      <td>0.00000</td>\n",
       "      <td>0.00000</td>\n",
       "      <td>0.00000</td>\n",
       "      <td>0.00000</td>\n",
       "    </tr>\n",
       "    <tr>\n",
       "      <th>25%</th>\n",
       "      <td>-0.96311</td>\n",
       "      <td>-0.97134</td>\n",
       "      <td>-0.83410</td>\n",
       "      <td>0.00000</td>\n",
       "      <td>0.00000</td>\n",
       "      <td>0.00000</td>\n",
       "      <td>0.00000</td>\n",
       "      <td>1.00000</td>\n",
       "      <td>0.00000</td>\n",
       "      <td>0.00000</td>\n",
       "      <td>...</td>\n",
       "      <td>0.00000</td>\n",
       "      <td>0.00000</td>\n",
       "      <td>0.00000</td>\n",
       "      <td>0.00000</td>\n",
       "      <td>0.00000</td>\n",
       "      <td>0.00000</td>\n",
       "      <td>0.00000</td>\n",
       "      <td>0.00000</td>\n",
       "      <td>0.00000</td>\n",
       "      <td>0.00000</td>\n",
       "    </tr>\n",
       "    <tr>\n",
       "      <th>50%</th>\n",
       "      <td>-0.14510</td>\n",
       "      <td>0.18511</td>\n",
       "      <td>-0.38463</td>\n",
       "      <td>1.00000</td>\n",
       "      <td>0.00000</td>\n",
       "      <td>0.00000</td>\n",
       "      <td>0.00000</td>\n",
       "      <td>1.00000</td>\n",
       "      <td>0.00000</td>\n",
       "      <td>0.00000</td>\n",
       "      <td>...</td>\n",
       "      <td>0.00000</td>\n",
       "      <td>0.00000</td>\n",
       "      <td>0.00000</td>\n",
       "      <td>0.00000</td>\n",
       "      <td>0.00000</td>\n",
       "      <td>0.00000</td>\n",
       "      <td>1.00000</td>\n",
       "      <td>0.00000</td>\n",
       "      <td>0.00000</td>\n",
       "      <td>0.00000</td>\n",
       "    </tr>\n",
       "    <tr>\n",
       "      <th>75%</th>\n",
       "      <td>0.95921</td>\n",
       "      <td>0.83460</td>\n",
       "      <td>0.65871</td>\n",
       "      <td>1.00000</td>\n",
       "      <td>0.00000</td>\n",
       "      <td>1.00000</td>\n",
       "      <td>1.00000</td>\n",
       "      <td>1.00000</td>\n",
       "      <td>0.00000</td>\n",
       "      <td>1.00000</td>\n",
       "      <td>...</td>\n",
       "      <td>0.00000</td>\n",
       "      <td>1.00000</td>\n",
       "      <td>0.00000</td>\n",
       "      <td>1.00000</td>\n",
       "      <td>0.00000</td>\n",
       "      <td>0.00000</td>\n",
       "      <td>1.00000</td>\n",
       "      <td>0.00000</td>\n",
       "      <td>1.00000</td>\n",
       "      <td>0.00000</td>\n",
       "    </tr>\n",
       "    <tr>\n",
       "      <th>max</th>\n",
       "      <td>1.61361</td>\n",
       "      <td>1.79408</td>\n",
       "      <td>2.82695</td>\n",
       "      <td>1.00000</td>\n",
       "      <td>1.00000</td>\n",
       "      <td>1.00000</td>\n",
       "      <td>1.00000</td>\n",
       "      <td>1.00000</td>\n",
       "      <td>1.00000</td>\n",
       "      <td>1.00000</td>\n",
       "      <td>...</td>\n",
       "      <td>1.00000</td>\n",
       "      <td>1.00000</td>\n",
       "      <td>1.00000</td>\n",
       "      <td>1.00000</td>\n",
       "      <td>1.00000</td>\n",
       "      <td>1.00000</td>\n",
       "      <td>1.00000</td>\n",
       "      <td>1.00000</td>\n",
       "      <td>1.00000</td>\n",
       "      <td>1.00000</td>\n",
       "    </tr>\n",
       "  </tbody>\n",
       "</table>\n",
       "<p>8 rows × 30 columns</p>\n",
       "</div>"
      ],
      "text/plain": [
       "          tenure  MonthlyCharges  TotalCharges  gender_Male  SeniorCitizen_1  \\\n",
       "count 4930.00000      4930.00000    4930.00000   4930.00000       4930.00000   \n",
       "mean     0.00000         0.00000      -0.00000      0.50548          0.16268   \n",
       "std      1.00000         1.00000       1.00000      0.50002          0.36911   \n",
       "min     -1.33121        -1.54188      -1.00620      0.00000          0.00000   \n",
       "25%     -0.96311        -0.97134      -0.83410      0.00000          0.00000   \n",
       "50%     -0.14510         0.18511      -0.38463      1.00000          0.00000   \n",
       "75%      0.95921         0.83460       0.65871      1.00000          0.00000   \n",
       "max      1.61361         1.79408       2.82695      1.00000          1.00000   \n",
       "\n",
       "       Partner_Yes  Dependents_Yes  PhoneService_Yes  \\\n",
       "count   4930.00000      4930.00000        4930.00000   \n",
       "mean       0.48763         0.30162           0.90041   \n",
       "std        0.49990         0.45901           0.29949   \n",
       "min        0.00000         0.00000           0.00000   \n",
       "25%        0.00000         0.00000           1.00000   \n",
       "50%        0.00000         0.00000           1.00000   \n",
       "75%        1.00000         1.00000           1.00000   \n",
       "max        1.00000         1.00000           1.00000   \n",
       "\n",
       "       MultipleLines_No phone service  MultipleLines_Yes  ...  \\\n",
       "count                      4930.00000         4930.00000  ...   \n",
       "mean                          0.09959            0.41846  ...   \n",
       "std                           0.29949            0.49336  ...   \n",
       "min                           0.00000            0.00000  ...   \n",
       "25%                           0.00000            0.00000  ...   \n",
       "50%                           0.00000            0.00000  ...   \n",
       "75%                           0.00000            1.00000  ...   \n",
       "max                           1.00000            1.00000  ...   \n",
       "\n",
       "       StreamingTV_No internet service  StreamingTV_Yes  \\\n",
       "count                       4930.00000       4930.00000   \n",
       "mean                           0.21582          0.39026   \n",
       "std                            0.41143          0.48786   \n",
       "min                            0.00000          0.00000   \n",
       "25%                            0.00000          0.00000   \n",
       "50%                            0.00000          0.00000   \n",
       "75%                            0.00000          1.00000   \n",
       "max                            1.00000          1.00000   \n",
       "\n",
       "       StreamingMovies_No internet service  StreamingMovies_Yes  \\\n",
       "count                           4930.00000           4930.00000   \n",
       "mean                               0.21582              0.39189   \n",
       "std                                0.41143              0.48822   \n",
       "min                                0.00000              0.00000   \n",
       "25%                                0.00000              0.00000   \n",
       "50%                                0.00000              0.00000   \n",
       "75%                                0.00000              1.00000   \n",
       "max                                1.00000              1.00000   \n",
       "\n",
       "       Contract_One year  Contract_Two year  PaperlessBilling_Yes  \\\n",
       "count         4930.00000         4930.00000            4930.00000   \n",
       "mean             0.20994            0.23813               0.59371   \n",
       "std              0.40731            0.42598               0.49119   \n",
       "min              0.00000            0.00000               0.00000   \n",
       "25%              0.00000            0.00000               0.00000   \n",
       "50%              0.00000            0.00000               1.00000   \n",
       "75%              0.00000            0.00000               1.00000   \n",
       "max              1.00000            1.00000               1.00000   \n",
       "\n",
       "       PaymentMethod_Credit card (automatic)  PaymentMethod_Electronic check  \\\n",
       "count                             4930.00000                      4930.00000   \n",
       "mean                                 0.21704                         0.33306   \n",
       "std                                  0.41227                         0.47136   \n",
       "min                                  0.00000                         0.00000   \n",
       "25%                                  0.00000                         0.00000   \n",
       "50%                                  0.00000                         0.00000   \n",
       "75%                                  0.00000                         1.00000   \n",
       "max                                  1.00000                         1.00000   \n",
       "\n",
       "       PaymentMethod_Mailed check  \n",
       "count                  4930.00000  \n",
       "mean                      0.23124  \n",
       "std                       0.42167  \n",
       "min                       0.00000  \n",
       "25%                       0.00000  \n",
       "50%                       0.00000  \n",
       "75%                       0.00000  \n",
       "max                       1.00000  \n",
       "\n",
       "[8 rows x 30 columns]"
      ]
     },
     "execution_count": 158,
     "metadata": {},
     "output_type": "execute_result"
    }
   ],
   "source": [
    "train_x.describe()"
   ]
  },
  {
   "cell_type": "code",
   "execution_count": 159,
   "metadata": {},
   "outputs": [
    {
     "data": {
      "text/html": [
       "<div>\n",
       "<style scoped>\n",
       "    .dataframe tbody tr th:only-of-type {\n",
       "        vertical-align: middle;\n",
       "    }\n",
       "\n",
       "    .dataframe tbody tr th {\n",
       "        vertical-align: top;\n",
       "    }\n",
       "\n",
       "    .dataframe thead th {\n",
       "        text-align: right;\n",
       "    }\n",
       "</style>\n",
       "<table border=\"1\" class=\"dataframe\">\n",
       "  <thead>\n",
       "    <tr style=\"text-align: right;\">\n",
       "      <th></th>\n",
       "      <th>tenure</th>\n",
       "      <th>MonthlyCharges</th>\n",
       "      <th>TotalCharges</th>\n",
       "      <th>gender_Male</th>\n",
       "      <th>SeniorCitizen_1</th>\n",
       "      <th>Partner_Yes</th>\n",
       "      <th>Dependents_Yes</th>\n",
       "      <th>PhoneService_Yes</th>\n",
       "      <th>MultipleLines_No phone service</th>\n",
       "      <th>MultipleLines_Yes</th>\n",
       "      <th>...</th>\n",
       "      <th>StreamingTV_No internet service</th>\n",
       "      <th>StreamingTV_Yes</th>\n",
       "      <th>StreamingMovies_No internet service</th>\n",
       "      <th>StreamingMovies_Yes</th>\n",
       "      <th>Contract_One year</th>\n",
       "      <th>Contract_Two year</th>\n",
       "      <th>PaperlessBilling_Yes</th>\n",
       "      <th>PaymentMethod_Credit card (automatic)</th>\n",
       "      <th>PaymentMethod_Electronic check</th>\n",
       "      <th>PaymentMethod_Mailed check</th>\n",
       "    </tr>\n",
       "  </thead>\n",
       "  <tbody>\n",
       "    <tr>\n",
       "      <th>count</th>\n",
       "      <td>2113.00000</td>\n",
       "      <td>2113.00000</td>\n",
       "      <td>2113.00000</td>\n",
       "      <td>2113.00000</td>\n",
       "      <td>2113.00000</td>\n",
       "      <td>2113.00000</td>\n",
       "      <td>2113.00000</td>\n",
       "      <td>2113.00000</td>\n",
       "      <td>2113.00000</td>\n",
       "      <td>2113.00000</td>\n",
       "      <td>...</td>\n",
       "      <td>2113.00000</td>\n",
       "      <td>2113.00000</td>\n",
       "      <td>2113.00000</td>\n",
       "      <td>2113.00000</td>\n",
       "      <td>2113.00000</td>\n",
       "      <td>2113.00000</td>\n",
       "      <td>2113.00000</td>\n",
       "      <td>2113.00000</td>\n",
       "      <td>2113.00000</td>\n",
       "      <td>2113.00000</td>\n",
       "    </tr>\n",
       "    <tr>\n",
       "      <th>mean</th>\n",
       "      <td>-0.02406</td>\n",
       "      <td>-0.00223</td>\n",
       "      <td>-0.01251</td>\n",
       "      <td>0.50308</td>\n",
       "      <td>0.16091</td>\n",
       "      <td>0.47231</td>\n",
       "      <td>0.29484</td>\n",
       "      <td>0.90961</td>\n",
       "      <td>0.09039</td>\n",
       "      <td>0.42972</td>\n",
       "      <td>...</td>\n",
       "      <td>0.21865</td>\n",
       "      <td>0.37056</td>\n",
       "      <td>0.21865</td>\n",
       "      <td>0.37861</td>\n",
       "      <td>0.20729</td>\n",
       "      <td>0.24657</td>\n",
       "      <td>0.58874</td>\n",
       "      <td>0.21391</td>\n",
       "      <td>0.34217</td>\n",
       "      <td>0.22338</td>\n",
       "    </tr>\n",
       "    <tr>\n",
       "      <th>std</th>\n",
       "      <td>1.01493</td>\n",
       "      <td>1.00121</td>\n",
       "      <td>1.01150</td>\n",
       "      <td>0.50011</td>\n",
       "      <td>0.36753</td>\n",
       "      <td>0.49935</td>\n",
       "      <td>0.45608</td>\n",
       "      <td>0.28681</td>\n",
       "      <td>0.28681</td>\n",
       "      <td>0.49515</td>\n",
       "      <td>...</td>\n",
       "      <td>0.41343</td>\n",
       "      <td>0.48307</td>\n",
       "      <td>0.41343</td>\n",
       "      <td>0.48516</td>\n",
       "      <td>0.40546</td>\n",
       "      <td>0.43112</td>\n",
       "      <td>0.49218</td>\n",
       "      <td>0.41016</td>\n",
       "      <td>0.47455</td>\n",
       "      <td>0.41661</td>\n",
       "    </tr>\n",
       "    <tr>\n",
       "      <th>min</th>\n",
       "      <td>-1.33121</td>\n",
       "      <td>-1.54687</td>\n",
       "      <td>-1.00618</td>\n",
       "      <td>0.00000</td>\n",
       "      <td>0.00000</td>\n",
       "      <td>0.00000</td>\n",
       "      <td>0.00000</td>\n",
       "      <td>0.00000</td>\n",
       "      <td>0.00000</td>\n",
       "      <td>0.00000</td>\n",
       "      <td>...</td>\n",
       "      <td>0.00000</td>\n",
       "      <td>0.00000</td>\n",
       "      <td>0.00000</td>\n",
       "      <td>0.00000</td>\n",
       "      <td>0.00000</td>\n",
       "      <td>0.00000</td>\n",
       "      <td>0.00000</td>\n",
       "      <td>0.00000</td>\n",
       "      <td>0.00000</td>\n",
       "      <td>0.00000</td>\n",
       "    </tr>\n",
       "    <tr>\n",
       "      <th>25%</th>\n",
       "      <td>-1.00401</td>\n",
       "      <td>-0.97508</td>\n",
       "      <td>-0.84524</td>\n",
       "      <td>0.00000</td>\n",
       "      <td>0.00000</td>\n",
       "      <td>0.00000</td>\n",
       "      <td>0.00000</td>\n",
       "      <td>1.00000</td>\n",
       "      <td>0.00000</td>\n",
       "      <td>0.00000</td>\n",
       "      <td>...</td>\n",
       "      <td>0.00000</td>\n",
       "      <td>0.00000</td>\n",
       "      <td>0.00000</td>\n",
       "      <td>0.00000</td>\n",
       "      <td>0.00000</td>\n",
       "      <td>0.00000</td>\n",
       "      <td>0.00000</td>\n",
       "      <td>0.00000</td>\n",
       "      <td>0.00000</td>\n",
       "      <td>0.00000</td>\n",
       "    </tr>\n",
       "    <tr>\n",
       "      <th>50%</th>\n",
       "      <td>-0.18600</td>\n",
       "      <td>0.18344</td>\n",
       "      <td>-0.42002</td>\n",
       "      <td>1.00000</td>\n",
       "      <td>0.00000</td>\n",
       "      <td>0.00000</td>\n",
       "      <td>0.00000</td>\n",
       "      <td>1.00000</td>\n",
       "      <td>0.00000</td>\n",
       "      <td>0.00000</td>\n",
       "      <td>...</td>\n",
       "      <td>0.00000</td>\n",
       "      <td>0.00000</td>\n",
       "      <td>0.00000</td>\n",
       "      <td>0.00000</td>\n",
       "      <td>0.00000</td>\n",
       "      <td>0.00000</td>\n",
       "      <td>1.00000</td>\n",
       "      <td>0.00000</td>\n",
       "      <td>0.00000</td>\n",
       "      <td>0.00000</td>\n",
       "    </tr>\n",
       "    <tr>\n",
       "      <th>75%</th>\n",
       "      <td>0.91831</td>\n",
       "      <td>0.83335</td>\n",
       "      <td>0.67336</td>\n",
       "      <td>1.00000</td>\n",
       "      <td>0.00000</td>\n",
       "      <td>1.00000</td>\n",
       "      <td>1.00000</td>\n",
       "      <td>1.00000</td>\n",
       "      <td>0.00000</td>\n",
       "      <td>1.00000</td>\n",
       "      <td>...</td>\n",
       "      <td>0.00000</td>\n",
       "      <td>1.00000</td>\n",
       "      <td>0.00000</td>\n",
       "      <td>1.00000</td>\n",
       "      <td>0.00000</td>\n",
       "      <td>0.00000</td>\n",
       "      <td>1.00000</td>\n",
       "      <td>0.00000</td>\n",
       "      <td>1.00000</td>\n",
       "      <td>0.00000</td>\n",
       "    </tr>\n",
       "    <tr>\n",
       "      <th>max</th>\n",
       "      <td>1.61361</td>\n",
       "      <td>1.79076</td>\n",
       "      <td>2.83242</td>\n",
       "      <td>1.00000</td>\n",
       "      <td>1.00000</td>\n",
       "      <td>1.00000</td>\n",
       "      <td>1.00000</td>\n",
       "      <td>1.00000</td>\n",
       "      <td>1.00000</td>\n",
       "      <td>1.00000</td>\n",
       "      <td>...</td>\n",
       "      <td>1.00000</td>\n",
       "      <td>1.00000</td>\n",
       "      <td>1.00000</td>\n",
       "      <td>1.00000</td>\n",
       "      <td>1.00000</td>\n",
       "      <td>1.00000</td>\n",
       "      <td>1.00000</td>\n",
       "      <td>1.00000</td>\n",
       "      <td>1.00000</td>\n",
       "      <td>1.00000</td>\n",
       "    </tr>\n",
       "  </tbody>\n",
       "</table>\n",
       "<p>8 rows × 30 columns</p>\n",
       "</div>"
      ],
      "text/plain": [
       "          tenure  MonthlyCharges  TotalCharges  gender_Male  SeniorCitizen_1  \\\n",
       "count 2113.00000      2113.00000    2113.00000   2113.00000       2113.00000   \n",
       "mean    -0.02406        -0.00223      -0.01251      0.50308          0.16091   \n",
       "std      1.01493         1.00121       1.01150      0.50011          0.36753   \n",
       "min     -1.33121        -1.54687      -1.00618      0.00000          0.00000   \n",
       "25%     -1.00401        -0.97508      -0.84524      0.00000          0.00000   \n",
       "50%     -0.18600         0.18344      -0.42002      1.00000          0.00000   \n",
       "75%      0.91831         0.83335       0.67336      1.00000          0.00000   \n",
       "max      1.61361         1.79076       2.83242      1.00000          1.00000   \n",
       "\n",
       "       Partner_Yes  Dependents_Yes  PhoneService_Yes  \\\n",
       "count   2113.00000      2113.00000        2113.00000   \n",
       "mean       0.47231         0.29484           0.90961   \n",
       "std        0.49935         0.45608           0.28681   \n",
       "min        0.00000         0.00000           0.00000   \n",
       "25%        0.00000         0.00000           1.00000   \n",
       "50%        0.00000         0.00000           1.00000   \n",
       "75%        1.00000         1.00000           1.00000   \n",
       "max        1.00000         1.00000           1.00000   \n",
       "\n",
       "       MultipleLines_No phone service  MultipleLines_Yes  ...  \\\n",
       "count                      2113.00000         2113.00000  ...   \n",
       "mean                          0.09039            0.42972  ...   \n",
       "std                           0.28681            0.49515  ...   \n",
       "min                           0.00000            0.00000  ...   \n",
       "25%                           0.00000            0.00000  ...   \n",
       "50%                           0.00000            0.00000  ...   \n",
       "75%                           0.00000            1.00000  ...   \n",
       "max                           1.00000            1.00000  ...   \n",
       "\n",
       "       StreamingTV_No internet service  StreamingTV_Yes  \\\n",
       "count                       2113.00000       2113.00000   \n",
       "mean                           0.21865          0.37056   \n",
       "std                            0.41343          0.48307   \n",
       "min                            0.00000          0.00000   \n",
       "25%                            0.00000          0.00000   \n",
       "50%                            0.00000          0.00000   \n",
       "75%                            0.00000          1.00000   \n",
       "max                            1.00000          1.00000   \n",
       "\n",
       "       StreamingMovies_No internet service  StreamingMovies_Yes  \\\n",
       "count                           2113.00000           2113.00000   \n",
       "mean                               0.21865              0.37861   \n",
       "std                                0.41343              0.48516   \n",
       "min                                0.00000              0.00000   \n",
       "25%                                0.00000              0.00000   \n",
       "50%                                0.00000              0.00000   \n",
       "75%                                0.00000              1.00000   \n",
       "max                                1.00000              1.00000   \n",
       "\n",
       "       Contract_One year  Contract_Two year  PaperlessBilling_Yes  \\\n",
       "count         2113.00000         2113.00000            2113.00000   \n",
       "mean             0.20729            0.24657               0.58874   \n",
       "std              0.40546            0.43112               0.49218   \n",
       "min              0.00000            0.00000               0.00000   \n",
       "25%              0.00000            0.00000               0.00000   \n",
       "50%              0.00000            0.00000               1.00000   \n",
       "75%              0.00000            0.00000               1.00000   \n",
       "max              1.00000            1.00000               1.00000   \n",
       "\n",
       "       PaymentMethod_Credit card (automatic)  PaymentMethod_Electronic check  \\\n",
       "count                             2113.00000                      2113.00000   \n",
       "mean                                 0.21391                         0.34217   \n",
       "std                                  0.41016                         0.47455   \n",
       "min                                  0.00000                         0.00000   \n",
       "25%                                  0.00000                         0.00000   \n",
       "50%                                  0.00000                         0.00000   \n",
       "75%                                  0.00000                         1.00000   \n",
       "max                                  1.00000                         1.00000   \n",
       "\n",
       "       PaymentMethod_Mailed check  \n",
       "count                  2113.00000  \n",
       "mean                      0.22338  \n",
       "std                       0.41661  \n",
       "min                       0.00000  \n",
       "25%                       0.00000  \n",
       "50%                       0.00000  \n",
       "75%                       0.00000  \n",
       "max                       1.00000  \n",
       "\n",
       "[8 rows x 30 columns]"
      ]
     },
     "execution_count": 159,
     "metadata": {},
     "output_type": "execute_result"
    }
   ],
   "source": [
    "val_x.describe()"
   ]
  },
  {
   "cell_type": "code",
   "execution_count": 160,
   "metadata": {},
   "outputs": [
    {
     "data": {
      "text/plain": [
       "<AxesSubplot:>"
      ]
     },
     "execution_count": 160,
     "metadata": {},
     "output_type": "execute_result"
    },
    {
     "data": {
      "image/png": "[encoded data removed]",
      "text/plain": [
       "<Figure size 432x288 with 2 Axes>"
      ]
     },
     "metadata": {
      "needs_background": "light"
     },
     "output_type": "display_data"
    }
   ],
   "source": [
    "import seaborn as sns\n",
    "sns.heatmap(train_x.corr(), annot =False, vmin =-1, vmax =1, center =0,\n",
    "           cmap=sns.diverging_palette(20, 220, n=200))"
   ]
  },
  {
   "cell_type": "markdown",
   "metadata": {},
   "source": [
    "Now the dataset is ready for initial modeling."
   ]
  },
  {
   "cell_type": "markdown",
   "metadata": {},
   "source": [
    "## 4 Feature selection and logistic regression with L1 penalty."
   ]
  },
  {
   "cell_type": "markdown",
   "metadata": {},
   "source": [
    "### a. Build a logistic regression model using all the raw inputs in the dataset. provide a list of the variables that have coefficients shrunk to zero."
   ]
  },
  {
   "cell_type": "code",
   "execution_count": 161,
   "metadata": {},
   "outputs": [],
   "source": [
    "from sklearn.linear_model import LogisticRegression, LogisticRegressionCV"
   ]
  },
  {
   "cell_type": "code",
   "execution_count": 162,
   "metadata": {},
   "outputs": [],
   "source": [
    "logit1 = LogisticRegression(random_state = 9660, penalty='l1', solver = 'liblinear',\n",
    "                            C=0.1).fit(train_x, train_y)"
   ]
  },
  {
   "cell_type": "code",
   "execution_count": 163,
   "metadata": {},
   "outputs": [
    {
     "data": {
      "text/plain": [
       "array([[-0.91621301,  0.8838967 ,  0.07284516,  0.        ,  0.11554472,\n",
       "         0.        , -0.08421895, -0.9442339 ,  0.        ,  0.10338584,\n",
       "         0.1286242 ,  0.        ,  0.        , -0.47932093,  0.        ,\n",
       "        -0.27707376,  0.        , -0.04988156,  0.        , -0.46707549,\n",
       "         0.        ,  0.        ,  0.        ,  0.        , -0.62336968,\n",
       "        -1.122587  ,  0.29772535, -0.04135838,  0.29974963,  0.        ]])"
      ]
     },
     "execution_count": 163,
     "metadata": {},
     "output_type": "execute_result"
    }
   ],
   "source": [
    "logit1.coef_"
   ]
  },
  {
   "cell_type": "code",
   "execution_count": 164,
   "metadata": {},
   "outputs": [
    {
     "data": {
      "text/html": [
       "<div>\n",
       "<style scoped>\n",
       "    .dataframe tbody tr th:only-of-type {\n",
       "        vertical-align: middle;\n",
       "    }\n",
       "\n",
       "    .dataframe tbody tr th {\n",
       "        vertical-align: top;\n",
       "    }\n",
       "\n",
       "    .dataframe thead th {\n",
       "        text-align: right;\n",
       "    }\n",
       "</style>\n",
       "<table border=\"1\" class=\"dataframe\">\n",
       "  <thead>\n",
       "    <tr style=\"text-align: right;\">\n",
       "      <th></th>\n",
       "      <th>feature</th>\n",
       "      <th>coef</th>\n",
       "    </tr>\n",
       "  </thead>\n",
       "  <tbody>\n",
       "    <tr>\n",
       "      <th>0</th>\n",
       "      <td>tenure</td>\n",
       "      <td>-0.91621</td>\n",
       "    </tr>\n",
       "    <tr>\n",
       "      <th>1</th>\n",
       "      <td>MonthlyCharges</td>\n",
       "      <td>0.88390</td>\n",
       "    </tr>\n",
       "    <tr>\n",
       "      <th>2</th>\n",
       "      <td>TotalCharges</td>\n",
       "      <td>0.07285</td>\n",
       "    </tr>\n",
       "    <tr>\n",
       "      <th>3</th>\n",
       "      <td>gender_Male</td>\n",
       "      <td>0.00000</td>\n",
       "    </tr>\n",
       "    <tr>\n",
       "      <th>4</th>\n",
       "      <td>SeniorCitizen_1</td>\n",
       "      <td>0.11554</td>\n",
       "    </tr>\n",
       "    <tr>\n",
       "      <th>5</th>\n",
       "      <td>Partner_Yes</td>\n",
       "      <td>0.00000</td>\n",
       "    </tr>\n",
       "    <tr>\n",
       "      <th>6</th>\n",
       "      <td>Dependents_Yes</td>\n",
       "      <td>-0.08422</td>\n",
       "    </tr>\n",
       "    <tr>\n",
       "      <th>7</th>\n",
       "      <td>PhoneService_Yes</td>\n",
       "      <td>-0.94423</td>\n",
       "    </tr>\n",
       "    <tr>\n",
       "      <th>8</th>\n",
       "      <td>MultipleLines_No phone service</td>\n",
       "      <td>0.00000</td>\n",
       "    </tr>\n",
       "    <tr>\n",
       "      <th>9</th>\n",
       "      <td>MultipleLines_Yes</td>\n",
       "      <td>0.10339</td>\n",
       "    </tr>\n",
       "    <tr>\n",
       "      <th>10</th>\n",
       "      <td>InternetService_Fiber optic</td>\n",
       "      <td>0.12862</td>\n",
       "    </tr>\n",
       "    <tr>\n",
       "      <th>11</th>\n",
       "      <td>InternetService_No</td>\n",
       "      <td>0.00000</td>\n",
       "    </tr>\n",
       "    <tr>\n",
       "      <th>12</th>\n",
       "      <td>OnlineSecurity_No internet service</td>\n",
       "      <td>0.00000</td>\n",
       "    </tr>\n",
       "    <tr>\n",
       "      <th>13</th>\n",
       "      <td>OnlineSecurity_Yes</td>\n",
       "      <td>-0.47932</td>\n",
       "    </tr>\n",
       "    <tr>\n",
       "      <th>14</th>\n",
       "      <td>OnlineBackup_No internet service</td>\n",
       "      <td>0.00000</td>\n",
       "    </tr>\n",
       "    <tr>\n",
       "      <th>15</th>\n",
       "      <td>OnlineBackup_Yes</td>\n",
       "      <td>-0.27707</td>\n",
       "    </tr>\n",
       "    <tr>\n",
       "      <th>16</th>\n",
       "      <td>DeviceProtection_No internet service</td>\n",
       "      <td>0.00000</td>\n",
       "    </tr>\n",
       "    <tr>\n",
       "      <th>17</th>\n",
       "      <td>DeviceProtection_Yes</td>\n",
       "      <td>-0.04988</td>\n",
       "    </tr>\n",
       "    <tr>\n",
       "      <th>18</th>\n",
       "      <td>TechSupport_No internet service</td>\n",
       "      <td>0.00000</td>\n",
       "    </tr>\n",
       "    <tr>\n",
       "      <th>19</th>\n",
       "      <td>TechSupport_Yes</td>\n",
       "      <td>-0.46708</td>\n",
       "    </tr>\n",
       "    <tr>\n",
       "      <th>20</th>\n",
       "      <td>StreamingTV_No internet service</td>\n",
       "      <td>0.00000</td>\n",
       "    </tr>\n",
       "    <tr>\n",
       "      <th>21</th>\n",
       "      <td>StreamingTV_Yes</td>\n",
       "      <td>0.00000</td>\n",
       "    </tr>\n",
       "    <tr>\n",
       "      <th>22</th>\n",
       "      <td>StreamingMovies_No internet service</td>\n",
       "      <td>0.00000</td>\n",
       "    </tr>\n",
       "    <tr>\n",
       "      <th>23</th>\n",
       "      <td>StreamingMovies_Yes</td>\n",
       "      <td>0.00000</td>\n",
       "    </tr>\n",
       "    <tr>\n",
       "      <th>24</th>\n",
       "      <td>Contract_One year</td>\n",
       "      <td>-0.62337</td>\n",
       "    </tr>\n",
       "    <tr>\n",
       "      <th>25</th>\n",
       "      <td>Contract_Two year</td>\n",
       "      <td>-1.12259</td>\n",
       "    </tr>\n",
       "    <tr>\n",
       "      <th>26</th>\n",
       "      <td>PaperlessBilling_Yes</td>\n",
       "      <td>0.29773</td>\n",
       "    </tr>\n",
       "    <tr>\n",
       "      <th>27</th>\n",
       "      <td>PaymentMethod_Credit card (automatic)</td>\n",
       "      <td>-0.04136</td>\n",
       "    </tr>\n",
       "    <tr>\n",
       "      <th>28</th>\n",
       "      <td>PaymentMethod_Electronic check</td>\n",
       "      <td>0.29975</td>\n",
       "    </tr>\n",
       "    <tr>\n",
       "      <th>29</th>\n",
       "      <td>PaymentMethod_Mailed check</td>\n",
       "      <td>0.00000</td>\n",
       "    </tr>\n",
       "  </tbody>\n",
       "</table>\n",
       "</div>"
      ],
      "text/plain": [
       "                                  feature     coef\n",
       "0                                  tenure -0.91621\n",
       "1                          MonthlyCharges  0.88390\n",
       "2                            TotalCharges  0.07285\n",
       "3                             gender_Male  0.00000\n",
       "4                         SeniorCitizen_1  0.11554\n",
       "5                             Partner_Yes  0.00000\n",
       "6                          Dependents_Yes -0.08422\n",
       "7                        PhoneService_Yes -0.94423\n",
       "8          MultipleLines_No phone service  0.00000\n",
       "9                       MultipleLines_Yes  0.10339\n",
       "10            InternetService_Fiber optic  0.12862\n",
       "11                     InternetService_No  0.00000\n",
       "12     OnlineSecurity_No internet service  0.00000\n",
       "13                     OnlineSecurity_Yes -0.47932\n",
       "14       OnlineBackup_No internet service  0.00000\n",
       "15                       OnlineBackup_Yes -0.27707\n",
       "16   DeviceProtection_No internet service  0.00000\n",
       "17                   DeviceProtection_Yes -0.04988\n",
       "18        TechSupport_No internet service  0.00000\n",
       "19                        TechSupport_Yes -0.46708\n",
       "20        StreamingTV_No internet service  0.00000\n",
       "21                        StreamingTV_Yes  0.00000\n",
       "22    StreamingMovies_No internet service  0.00000\n",
       "23                    StreamingMovies_Yes  0.00000\n",
       "24                      Contract_One year -0.62337\n",
       "25                      Contract_Two year -1.12259\n",
       "26                   PaperlessBilling_Yes  0.29773\n",
       "27  PaymentMethod_Credit card (automatic) -0.04136\n",
       "28         PaymentMethod_Electronic check  0.29975\n",
       "29             PaymentMethod_Mailed check  0.00000"
      ]
     },
     "execution_count": 164,
     "metadata": {},
     "output_type": "execute_result"
    }
   ],
   "source": [
    "logit1_coef = pd.DataFrame(zip(train_x.columns,logit1.coef_[0]), columns=['feature', 'coef'])\n",
    "logit1_coef"
   ]
  },
  {
   "cell_type": "code",
   "execution_count": 165,
   "metadata": {},
   "outputs": [
    {
     "data": {
      "text/html": [
       "<div>\n",
       "<style scoped>\n",
       "    .dataframe tbody tr th:only-of-type {\n",
       "        vertical-align: middle;\n",
       "    }\n",
       "\n",
       "    .dataframe tbody tr th {\n",
       "        vertical-align: top;\n",
       "    }\n",
       "\n",
       "    .dataframe thead th {\n",
       "        text-align: right;\n",
       "    }\n",
       "</style>\n",
       "<table border=\"1\" class=\"dataframe\">\n",
       "  <thead>\n",
       "    <tr style=\"text-align: right;\">\n",
       "      <th></th>\n",
       "      <th>feature</th>\n",
       "      <th>coef</th>\n",
       "    </tr>\n",
       "  </thead>\n",
       "  <tbody>\n",
       "    <tr>\n",
       "      <th>25</th>\n",
       "      <td>Contract_Two year</td>\n",
       "      <td>-1.12259</td>\n",
       "    </tr>\n",
       "    <tr>\n",
       "      <th>7</th>\n",
       "      <td>PhoneService_Yes</td>\n",
       "      <td>-0.94423</td>\n",
       "    </tr>\n",
       "    <tr>\n",
       "      <th>0</th>\n",
       "      <td>tenure</td>\n",
       "      <td>-0.91621</td>\n",
       "    </tr>\n",
       "    <tr>\n",
       "      <th>24</th>\n",
       "      <td>Contract_One year</td>\n",
       "      <td>-0.62337</td>\n",
       "    </tr>\n",
       "    <tr>\n",
       "      <th>13</th>\n",
       "      <td>OnlineSecurity_Yes</td>\n",
       "      <td>-0.47932</td>\n",
       "    </tr>\n",
       "    <tr>\n",
       "      <th>19</th>\n",
       "      <td>TechSupport_Yes</td>\n",
       "      <td>-0.46708</td>\n",
       "    </tr>\n",
       "    <tr>\n",
       "      <th>15</th>\n",
       "      <td>OnlineBackup_Yes</td>\n",
       "      <td>-0.27707</td>\n",
       "    </tr>\n",
       "    <tr>\n",
       "      <th>6</th>\n",
       "      <td>Dependents_Yes</td>\n",
       "      <td>-0.08422</td>\n",
       "    </tr>\n",
       "    <tr>\n",
       "      <th>17</th>\n",
       "      <td>DeviceProtection_Yes</td>\n",
       "      <td>-0.04988</td>\n",
       "    </tr>\n",
       "    <tr>\n",
       "      <th>27</th>\n",
       "      <td>PaymentMethod_Credit card (automatic)</td>\n",
       "      <td>-0.04136</td>\n",
       "    </tr>\n",
       "    <tr>\n",
       "      <th>23</th>\n",
       "      <td>StreamingMovies_Yes</td>\n",
       "      <td>0.00000</td>\n",
       "    </tr>\n",
       "    <tr>\n",
       "      <th>22</th>\n",
       "      <td>StreamingMovies_No internet service</td>\n",
       "      <td>0.00000</td>\n",
       "    </tr>\n",
       "    <tr>\n",
       "      <th>21</th>\n",
       "      <td>StreamingTV_Yes</td>\n",
       "      <td>0.00000</td>\n",
       "    </tr>\n",
       "    <tr>\n",
       "      <th>20</th>\n",
       "      <td>StreamingTV_No internet service</td>\n",
       "      <td>0.00000</td>\n",
       "    </tr>\n",
       "    <tr>\n",
       "      <th>18</th>\n",
       "      <td>TechSupport_No internet service</td>\n",
       "      <td>0.00000</td>\n",
       "    </tr>\n",
       "    <tr>\n",
       "      <th>16</th>\n",
       "      <td>DeviceProtection_No internet service</td>\n",
       "      <td>0.00000</td>\n",
       "    </tr>\n",
       "    <tr>\n",
       "      <th>14</th>\n",
       "      <td>OnlineBackup_No internet service</td>\n",
       "      <td>0.00000</td>\n",
       "    </tr>\n",
       "    <tr>\n",
       "      <th>12</th>\n",
       "      <td>OnlineSecurity_No internet service</td>\n",
       "      <td>0.00000</td>\n",
       "    </tr>\n",
       "    <tr>\n",
       "      <th>11</th>\n",
       "      <td>InternetService_No</td>\n",
       "      <td>0.00000</td>\n",
       "    </tr>\n",
       "    <tr>\n",
       "      <th>8</th>\n",
       "      <td>MultipleLines_No phone service</td>\n",
       "      <td>0.00000</td>\n",
       "    </tr>\n",
       "    <tr>\n",
       "      <th>5</th>\n",
       "      <td>Partner_Yes</td>\n",
       "      <td>0.00000</td>\n",
       "    </tr>\n",
       "    <tr>\n",
       "      <th>3</th>\n",
       "      <td>gender_Male</td>\n",
       "      <td>0.00000</td>\n",
       "    </tr>\n",
       "    <tr>\n",
       "      <th>29</th>\n",
       "      <td>PaymentMethod_Mailed check</td>\n",
       "      <td>0.00000</td>\n",
       "    </tr>\n",
       "    <tr>\n",
       "      <th>2</th>\n",
       "      <td>TotalCharges</td>\n",
       "      <td>0.07285</td>\n",
       "    </tr>\n",
       "    <tr>\n",
       "      <th>9</th>\n",
       "      <td>MultipleLines_Yes</td>\n",
       "      <td>0.10339</td>\n",
       "    </tr>\n",
       "    <tr>\n",
       "      <th>4</th>\n",
       "      <td>SeniorCitizen_1</td>\n",
       "      <td>0.11554</td>\n",
       "    </tr>\n",
       "    <tr>\n",
       "      <th>10</th>\n",
       "      <td>InternetService_Fiber optic</td>\n",
       "      <td>0.12862</td>\n",
       "    </tr>\n",
       "    <tr>\n",
       "      <th>26</th>\n",
       "      <td>PaperlessBilling_Yes</td>\n",
       "      <td>0.29773</td>\n",
       "    </tr>\n",
       "    <tr>\n",
       "      <th>28</th>\n",
       "      <td>PaymentMethod_Electronic check</td>\n",
       "      <td>0.29975</td>\n",
       "    </tr>\n",
       "    <tr>\n",
       "      <th>1</th>\n",
       "      <td>MonthlyCharges</td>\n",
       "      <td>0.88390</td>\n",
       "    </tr>\n",
       "  </tbody>\n",
       "</table>\n",
       "</div>"
      ],
      "text/plain": [
       "                                  feature     coef\n",
       "25                      Contract_Two year -1.12259\n",
       "7                        PhoneService_Yes -0.94423\n",
       "0                                  tenure -0.91621\n",
       "24                      Contract_One year -0.62337\n",
       "13                     OnlineSecurity_Yes -0.47932\n",
       "19                        TechSupport_Yes -0.46708\n",
       "15                       OnlineBackup_Yes -0.27707\n",
       "6                          Dependents_Yes -0.08422\n",
       "17                   DeviceProtection_Yes -0.04988\n",
       "27  PaymentMethod_Credit card (automatic) -0.04136\n",
       "23                    StreamingMovies_Yes  0.00000\n",
       "22    StreamingMovies_No internet service  0.00000\n",
       "21                        StreamingTV_Yes  0.00000\n",
       "20        StreamingTV_No internet service  0.00000\n",
       "18        TechSupport_No internet service  0.00000\n",
       "16   DeviceProtection_No internet service  0.00000\n",
       "14       OnlineBackup_No internet service  0.00000\n",
       "12     OnlineSecurity_No internet service  0.00000\n",
       "11                     InternetService_No  0.00000\n",
       "8          MultipleLines_No phone service  0.00000\n",
       "5                             Partner_Yes  0.00000\n",
       "3                             gender_Male  0.00000\n",
       "29             PaymentMethod_Mailed check  0.00000\n",
       "2                            TotalCharges  0.07285\n",
       "9                       MultipleLines_Yes  0.10339\n",
       "4                         SeniorCitizen_1  0.11554\n",
       "10            InternetService_Fiber optic  0.12862\n",
       "26                   PaperlessBilling_Yes  0.29773\n",
       "28         PaymentMethod_Electronic check  0.29975\n",
       "1                          MonthlyCharges  0.88390"
      ]
     },
     "execution_count": 165,
     "metadata": {},
     "output_type": "execute_result"
    }
   ],
   "source": [
    "logit1_coef.sort_values(by=['coef'])"
   ]
  },
  {
   "cell_type": "code",
   "execution_count": 166,
   "metadata": {},
   "outputs": [],
   "source": [
    "logit1_coef_0 = logit1_coef[logit1_coef.coef==0].feature.tolist()"
   ]
  },
  {
   "cell_type": "code",
   "execution_count": 167,
   "metadata": {},
   "outputs": [
    {
     "name": "stdout",
     "output_type": "stream",
     "text": [
      "['gender_Male', 'Partner_Yes', 'MultipleLines_No phone service', 'InternetService_No', 'OnlineSecurity_No internet service', 'OnlineBackup_No internet service', 'DeviceProtection_No internet service', 'TechSupport_No internet service', 'StreamingTV_No internet service', 'StreamingTV_Yes', 'StreamingMovies_No internet service', 'StreamingMovies_Yes', 'PaymentMethod_Mailed check']\n"
     ]
    }
   ],
   "source": [
    "## this is the list of the coef which shrunk to 0 in logit1 model.\n",
    "print(logit1_coef_0)"
   ]
  },
  {
   "cell_type": "code",
   "execution_count": 168,
   "metadata": {},
   "outputs": [
    {
     "data": {
      "text/plain": [
       "13"
      ]
     },
     "execution_count": 168,
     "metadata": {},
     "output_type": "execute_result"
    }
   ],
   "source": [
    "## there are 13 vars shrunk to 0\n",
    "len(logit1_coef_0)"
   ]
  },
  {
   "cell_type": "markdown",
   "metadata": {},
   "source": [
    "### Next, try varying values of C. like in part1, use k-fold cv on the training set to optimize this parameter value. Report this paramenter value. using this optimized model, calculate the precision, recall, accuracy, and AUC for the model based off the training set and validation set."
   ]
  },
  {
   "cell_type": "code",
   "execution_count": 169,
   "metadata": {},
   "outputs": [],
   "source": [
    "## create a list for first round Cs\n",
    "Cs = list(range(1,50))+(list(np.arange(0.1,1,0.1)))"
   ]
  },
  {
   "cell_type": "code",
   "execution_count": 170,
   "metadata": {},
   "outputs": [],
   "source": [
    "logit2 = LogisticRegressionCV(random_state = 9660, penalty = 'l1', solver = 'liblinear', Cs =Cs).fit(train_x,train_y)"
   ]
  },
  {
   "cell_type": "code",
   "execution_count": 171,
   "metadata": {},
   "outputs": [
    {
     "data": {
      "text/plain": [
       "array([0.4])"
      ]
     },
     "execution_count": 171,
     "metadata": {},
     "output_type": "execute_result"
    }
   ],
   "source": [
    "logit2.C_"
   ]
  },
  {
   "cell_type": "code",
   "execution_count": 172,
   "metadata": {},
   "outputs": [
    {
     "data": {
      "text/html": [
       "<div>\n",
       "<style scoped>\n",
       "    .dataframe tbody tr th:only-of-type {\n",
       "        vertical-align: middle;\n",
       "    }\n",
       "\n",
       "    .dataframe tbody tr th {\n",
       "        vertical-align: top;\n",
       "    }\n",
       "\n",
       "    .dataframe thead th {\n",
       "        text-align: right;\n",
       "    }\n",
       "</style>\n",
       "<table border=\"1\" class=\"dataframe\">\n",
       "  <thead>\n",
       "    <tr style=\"text-align: right;\">\n",
       "      <th></th>\n",
       "      <th>feature</th>\n",
       "      <th>coef</th>\n",
       "    </tr>\n",
       "  </thead>\n",
       "  <tbody>\n",
       "    <tr>\n",
       "      <th>0</th>\n",
       "      <td>tenure</td>\n",
       "      <td>-1.29813</td>\n",
       "    </tr>\n",
       "    <tr>\n",
       "      <th>25</th>\n",
       "      <td>Contract_Two year</td>\n",
       "      <td>-1.28217</td>\n",
       "    </tr>\n",
       "    <tr>\n",
       "      <th>7</th>\n",
       "      <td>PhoneService_Yes</td>\n",
       "      <td>-0.94033</td>\n",
       "    </tr>\n",
       "    <tr>\n",
       "      <th>24</th>\n",
       "      <td>Contract_One year</td>\n",
       "      <td>-0.67037</td>\n",
       "    </tr>\n",
       "    <tr>\n",
       "      <th>13</th>\n",
       "      <td>OnlineSecurity_Yes</td>\n",
       "      <td>-0.48451</td>\n",
       "    </tr>\n",
       "    <tr>\n",
       "      <th>19</th>\n",
       "      <td>TechSupport_Yes</td>\n",
       "      <td>-0.45795</td>\n",
       "    </tr>\n",
       "    <tr>\n",
       "      <th>15</th>\n",
       "      <td>OnlineBackup_Yes</td>\n",
       "      <td>-0.31356</td>\n",
       "    </tr>\n",
       "    <tr>\n",
       "      <th>22</th>\n",
       "      <td>StreamingMovies_No internet service</td>\n",
       "      <td>-0.22430</td>\n",
       "    </tr>\n",
       "    <tr>\n",
       "      <th>27</th>\n",
       "      <td>PaymentMethod_Credit card (automatic)</td>\n",
       "      <td>-0.09885</td>\n",
       "    </tr>\n",
       "    <tr>\n",
       "      <th>6</th>\n",
       "      <td>Dependents_Yes</td>\n",
       "      <td>-0.08138</td>\n",
       "    </tr>\n",
       "    <tr>\n",
       "      <th>17</th>\n",
       "      <td>DeviceProtection_Yes</td>\n",
       "      <td>-0.05324</td>\n",
       "    </tr>\n",
       "    <tr>\n",
       "      <th>29</th>\n",
       "      <td>PaymentMethod_Mailed check</td>\n",
       "      <td>-0.04479</td>\n",
       "    </tr>\n",
       "    <tr>\n",
       "      <th>5</th>\n",
       "      <td>Partner_Yes</td>\n",
       "      <td>-0.00494</td>\n",
       "    </tr>\n",
       "    <tr>\n",
       "      <th>12</th>\n",
       "      <td>OnlineSecurity_No internet service</td>\n",
       "      <td>0.00000</td>\n",
       "    </tr>\n",
       "    <tr>\n",
       "      <th>23</th>\n",
       "      <td>StreamingMovies_Yes</td>\n",
       "      <td>0.00000</td>\n",
       "    </tr>\n",
       "    <tr>\n",
       "      <th>21</th>\n",
       "      <td>StreamingTV_Yes</td>\n",
       "      <td>0.00000</td>\n",
       "    </tr>\n",
       "    <tr>\n",
       "      <th>11</th>\n",
       "      <td>InternetService_No</td>\n",
       "      <td>0.00000</td>\n",
       "    </tr>\n",
       "    <tr>\n",
       "      <th>18</th>\n",
       "      <td>TechSupport_No internet service</td>\n",
       "      <td>0.00000</td>\n",
       "    </tr>\n",
       "    <tr>\n",
       "      <th>20</th>\n",
       "      <td>StreamingTV_No internet service</td>\n",
       "      <td>0.00000</td>\n",
       "    </tr>\n",
       "    <tr>\n",
       "      <th>16</th>\n",
       "      <td>DeviceProtection_No internet service</td>\n",
       "      <td>0.00000</td>\n",
       "    </tr>\n",
       "    <tr>\n",
       "      <th>8</th>\n",
       "      <td>MultipleLines_No phone service</td>\n",
       "      <td>0.00000</td>\n",
       "    </tr>\n",
       "    <tr>\n",
       "      <th>14</th>\n",
       "      <td>OnlineBackup_No internet service</td>\n",
       "      <td>0.00000</td>\n",
       "    </tr>\n",
       "    <tr>\n",
       "      <th>3</th>\n",
       "      <td>gender_Male</td>\n",
       "      <td>0.04552</td>\n",
       "    </tr>\n",
       "    <tr>\n",
       "      <th>4</th>\n",
       "      <td>SeniorCitizen_1</td>\n",
       "      <td>0.15480</td>\n",
       "    </tr>\n",
       "    <tr>\n",
       "      <th>9</th>\n",
       "      <td>MultipleLines_Yes</td>\n",
       "      <td>0.18636</td>\n",
       "    </tr>\n",
       "    <tr>\n",
       "      <th>10</th>\n",
       "      <td>InternetService_Fiber optic</td>\n",
       "      <td>0.28410</td>\n",
       "    </tr>\n",
       "    <tr>\n",
       "      <th>28</th>\n",
       "      <td>PaymentMethod_Electronic check</td>\n",
       "      <td>0.29595</td>\n",
       "    </tr>\n",
       "    <tr>\n",
       "      <th>26</th>\n",
       "      <td>PaperlessBilling_Yes</td>\n",
       "      <td>0.36639</td>\n",
       "    </tr>\n",
       "    <tr>\n",
       "      <th>2</th>\n",
       "      <td>TotalCharges</td>\n",
       "      <td>0.51328</td>\n",
       "    </tr>\n",
       "    <tr>\n",
       "      <th>1</th>\n",
       "      <td>MonthlyCharges</td>\n",
       "      <td>0.63158</td>\n",
       "    </tr>\n",
       "  </tbody>\n",
       "</table>\n",
       "</div>"
      ],
      "text/plain": [
       "                                  feature     coef\n",
       "0                                  tenure -1.29813\n",
       "25                      Contract_Two year -1.28217\n",
       "7                        PhoneService_Yes -0.94033\n",
       "24                      Contract_One year -0.67037\n",
       "13                     OnlineSecurity_Yes -0.48451\n",
       "19                        TechSupport_Yes -0.45795\n",
       "15                       OnlineBackup_Yes -0.31356\n",
       "22    StreamingMovies_No internet service -0.22430\n",
       "27  PaymentMethod_Credit card (automatic) -0.09885\n",
       "6                          Dependents_Yes -0.08138\n",
       "17                   DeviceProtection_Yes -0.05324\n",
       "29             PaymentMethod_Mailed check -0.04479\n",
       "5                             Partner_Yes -0.00494\n",
       "12     OnlineSecurity_No internet service  0.00000\n",
       "23                    StreamingMovies_Yes  0.00000\n",
       "21                        StreamingTV_Yes  0.00000\n",
       "11                     InternetService_No  0.00000\n",
       "18        TechSupport_No internet service  0.00000\n",
       "20        StreamingTV_No internet service  0.00000\n",
       "16   DeviceProtection_No internet service  0.00000\n",
       "8          MultipleLines_No phone service  0.00000\n",
       "14       OnlineBackup_No internet service  0.00000\n",
       "3                             gender_Male  0.04552\n",
       "4                         SeniorCitizen_1  0.15480\n",
       "9                       MultipleLines_Yes  0.18636\n",
       "10            InternetService_Fiber optic  0.28410\n",
       "28         PaymentMethod_Electronic check  0.29595\n",
       "26                   PaperlessBilling_Yes  0.36639\n",
       "2                            TotalCharges  0.51328\n",
       "1                          MonthlyCharges  0.63158"
      ]
     },
     "execution_count": 172,
     "metadata": {},
     "output_type": "execute_result"
    }
   ],
   "source": [
    "logit2_coef = pd.DataFrame(zip(train_x.columns,logit2.coef_[0]), columns=['feature', 'coef'])\n",
    "logit2_coef.sort_values(by=['coef'])"
   ]
  },
  {
   "cell_type": "markdown",
   "metadata": {},
   "source": [
    "### The optimal parameter value is 0.4"
   ]
  },
  {
   "cell_type": "code",
   "execution_count": 173,
   "metadata": {},
   "outputs": [],
   "source": [
    "##def a function for logistic model evaluation\n",
    "def logit_eva(x,y,model,train_val):\n",
    "    name = str(train_val)+\"_\"\n",
    "    yhat = model.predict(x)\n",
    "    prob = model.predict_proba(x)\n",
    "    accuracy = metrics.accuracy_score(y, yhat)\n",
    "    precision = metrics.precision_score(y, yhat)\n",
    "    recall = metrics.recall_score(y, yhat)\n",
    "    fpr, tpr, threshold = metrics.roc_curve(y, prob[:,1], pos_label=1)\n",
    "    auc = metrics.auc(fpr, tpr)\n",
    "    f1 = metrics.f1_score(y, yhat)\n",
    "    value_list = [accuracy, precision, recall, auc, f1]\n",
    "    name_list = ['accuracy','precision','recall','auc', 'F1_score']\n",
    "    df = pd.DataFrame(zip(name_list, value_list), columns=['metric','value'])\n",
    "    plt.plot(fpr, tpr)\n",
    "    plt.xlabel(\"FPR\")\n",
    "    plt.ylabel(\"TPR\")\n",
    "    plt.plot([0, 1], [0, 1], color = 'black', linestyle = \"dashed\")\n",
    "    plt.title(str(train_val)+\" set ROC\")\n",
    "    plt.show()\n",
    "    return df"
   ]
  },
  {
   "cell_type": "code",
   "execution_count": 174,
   "metadata": {},
   "outputs": [
    {
     "data": {
      "image/png": "[encoded data removed]",
      "text/plain": [
       "<Figure size 432x288 with 1 Axes>"
      ]
     },
     "metadata": {
      "needs_background": "light"
     },
     "output_type": "display_data"
    },
    {
     "data": {
      "text/html": [
       "<div>\n",
       "<style scoped>\n",
       "    .dataframe tbody tr th:only-of-type {\n",
       "        vertical-align: middle;\n",
       "    }\n",
       "\n",
       "    .dataframe tbody tr th {\n",
       "        vertical-align: top;\n",
       "    }\n",
       "\n",
       "    .dataframe thead th {\n",
       "        text-align: right;\n",
       "    }\n",
       "</style>\n",
       "<table border=\"1\" class=\"dataframe\">\n",
       "  <thead>\n",
       "    <tr style=\"text-align: right;\">\n",
       "      <th></th>\n",
       "      <th>metric</th>\n",
       "      <th>value</th>\n",
       "    </tr>\n",
       "  </thead>\n",
       "  <tbody>\n",
       "    <tr>\n",
       "      <th>0</th>\n",
       "      <td>accuracy</td>\n",
       "      <td>0.80568</td>\n",
       "    </tr>\n",
       "    <tr>\n",
       "      <th>1</th>\n",
       "      <td>precision</td>\n",
       "      <td>0.66667</td>\n",
       "    </tr>\n",
       "    <tr>\n",
       "      <th>2</th>\n",
       "      <td>recall</td>\n",
       "      <td>0.55831</td>\n",
       "    </tr>\n",
       "    <tr>\n",
       "      <th>3</th>\n",
       "      <td>auc</td>\n",
       "      <td>0.84895</td>\n",
       "    </tr>\n",
       "    <tr>\n",
       "      <th>4</th>\n",
       "      <td>F1_score</td>\n",
       "      <td>0.60770</td>\n",
       "    </tr>\n",
       "  </tbody>\n",
       "</table>\n",
       "</div>"
      ],
      "text/plain": [
       "      metric   value\n",
       "0   accuracy 0.80568\n",
       "1  precision 0.66667\n",
       "2     recall 0.55831\n",
       "3        auc 0.84895\n",
       "4   F1_score 0.60770"
      ]
     },
     "execution_count": 174,
     "metadata": {},
     "output_type": "execute_result"
    }
   ],
   "source": [
    "##evaluation for train set\n",
    "logit2_train_df = logit_eva(x=train_x, y=train_y, model = logit2, train_val = \"train\")\n",
    "logit2_train_df"
   ]
  },
  {
   "cell_type": "code",
   "execution_count": 175,
   "metadata": {},
   "outputs": [
    {
     "data": {
      "image/png": "[encoded data removed]",
      "text/plain": [
       "<Figure size 432x288 with 1 Axes>"
      ]
     },
     "metadata": {
      "needs_background": "light"
     },
     "output_type": "display_data"
    },
    {
     "data": {
      "text/html": [
       "<div>\n",
       "<style scoped>\n",
       "    .dataframe tbody tr th:only-of-type {\n",
       "        vertical-align: middle;\n",
       "    }\n",
       "\n",
       "    .dataframe tbody tr th {\n",
       "        vertical-align: top;\n",
       "    }\n",
       "\n",
       "    .dataframe thead th {\n",
       "        text-align: right;\n",
       "    }\n",
       "</style>\n",
       "<table border=\"1\" class=\"dataframe\">\n",
       "  <thead>\n",
       "    <tr style=\"text-align: right;\">\n",
       "      <th></th>\n",
       "      <th>metric</th>\n",
       "      <th>value</th>\n",
       "    </tr>\n",
       "  </thead>\n",
       "  <tbody>\n",
       "    <tr>\n",
       "      <th>0</th>\n",
       "      <td>accuracy</td>\n",
       "      <td>0.80407</td>\n",
       "    </tr>\n",
       "    <tr>\n",
       "      <th>1</th>\n",
       "      <td>precision</td>\n",
       "      <td>0.62600</td>\n",
       "    </tr>\n",
       "    <tr>\n",
       "      <th>2</th>\n",
       "      <td>recall</td>\n",
       "      <td>0.57963</td>\n",
       "    </tr>\n",
       "    <tr>\n",
       "      <th>3</th>\n",
       "      <td>auc</td>\n",
       "      <td>0.84376</td>\n",
       "    </tr>\n",
       "    <tr>\n",
       "      <th>4</th>\n",
       "      <td>F1_score</td>\n",
       "      <td>0.60192</td>\n",
       "    </tr>\n",
       "  </tbody>\n",
       "</table>\n",
       "</div>"
      ],
      "text/plain": [
       "      metric   value\n",
       "0   accuracy 0.80407\n",
       "1  precision 0.62600\n",
       "2     recall 0.57963\n",
       "3        auc 0.84376\n",
       "4   F1_score 0.60192"
      ]
     },
     "execution_count": 175,
     "metadata": {},
     "output_type": "execute_result"
    }
   ],
   "source": [
    "## evaluation for val set\n",
    "logit2_val_df = logit_eva(x=val_x, y= val_y, model = logit2, train_val = \"val\")\n",
    "logit2_val_df"
   ]
  },
  {
   "cell_type": "markdown",
   "metadata": {},
   "source": [
    "    The validation set perform largely inline with the training set"
   ]
  },
  {
   "cell_type": "markdown",
   "metadata": {},
   "source": [
    "### C. re-do part b with no penalty"
   ]
  },
  {
   "cell_type": "code",
   "execution_count": 256,
   "metadata": {},
   "outputs": [],
   "source": [
    "logit3 = LogisticRegression(random_state = 9660, penalty =\"none\").fit(train_x,train_y)"
   ]
  },
  {
   "cell_type": "code",
   "execution_count": 257,
   "metadata": {},
   "outputs": [
    {
     "data": {
      "text/plain": [
       "array([[-6.19587143e-01, -1.94603651e+00,  2.42180588e-03,\n",
       "         6.43630925e-02,  1.68179702e-01,  3.11988352e-02,\n",
       "        -5.52034721e-02, -7.86906921e-01, -1.60875847e+00,\n",
       "         7.67967720e-01,  2.59361789e+00, -3.55959863e-01,\n",
       "        -3.55959863e-01,  3.33105431e-02, -3.55959863e-01,\n",
       "         1.51115163e-01, -3.55959863e-01,  4.26180443e-01,\n",
       "        -3.55959863e-01,  5.20935685e-02, -3.55959863e-01,\n",
       "         2.93990305e-01, -3.55959863e-01,  3.38468907e-01,\n",
       "        -6.98308202e-01, -1.49067506e+00,  3.96373655e-01,\n",
       "        -1.01384440e-01,  2.35988143e-01, -1.65928087e-01,\n",
       "        -1.89392012e-02,  6.32459212e-01, -7.51891252e-02,\n",
       "         4.57022275e-01]])"
      ]
     },
     "execution_count": 257,
     "metadata": {},
     "output_type": "execute_result"
    }
   ],
   "source": [
    "logit3.coef_"
   ]
  },
  {
   "cell_type": "code",
   "execution_count": 258,
   "metadata": {},
   "outputs": [
    {
     "data": {
      "text/html": [
       "<div>\n",
       "<style scoped>\n",
       "    .dataframe tbody tr th:only-of-type {\n",
       "        vertical-align: middle;\n",
       "    }\n",
       "\n",
       "    .dataframe tbody tr th {\n",
       "        vertical-align: top;\n",
       "    }\n",
       "\n",
       "    .dataframe thead th {\n",
       "        text-align: right;\n",
       "    }\n",
       "</style>\n",
       "<table border=\"1\" class=\"dataframe\">\n",
       "  <thead>\n",
       "    <tr style=\"text-align: right;\">\n",
       "      <th></th>\n",
       "      <th>feature</th>\n",
       "      <th>coef</th>\n",
       "    </tr>\n",
       "  </thead>\n",
       "  <tbody>\n",
       "    <tr>\n",
       "      <th>1</th>\n",
       "      <td>MonthlyCharges</td>\n",
       "      <td>-1.94604</td>\n",
       "    </tr>\n",
       "    <tr>\n",
       "      <th>8</th>\n",
       "      <td>MultipleLines_No phone service</td>\n",
       "      <td>-1.60876</td>\n",
       "    </tr>\n",
       "    <tr>\n",
       "      <th>25</th>\n",
       "      <td>Contract_Two year</td>\n",
       "      <td>-1.49068</td>\n",
       "    </tr>\n",
       "    <tr>\n",
       "      <th>7</th>\n",
       "      <td>PhoneService_Yes</td>\n",
       "      <td>-0.78691</td>\n",
       "    </tr>\n",
       "    <tr>\n",
       "      <th>24</th>\n",
       "      <td>Contract_One year</td>\n",
       "      <td>-0.69831</td>\n",
       "    </tr>\n",
       "    <tr>\n",
       "      <th>0</th>\n",
       "      <td>tenure</td>\n",
       "      <td>-0.61959</td>\n",
       "    </tr>\n",
       "    <tr>\n",
       "      <th>22</th>\n",
       "      <td>StreamingMovies_No internet service</td>\n",
       "      <td>-0.35596</td>\n",
       "    </tr>\n",
       "    <tr>\n",
       "      <th>20</th>\n",
       "      <td>StreamingTV_No internet service</td>\n",
       "      <td>-0.35596</td>\n",
       "    </tr>\n",
       "    <tr>\n",
       "      <th>18</th>\n",
       "      <td>TechSupport_No internet service</td>\n",
       "      <td>-0.35596</td>\n",
       "    </tr>\n",
       "    <tr>\n",
       "      <th>14</th>\n",
       "      <td>OnlineBackup_No internet service</td>\n",
       "      <td>-0.35596</td>\n",
       "    </tr>\n",
       "    <tr>\n",
       "      <th>12</th>\n",
       "      <td>OnlineSecurity_No internet service</td>\n",
       "      <td>-0.35596</td>\n",
       "    </tr>\n",
       "    <tr>\n",
       "      <th>16</th>\n",
       "      <td>DeviceProtection_No internet service</td>\n",
       "      <td>-0.35596</td>\n",
       "    </tr>\n",
       "    <tr>\n",
       "      <th>11</th>\n",
       "      <td>InternetService_No</td>\n",
       "      <td>-0.35596</td>\n",
       "    </tr>\n",
       "    <tr>\n",
       "      <th>29</th>\n",
       "      <td>PaymentMethod_Mailed check</td>\n",
       "      <td>-0.16593</td>\n",
       "    </tr>\n",
       "    <tr>\n",
       "      <th>27</th>\n",
       "      <td>PaymentMethod_Credit card (automatic)</td>\n",
       "      <td>-0.10138</td>\n",
       "    </tr>\n",
       "    <tr>\n",
       "      <th>32</th>\n",
       "      <td>new_customer</td>\n",
       "      <td>-0.07519</td>\n",
       "    </tr>\n",
       "    <tr>\n",
       "      <th>6</th>\n",
       "      <td>Dependents_Yes</td>\n",
       "      <td>-0.05520</td>\n",
       "    </tr>\n",
       "    <tr>\n",
       "      <th>30</th>\n",
       "      <td>phone</td>\n",
       "      <td>-0.01894</td>\n",
       "    </tr>\n",
       "    <tr>\n",
       "      <th>2</th>\n",
       "      <td>TotalCharges</td>\n",
       "      <td>0.00242</td>\n",
       "    </tr>\n",
       "    <tr>\n",
       "      <th>5</th>\n",
       "      <td>Partner_Yes</td>\n",
       "      <td>0.03120</td>\n",
       "    </tr>\n",
       "    <tr>\n",
       "      <th>13</th>\n",
       "      <td>OnlineSecurity_Yes</td>\n",
       "      <td>0.03331</td>\n",
       "    </tr>\n",
       "    <tr>\n",
       "      <th>19</th>\n",
       "      <td>TechSupport_Yes</td>\n",
       "      <td>0.05209</td>\n",
       "    </tr>\n",
       "    <tr>\n",
       "      <th>3</th>\n",
       "      <td>gender_Male</td>\n",
       "      <td>0.06436</td>\n",
       "    </tr>\n",
       "    <tr>\n",
       "      <th>15</th>\n",
       "      <td>OnlineBackup_Yes</td>\n",
       "      <td>0.15112</td>\n",
       "    </tr>\n",
       "    <tr>\n",
       "      <th>4</th>\n",
       "      <td>SeniorCitizen_1</td>\n",
       "      <td>0.16818</td>\n",
       "    </tr>\n",
       "    <tr>\n",
       "      <th>28</th>\n",
       "      <td>PaymentMethod_Electronic check</td>\n",
       "      <td>0.23599</td>\n",
       "    </tr>\n",
       "    <tr>\n",
       "      <th>21</th>\n",
       "      <td>StreamingTV_Yes</td>\n",
       "      <td>0.29399</td>\n",
       "    </tr>\n",
       "    <tr>\n",
       "      <th>23</th>\n",
       "      <td>StreamingMovies_Yes</td>\n",
       "      <td>0.33847</td>\n",
       "    </tr>\n",
       "    <tr>\n",
       "      <th>26</th>\n",
       "      <td>PaperlessBilling_Yes</td>\n",
       "      <td>0.39637</td>\n",
       "    </tr>\n",
       "    <tr>\n",
       "      <th>17</th>\n",
       "      <td>DeviceProtection_Yes</td>\n",
       "      <td>0.42618</td>\n",
       "    </tr>\n",
       "    <tr>\n",
       "      <th>33</th>\n",
       "      <td>MonthlyRatio</td>\n",
       "      <td>0.45702</td>\n",
       "    </tr>\n",
       "    <tr>\n",
       "      <th>31</th>\n",
       "      <td>Streaming</td>\n",
       "      <td>0.63246</td>\n",
       "    </tr>\n",
       "    <tr>\n",
       "      <th>9</th>\n",
       "      <td>MultipleLines_Yes</td>\n",
       "      <td>0.76797</td>\n",
       "    </tr>\n",
       "    <tr>\n",
       "      <th>10</th>\n",
       "      <td>InternetService_Fiber optic</td>\n",
       "      <td>2.59362</td>\n",
       "    </tr>\n",
       "  </tbody>\n",
       "</table>\n",
       "</div>"
      ],
      "text/plain": [
       "                                  feature     coef\n",
       "1                          MonthlyCharges -1.94604\n",
       "8          MultipleLines_No phone service -1.60876\n",
       "25                      Contract_Two year -1.49068\n",
       "7                        PhoneService_Yes -0.78691\n",
       "24                      Contract_One year -0.69831\n",
       "0                                  tenure -0.61959\n",
       "22    StreamingMovies_No internet service -0.35596\n",
       "20        StreamingTV_No internet service -0.35596\n",
       "18        TechSupport_No internet service -0.35596\n",
       "14       OnlineBackup_No internet service -0.35596\n",
       "12     OnlineSecurity_No internet service -0.35596\n",
       "16   DeviceProtection_No internet service -0.35596\n",
       "11                     InternetService_No -0.35596\n",
       "29             PaymentMethod_Mailed check -0.16593\n",
       "27  PaymentMethod_Credit card (automatic) -0.10138\n",
       "32                           new_customer -0.07519\n",
       "6                          Dependents_Yes -0.05520\n",
       "30                                  phone -0.01894\n",
       "2                            TotalCharges  0.00242\n",
       "5                             Partner_Yes  0.03120\n",
       "13                     OnlineSecurity_Yes  0.03331\n",
       "19                        TechSupport_Yes  0.05209\n",
       "3                             gender_Male  0.06436\n",
       "15                       OnlineBackup_Yes  0.15112\n",
       "4                         SeniorCitizen_1  0.16818\n",
       "28         PaymentMethod_Electronic check  0.23599\n",
       "21                        StreamingTV_Yes  0.29399\n",
       "23                    StreamingMovies_Yes  0.33847\n",
       "26                   PaperlessBilling_Yes  0.39637\n",
       "17                   DeviceProtection_Yes  0.42618\n",
       "33                           MonthlyRatio  0.45702\n",
       "31                              Streaming  0.63246\n",
       "9                       MultipleLines_Yes  0.76797\n",
       "10            InternetService_Fiber optic  2.59362"
      ]
     },
     "execution_count": 258,
     "metadata": {},
     "output_type": "execute_result"
    }
   ],
   "source": [
    "logit3_coef = pd.DataFrame(zip(train_x.columns,logit3.coef_[0]), columns=['feature', 'coef'])\n",
    "logit3_coef.sort_values(by=['coef'])"
   ]
  },
  {
   "cell_type": "code",
   "execution_count": 259,
   "metadata": {},
   "outputs": [
    {
     "data": {
      "image/png": "[encoded data removed]",
      "text/plain": [
       "<Figure size 432x288 with 1 Axes>"
      ]
     },
     "metadata": {
      "needs_background": "light"
     },
     "output_type": "display_data"
    },
    {
     "data": {
      "text/html": [
       "<div>\n",
       "<style scoped>\n",
       "    .dataframe tbody tr th:only-of-type {\n",
       "        vertical-align: middle;\n",
       "    }\n",
       "\n",
       "    .dataframe tbody tr th {\n",
       "        vertical-align: top;\n",
       "    }\n",
       "\n",
       "    .dataframe thead th {\n",
       "        text-align: right;\n",
       "    }\n",
       "</style>\n",
       "<table border=\"1\" class=\"dataframe\">\n",
       "  <thead>\n",
       "    <tr style=\"text-align: right;\">\n",
       "      <th></th>\n",
       "      <th>metric</th>\n",
       "      <th>value</th>\n",
       "    </tr>\n",
       "  </thead>\n",
       "  <tbody>\n",
       "    <tr>\n",
       "      <th>0</th>\n",
       "      <td>accuracy</td>\n",
       "      <td>0.81136</td>\n",
       "    </tr>\n",
       "    <tr>\n",
       "      <th>1</th>\n",
       "      <td>precision</td>\n",
       "      <td>0.68421</td>\n",
       "    </tr>\n",
       "    <tr>\n",
       "      <th>2</th>\n",
       "      <td>recall</td>\n",
       "      <td>0.55756</td>\n",
       "    </tr>\n",
       "    <tr>\n",
       "      <th>3</th>\n",
       "      <td>auc</td>\n",
       "      <td>0.85507</td>\n",
       "    </tr>\n",
       "    <tr>\n",
       "      <th>4</th>\n",
       "      <td>F1_score</td>\n",
       "      <td>0.61443</td>\n",
       "    </tr>\n",
       "  </tbody>\n",
       "</table>\n",
       "</div>"
      ],
      "text/plain": [
       "      metric   value\n",
       "0   accuracy 0.81136\n",
       "1  precision 0.68421\n",
       "2     recall 0.55756\n",
       "3        auc 0.85507\n",
       "4   F1_score 0.61443"
      ]
     },
     "execution_count": 259,
     "metadata": {},
     "output_type": "execute_result"
    }
   ],
   "source": [
    "##evaluation for train set\n",
    "logit3_train_df = logit_eva(x=train_x, y=train_y, model = logit3, train_val = \"train\")\n",
    "logit3_train_df"
   ]
  },
  {
   "cell_type": "code",
   "execution_count": 260,
   "metadata": {},
   "outputs": [
    {
     "data": {
      "image/png": "[encoded data removed]",
      "text/plain": [
       "<Figure size 432x288 with 1 Axes>"
      ]
     },
     "metadata": {
      "needs_background": "light"
     },
     "output_type": "display_data"
    },
    {
     "data": {
      "text/html": [
       "<div>\n",
       "<style scoped>\n",
       "    .dataframe tbody tr th:only-of-type {\n",
       "        vertical-align: middle;\n",
       "    }\n",
       "\n",
       "    .dataframe tbody tr th {\n",
       "        vertical-align: top;\n",
       "    }\n",
       "\n",
       "    .dataframe thead th {\n",
       "        text-align: right;\n",
       "    }\n",
       "</style>\n",
       "<table border=\"1\" class=\"dataframe\">\n",
       "  <thead>\n",
       "    <tr style=\"text-align: right;\">\n",
       "      <th></th>\n",
       "      <th>metric</th>\n",
       "      <th>value</th>\n",
       "    </tr>\n",
       "  </thead>\n",
       "  <tbody>\n",
       "    <tr>\n",
       "      <th>0</th>\n",
       "      <td>accuracy</td>\n",
       "      <td>0.80360</td>\n",
       "    </tr>\n",
       "    <tr>\n",
       "      <th>1</th>\n",
       "      <td>precision</td>\n",
       "      <td>0.62575</td>\n",
       "    </tr>\n",
       "    <tr>\n",
       "      <th>2</th>\n",
       "      <td>recall</td>\n",
       "      <td>0.57593</td>\n",
       "    </tr>\n",
       "    <tr>\n",
       "      <th>3</th>\n",
       "      <td>auc</td>\n",
       "      <td>0.84759</td>\n",
       "    </tr>\n",
       "    <tr>\n",
       "      <th>4</th>\n",
       "      <td>F1_score</td>\n",
       "      <td>0.59981</td>\n",
       "    </tr>\n",
       "  </tbody>\n",
       "</table>\n",
       "</div>"
      ],
      "text/plain": [
       "      metric   value\n",
       "0   accuracy 0.80360\n",
       "1  precision 0.62575\n",
       "2     recall 0.57593\n",
       "3        auc 0.84759\n",
       "4   F1_score 0.59981"
      ]
     },
     "execution_count": 260,
     "metadata": {},
     "output_type": "execute_result"
    }
   ],
   "source": [
    "## evaluation for val set\n",
    "logit3_val_df = logit_eva(x=val_x, y= val_y, model = logit3, train_val = \"val\")\n",
    "logit3_val_df"
   ]
  },
  {
   "cell_type": "markdown",
   "metadata": {},
   "source": [
    "Compare with the model with l1 penalty and without penalty"
   ]
  },
  {
   "cell_type": "code",
   "execution_count": 261,
   "metadata": {},
   "outputs": [
    {
     "data": {
      "text/html": [
       "<div>\n",
       "<style scoped>\n",
       "    .dataframe tbody tr th:only-of-type {\n",
       "        vertical-align: middle;\n",
       "    }\n",
       "\n",
       "    .dataframe tbody tr th {\n",
       "        vertical-align: top;\n",
       "    }\n",
       "\n",
       "    .dataframe thead th {\n",
       "        text-align: right;\n",
       "    }\n",
       "</style>\n",
       "<table border=\"1\" class=\"dataframe\">\n",
       "  <thead>\n",
       "    <tr style=\"text-align: right;\">\n",
       "      <th></th>\n",
       "      <th>metric</th>\n",
       "      <th>value</th>\n",
       "      <th>value</th>\n",
       "    </tr>\n",
       "  </thead>\n",
       "  <tbody>\n",
       "    <tr>\n",
       "      <th>0</th>\n",
       "      <td>accuracy</td>\n",
       "      <td>0.80568</td>\n",
       "      <td>0.81136</td>\n",
       "    </tr>\n",
       "    <tr>\n",
       "      <th>1</th>\n",
       "      <td>precision</td>\n",
       "      <td>0.66667</td>\n",
       "      <td>0.68421</td>\n",
       "    </tr>\n",
       "    <tr>\n",
       "      <th>2</th>\n",
       "      <td>recall</td>\n",
       "      <td>0.55831</td>\n",
       "      <td>0.55756</td>\n",
       "    </tr>\n",
       "    <tr>\n",
       "      <th>3</th>\n",
       "      <td>auc</td>\n",
       "      <td>0.84895</td>\n",
       "      <td>0.85507</td>\n",
       "    </tr>\n",
       "    <tr>\n",
       "      <th>4</th>\n",
       "      <td>F1_score</td>\n",
       "      <td>0.60770</td>\n",
       "      <td>0.61443</td>\n",
       "    </tr>\n",
       "  </tbody>\n",
       "</table>\n",
       "</div>"
      ],
      "text/plain": [
       "      metric   value   value\n",
       "0   accuracy 0.80568 0.81136\n",
       "1  precision 0.66667 0.68421\n",
       "2     recall 0.55831 0.55756\n",
       "3        auc 0.84895 0.85507\n",
       "4   F1_score 0.60770 0.61443"
      ]
     },
     "execution_count": 261,
     "metadata": {},
     "output_type": "execute_result"
    }
   ],
   "source": [
    "pd.concat([logit2_train_df, logit3_train_df.value], axis =1)"
   ]
  },
  {
   "cell_type": "code",
   "execution_count": 182,
   "metadata": {},
   "outputs": [
    {
     "data": {
      "text/html": [
       "<div>\n",
       "<style scoped>\n",
       "    .dataframe tbody tr th:only-of-type {\n",
       "        vertical-align: middle;\n",
       "    }\n",
       "\n",
       "    .dataframe tbody tr th {\n",
       "        vertical-align: top;\n",
       "    }\n",
       "\n",
       "    .dataframe thead th {\n",
       "        text-align: right;\n",
       "    }\n",
       "</style>\n",
       "<table border=\"1\" class=\"dataframe\">\n",
       "  <thead>\n",
       "    <tr style=\"text-align: right;\">\n",
       "      <th></th>\n",
       "      <th>metric</th>\n",
       "      <th>value</th>\n",
       "      <th>value</th>\n",
       "    </tr>\n",
       "  </thead>\n",
       "  <tbody>\n",
       "    <tr>\n",
       "      <th>0</th>\n",
       "      <td>accuracy</td>\n",
       "      <td>0.80407</td>\n",
       "      <td>0.80549</td>\n",
       "    </tr>\n",
       "    <tr>\n",
       "      <th>1</th>\n",
       "      <td>precision</td>\n",
       "      <td>0.62600</td>\n",
       "      <td>0.62926</td>\n",
       "    </tr>\n",
       "    <tr>\n",
       "      <th>2</th>\n",
       "      <td>recall</td>\n",
       "      <td>0.57963</td>\n",
       "      <td>0.58148</td>\n",
       "    </tr>\n",
       "    <tr>\n",
       "      <th>3</th>\n",
       "      <td>auc</td>\n",
       "      <td>0.84376</td>\n",
       "      <td>0.84363</td>\n",
       "    </tr>\n",
       "    <tr>\n",
       "      <th>4</th>\n",
       "      <td>F1_score</td>\n",
       "      <td>0.60192</td>\n",
       "      <td>0.60443</td>\n",
       "    </tr>\n",
       "  </tbody>\n",
       "</table>\n",
       "</div>"
      ],
      "text/plain": [
       "      metric   value   value\n",
       "0   accuracy 0.80407 0.80549\n",
       "1  precision 0.62600 0.62926\n",
       "2     recall 0.57963 0.58148\n",
       "3        auc 0.84376 0.84363\n",
       "4   F1_score 0.60192 0.60443"
      ]
     },
     "execution_count": 182,
     "metadata": {},
     "output_type": "execute_result"
    }
   ],
   "source": [
    "pd.concat([logit2_val_df, logit3_val_df.value], axis =1)"
   ]
  },
  {
   "cell_type": "markdown",
   "metadata": {},
   "source": [
    "The coeffients for the model without penalty(logit3) did not shrunk to 0.\n",
    "There are 13 coeffients for the model with L1 penalty(logit2) shrunk to 0\n",
    "There performance of these two models are very similiar."
   ]
  },
  {
   "cell_type": "code",
   "execution_count": 183,
   "metadata": {},
   "outputs": [
    {
     "data": {
      "text/plain": [
       "0    3601\n",
       "1    1329\n",
       "Name: Churn, dtype: int64"
      ]
     },
     "execution_count": 183,
     "metadata": {},
     "output_type": "execute_result"
    }
   ],
   "source": [
    "train_y.value_counts()"
   ]
  },
  {
   "cell_type": "code",
   "execution_count": 184,
   "metadata": {},
   "outputs": [
    {
     "data": {
      "text/plain": [
       "0.2695740365111562"
      ]
     },
     "execution_count": 184,
     "metadata": {},
     "output_type": "execute_result"
    }
   ],
   "source": [
    "train_y.sum()/train_y.shape[0]"
   ]
  },
  {
   "cell_type": "markdown",
   "metadata": {},
   "source": [
    "### d. redo b) with L2 penalty."
   ]
  },
  {
   "cell_type": "code",
   "execution_count": 185,
   "metadata": {},
   "outputs": [],
   "source": [
    "logit4 = LogisticRegressionCV(random_state = 9660, penalty = 'l2', Cs =Cs).fit(train_x,train_y)"
   ]
  },
  {
   "cell_type": "code",
   "execution_count": 186,
   "metadata": {},
   "outputs": [
    {
     "data": {
      "text/plain": [
       "array([0.3])"
      ]
     },
     "execution_count": 186,
     "metadata": {},
     "output_type": "execute_result"
    }
   ],
   "source": [
    "logit4.C_"
   ]
  },
  {
   "cell_type": "code",
   "execution_count": 187,
   "metadata": {},
   "outputs": [
    {
     "data": {
      "text/html": [
       "<div>\n",
       "<style scoped>\n",
       "    .dataframe tbody tr th:only-of-type {\n",
       "        vertical-align: middle;\n",
       "    }\n",
       "\n",
       "    .dataframe tbody tr th {\n",
       "        vertical-align: top;\n",
       "    }\n",
       "\n",
       "    .dataframe thead th {\n",
       "        text-align: right;\n",
       "    }\n",
       "</style>\n",
       "<table border=\"1\" class=\"dataframe\">\n",
       "  <thead>\n",
       "    <tr style=\"text-align: right;\">\n",
       "      <th></th>\n",
       "      <th>feature</th>\n",
       "      <th>coef</th>\n",
       "    </tr>\n",
       "  </thead>\n",
       "  <tbody>\n",
       "    <tr>\n",
       "      <th>0</th>\n",
       "      <td>tenure</td>\n",
       "      <td>-1.28687</td>\n",
       "    </tr>\n",
       "    <tr>\n",
       "      <th>25</th>\n",
       "      <td>Contract_Two year</td>\n",
       "      <td>-1.19479</td>\n",
       "    </tr>\n",
       "    <tr>\n",
       "      <th>24</th>\n",
       "      <td>Contract_One year</td>\n",
       "      <td>-0.64362</td>\n",
       "    </tr>\n",
       "    <tr>\n",
       "      <th>13</th>\n",
       "      <td>OnlineSecurity_Yes</td>\n",
       "      <td>-0.40003</td>\n",
       "    </tr>\n",
       "    <tr>\n",
       "      <th>19</th>\n",
       "      <td>TechSupport_Yes</td>\n",
       "      <td>-0.37473</td>\n",
       "    </tr>\n",
       "    <tr>\n",
       "      <th>7</th>\n",
       "      <td>PhoneService_Yes</td>\n",
       "      <td>-0.27354</td>\n",
       "    </tr>\n",
       "    <tr>\n",
       "      <th>15</th>\n",
       "      <td>OnlineBackup_Yes</td>\n",
       "      <td>-0.23046</td>\n",
       "    </tr>\n",
       "    <tr>\n",
       "      <th>27</th>\n",
       "      <td>PaymentMethod_Credit card (automatic)</td>\n",
       "      <td>-0.12278</td>\n",
       "    </tr>\n",
       "    <tr>\n",
       "      <th>22</th>\n",
       "      <td>StreamingMovies_No internet service</td>\n",
       "      <td>-0.10590</td>\n",
       "    </tr>\n",
       "    <tr>\n",
       "      <th>20</th>\n",
       "      <td>StreamingTV_No internet service</td>\n",
       "      <td>-0.10590</td>\n",
       "    </tr>\n",
       "    <tr>\n",
       "      <th>18</th>\n",
       "      <td>TechSupport_No internet service</td>\n",
       "      <td>-0.10590</td>\n",
       "    </tr>\n",
       "    <tr>\n",
       "      <th>16</th>\n",
       "      <td>DeviceProtection_No internet service</td>\n",
       "      <td>-0.10590</td>\n",
       "    </tr>\n",
       "    <tr>\n",
       "      <th>14</th>\n",
       "      <td>OnlineBackup_No internet service</td>\n",
       "      <td>-0.10590</td>\n",
       "    </tr>\n",
       "    <tr>\n",
       "      <th>11</th>\n",
       "      <td>InternetService_No</td>\n",
       "      <td>-0.10590</td>\n",
       "    </tr>\n",
       "    <tr>\n",
       "      <th>12</th>\n",
       "      <td>OnlineSecurity_No internet service</td>\n",
       "      <td>-0.10590</td>\n",
       "    </tr>\n",
       "    <tr>\n",
       "      <th>6</th>\n",
       "      <td>Dependents_Yes</td>\n",
       "      <td>-0.08621</td>\n",
       "    </tr>\n",
       "    <tr>\n",
       "      <th>29</th>\n",
       "      <td>PaymentMethod_Mailed check</td>\n",
       "      <td>-0.05927</td>\n",
       "    </tr>\n",
       "    <tr>\n",
       "      <th>5</th>\n",
       "      <td>Partner_Yes</td>\n",
       "      <td>-0.01679</td>\n",
       "    </tr>\n",
       "    <tr>\n",
       "      <th>17</th>\n",
       "      <td>DeviceProtection_Yes</td>\n",
       "      <td>0.02069</td>\n",
       "    </tr>\n",
       "    <tr>\n",
       "      <th>3</th>\n",
       "      <td>gender_Male</td>\n",
       "      <td>0.06775</td>\n",
       "    </tr>\n",
       "    <tr>\n",
       "      <th>1</th>\n",
       "      <td>MonthlyCharges</td>\n",
       "      <td>0.06956</td>\n",
       "    </tr>\n",
       "    <tr>\n",
       "      <th>21</th>\n",
       "      <td>StreamingTV_Yes</td>\n",
       "      <td>0.16168</td>\n",
       "    </tr>\n",
       "    <tr>\n",
       "      <th>4</th>\n",
       "      <td>SeniorCitizen_1</td>\n",
       "      <td>0.17362</td>\n",
       "    </tr>\n",
       "    <tr>\n",
       "      <th>23</th>\n",
       "      <td>StreamingMovies_Yes</td>\n",
       "      <td>0.20953</td>\n",
       "    </tr>\n",
       "    <tr>\n",
       "      <th>8</th>\n",
       "      <td>MultipleLines_No phone service</td>\n",
       "      <td>0.27349</td>\n",
       "    </tr>\n",
       "    <tr>\n",
       "      <th>9</th>\n",
       "      <td>MultipleLines_Yes</td>\n",
       "      <td>0.29408</td>\n",
       "    </tr>\n",
       "    <tr>\n",
       "      <th>28</th>\n",
       "      <td>PaymentMethod_Electronic check</td>\n",
       "      <td>0.29626</td>\n",
       "    </tr>\n",
       "    <tr>\n",
       "      <th>26</th>\n",
       "      <td>PaperlessBilling_Yes</td>\n",
       "      <td>0.38182</td>\n",
       "    </tr>\n",
       "    <tr>\n",
       "      <th>2</th>\n",
       "      <td>TotalCharges</td>\n",
       "      <td>0.49472</td>\n",
       "    </tr>\n",
       "    <tr>\n",
       "      <th>10</th>\n",
       "      <td>InternetService_Fiber optic</td>\n",
       "      <td>0.74399</td>\n",
       "    </tr>\n",
       "  </tbody>\n",
       "</table>\n",
       "</div>"
      ],
      "text/plain": [
       "                                  feature     coef\n",
       "0                                  tenure -1.28687\n",
       "25                      Contract_Two year -1.19479\n",
       "24                      Contract_One year -0.64362\n",
       "13                     OnlineSecurity_Yes -0.40003\n",
       "19                        TechSupport_Yes -0.37473\n",
       "7                        PhoneService_Yes -0.27354\n",
       "15                       OnlineBackup_Yes -0.23046\n",
       "27  PaymentMethod_Credit card (automatic) -0.12278\n",
       "22    StreamingMovies_No internet service -0.10590\n",
       "20        StreamingTV_No internet service -0.10590\n",
       "18        TechSupport_No internet service -0.10590\n",
       "16   DeviceProtection_No internet service -0.10590\n",
       "14       OnlineBackup_No internet service -0.10590\n",
       "11                     InternetService_No -0.10590\n",
       "12     OnlineSecurity_No internet service -0.10590\n",
       "6                          Dependents_Yes -0.08621\n",
       "29             PaymentMethod_Mailed check -0.05927\n",
       "5                             Partner_Yes -0.01679\n",
       "17                   DeviceProtection_Yes  0.02069\n",
       "3                             gender_Male  0.06775\n",
       "1                          MonthlyCharges  0.06956\n",
       "21                        StreamingTV_Yes  0.16168\n",
       "4                         SeniorCitizen_1  0.17362\n",
       "23                    StreamingMovies_Yes  0.20953\n",
       "8          MultipleLines_No phone service  0.27349\n",
       "9                       MultipleLines_Yes  0.29408\n",
       "28         PaymentMethod_Electronic check  0.29626\n",
       "26                   PaperlessBilling_Yes  0.38182\n",
       "2                            TotalCharges  0.49472\n",
       "10            InternetService_Fiber optic  0.74399"
      ]
     },
     "execution_count": 187,
     "metadata": {},
     "output_type": "execute_result"
    }
   ],
   "source": [
    "logit4_coef = pd.DataFrame(zip(train_x.columns,logit4.coef_[0]), columns=['feature', 'coef'])\n",
    "logit4_coef.sort_values(by=['coef'])"
   ]
  },
  {
   "cell_type": "code",
   "execution_count": 188,
   "metadata": {},
   "outputs": [
    {
     "data": {
      "image/png": "[encoded data removed]",
      "text/plain": [
       "<Figure size 432x288 with 1 Axes>"
      ]
     },
     "metadata": {
      "needs_background": "light"
     },
     "output_type": "display_data"
    },
    {
     "data": {
      "text/html": [
       "<div>\n",
       "<style scoped>\n",
       "    .dataframe tbody tr th:only-of-type {\n",
       "        vertical-align: middle;\n",
       "    }\n",
       "\n",
       "    .dataframe tbody tr th {\n",
       "        vertical-align: top;\n",
       "    }\n",
       "\n",
       "    .dataframe thead th {\n",
       "        text-align: right;\n",
       "    }\n",
       "</style>\n",
       "<table border=\"1\" class=\"dataframe\">\n",
       "  <thead>\n",
       "    <tr style=\"text-align: right;\">\n",
       "      <th></th>\n",
       "      <th>metric</th>\n",
       "      <th>value</th>\n",
       "    </tr>\n",
       "  </thead>\n",
       "  <tbody>\n",
       "    <tr>\n",
       "      <th>0</th>\n",
       "      <td>accuracy</td>\n",
       "      <td>0.80548</td>\n",
       "    </tr>\n",
       "    <tr>\n",
       "      <th>1</th>\n",
       "      <td>precision</td>\n",
       "      <td>0.66667</td>\n",
       "    </tr>\n",
       "    <tr>\n",
       "      <th>2</th>\n",
       "      <td>recall</td>\n",
       "      <td>0.55681</td>\n",
       "    </tr>\n",
       "    <tr>\n",
       "      <th>3</th>\n",
       "      <td>auc</td>\n",
       "      <td>0.84895</td>\n",
       "    </tr>\n",
       "    <tr>\n",
       "      <th>4</th>\n",
       "      <td>F1_score</td>\n",
       "      <td>0.60681</td>\n",
       "    </tr>\n",
       "  </tbody>\n",
       "</table>\n",
       "</div>"
      ],
      "text/plain": [
       "      metric   value\n",
       "0   accuracy 0.80548\n",
       "1  precision 0.66667\n",
       "2     recall 0.55681\n",
       "3        auc 0.84895\n",
       "4   F1_score 0.60681"
      ]
     },
     "execution_count": 188,
     "metadata": {},
     "output_type": "execute_result"
    }
   ],
   "source": [
    "##evaluation for train set\n",
    "logit4_train_df = logit_eva(x=train_x, y=train_y, model = logit4, train_val = \"train\")\n",
    "logit4_train_df"
   ]
  },
  {
   "cell_type": "code",
   "execution_count": 189,
   "metadata": {},
   "outputs": [
    {
     "data": {
      "image/png": "[encoded data removed]",
      "text/plain": [
       "<Figure size 432x288 with 1 Axes>"
      ]
     },
     "metadata": {
      "needs_background": "light"
     },
     "output_type": "display_data"
    },
    {
     "data": {
      "text/html": [
       "<div>\n",
       "<style scoped>\n",
       "    .dataframe tbody tr th:only-of-type {\n",
       "        vertical-align: middle;\n",
       "    }\n",
       "\n",
       "    .dataframe tbody tr th {\n",
       "        vertical-align: top;\n",
       "    }\n",
       "\n",
       "    .dataframe thead th {\n",
       "        text-align: right;\n",
       "    }\n",
       "</style>\n",
       "<table border=\"1\" class=\"dataframe\">\n",
       "  <thead>\n",
       "    <tr style=\"text-align: right;\">\n",
       "      <th></th>\n",
       "      <th>metric</th>\n",
       "      <th>value</th>\n",
       "    </tr>\n",
       "  </thead>\n",
       "  <tbody>\n",
       "    <tr>\n",
       "      <th>0</th>\n",
       "      <td>accuracy</td>\n",
       "      <td>0.80549</td>\n",
       "    </tr>\n",
       "    <tr>\n",
       "      <th>1</th>\n",
       "      <td>precision</td>\n",
       "      <td>0.62978</td>\n",
       "    </tr>\n",
       "    <tr>\n",
       "      <th>2</th>\n",
       "      <td>recall</td>\n",
       "      <td>0.57963</td>\n",
       "    </tr>\n",
       "    <tr>\n",
       "      <th>3</th>\n",
       "      <td>auc</td>\n",
       "      <td>0.84342</td>\n",
       "    </tr>\n",
       "    <tr>\n",
       "      <th>4</th>\n",
       "      <td>F1_score</td>\n",
       "      <td>0.60366</td>\n",
       "    </tr>\n",
       "  </tbody>\n",
       "</table>\n",
       "</div>"
      ],
      "text/plain": [
       "      metric   value\n",
       "0   accuracy 0.80549\n",
       "1  precision 0.62978\n",
       "2     recall 0.57963\n",
       "3        auc 0.84342\n",
       "4   F1_score 0.60366"
      ]
     },
     "execution_count": 189,
     "metadata": {},
     "output_type": "execute_result"
    }
   ],
   "source": [
    "## evaluation for val set\n",
    "logit4_val_df = logit_eva(x=val_x, y= val_y, model = logit4, train_val = \"val\")\n",
    "logit4_val_df"
   ]
  },
  {
   "cell_type": "code",
   "execution_count": 190,
   "metadata": {},
   "outputs": [
    {
     "data": {
      "text/html": [
       "<div>\n",
       "<style scoped>\n",
       "    .dataframe tbody tr th:only-of-type {\n",
       "        vertical-align: middle;\n",
       "    }\n",
       "\n",
       "    .dataframe tbody tr th {\n",
       "        vertical-align: top;\n",
       "    }\n",
       "\n",
       "    .dataframe thead th {\n",
       "        text-align: right;\n",
       "    }\n",
       "</style>\n",
       "<table border=\"1\" class=\"dataframe\">\n",
       "  <thead>\n",
       "    <tr style=\"text-align: right;\">\n",
       "      <th></th>\n",
       "      <th>metric</th>\n",
       "      <th>value</th>\n",
       "      <th>value</th>\n",
       "      <th>value</th>\n",
       "    </tr>\n",
       "  </thead>\n",
       "  <tbody>\n",
       "    <tr>\n",
       "      <th>0</th>\n",
       "      <td>accuracy</td>\n",
       "      <td>0.80568</td>\n",
       "      <td>0.80548</td>\n",
       "      <td>0.80548</td>\n",
       "    </tr>\n",
       "    <tr>\n",
       "      <th>1</th>\n",
       "      <td>precision</td>\n",
       "      <td>0.66667</td>\n",
       "      <td>0.66577</td>\n",
       "      <td>0.66667</td>\n",
       "    </tr>\n",
       "    <tr>\n",
       "      <th>2</th>\n",
       "      <td>recall</td>\n",
       "      <td>0.55831</td>\n",
       "      <td>0.55907</td>\n",
       "      <td>0.55681</td>\n",
       "    </tr>\n",
       "    <tr>\n",
       "      <th>3</th>\n",
       "      <td>auc</td>\n",
       "      <td>0.84895</td>\n",
       "      <td>0.84900</td>\n",
       "      <td>0.84895</td>\n",
       "    </tr>\n",
       "    <tr>\n",
       "      <th>4</th>\n",
       "      <td>F1_score</td>\n",
       "      <td>0.60770</td>\n",
       "      <td>0.60777</td>\n",
       "      <td>0.60681</td>\n",
       "    </tr>\n",
       "  </tbody>\n",
       "</table>\n",
       "</div>"
      ],
      "text/plain": [
       "      metric   value   value   value\n",
       "0   accuracy 0.80568 0.80548 0.80548\n",
       "1  precision 0.66667 0.66577 0.66667\n",
       "2     recall 0.55831 0.55907 0.55681\n",
       "3        auc 0.84895 0.84900 0.84895\n",
       "4   F1_score 0.60770 0.60777 0.60681"
      ]
     },
     "execution_count": 190,
     "metadata": {},
     "output_type": "execute_result"
    }
   ],
   "source": [
    "#compare performance of the three model on training set\n",
    "pd.concat([logit2_train_df, logit3_train_df.value, logit4_train_df.value], axis =1)"
   ]
  },
  {
   "cell_type": "code",
   "execution_count": 191,
   "metadata": {},
   "outputs": [
    {
     "data": {
      "text/html": [
       "<div>\n",
       "<style scoped>\n",
       "    .dataframe tbody tr th:only-of-type {\n",
       "        vertical-align: middle;\n",
       "    }\n",
       "\n",
       "    .dataframe tbody tr th {\n",
       "        vertical-align: top;\n",
       "    }\n",
       "\n",
       "    .dataframe thead th {\n",
       "        text-align: right;\n",
       "    }\n",
       "</style>\n",
       "<table border=\"1\" class=\"dataframe\">\n",
       "  <thead>\n",
       "    <tr style=\"text-align: right;\">\n",
       "      <th></th>\n",
       "      <th>metric</th>\n",
       "      <th>value</th>\n",
       "      <th>value</th>\n",
       "      <th>value</th>\n",
       "    </tr>\n",
       "  </thead>\n",
       "  <tbody>\n",
       "    <tr>\n",
       "      <th>0</th>\n",
       "      <td>accuracy</td>\n",
       "      <td>0.80407</td>\n",
       "      <td>0.80549</td>\n",
       "      <td>0.80549</td>\n",
       "    </tr>\n",
       "    <tr>\n",
       "      <th>1</th>\n",
       "      <td>precision</td>\n",
       "      <td>0.62600</td>\n",
       "      <td>0.62926</td>\n",
       "      <td>0.62978</td>\n",
       "    </tr>\n",
       "    <tr>\n",
       "      <th>2</th>\n",
       "      <td>recall</td>\n",
       "      <td>0.57963</td>\n",
       "      <td>0.58148</td>\n",
       "      <td>0.57963</td>\n",
       "    </tr>\n",
       "    <tr>\n",
       "      <th>3</th>\n",
       "      <td>auc</td>\n",
       "      <td>0.84376</td>\n",
       "      <td>0.84363</td>\n",
       "      <td>0.84342</td>\n",
       "    </tr>\n",
       "    <tr>\n",
       "      <th>4</th>\n",
       "      <td>F1_score</td>\n",
       "      <td>0.60192</td>\n",
       "      <td>0.60443</td>\n",
       "      <td>0.60366</td>\n",
       "    </tr>\n",
       "  </tbody>\n",
       "</table>\n",
       "</div>"
      ],
      "text/plain": [
       "      metric   value   value   value\n",
       "0   accuracy 0.80407 0.80549 0.80549\n",
       "1  precision 0.62600 0.62926 0.62978\n",
       "2     recall 0.57963 0.58148 0.57963\n",
       "3        auc 0.84376 0.84363 0.84342\n",
       "4   F1_score 0.60192 0.60443 0.60366"
      ]
     },
     "execution_count": 191,
     "metadata": {},
     "output_type": "execute_result"
    }
   ],
   "source": [
    "#compare performance of the three model on val set\n",
    "pd.concat([logit2_val_df, logit3_val_df.value, logit4_val_df.value], axis =1)"
   ]
  },
  {
   "cell_type": "markdown",
   "metadata": {},
   "source": [
    "This model with L2 penalty also perform silimar to the other two models. The coeffients do not shrunk to o too."
   ]
  },
  {
   "cell_type": "markdown",
   "metadata": {},
   "source": [
    "## Feature engineering and selection to get the best performance model"
   ]
  },
  {
   "cell_type": "markdown",
   "metadata": {},
   "source": [
    "### For this particular set of data, about 27% are positive labels. It is lightly imbalance. Considering the bussiness meaning of \"churn\", a false negative would be losing a customer without detection. I think it might be better to have higher recall.\n",
    "### In this case, I will set a threshold of 75% recall for all the model. Then the best performance model will have highest accuracy while achieving at least 75% recall."
   ]
  },
  {
   "cell_type": "code",
   "execution_count": 192,
   "metadata": {},
   "outputs": [],
   "source": [
    "## define the function for model comparison\n",
    "def recall75(x,y,model):\n",
    "    thresh = np.round(np.arange(0.01,1, 0.01),2).tolist()\n",
    "    \n",
    "    p_list =[]\n",
    "    r_list =[]\n",
    "    a_list =[]\n",
    "    f_list =[]\n",
    "    prob = model.predict_proba(x)    \n",
    "    for i in thresh:\n",
    "        yhat = [1 if j >= i else 0 for j in prob[:,1]]\n",
    "        \n",
    "        accuracy = metrics.accuracy_score(y, yhat)\n",
    "        precision = metrics.precision_score(y, yhat)\n",
    "        recall = metrics.recall_score(y, yhat)\n",
    "        f1 = metrics.f1_score(y, yhat)\n",
    "    \n",
    "        p_list.append(precision)\n",
    "        r_list.append(recall)\n",
    "        a_list.append(accuracy)\n",
    "        f_list.append(f1)\n",
    "\n",
    "    df = pd.DataFrame(zip(thresh, p_list, r_list, a_list, f_list), \n",
    "                      columns=['threshold','precision','recall','accuracy','F1_score'])\n",
    "    df = df[df.recall>=0.75].sort_values(by=[\"accuracy\"],ascending=False)\n",
    "    return df\n",
    "    "
   ]
  },
  {
   "cell_type": "code",
   "execution_count": 193,
   "metadata": {},
   "outputs": [
    {
     "name": "stderr",
     "output_type": "stream",
     "text": [
      "C:\\ProgramData\\Anaconda3\\lib\\site-packages\\sklearn\\metrics\\_classification.py:1221: UndefinedMetricWarning: Precision is ill-defined and being set to 0.0 due to no predicted samples. Use `zero_division` parameter to control this behavior.\n",
      "  _warn_prf(average, modifier, msg_start, len(result))\n"
     ]
    }
   ],
   "source": [
    "df1 = recall75(x = train_x, y = train_y, model = logit2)"
   ]
  },
  {
   "cell_type": "code",
   "execution_count": 194,
   "metadata": {},
   "outputs": [
    {
     "data": {
      "text/plain": [
       "threshold   0.32000\n",
       "precision   0.55599\n",
       "recall      0.75094\n",
       "accuracy    0.77120\n",
       "F1_score    0.63892\n",
       "Name: 31, dtype: float64"
      ]
     },
     "execution_count": 194,
     "metadata": {},
     "output_type": "execute_result"
    }
   ],
   "source": [
    "\n",
    "df1.iloc[0,:]"
   ]
  },
  {
   "cell_type": "code",
   "execution_count": 195,
   "metadata": {},
   "outputs": [
    {
     "name": "stderr",
     "output_type": "stream",
     "text": [
      "C:\\ProgramData\\Anaconda3\\lib\\site-packages\\sklearn\\metrics\\_classification.py:1221: UndefinedMetricWarning: Precision is ill-defined and being set to 0.0 due to no predicted samples. Use `zero_division` parameter to control this behavior.\n",
      "  _warn_prf(average, modifier, msg_start, len(result))\n"
     ]
    },
    {
     "data": {
      "text/plain": [
       "threshold   0.31000\n",
       "precision   0.55239\n",
       "recall      0.75771\n",
       "accuracy    0.76917\n",
       "F1_score    0.63896\n",
       "Name: 30, dtype: float64"
      ]
     },
     "execution_count": 195,
     "metadata": {},
     "output_type": "execute_result"
    }
   ],
   "source": [
    "df2 = recall75(x = train_x, y = train_y, model = logit3)\n",
    "df2.iloc[0,:]"
   ]
  },
  {
   "cell_type": "code",
   "execution_count": 196,
   "metadata": {},
   "outputs": [
    {
     "name": "stderr",
     "output_type": "stream",
     "text": [
      "C:\\ProgramData\\Anaconda3\\lib\\site-packages\\sklearn\\metrics\\_classification.py:1221: UndefinedMetricWarning: Precision is ill-defined and being set to 0.0 due to no predicted samples. Use `zero_division` parameter to control this behavior.\n",
      "  _warn_prf(average, modifier, msg_start, len(result))\n"
     ]
    },
    {
     "data": {
      "text/plain": [
       "threshold   0.31000\n",
       "precision   0.55055\n",
       "recall      0.75395\n",
       "accuracy    0.76775\n",
       "F1_score    0.63639\n",
       "Name: 30, dtype: float64"
      ]
     },
     "execution_count": 196,
     "metadata": {},
     "output_type": "execute_result"
    }
   ],
   "source": [
    "df3 = recall75(x = train_x, y = train_y, model = logit4)\n",
    "df3.iloc[0,:]"
   ]
  },
  {
   "cell_type": "markdown",
   "metadata": {},
   "source": [
    "By the definition I just set, the model with L1 penalty(logit2) is better. Let's see if we can improve it by feature engineering."
   ]
  },
  {
   "cell_type": "markdown",
   "metadata": {},
   "source": [
    "From the heatmap of correlation matrix we can see there are a lot variables which are highly correlated."
   ]
  },
  {
   "cell_type": "code",
   "execution_count": 197,
   "metadata": {},
   "outputs": [
    {
     "data": {
      "text/html": [
       "<div>\n",
       "<style scoped>\n",
       "    .dataframe tbody tr th:only-of-type {\n",
       "        vertical-align: middle;\n",
       "    }\n",
       "\n",
       "    .dataframe tbody tr th {\n",
       "        vertical-align: top;\n",
       "    }\n",
       "\n",
       "    .dataframe thead th {\n",
       "        text-align: right;\n",
       "    }\n",
       "</style>\n",
       "<table border=\"1\" class=\"dataframe\">\n",
       "  <thead>\n",
       "    <tr style=\"text-align: right;\">\n",
       "      <th></th>\n",
       "      <th>feature</th>\n",
       "      <th>coef</th>\n",
       "    </tr>\n",
       "  </thead>\n",
       "  <tbody>\n",
       "    <tr>\n",
       "      <th>0</th>\n",
       "      <td>tenure</td>\n",
       "      <td>-1.29813</td>\n",
       "    </tr>\n",
       "    <tr>\n",
       "      <th>25</th>\n",
       "      <td>Contract_Two year</td>\n",
       "      <td>-1.28217</td>\n",
       "    </tr>\n",
       "    <tr>\n",
       "      <th>7</th>\n",
       "      <td>PhoneService_Yes</td>\n",
       "      <td>-0.94033</td>\n",
       "    </tr>\n",
       "    <tr>\n",
       "      <th>24</th>\n",
       "      <td>Contract_One year</td>\n",
       "      <td>-0.67037</td>\n",
       "    </tr>\n",
       "    <tr>\n",
       "      <th>13</th>\n",
       "      <td>OnlineSecurity_Yes</td>\n",
       "      <td>-0.48451</td>\n",
       "    </tr>\n",
       "    <tr>\n",
       "      <th>19</th>\n",
       "      <td>TechSupport_Yes</td>\n",
       "      <td>-0.45795</td>\n",
       "    </tr>\n",
       "    <tr>\n",
       "      <th>15</th>\n",
       "      <td>OnlineBackup_Yes</td>\n",
       "      <td>-0.31356</td>\n",
       "    </tr>\n",
       "    <tr>\n",
       "      <th>22</th>\n",
       "      <td>StreamingMovies_No internet service</td>\n",
       "      <td>-0.22430</td>\n",
       "    </tr>\n",
       "    <tr>\n",
       "      <th>27</th>\n",
       "      <td>PaymentMethod_Credit card (automatic)</td>\n",
       "      <td>-0.09885</td>\n",
       "    </tr>\n",
       "    <tr>\n",
       "      <th>6</th>\n",
       "      <td>Dependents_Yes</td>\n",
       "      <td>-0.08138</td>\n",
       "    </tr>\n",
       "    <tr>\n",
       "      <th>17</th>\n",
       "      <td>DeviceProtection_Yes</td>\n",
       "      <td>-0.05324</td>\n",
       "    </tr>\n",
       "    <tr>\n",
       "      <th>29</th>\n",
       "      <td>PaymentMethod_Mailed check</td>\n",
       "      <td>-0.04479</td>\n",
       "    </tr>\n",
       "    <tr>\n",
       "      <th>5</th>\n",
       "      <td>Partner_Yes</td>\n",
       "      <td>-0.00494</td>\n",
       "    </tr>\n",
       "    <tr>\n",
       "      <th>12</th>\n",
       "      <td>OnlineSecurity_No internet service</td>\n",
       "      <td>0.00000</td>\n",
       "    </tr>\n",
       "    <tr>\n",
       "      <th>23</th>\n",
       "      <td>StreamingMovies_Yes</td>\n",
       "      <td>0.00000</td>\n",
       "    </tr>\n",
       "    <tr>\n",
       "      <th>21</th>\n",
       "      <td>StreamingTV_Yes</td>\n",
       "      <td>0.00000</td>\n",
       "    </tr>\n",
       "    <tr>\n",
       "      <th>11</th>\n",
       "      <td>InternetService_No</td>\n",
       "      <td>0.00000</td>\n",
       "    </tr>\n",
       "    <tr>\n",
       "      <th>18</th>\n",
       "      <td>TechSupport_No internet service</td>\n",
       "      <td>0.00000</td>\n",
       "    </tr>\n",
       "    <tr>\n",
       "      <th>20</th>\n",
       "      <td>StreamingTV_No internet service</td>\n",
       "      <td>0.00000</td>\n",
       "    </tr>\n",
       "    <tr>\n",
       "      <th>16</th>\n",
       "      <td>DeviceProtection_No internet service</td>\n",
       "      <td>0.00000</td>\n",
       "    </tr>\n",
       "    <tr>\n",
       "      <th>8</th>\n",
       "      <td>MultipleLines_No phone service</td>\n",
       "      <td>0.00000</td>\n",
       "    </tr>\n",
       "    <tr>\n",
       "      <th>14</th>\n",
       "      <td>OnlineBackup_No internet service</td>\n",
       "      <td>0.00000</td>\n",
       "    </tr>\n",
       "    <tr>\n",
       "      <th>3</th>\n",
       "      <td>gender_Male</td>\n",
       "      <td>0.04552</td>\n",
       "    </tr>\n",
       "    <tr>\n",
       "      <th>4</th>\n",
       "      <td>SeniorCitizen_1</td>\n",
       "      <td>0.15480</td>\n",
       "    </tr>\n",
       "    <tr>\n",
       "      <th>9</th>\n",
       "      <td>MultipleLines_Yes</td>\n",
       "      <td>0.18636</td>\n",
       "    </tr>\n",
       "    <tr>\n",
       "      <th>10</th>\n",
       "      <td>InternetService_Fiber optic</td>\n",
       "      <td>0.28410</td>\n",
       "    </tr>\n",
       "    <tr>\n",
       "      <th>28</th>\n",
       "      <td>PaymentMethod_Electronic check</td>\n",
       "      <td>0.29595</td>\n",
       "    </tr>\n",
       "    <tr>\n",
       "      <th>26</th>\n",
       "      <td>PaperlessBilling_Yes</td>\n",
       "      <td>0.36639</td>\n",
       "    </tr>\n",
       "    <tr>\n",
       "      <th>2</th>\n",
       "      <td>TotalCharges</td>\n",
       "      <td>0.51328</td>\n",
       "    </tr>\n",
       "    <tr>\n",
       "      <th>1</th>\n",
       "      <td>MonthlyCharges</td>\n",
       "      <td>0.63158</td>\n",
       "    </tr>\n",
       "  </tbody>\n",
       "</table>\n",
       "</div>"
      ],
      "text/plain": [
       "                                  feature     coef\n",
       "0                                  tenure -1.29813\n",
       "25                      Contract_Two year -1.28217\n",
       "7                        PhoneService_Yes -0.94033\n",
       "24                      Contract_One year -0.67037\n",
       "13                     OnlineSecurity_Yes -0.48451\n",
       "19                        TechSupport_Yes -0.45795\n",
       "15                       OnlineBackup_Yes -0.31356\n",
       "22    StreamingMovies_No internet service -0.22430\n",
       "27  PaymentMethod_Credit card (automatic) -0.09885\n",
       "6                          Dependents_Yes -0.08138\n",
       "17                   DeviceProtection_Yes -0.05324\n",
       "29             PaymentMethod_Mailed check -0.04479\n",
       "5                             Partner_Yes -0.00494\n",
       "12     OnlineSecurity_No internet service  0.00000\n",
       "23                    StreamingMovies_Yes  0.00000\n",
       "21                        StreamingTV_Yes  0.00000\n",
       "11                     InternetService_No  0.00000\n",
       "18        TechSupport_No internet service  0.00000\n",
       "20        StreamingTV_No internet service  0.00000\n",
       "16   DeviceProtection_No internet service  0.00000\n",
       "8          MultipleLines_No phone service  0.00000\n",
       "14       OnlineBackup_No internet service  0.00000\n",
       "3                             gender_Male  0.04552\n",
       "4                         SeniorCitizen_1  0.15480\n",
       "9                       MultipleLines_Yes  0.18636\n",
       "10            InternetService_Fiber optic  0.28410\n",
       "28         PaymentMethod_Electronic check  0.29595\n",
       "26                   PaperlessBilling_Yes  0.36639\n",
       "2                            TotalCharges  0.51328\n",
       "1                          MonthlyCharges  0.63158"
      ]
     },
     "execution_count": 197,
     "metadata": {},
     "output_type": "execute_result"
    }
   ],
   "source": [
    "logit2_coef.sort_values(by=['coef'])"
   ]
  },
  {
   "cell_type": "code",
   "execution_count": 198,
   "metadata": {},
   "outputs": [
    {
     "name": "stderr",
     "output_type": "stream",
     "text": [
      "<ipython-input-198-e1b3f4f93e09>:2: SettingWithCopyWarning: \n",
      "A value is trying to be set on a copy of a slice from a DataFrame.\n",
      "Try using .loc[row_indexer,col_indexer] = value instead\n",
      "\n",
      "See the caveats in the documentation: https://pandas.pydata.org/pandas-docs/stable/user_guide/indexing.html#returning-a-view-versus-a-copy\n",
      "  train_s['MonthlyRatio']=(train_s.MonthlyCharges/train_s.TotalCharges)\n"
     ]
    }
   ],
   "source": [
    "## creates new feature for the customer's monthly/total charges\n",
    "train_s['MonthlyRatio']=(train_s.MonthlyCharges/train_s.TotalCharges)"
   ]
  },
  {
   "cell_type": "code",
   "execution_count": 199,
   "metadata": {},
   "outputs": [
    {
     "data": {
      "text/plain": [
       "count   4930.00000\n",
       "mean       0.15363\n",
       "std        0.27717\n",
       "min        0.01260\n",
       "25%        0.01805\n",
       "50%        0.03407\n",
       "75%        0.10996\n",
       "max        1.00000\n",
       "Name: MonthlyRatio, dtype: float64"
      ]
     },
     "execution_count": 199,
     "metadata": {},
     "output_type": "execute_result"
    }
   ],
   "source": [
    "train_s['MonthlyRatio'].describe()"
   ]
  },
  {
   "cell_type": "code",
   "execution_count": 200,
   "metadata": {},
   "outputs": [
    {
     "data": {
      "text/html": [
       "<div>\n",
       "<style scoped>\n",
       "    .dataframe tbody tr th:only-of-type {\n",
       "        vertical-align: middle;\n",
       "    }\n",
       "\n",
       "    .dataframe tbody tr th {\n",
       "        vertical-align: top;\n",
       "    }\n",
       "\n",
       "    .dataframe thead th {\n",
       "        text-align: right;\n",
       "    }\n",
       "</style>\n",
       "<table border=\"1\" class=\"dataframe\">\n",
       "  <thead>\n",
       "    <tr style=\"text-align: right;\">\n",
       "      <th></th>\n",
       "      <th>customerID</th>\n",
       "      <th>gender</th>\n",
       "      <th>SeniorCitizen</th>\n",
       "      <th>Partner</th>\n",
       "      <th>Dependents</th>\n",
       "      <th>tenure</th>\n",
       "      <th>PhoneService</th>\n",
       "      <th>MultipleLines</th>\n",
       "      <th>InternetService</th>\n",
       "      <th>OnlineSecurity</th>\n",
       "      <th>...</th>\n",
       "      <th>TechSupport</th>\n",
       "      <th>StreamingTV</th>\n",
       "      <th>StreamingMovies</th>\n",
       "      <th>Contract</th>\n",
       "      <th>PaperlessBilling</th>\n",
       "      <th>PaymentMethod</th>\n",
       "      <th>MonthlyCharges</th>\n",
       "      <th>TotalCharges</th>\n",
       "      <th>Churn</th>\n",
       "      <th>MonthlyRatio</th>\n",
       "    </tr>\n",
       "  </thead>\n",
       "  <tbody>\n",
       "    <tr>\n",
       "      <th>5218</th>\n",
       "      <td>2923-ARZLG</td>\n",
       "      <td>Male</td>\n",
       "      <td>0</td>\n",
       "      <td>Yes</td>\n",
       "      <td>Yes</td>\n",
       "      <td>0</td>\n",
       "      <td>Yes</td>\n",
       "      <td>No</td>\n",
       "      <td>No</td>\n",
       "      <td>No internet service</td>\n",
       "      <td>...</td>\n",
       "      <td>No internet service</td>\n",
       "      <td>No internet service</td>\n",
       "      <td>No internet service</td>\n",
       "      <td>One year</td>\n",
       "      <td>Yes</td>\n",
       "      <td>Mailed check</td>\n",
       "      <td>19.70000</td>\n",
       "      <td>1422.05005</td>\n",
       "      <td>No</td>\n",
       "      <td>0.01385</td>\n",
       "    </tr>\n",
       "    <tr>\n",
       "      <th>753</th>\n",
       "      <td>3115-CZMZD</td>\n",
       "      <td>Male</td>\n",
       "      <td>0</td>\n",
       "      <td>No</td>\n",
       "      <td>Yes</td>\n",
       "      <td>0</td>\n",
       "      <td>Yes</td>\n",
       "      <td>No</td>\n",
       "      <td>No</td>\n",
       "      <td>No internet service</td>\n",
       "      <td>...</td>\n",
       "      <td>No internet service</td>\n",
       "      <td>No internet service</td>\n",
       "      <td>No internet service</td>\n",
       "      <td>Two year</td>\n",
       "      <td>No</td>\n",
       "      <td>Mailed check</td>\n",
       "      <td>20.25000</td>\n",
       "      <td>1422.05005</td>\n",
       "      <td>No</td>\n",
       "      <td>0.01424</td>\n",
       "    </tr>\n",
       "    <tr>\n",
       "      <th>4380</th>\n",
       "      <td>2520-SGTTA</td>\n",
       "      <td>Female</td>\n",
       "      <td>0</td>\n",
       "      <td>Yes</td>\n",
       "      <td>Yes</td>\n",
       "      <td>0</td>\n",
       "      <td>Yes</td>\n",
       "      <td>No</td>\n",
       "      <td>No</td>\n",
       "      <td>No internet service</td>\n",
       "      <td>...</td>\n",
       "      <td>No internet service</td>\n",
       "      <td>No internet service</td>\n",
       "      <td>No internet service</td>\n",
       "      <td>Two year</td>\n",
       "      <td>No</td>\n",
       "      <td>Mailed check</td>\n",
       "      <td>20.00000</td>\n",
       "      <td>1422.05005</td>\n",
       "      <td>No</td>\n",
       "      <td>0.01406</td>\n",
       "    </tr>\n",
       "    <tr>\n",
       "      <th>3826</th>\n",
       "      <td>3213-VVOLG</td>\n",
       "      <td>Male</td>\n",
       "      <td>0</td>\n",
       "      <td>Yes</td>\n",
       "      <td>Yes</td>\n",
       "      <td>0</td>\n",
       "      <td>Yes</td>\n",
       "      <td>Yes</td>\n",
       "      <td>No</td>\n",
       "      <td>No internet service</td>\n",
       "      <td>...</td>\n",
       "      <td>No internet service</td>\n",
       "      <td>No internet service</td>\n",
       "      <td>No internet service</td>\n",
       "      <td>Two year</td>\n",
       "      <td>No</td>\n",
       "      <td>Mailed check</td>\n",
       "      <td>25.35000</td>\n",
       "      <td>1422.05005</td>\n",
       "      <td>No</td>\n",
       "      <td>0.01783</td>\n",
       "    </tr>\n",
       "    <tr>\n",
       "      <th>1340</th>\n",
       "      <td>1371-DWPAZ</td>\n",
       "      <td>Female</td>\n",
       "      <td>0</td>\n",
       "      <td>Yes</td>\n",
       "      <td>Yes</td>\n",
       "      <td>0</td>\n",
       "      <td>No</td>\n",
       "      <td>No phone service</td>\n",
       "      <td>DSL</td>\n",
       "      <td>Yes</td>\n",
       "      <td>...</td>\n",
       "      <td>Yes</td>\n",
       "      <td>Yes</td>\n",
       "      <td>No</td>\n",
       "      <td>Two year</td>\n",
       "      <td>No</td>\n",
       "      <td>Credit card (automatic)</td>\n",
       "      <td>56.05000</td>\n",
       "      <td>1422.05005</td>\n",
       "      <td>No</td>\n",
       "      <td>0.03941</td>\n",
       "    </tr>\n",
       "    <tr>\n",
       "      <th>6670</th>\n",
       "      <td>4075-WKNIU</td>\n",
       "      <td>Female</td>\n",
       "      <td>0</td>\n",
       "      <td>Yes</td>\n",
       "      <td>Yes</td>\n",
       "      <td>0</td>\n",
       "      <td>Yes</td>\n",
       "      <td>Yes</td>\n",
       "      <td>DSL</td>\n",
       "      <td>No</td>\n",
       "      <td>...</td>\n",
       "      <td>Yes</td>\n",
       "      <td>Yes</td>\n",
       "      <td>No</td>\n",
       "      <td>Two year</td>\n",
       "      <td>No</td>\n",
       "      <td>Mailed check</td>\n",
       "      <td>73.35000</td>\n",
       "      <td>1422.05005</td>\n",
       "      <td>No</td>\n",
       "      <td>0.05158</td>\n",
       "    </tr>\n",
       "    <tr>\n",
       "      <th>3331</th>\n",
       "      <td>7644-OMVMY</td>\n",
       "      <td>Male</td>\n",
       "      <td>0</td>\n",
       "      <td>Yes</td>\n",
       "      <td>Yes</td>\n",
       "      <td>0</td>\n",
       "      <td>Yes</td>\n",
       "      <td>No</td>\n",
       "      <td>No</td>\n",
       "      <td>No internet service</td>\n",
       "      <td>...</td>\n",
       "      <td>No internet service</td>\n",
       "      <td>No internet service</td>\n",
       "      <td>No internet service</td>\n",
       "      <td>Two year</td>\n",
       "      <td>No</td>\n",
       "      <td>Mailed check</td>\n",
       "      <td>19.85000</td>\n",
       "      <td>1422.05005</td>\n",
       "      <td>No</td>\n",
       "      <td>0.01396</td>\n",
       "    </tr>\n",
       "  </tbody>\n",
       "</table>\n",
       "<p>7 rows × 22 columns</p>\n",
       "</div>"
      ],
      "text/plain": [
       "      customerID  gender  SeniorCitizen Partner Dependents  tenure  \\\n",
       "5218  2923-ARZLG    Male              0     Yes        Yes       0   \n",
       "753   3115-CZMZD    Male              0      No        Yes       0   \n",
       "4380  2520-SGTTA  Female              0     Yes        Yes       0   \n",
       "3826  3213-VVOLG    Male              0     Yes        Yes       0   \n",
       "1340  1371-DWPAZ  Female              0     Yes        Yes       0   \n",
       "6670  4075-WKNIU  Female              0     Yes        Yes       0   \n",
       "3331  7644-OMVMY    Male              0     Yes        Yes       0   \n",
       "\n",
       "     PhoneService     MultipleLines InternetService       OnlineSecurity  ...  \\\n",
       "5218          Yes                No              No  No internet service  ...   \n",
       "753           Yes                No              No  No internet service  ...   \n",
       "4380          Yes                No              No  No internet service  ...   \n",
       "3826          Yes               Yes              No  No internet service  ...   \n",
       "1340           No  No phone service             DSL                  Yes  ...   \n",
       "6670          Yes               Yes             DSL                   No  ...   \n",
       "3331          Yes                No              No  No internet service  ...   \n",
       "\n",
       "              TechSupport          StreamingTV      StreamingMovies  Contract  \\\n",
       "5218  No internet service  No internet service  No internet service  One year   \n",
       "753   No internet service  No internet service  No internet service  Two year   \n",
       "4380  No internet service  No internet service  No internet service  Two year   \n",
       "3826  No internet service  No internet service  No internet service  Two year   \n",
       "1340                  Yes                  Yes                   No  Two year   \n",
       "6670                  Yes                  Yes                   No  Two year   \n",
       "3331  No internet service  No internet service  No internet service  Two year   \n",
       "\n",
       "     PaperlessBilling            PaymentMethod MonthlyCharges TotalCharges  \\\n",
       "5218              Yes             Mailed check       19.70000   1422.05005   \n",
       "753                No             Mailed check       20.25000   1422.05005   \n",
       "4380               No             Mailed check       20.00000   1422.05005   \n",
       "3826               No             Mailed check       25.35000   1422.05005   \n",
       "1340               No  Credit card (automatic)       56.05000   1422.05005   \n",
       "6670               No             Mailed check       73.35000   1422.05005   \n",
       "3331               No             Mailed check       19.85000   1422.05005   \n",
       "\n",
       "      Churn  MonthlyRatio  \n",
       "5218     No       0.01385  \n",
       "753      No       0.01424  \n",
       "4380     No       0.01406  \n",
       "3826     No       0.01783  \n",
       "1340     No       0.03941  \n",
       "6670     No       0.05158  \n",
       "3331     No       0.01396  \n",
       "\n",
       "[7 rows x 22 columns]"
      ]
     },
     "execution_count": 200,
     "metadata": {},
     "output_type": "execute_result"
    }
   ],
   "source": [
    "## looks like there are some custumers with 0 tenure, but total charges is way higher than monthly charges\n",
    "## 0 tenure could be missing values. But can't be sure. Further investigation recommand.\n",
    "train_s[train_s.tenure==0]"
   ]
  },
  {
   "cell_type": "code",
   "execution_count": 201,
   "metadata": {},
   "outputs": [
    {
     "name": "stderr",
     "output_type": "stream",
     "text": [
      "<ipython-input-201-99fadff8a391>:2: SettingWithCopyWarning: \n",
      "A value is trying to be set on a copy of a slice from a DataFrame.\n",
      "Try using .loc[row_indexer,col_indexer] = value instead\n",
      "\n",
      "See the caveats in the documentation: https://pandas.pydata.org/pandas-docs/stable/user_guide/indexing.html#returning-a-view-versus-a-copy\n",
      "  val_s['MonthlyRatio']=(val_s.MonthlyCharges/val_s.TotalCharges)\n"
     ]
    }
   ],
   "source": [
    "## same for val\n",
    "val_s['MonthlyRatio']=(val_s.MonthlyCharges/val_s.TotalCharges)"
   ]
  },
  {
   "cell_type": "code",
   "execution_count": 239,
   "metadata": {},
   "outputs": [],
   "source": [
    "#normalize the monthly retio\n",
    "mean = train_s[\"MonthlyRatio\"].mean()\n",
    "std = train_s[\"MonthlyRatio\"].std()\n",
    "train_x[\"MonthlyRatio\"] = (train_s[\"MonthlyRatio\"] - mean)/std\n",
    "val_x[\"MonthlyRatio\"] = (val_s[\"MonthlyRatio\"] - mean)/std"
   ]
  },
  {
   "cell_type": "code",
   "execution_count": 202,
   "metadata": {},
   "outputs": [
    {
     "data": {
      "text/plain": [
       "count   4930.00000\n",
       "mean      32.54767\n",
       "std       24.44971\n",
       "min        0.00000\n",
       "25%        9.00000\n",
       "50%       29.00000\n",
       "75%       56.00000\n",
       "max       72.00000\n",
       "Name: tenure, dtype: float64"
      ]
     },
     "execution_count": 202,
     "metadata": {},
     "output_type": "execute_result"
    }
   ],
   "source": [
    "train_s.tenure.describe()"
   ]
  },
  {
   "cell_type": "code",
   "execution_count": 203,
   "metadata": {},
   "outputs": [
    {
     "data": {
      "image/png": "[encoded data removed]",
      "text/plain": [
       "<Figure size 432x288 with 1 Axes>"
      ]
     },
     "metadata": {
      "needs_background": "light"
     },
     "output_type": "display_data"
    }
   ],
   "source": [
    "train_s.tenure.hist()\n",
    "plt.show()"
   ]
  },
  {
   "cell_type": "code",
   "execution_count": 204,
   "metadata": {},
   "outputs": [
    {
     "name": "stderr",
     "output_type": "stream",
     "text": [
      "<ipython-input-204-9cd50f9af37a>:3: SettingWithCopyWarning: \n",
      "A value is trying to be set on a copy of a slice from a DataFrame.\n",
      "Try using .loc[row_indexer,col_indexer] = value instead\n",
      "\n",
      "See the caveats in the documentation: https://pandas.pydata.org/pandas-docs/stable/user_guide/indexing.html#returning-a-view-versus-a-copy\n",
      "  train_s['new_customer'] = train_s.tenure.map(lambda x: 1 if x < train_s.tenure.median() else 0)\n"
     ]
    }
   ],
   "source": [
    "## the distribution of tenure has two modes. may be cut it into two categories would be better\n",
    "## create a new feature to flag new customer, use median of tenure as a cutoff.\n",
    "train_s['new_customer'] = train_s.tenure.map(lambda x: 1 if x < train_s.tenure.median() else 0)"
   ]
  },
  {
   "cell_type": "code",
   "execution_count": 205,
   "metadata": {},
   "outputs": [
    {
     "name": "stderr",
     "output_type": "stream",
     "text": [
      "<ipython-input-205-80564ed4a383>:1: SettingWithCopyWarning: \n",
      "A value is trying to be set on a copy of a slice from a DataFrame.\n",
      "Try using .loc[row_indexer,col_indexer] = value instead\n",
      "\n",
      "See the caveats in the documentation: https://pandas.pydata.org/pandas-docs/stable/user_guide/indexing.html#returning-a-view-versus-a-copy\n",
      "  val_s['new_customer'] = val_s.tenure.map(lambda x: 1 if x < train_s.tenure.median() else 0)\n"
     ]
    }
   ],
   "source": [
    "\n",
    "val_s['new_customer'] = val_s.tenure.map(lambda x: 1 if x < train_s.tenure.median() else 0)"
   ]
  },
  {
   "cell_type": "code",
   "execution_count": 238,
   "metadata": {},
   "outputs": [],
   "source": [
    "## add to the train_x and val_x\n",
    "train_x[\"new_customer\"] = train_s[\"new_customer\"]\n",
    "val_x[\"new_customer\"]= val_s[\"new_customer\"]"
   ]
  },
  {
   "cell_type": "markdown",
   "metadata": {},
   "source": [
    "### another character of this dataset is that some of the variables are hierarchical.To  be specific, the PhoneService and MultipleLines\n",
    "### and the group of no_internet related features. \n",
    "### the problem is that these features are corralted and also takes a lot of dimensions.\n",
    "### I think we can combine the related features to a new feature?\n",
    "### the idea is that PhoneService+MultipleServices, the potetial value would be 0, 1, 2\n"
   ]
  },
  {
   "cell_type": "code",
   "execution_count": 206,
   "metadata": {},
   "outputs": [],
   "source": [
    "train_x['phone']=train_x['PhoneService_Yes']+train_x['MultipleLines_Yes']\n",
    "val_x['phone'] = val_x['PhoneService_Yes'] + val_x['MultipleLines_Yes']"
   ]
  },
  {
   "cell_type": "code",
   "execution_count": 207,
   "metadata": {},
   "outputs": [
    {
     "data": {
      "text/plain": [
       "<AxesSubplot:>"
      ]
     },
     "execution_count": 207,
     "metadata": {},
     "output_type": "execute_result"
    },
    {
     "data": {
      "image/png": "[encoded data removed]",
      "text/plain": [
       "<Figure size 432x288 with 1 Axes>"
      ]
     },
     "metadata": {
      "needs_background": "light"
     },
     "output_type": "display_data"
    }
   ],
   "source": [
    "train_x['phone'].hist()"
   ]
  },
  {
   "cell_type": "code",
   "execution_count": 208,
   "metadata": {},
   "outputs": [
    {
     "data": {
      "text/plain": [
       "1    2376\n",
       "2    2063\n",
       "0     491\n",
       "Name: phone, dtype: int64"
      ]
     },
     "execution_count": 208,
     "metadata": {},
     "output_type": "execute_result"
    }
   ],
   "source": [
    "train_x['phone'].value_counts()"
   ]
  },
  {
   "cell_type": "markdown",
   "metadata": {},
   "source": [
    "I think it is ok to leave this variable as it without on hot encoding because this feature is an ordinal categorical variables. Having multiple lines implies a higher level. Also I am taking the risk here by making the assumption that the difference between the two levels is the same."
   ]
  },
  {
   "cell_type": "code",
   "execution_count": 211,
   "metadata": {},
   "outputs": [
    {
     "data": {
      "text/html": [
       "<div>\n",
       "<style scoped>\n",
       "    .dataframe tbody tr th:only-of-type {\n",
       "        vertical-align: middle;\n",
       "    }\n",
       "\n",
       "    .dataframe tbody tr th {\n",
       "        vertical-align: top;\n",
       "    }\n",
       "\n",
       "    .dataframe thead th {\n",
       "        text-align: right;\n",
       "    }\n",
       "</style>\n",
       "<table border=\"1\" class=\"dataframe\">\n",
       "  <thead>\n",
       "    <tr style=\"text-align: right;\">\n",
       "      <th></th>\n",
       "      <th>Feature</th>\n",
       "      <th>unique_counts</th>\n",
       "      <th>unique_values</th>\n",
       "    </tr>\n",
       "  </thead>\n",
       "  <tbody>\n",
       "    <tr>\n",
       "      <th>0</th>\n",
       "      <td>customerID</td>\n",
       "      <td>4930</td>\n",
       "      <td>[2267-FPIMA, 3982-DQLUS, 0089-IIQKO, 4097-YODC...</td>\n",
       "    </tr>\n",
       "    <tr>\n",
       "      <th>1</th>\n",
       "      <td>gender</td>\n",
       "      <td>2</td>\n",
       "      <td>[Male, Female]</td>\n",
       "    </tr>\n",
       "    <tr>\n",
       "      <th>2</th>\n",
       "      <td>SeniorCitizen</td>\n",
       "      <td>2</td>\n",
       "      <td>[0, 1]</td>\n",
       "    </tr>\n",
       "    <tr>\n",
       "      <th>3</th>\n",
       "      <td>Partner</td>\n",
       "      <td>2</td>\n",
       "      <td>[Yes, No]</td>\n",
       "    </tr>\n",
       "    <tr>\n",
       "      <th>4</th>\n",
       "      <td>Dependents</td>\n",
       "      <td>2</td>\n",
       "      <td>[No, Yes]</td>\n",
       "    </tr>\n",
       "    <tr>\n",
       "      <th>5</th>\n",
       "      <td>tenure</td>\n",
       "      <td>73</td>\n",
       "      <td>[50, 65, 39, 34, 37, 66, 56, 11, 18, 7, 24, 41...</td>\n",
       "    </tr>\n",
       "    <tr>\n",
       "      <th>6</th>\n",
       "      <td>PhoneService</td>\n",
       "      <td>2</td>\n",
       "      <td>[Yes, No]</td>\n",
       "    </tr>\n",
       "    <tr>\n",
       "      <th>7</th>\n",
       "      <td>MultipleLines</td>\n",
       "      <td>3</td>\n",
       "      <td>[Yes, No, No phone service]</td>\n",
       "    </tr>\n",
       "    <tr>\n",
       "      <th>8</th>\n",
       "      <td>InternetService</td>\n",
       "      <td>3</td>\n",
       "      <td>[Fiber optic, No, DSL]</td>\n",
       "    </tr>\n",
       "    <tr>\n",
       "      <th>9</th>\n",
       "      <td>OnlineSecurity</td>\n",
       "      <td>3</td>\n",
       "      <td>[Yes, No, No internet service]</td>\n",
       "    </tr>\n",
       "    <tr>\n",
       "      <th>10</th>\n",
       "      <td>OnlineBackup</td>\n",
       "      <td>3</td>\n",
       "      <td>[Yes, No, No internet service]</td>\n",
       "    </tr>\n",
       "    <tr>\n",
       "      <th>11</th>\n",
       "      <td>DeviceProtection</td>\n",
       "      <td>3</td>\n",
       "      <td>[No, No internet service, Yes]</td>\n",
       "    </tr>\n",
       "    <tr>\n",
       "      <th>12</th>\n",
       "      <td>TechSupport</td>\n",
       "      <td>3</td>\n",
       "      <td>[No, Yes, No internet service]</td>\n",
       "    </tr>\n",
       "    <tr>\n",
       "      <th>13</th>\n",
       "      <td>StreamingTV</td>\n",
       "      <td>3</td>\n",
       "      <td>[No, Yes, No internet service]</td>\n",
       "    </tr>\n",
       "    <tr>\n",
       "      <th>14</th>\n",
       "      <td>StreamingMovies</td>\n",
       "      <td>3</td>\n",
       "      <td>[Yes, No, No internet service]</td>\n",
       "    </tr>\n",
       "    <tr>\n",
       "      <th>15</th>\n",
       "      <td>Contract</td>\n",
       "      <td>3</td>\n",
       "      <td>[Month-to-month, One year, Two year]</td>\n",
       "    </tr>\n",
       "    <tr>\n",
       "      <th>16</th>\n",
       "      <td>PaperlessBilling</td>\n",
       "      <td>2</td>\n",
       "      <td>[Yes, No]</td>\n",
       "    </tr>\n",
       "    <tr>\n",
       "      <th>17</th>\n",
       "      <td>PaymentMethod</td>\n",
       "      <td>4</td>\n",
       "      <td>[Credit card (automatic), Electronic check, Ba...</td>\n",
       "    </tr>\n",
       "    <tr>\n",
       "      <th>18</th>\n",
       "      <td>MonthlyCharges</td>\n",
       "      <td>1448</td>\n",
       "      <td>[94.4, 85.75, 99.95, 103.8, 20.3, 104.05, 73.8...</td>\n",
       "    </tr>\n",
       "    <tr>\n",
       "      <th>19</th>\n",
       "      <td>TotalCharges</td>\n",
       "      <td>4663</td>\n",
       "      <td>[4914.9, 5688.45, 3767.4, 3470.8, 755.4, 6890,...</td>\n",
       "    </tr>\n",
       "    <tr>\n",
       "      <th>20</th>\n",
       "      <td>Churn</td>\n",
       "      <td>2</td>\n",
       "      <td>[No, Yes]</td>\n",
       "    </tr>\n",
       "  </tbody>\n",
       "</table>\n",
       "</div>"
      ],
      "text/plain": [
       "             Feature  unique_counts  \\\n",
       "0         customerID           4930   \n",
       "1             gender              2   \n",
       "2      SeniorCitizen              2   \n",
       "3            Partner              2   \n",
       "4         Dependents              2   \n",
       "5             tenure             73   \n",
       "6       PhoneService              2   \n",
       "7      MultipleLines              3   \n",
       "8    InternetService              3   \n",
       "9     OnlineSecurity              3   \n",
       "10      OnlineBackup              3   \n",
       "11  DeviceProtection              3   \n",
       "12       TechSupport              3   \n",
       "13       StreamingTV              3   \n",
       "14   StreamingMovies              3   \n",
       "15          Contract              3   \n",
       "16  PaperlessBilling              2   \n",
       "17     PaymentMethod              4   \n",
       "18    MonthlyCharges           1448   \n",
       "19      TotalCharges           4663   \n",
       "20             Churn              2   \n",
       "\n",
       "                                        unique_values  \n",
       "0   [2267-FPIMA, 3982-DQLUS, 0089-IIQKO, 4097-YODC...  \n",
       "1                                      [Male, Female]  \n",
       "2                                              [0, 1]  \n",
       "3                                           [Yes, No]  \n",
       "4                                           [No, Yes]  \n",
       "5   [50, 65, 39, 34, 37, 66, 56, 11, 18, 7, 24, 41...  \n",
       "6                                           [Yes, No]  \n",
       "7                         [Yes, No, No phone service]  \n",
       "8                              [Fiber optic, No, DSL]  \n",
       "9                      [Yes, No, No internet service]  \n",
       "10                     [Yes, No, No internet service]  \n",
       "11                     [No, No internet service, Yes]  \n",
       "12                     [No, Yes, No internet service]  \n",
       "13                     [No, Yes, No internet service]  \n",
       "14                     [Yes, No, No internet service]  \n",
       "15               [Month-to-month, One year, Two year]  \n",
       "16                                          [Yes, No]  \n",
       "17  [Credit card (automatic), Electronic check, Ba...  \n",
       "18  [94.4, 85.75, 99.95, 103.8, 20.3, 104.05, 73.8...  \n",
       "19  [4914.9, 5688.45, 3767.4, 3470.8, 755.4, 6890,...  \n",
       "20                                          [No, Yes]  "
      ]
     },
     "execution_count": 211,
     "metadata": {},
     "output_type": "execute_result"
    }
   ],
   "source": [
    "churn_feature_df"
   ]
  },
  {
   "cell_type": "code",
   "execution_count": 229,
   "metadata": {},
   "outputs": [],
   "source": [
    "## now we are getting into the streaming related features\n",
    "## similar logit to the phone related feature. combine these features together so more service higher level"
   ]
  },
  {
   "cell_type": "code",
   "execution_count": 234,
   "metadata": {},
   "outputs": [],
   "source": [
    "train_x[\"Streaming\"] = train_x[\"StreamingMovies_Yes\"]+train_x[\"StreamingTV_Yes\"]\n",
    "val_x[\"Streaming\"] = val_x[\"StreamingMovies_Yes\"]+val_x[\"StreamingTV_Yes\"]"
   ]
  },
  {
   "cell_type": "code",
   "execution_count": 237,
   "metadata": {},
   "outputs": [
    {
     "data": {
      "text/plain": [
       "0    2458\n",
       "2    1384\n",
       "1    1088\n",
       "Name: Streaming, dtype: int64"
      ]
     },
     "execution_count": 237,
     "metadata": {},
     "output_type": "execute_result"
    }
   ],
   "source": [
    "train_x[\"Streaming\"].value_counts()"
   ]
  },
  {
   "cell_type": "code",
   "execution_count": 280,
   "metadata": {},
   "outputs": [
    {
     "data": {
      "text/plain": [
       "34"
      ]
     },
     "execution_count": 280,
     "metadata": {},
     "output_type": "execute_result"
    }
   ],
   "source": [
    "len(train_x.columns)"
   ]
  },
  {
   "cell_type": "code",
   "execution_count": null,
   "metadata": {},
   "outputs": [],
   "source": [
    "## now there are 34 features"
   ]
  },
  {
   "cell_type": "code",
   "execution_count": 249,
   "metadata": {},
   "outputs": [],
   "source": [
    "## evaluate first set of features\n",
    "train_x1 = train_x\n",
    "val_x1= val_x"
   ]
  },
  {
   "cell_type": "code",
   "execution_count": 282,
   "metadata": {},
   "outputs": [],
   "source": [
    "train_x1.drop([\"StreamingMovies_Yes\", \"StreamingTV_Yes\", \"phone\",\"MonthlyRatio\"], axis =1, inplace = True)\n",
    "val_x1.drop([\"StreamingMovies_Yes\", \"StreamingTV_Yes\", \"phone\",\"MonthlyRatio\"],axis=1, inplace = True)"
   ]
  },
  {
   "cell_type": "code",
   "execution_count": 300,
   "metadata": {},
   "outputs": [],
   "source": [
    "## fit a model logit5 here.\n",
    "logit5 = LogisticRegression(random_state = 9660, penalty =\"none\").fit(train_x1,train_y)"
   ]
  },
  {
   "cell_type": "code",
   "execution_count": 301,
   "metadata": {},
   "outputs": [
    {
     "data": {
      "text/html": [
       "<div>\n",
       "<style scoped>\n",
       "    .dataframe tbody tr th:only-of-type {\n",
       "        vertical-align: middle;\n",
       "    }\n",
       "\n",
       "    .dataframe tbody tr th {\n",
       "        vertical-align: top;\n",
       "    }\n",
       "\n",
       "    .dataframe thead th {\n",
       "        text-align: right;\n",
       "    }\n",
       "</style>\n",
       "<table border=\"1\" class=\"dataframe\">\n",
       "  <thead>\n",
       "    <tr style=\"text-align: right;\">\n",
       "      <th></th>\n",
       "      <th>feature</th>\n",
       "      <th>coef</th>\n",
       "    </tr>\n",
       "  </thead>\n",
       "  <tbody>\n",
       "    <tr>\n",
       "      <th>11</th>\n",
       "      <td>InternetService_No</td>\n",
       "      <td>-2.48231</td>\n",
       "    </tr>\n",
       "    <tr>\n",
       "      <th>1</th>\n",
       "      <td>MonthlyCharges</td>\n",
       "      <td>-2.05984</td>\n",
       "    </tr>\n",
       "    <tr>\n",
       "      <th>0</th>\n",
       "      <td>tenure</td>\n",
       "      <td>-1.71498</td>\n",
       "    </tr>\n",
       "    <tr>\n",
       "      <th>8</th>\n",
       "      <td>MultipleLines_No phone service</td>\n",
       "      <td>-1.50174</td>\n",
       "    </tr>\n",
       "    <tr>\n",
       "      <th>17</th>\n",
       "      <td>Contract_Two year</td>\n",
       "      <td>-1.29719</td>\n",
       "    </tr>\n",
       "    <tr>\n",
       "      <th>7</th>\n",
       "      <td>PhoneService_Yes</td>\n",
       "      <td>-0.70421</td>\n",
       "    </tr>\n",
       "    <tr>\n",
       "      <th>16</th>\n",
       "      <td>Contract_One year</td>\n",
       "      <td>-0.68022</td>\n",
       "    </tr>\n",
       "    <tr>\n",
       "      <th>23</th>\n",
       "      <td>new_customer</td>\n",
       "      <td>-0.46083</td>\n",
       "    </tr>\n",
       "    <tr>\n",
       "      <th>19</th>\n",
       "      <td>PaymentMethod_Credit card (automatic)</td>\n",
       "      <td>-0.13411</td>\n",
       "    </tr>\n",
       "    <tr>\n",
       "      <th>21</th>\n",
       "      <td>PaymentMethod_Mailed check</td>\n",
       "      <td>-0.09076</td>\n",
       "    </tr>\n",
       "    <tr>\n",
       "      <th>6</th>\n",
       "      <td>Dependents_Yes</td>\n",
       "      <td>-0.08099</td>\n",
       "    </tr>\n",
       "    <tr>\n",
       "      <th>12</th>\n",
       "      <td>OnlineSecurity_Yes</td>\n",
       "      <td>-0.05254</td>\n",
       "    </tr>\n",
       "    <tr>\n",
       "      <th>15</th>\n",
       "      <td>TechSupport_Yes</td>\n",
       "      <td>-0.02971</td>\n",
       "    </tr>\n",
       "    <tr>\n",
       "      <th>5</th>\n",
       "      <td>Partner_Yes</td>\n",
       "      <td>-0.00867</td>\n",
       "    </tr>\n",
       "    <tr>\n",
       "      <th>3</th>\n",
       "      <td>gender_Male</td>\n",
       "      <td>0.07038</td>\n",
       "    </tr>\n",
       "    <tr>\n",
       "      <th>13</th>\n",
       "      <td>OnlineBackup_Yes</td>\n",
       "      <td>0.10758</td>\n",
       "    </tr>\n",
       "    <tr>\n",
       "      <th>4</th>\n",
       "      <td>SeniorCitizen_1</td>\n",
       "      <td>0.17226</td>\n",
       "    </tr>\n",
       "    <tr>\n",
       "      <th>20</th>\n",
       "      <td>PaymentMethod_Electronic check</td>\n",
       "      <td>0.26891</td>\n",
       "    </tr>\n",
       "    <tr>\n",
       "      <th>14</th>\n",
       "      <td>DeviceProtection_Yes</td>\n",
       "      <td>0.36921</td>\n",
       "    </tr>\n",
       "    <tr>\n",
       "      <th>18</th>\n",
       "      <td>PaperlessBilling_Yes</td>\n",
       "      <td>0.38675</td>\n",
       "    </tr>\n",
       "    <tr>\n",
       "      <th>9</th>\n",
       "      <td>MultipleLines_Yes</td>\n",
       "      <td>0.63867</td>\n",
       "    </tr>\n",
       "    <tr>\n",
       "      <th>2</th>\n",
       "      <td>TotalCharges</td>\n",
       "      <td>0.71371</td>\n",
       "    </tr>\n",
       "    <tr>\n",
       "      <th>22</th>\n",
       "      <td>Streaming</td>\n",
       "      <td>0.87816</td>\n",
       "    </tr>\n",
       "    <tr>\n",
       "      <th>10</th>\n",
       "      <td>InternetService_Fiber optic</td>\n",
       "      <td>2.48980</td>\n",
       "    </tr>\n",
       "  </tbody>\n",
       "</table>\n",
       "</div>"
      ],
      "text/plain": [
       "                                  feature     coef\n",
       "11                     InternetService_No -2.48231\n",
       "1                          MonthlyCharges -2.05984\n",
       "0                                  tenure -1.71498\n",
       "8          MultipleLines_No phone service -1.50174\n",
       "17                      Contract_Two year -1.29719\n",
       "7                        PhoneService_Yes -0.70421\n",
       "16                      Contract_One year -0.68022\n",
       "23                           new_customer -0.46083\n",
       "19  PaymentMethod_Credit card (automatic) -0.13411\n",
       "21             PaymentMethod_Mailed check -0.09076\n",
       "6                          Dependents_Yes -0.08099\n",
       "12                     OnlineSecurity_Yes -0.05254\n",
       "15                        TechSupport_Yes -0.02971\n",
       "5                             Partner_Yes -0.00867\n",
       "3                             gender_Male  0.07038\n",
       "13                       OnlineBackup_Yes  0.10758\n",
       "4                         SeniorCitizen_1  0.17226\n",
       "20         PaymentMethod_Electronic check  0.26891\n",
       "14                   DeviceProtection_Yes  0.36921\n",
       "18                   PaperlessBilling_Yes  0.38675\n",
       "9                       MultipleLines_Yes  0.63867\n",
       "2                            TotalCharges  0.71371\n",
       "22                              Streaming  0.87816\n",
       "10            InternetService_Fiber optic  2.48980"
      ]
     },
     "execution_count": 301,
     "metadata": {},
     "output_type": "execute_result"
    }
   ],
   "source": [
    "logit5_coef = pd.DataFrame(zip(train_x1.columns,logit5.coef_[0]), columns=['feature', 'coef'])\n",
    "logit5_coef.sort_values(by=['coef'])"
   ]
  },
  {
   "cell_type": "code",
   "execution_count": 302,
   "metadata": {},
   "outputs": [
    {
     "data": {
      "image/png": "[encoded data removed]",
      "text/plain": [
       "<Figure size 432x288 with 1 Axes>"
      ]
     },
     "metadata": {
      "needs_background": "light"
     },
     "output_type": "display_data"
    },
    {
     "data": {
      "text/html": [
       "<div>\n",
       "<style scoped>\n",
       "    .dataframe tbody tr th:only-of-type {\n",
       "        vertical-align: middle;\n",
       "    }\n",
       "\n",
       "    .dataframe tbody tr th {\n",
       "        vertical-align: top;\n",
       "    }\n",
       "\n",
       "    .dataframe thead th {\n",
       "        text-align: right;\n",
       "    }\n",
       "</style>\n",
       "<table border=\"1\" class=\"dataframe\">\n",
       "  <thead>\n",
       "    <tr style=\"text-align: right;\">\n",
       "      <th></th>\n",
       "      <th>metric</th>\n",
       "      <th>value</th>\n",
       "    </tr>\n",
       "  </thead>\n",
       "  <tbody>\n",
       "    <tr>\n",
       "      <th>0</th>\n",
       "      <td>accuracy</td>\n",
       "      <td>0.80527</td>\n",
       "    </tr>\n",
       "    <tr>\n",
       "      <th>1</th>\n",
       "      <td>precision</td>\n",
       "      <td>0.66488</td>\n",
       "    </tr>\n",
       "    <tr>\n",
       "      <th>2</th>\n",
       "      <td>recall</td>\n",
       "      <td>0.55982</td>\n",
       "    </tr>\n",
       "    <tr>\n",
       "      <th>3</th>\n",
       "      <td>auc</td>\n",
       "      <td>0.85022</td>\n",
       "    </tr>\n",
       "    <tr>\n",
       "      <th>4</th>\n",
       "      <td>F1_score</td>\n",
       "      <td>0.60784</td>\n",
       "    </tr>\n",
       "  </tbody>\n",
       "</table>\n",
       "</div>"
      ],
      "text/plain": [
       "      metric   value\n",
       "0   accuracy 0.80527\n",
       "1  precision 0.66488\n",
       "2     recall 0.55982\n",
       "3        auc 0.85022\n",
       "4   F1_score 0.60784"
      ]
     },
     "execution_count": 302,
     "metadata": {},
     "output_type": "execute_result"
    }
   ],
   "source": [
    "logit5_train_df = logit_eva(x=train_x1, y=train_y, model = logit5, train_val = \"train\")\n",
    "logit5_train_df"
   ]
  },
  {
   "cell_type": "code",
   "execution_count": 303,
   "metadata": {},
   "outputs": [
    {
     "data": {
      "image/png": "[encoded data removed]",
      "text/plain": [
       "<Figure size 432x288 with 1 Axes>"
      ]
     },
     "metadata": {
      "needs_background": "light"
     },
     "output_type": "display_data"
    },
    {
     "data": {
      "text/html": [
       "<div>\n",
       "<style scoped>\n",
       "    .dataframe tbody tr th:only-of-type {\n",
       "        vertical-align: middle;\n",
       "    }\n",
       "\n",
       "    .dataframe tbody tr th {\n",
       "        vertical-align: top;\n",
       "    }\n",
       "\n",
       "    .dataframe thead th {\n",
       "        text-align: right;\n",
       "    }\n",
       "</style>\n",
       "<table border=\"1\" class=\"dataframe\">\n",
       "  <thead>\n",
       "    <tr style=\"text-align: right;\">\n",
       "      <th></th>\n",
       "      <th>metric</th>\n",
       "      <th>value</th>\n",
       "    </tr>\n",
       "  </thead>\n",
       "  <tbody>\n",
       "    <tr>\n",
       "      <th>0</th>\n",
       "      <td>accuracy</td>\n",
       "      <td>0.79508</td>\n",
       "    </tr>\n",
       "    <tr>\n",
       "      <th>1</th>\n",
       "      <td>precision</td>\n",
       "      <td>0.60470</td>\n",
       "    </tr>\n",
       "    <tr>\n",
       "      <th>2</th>\n",
       "      <td>recall</td>\n",
       "      <td>0.57222</td>\n",
       "    </tr>\n",
       "    <tr>\n",
       "      <th>3</th>\n",
       "      <td>auc</td>\n",
       "      <td>0.84420</td>\n",
       "    </tr>\n",
       "    <tr>\n",
       "      <th>4</th>\n",
       "      <td>F1_score</td>\n",
       "      <td>0.58801</td>\n",
       "    </tr>\n",
       "  </tbody>\n",
       "</table>\n",
       "</div>"
      ],
      "text/plain": [
       "      metric   value\n",
       "0   accuracy 0.79508\n",
       "1  precision 0.60470\n",
       "2     recall 0.57222\n",
       "3        auc 0.84420\n",
       "4   F1_score 0.58801"
      ]
     },
     "execution_count": 303,
     "metadata": {},
     "output_type": "execute_result"
    }
   ],
   "source": [
    "logit5_val_df = logit_eva(x=val_x1, y=val_y, model = logit5, train_val = \"val\")\n",
    "logit5_val_df"
   ]
  },
  {
   "cell_type": "code",
   "execution_count": 304,
   "metadata": {},
   "outputs": [
    {
     "data": {
      "text/html": [
       "<div>\n",
       "<style scoped>\n",
       "    .dataframe tbody tr th:only-of-type {\n",
       "        vertical-align: middle;\n",
       "    }\n",
       "\n",
       "    .dataframe tbody tr th {\n",
       "        vertical-align: top;\n",
       "    }\n",
       "\n",
       "    .dataframe thead th {\n",
       "        text-align: right;\n",
       "    }\n",
       "</style>\n",
       "<table border=\"1\" class=\"dataframe\">\n",
       "  <thead>\n",
       "    <tr style=\"text-align: right;\">\n",
       "      <th></th>\n",
       "      <th>metric</th>\n",
       "      <th>value</th>\n",
       "      <th>value</th>\n",
       "      <th>value</th>\n",
       "      <th>value</th>\n",
       "    </tr>\n",
       "  </thead>\n",
       "  <tbody>\n",
       "    <tr>\n",
       "      <th>0</th>\n",
       "      <td>accuracy</td>\n",
       "      <td>0.80407</td>\n",
       "      <td>0.80360</td>\n",
       "      <td>0.80549</td>\n",
       "      <td>0.79508</td>\n",
       "    </tr>\n",
       "    <tr>\n",
       "      <th>1</th>\n",
       "      <td>precision</td>\n",
       "      <td>0.62600</td>\n",
       "      <td>0.62575</td>\n",
       "      <td>0.62978</td>\n",
       "      <td>0.60470</td>\n",
       "    </tr>\n",
       "    <tr>\n",
       "      <th>2</th>\n",
       "      <td>recall</td>\n",
       "      <td>0.57963</td>\n",
       "      <td>0.57593</td>\n",
       "      <td>0.57963</td>\n",
       "      <td>0.57222</td>\n",
       "    </tr>\n",
       "    <tr>\n",
       "      <th>3</th>\n",
       "      <td>auc</td>\n",
       "      <td>0.84376</td>\n",
       "      <td>0.84759</td>\n",
       "      <td>0.84342</td>\n",
       "      <td>0.84420</td>\n",
       "    </tr>\n",
       "    <tr>\n",
       "      <th>4</th>\n",
       "      <td>F1_score</td>\n",
       "      <td>0.60192</td>\n",
       "      <td>0.59981</td>\n",
       "      <td>0.60366</td>\n",
       "      <td>0.58801</td>\n",
       "    </tr>\n",
       "  </tbody>\n",
       "</table>\n",
       "</div>"
      ],
      "text/plain": [
       "      metric   value   value   value   value\n",
       "0   accuracy 0.80407 0.80360 0.80549 0.79508\n",
       "1  precision 0.62600 0.62575 0.62978 0.60470\n",
       "2     recall 0.57963 0.57593 0.57963 0.57222\n",
       "3        auc 0.84376 0.84759 0.84342 0.84420\n",
       "4   F1_score 0.60192 0.59981 0.60366 0.58801"
      ]
     },
     "execution_count": 304,
     "metadata": {},
     "output_type": "execute_result"
    }
   ],
   "source": [
    "pd.concat([logit2_val_df, logit3_val_df.value, logit4_val_df.value, logit5_val_df.value], axis =1)"
   ]
  },
  {
   "cell_type": "code",
   "execution_count": 305,
   "metadata": {},
   "outputs": [
    {
     "name": "stderr",
     "output_type": "stream",
     "text": [
      "C:\\ProgramData\\Anaconda3\\lib\\site-packages\\sklearn\\metrics\\_classification.py:1221: UndefinedMetricWarning: Precision is ill-defined and being set to 0.0 due to no predicted samples. Use `zero_division` parameter to control this behavior.\n",
      "  _warn_prf(average, modifier, msg_start, len(result))\n"
     ]
    },
    {
     "data": {
      "text/plain": [
       "threshold   0.32000\n",
       "precision   0.55822\n",
       "recall      0.75395\n",
       "accuracy    0.77282\n",
       "F1_score    0.64149\n",
       "Name: 31, dtype: float64"
      ]
     },
     "execution_count": 305,
     "metadata": {},
     "output_type": "execute_result"
    }
   ],
   "source": [
    "df5 = recall75(x = train_x1, y = train_y, model = logit5)\n",
    "df5.iloc[0,:]"
   ]
  },
  {
   "cell_type": "code",
   "execution_count": 306,
   "metadata": {},
   "outputs": [],
   "source": [
    "## the accuracy is slightly improved with a 75% recall threshood."
   ]
  },
  {
   "cell_type": "code",
   "execution_count": 273,
   "metadata": {},
   "outputs": [],
   "source": [
    "## get a new set of features\n",
    "train_x2 = train_x\n",
    "val_x2= val_x"
   ]
  },
  {
   "cell_type": "code",
   "execution_count": 290,
   "metadata": {},
   "outputs": [],
   "source": [
    "train_x2.drop([\"StreamingMovies_No internet service\",\"StreamingTV_No internet service\",\"TechSupport_No internet service\",\"OnlineBackup_No internet service\",\"OnlineSecurity_No internet service\",\"DeviceProtection_No internet service\"], axis =1, inplace = True)\n",
    "val_x2.drop([\"StreamingMovies_No internet service\",\"StreamingTV_No internet service\",\"TechSupport_No internet service\",\"OnlineBackup_No internet service\",\"OnlineSecurity_No internet service\",\"DeviceProtection_No internet service\"], axis =1, inplace = True)"
   ]
  },
  {
   "cell_type": "code",
   "execution_count": 291,
   "metadata": {},
   "outputs": [],
   "source": [
    "## fit a model logit6 here.\n",
    "logit6 = LogisticRegression(random_state = 9660, penalty =\"none\").fit(train_x2,train_y)"
   ]
  },
  {
   "cell_type": "code",
   "execution_count": 294,
   "metadata": {},
   "outputs": [
    {
     "data": {
      "text/plain": [
       "array([[-1.71497928, -2.0598357 ,  0.71371331,  0.07037504,  0.17225677,\n",
       "        -0.00867114, -0.08099397, -0.70421187, -1.50173552,  0.63866778,\n",
       "         2.48979693, -2.4823061 , -0.05254414,  0.10758293,  0.36921438,\n",
       "        -0.02971231, -0.68021602, -1.29719116,  0.38674647, -0.13411067,\n",
       "         0.26891034, -0.09076439,  0.87816174, -0.4608293 ]])"
      ]
     },
     "execution_count": 294,
     "metadata": {},
     "output_type": "execute_result"
    }
   ],
   "source": [
    "logit6.coef_"
   ]
  },
  {
   "cell_type": "code",
   "execution_count": 307,
   "metadata": {},
   "outputs": [
    {
     "data": {
      "text/html": [
       "<div>\n",
       "<style scoped>\n",
       "    .dataframe tbody tr th:only-of-type {\n",
       "        vertical-align: middle;\n",
       "    }\n",
       "\n",
       "    .dataframe tbody tr th {\n",
       "        vertical-align: top;\n",
       "    }\n",
       "\n",
       "    .dataframe thead th {\n",
       "        text-align: right;\n",
       "    }\n",
       "</style>\n",
       "<table border=\"1\" class=\"dataframe\">\n",
       "  <thead>\n",
       "    <tr style=\"text-align: right;\">\n",
       "      <th></th>\n",
       "      <th>feature</th>\n",
       "      <th>coef</th>\n",
       "    </tr>\n",
       "  </thead>\n",
       "  <tbody>\n",
       "    <tr>\n",
       "      <th>11</th>\n",
       "      <td>InternetService_No</td>\n",
       "      <td>-2.48231</td>\n",
       "    </tr>\n",
       "    <tr>\n",
       "      <th>1</th>\n",
       "      <td>MonthlyCharges</td>\n",
       "      <td>-2.05984</td>\n",
       "    </tr>\n",
       "    <tr>\n",
       "      <th>0</th>\n",
       "      <td>tenure</td>\n",
       "      <td>-1.71498</td>\n",
       "    </tr>\n",
       "    <tr>\n",
       "      <th>8</th>\n",
       "      <td>MultipleLines_No phone service</td>\n",
       "      <td>-1.50174</td>\n",
       "    </tr>\n",
       "    <tr>\n",
       "      <th>17</th>\n",
       "      <td>Contract_Two year</td>\n",
       "      <td>-1.29719</td>\n",
       "    </tr>\n",
       "    <tr>\n",
       "      <th>7</th>\n",
       "      <td>PhoneService_Yes</td>\n",
       "      <td>-0.70421</td>\n",
       "    </tr>\n",
       "    <tr>\n",
       "      <th>16</th>\n",
       "      <td>Contract_One year</td>\n",
       "      <td>-0.68022</td>\n",
       "    </tr>\n",
       "    <tr>\n",
       "      <th>23</th>\n",
       "      <td>new_customer</td>\n",
       "      <td>-0.46083</td>\n",
       "    </tr>\n",
       "    <tr>\n",
       "      <th>19</th>\n",
       "      <td>PaymentMethod_Credit card (automatic)</td>\n",
       "      <td>-0.13411</td>\n",
       "    </tr>\n",
       "    <tr>\n",
       "      <th>21</th>\n",
       "      <td>PaymentMethod_Mailed check</td>\n",
       "      <td>-0.09076</td>\n",
       "    </tr>\n",
       "    <tr>\n",
       "      <th>6</th>\n",
       "      <td>Dependents_Yes</td>\n",
       "      <td>-0.08099</td>\n",
       "    </tr>\n",
       "    <tr>\n",
       "      <th>12</th>\n",
       "      <td>OnlineSecurity_Yes</td>\n",
       "      <td>-0.05254</td>\n",
       "    </tr>\n",
       "    <tr>\n",
       "      <th>15</th>\n",
       "      <td>TechSupport_Yes</td>\n",
       "      <td>-0.02971</td>\n",
       "    </tr>\n",
       "    <tr>\n",
       "      <th>5</th>\n",
       "      <td>Partner_Yes</td>\n",
       "      <td>-0.00867</td>\n",
       "    </tr>\n",
       "    <tr>\n",
       "      <th>3</th>\n",
       "      <td>gender_Male</td>\n",
       "      <td>0.07038</td>\n",
       "    </tr>\n",
       "    <tr>\n",
       "      <th>13</th>\n",
       "      <td>OnlineBackup_Yes</td>\n",
       "      <td>0.10758</td>\n",
       "    </tr>\n",
       "    <tr>\n",
       "      <th>4</th>\n",
       "      <td>SeniorCitizen_1</td>\n",
       "      <td>0.17226</td>\n",
       "    </tr>\n",
       "    <tr>\n",
       "      <th>20</th>\n",
       "      <td>PaymentMethod_Electronic check</td>\n",
       "      <td>0.26891</td>\n",
       "    </tr>\n",
       "    <tr>\n",
       "      <th>14</th>\n",
       "      <td>DeviceProtection_Yes</td>\n",
       "      <td>0.36921</td>\n",
       "    </tr>\n",
       "    <tr>\n",
       "      <th>18</th>\n",
       "      <td>PaperlessBilling_Yes</td>\n",
       "      <td>0.38675</td>\n",
       "    </tr>\n",
       "    <tr>\n",
       "      <th>9</th>\n",
       "      <td>MultipleLines_Yes</td>\n",
       "      <td>0.63867</td>\n",
       "    </tr>\n",
       "    <tr>\n",
       "      <th>2</th>\n",
       "      <td>TotalCharges</td>\n",
       "      <td>0.71371</td>\n",
       "    </tr>\n",
       "    <tr>\n",
       "      <th>22</th>\n",
       "      <td>Streaming</td>\n",
       "      <td>0.87816</td>\n",
       "    </tr>\n",
       "    <tr>\n",
       "      <th>10</th>\n",
       "      <td>InternetService_Fiber optic</td>\n",
       "      <td>2.48980</td>\n",
       "    </tr>\n",
       "  </tbody>\n",
       "</table>\n",
       "</div>"
      ],
      "text/plain": [
       "                                  feature     coef\n",
       "11                     InternetService_No -2.48231\n",
       "1                          MonthlyCharges -2.05984\n",
       "0                                  tenure -1.71498\n",
       "8          MultipleLines_No phone service -1.50174\n",
       "17                      Contract_Two year -1.29719\n",
       "7                        PhoneService_Yes -0.70421\n",
       "16                      Contract_One year -0.68022\n",
       "23                           new_customer -0.46083\n",
       "19  PaymentMethod_Credit card (automatic) -0.13411\n",
       "21             PaymentMethod_Mailed check -0.09076\n",
       "6                          Dependents_Yes -0.08099\n",
       "12                     OnlineSecurity_Yes -0.05254\n",
       "15                        TechSupport_Yes -0.02971\n",
       "5                             Partner_Yes -0.00867\n",
       "3                             gender_Male  0.07038\n",
       "13                       OnlineBackup_Yes  0.10758\n",
       "4                         SeniorCitizen_1  0.17226\n",
       "20         PaymentMethod_Electronic check  0.26891\n",
       "14                   DeviceProtection_Yes  0.36921\n",
       "18                   PaperlessBilling_Yes  0.38675\n",
       "9                       MultipleLines_Yes  0.63867\n",
       "2                            TotalCharges  0.71371\n",
       "22                              Streaming  0.87816\n",
       "10            InternetService_Fiber optic  2.48980"
      ]
     },
     "execution_count": 307,
     "metadata": {},
     "output_type": "execute_result"
    }
   ],
   "source": [
    "logit6_coef = pd.DataFrame(zip(train_x2.columns,logit6.coef_[0]), columns=['feature', 'coef'])\n",
    "logit6_coef.sort_values(by=['coef'])"
   ]
  },
  {
   "cell_type": "code",
   "execution_count": 308,
   "metadata": {},
   "outputs": [
    {
     "data": {
      "image/png": "[encoded data removed]",
      "text/plain": [
       "<Figure size 432x288 with 1 Axes>"
      ]
     },
     "metadata": {
      "needs_background": "light"
     },
     "output_type": "display_data"
    },
    {
     "data": {
      "text/html": [
       "<div>\n",
       "<style scoped>\n",
       "    .dataframe tbody tr th:only-of-type {\n",
       "        vertical-align: middle;\n",
       "    }\n",
       "\n",
       "    .dataframe tbody tr th {\n",
       "        vertical-align: top;\n",
       "    }\n",
       "\n",
       "    .dataframe thead th {\n",
       "        text-align: right;\n",
       "    }\n",
       "</style>\n",
       "<table border=\"1\" class=\"dataframe\">\n",
       "  <thead>\n",
       "    <tr style=\"text-align: right;\">\n",
       "      <th></th>\n",
       "      <th>metric</th>\n",
       "      <th>value</th>\n",
       "    </tr>\n",
       "  </thead>\n",
       "  <tbody>\n",
       "    <tr>\n",
       "      <th>0</th>\n",
       "      <td>accuracy</td>\n",
       "      <td>0.80527</td>\n",
       "    </tr>\n",
       "    <tr>\n",
       "      <th>1</th>\n",
       "      <td>precision</td>\n",
       "      <td>0.66488</td>\n",
       "    </tr>\n",
       "    <tr>\n",
       "      <th>2</th>\n",
       "      <td>recall</td>\n",
       "      <td>0.55982</td>\n",
       "    </tr>\n",
       "    <tr>\n",
       "      <th>3</th>\n",
       "      <td>auc</td>\n",
       "      <td>0.85022</td>\n",
       "    </tr>\n",
       "    <tr>\n",
       "      <th>4</th>\n",
       "      <td>F1_score</td>\n",
       "      <td>0.60784</td>\n",
       "    </tr>\n",
       "  </tbody>\n",
       "</table>\n",
       "</div>"
      ],
      "text/plain": [
       "      metric   value\n",
       "0   accuracy 0.80527\n",
       "1  precision 0.66488\n",
       "2     recall 0.55982\n",
       "3        auc 0.85022\n",
       "4   F1_score 0.60784"
      ]
     },
     "execution_count": 308,
     "metadata": {},
     "output_type": "execute_result"
    }
   ],
   "source": [
    "logit6_train_df = logit_eva(x=train_x2, y=train_y, model = logit6, train_val = \"train\")\n",
    "logit6_train_df"
   ]
  },
  {
   "cell_type": "code",
   "execution_count": 309,
   "metadata": {},
   "outputs": [
    {
     "data": {
      "image/png": "[encoded data removed]",
      "text/plain": [
       "<Figure size 432x288 with 1 Axes>"
      ]
     },
     "metadata": {
      "needs_background": "light"
     },
     "output_type": "display_data"
    },
    {
     "data": {
      "text/html": [
       "<div>\n",
       "<style scoped>\n",
       "    .dataframe tbody tr th:only-of-type {\n",
       "        vertical-align: middle;\n",
       "    }\n",
       "\n",
       "    .dataframe tbody tr th {\n",
       "        vertical-align: top;\n",
       "    }\n",
       "\n",
       "    .dataframe thead th {\n",
       "        text-align: right;\n",
       "    }\n",
       "</style>\n",
       "<table border=\"1\" class=\"dataframe\">\n",
       "  <thead>\n",
       "    <tr style=\"text-align: right;\">\n",
       "      <th></th>\n",
       "      <th>metric</th>\n",
       "      <th>value</th>\n",
       "    </tr>\n",
       "  </thead>\n",
       "  <tbody>\n",
       "    <tr>\n",
       "      <th>0</th>\n",
       "      <td>accuracy</td>\n",
       "      <td>0.79508</td>\n",
       "    </tr>\n",
       "    <tr>\n",
       "      <th>1</th>\n",
       "      <td>precision</td>\n",
       "      <td>0.60470</td>\n",
       "    </tr>\n",
       "    <tr>\n",
       "      <th>2</th>\n",
       "      <td>recall</td>\n",
       "      <td>0.57222</td>\n",
       "    </tr>\n",
       "    <tr>\n",
       "      <th>3</th>\n",
       "      <td>auc</td>\n",
       "      <td>0.84420</td>\n",
       "    </tr>\n",
       "    <tr>\n",
       "      <th>4</th>\n",
       "      <td>F1_score</td>\n",
       "      <td>0.58801</td>\n",
       "    </tr>\n",
       "  </tbody>\n",
       "</table>\n",
       "</div>"
      ],
      "text/plain": [
       "      metric   value\n",
       "0   accuracy 0.79508\n",
       "1  precision 0.60470\n",
       "2     recall 0.57222\n",
       "3        auc 0.84420\n",
       "4   F1_score 0.58801"
      ]
     },
     "execution_count": 309,
     "metadata": {},
     "output_type": "execute_result"
    }
   ],
   "source": [
    "logit6_val_df = logit_eva(x=val_x2, y=val_y, model = logit6, train_val = \"val\")\n",
    "logit6_val_df"
   ]
  },
  {
   "cell_type": "code",
   "execution_count": 311,
   "metadata": {},
   "outputs": [
    {
     "data": {
      "text/html": [
       "<div>\n",
       "<style scoped>\n",
       "    .dataframe tbody tr th:only-of-type {\n",
       "        vertical-align: middle;\n",
       "    }\n",
       "\n",
       "    .dataframe tbody tr th {\n",
       "        vertical-align: top;\n",
       "    }\n",
       "\n",
       "    .dataframe thead th {\n",
       "        text-align: right;\n",
       "    }\n",
       "</style>\n",
       "<table border=\"1\" class=\"dataframe\">\n",
       "  <thead>\n",
       "    <tr style=\"text-align: right;\">\n",
       "      <th></th>\n",
       "      <th>metric</th>\n",
       "      <th>value</th>\n",
       "      <th>value</th>\n",
       "      <th>value</th>\n",
       "      <th>value</th>\n",
       "      <th>value</th>\n",
       "    </tr>\n",
       "  </thead>\n",
       "  <tbody>\n",
       "    <tr>\n",
       "      <th>0</th>\n",
       "      <td>accuracy</td>\n",
       "      <td>0.80407</td>\n",
       "      <td>0.80360</td>\n",
       "      <td>0.80549</td>\n",
       "      <td>0.79508</td>\n",
       "      <td>0.79508</td>\n",
       "    </tr>\n",
       "    <tr>\n",
       "      <th>1</th>\n",
       "      <td>precision</td>\n",
       "      <td>0.62600</td>\n",
       "      <td>0.62575</td>\n",
       "      <td>0.62978</td>\n",
       "      <td>0.60470</td>\n",
       "      <td>0.60470</td>\n",
       "    </tr>\n",
       "    <tr>\n",
       "      <th>2</th>\n",
       "      <td>recall</td>\n",
       "      <td>0.57963</td>\n",
       "      <td>0.57593</td>\n",
       "      <td>0.57963</td>\n",
       "      <td>0.57222</td>\n",
       "      <td>0.57222</td>\n",
       "    </tr>\n",
       "    <tr>\n",
       "      <th>3</th>\n",
       "      <td>auc</td>\n",
       "      <td>0.84376</td>\n",
       "      <td>0.84759</td>\n",
       "      <td>0.84342</td>\n",
       "      <td>0.84420</td>\n",
       "      <td>0.84420</td>\n",
       "    </tr>\n",
       "    <tr>\n",
       "      <th>4</th>\n",
       "      <td>F1_score</td>\n",
       "      <td>0.60192</td>\n",
       "      <td>0.59981</td>\n",
       "      <td>0.60366</td>\n",
       "      <td>0.58801</td>\n",
       "      <td>0.58801</td>\n",
       "    </tr>\n",
       "  </tbody>\n",
       "</table>\n",
       "</div>"
      ],
      "text/plain": [
       "      metric   value   value   value   value   value\n",
       "0   accuracy 0.80407 0.80360 0.80549 0.79508 0.79508\n",
       "1  precision 0.62600 0.62575 0.62978 0.60470 0.60470\n",
       "2     recall 0.57963 0.57593 0.57963 0.57222 0.57222\n",
       "3        auc 0.84376 0.84759 0.84342 0.84420 0.84420\n",
       "4   F1_score 0.60192 0.59981 0.60366 0.58801 0.58801"
      ]
     },
     "execution_count": 311,
     "metadata": {},
     "output_type": "execute_result"
    }
   ],
   "source": [
    "pd.concat([logit2_val_df, logit3_val_df.value, logit4_val_df.value, logit5_val_df.value, logit6_val_df.value], axis =1)"
   ]
  },
  {
   "cell_type": "code",
   "execution_count": 310,
   "metadata": {},
   "outputs": [
    {
     "name": "stderr",
     "output_type": "stream",
     "text": [
      "C:\\ProgramData\\Anaconda3\\lib\\site-packages\\sklearn\\metrics\\_classification.py:1221: UndefinedMetricWarning: Precision is ill-defined and being set to 0.0 due to no predicted samples. Use `zero_division` parameter to control this behavior.\n",
      "  _warn_prf(average, modifier, msg_start, len(result))\n"
     ]
    },
    {
     "data": {
      "text/plain": [
       "threshold   0.32000\n",
       "precision   0.55822\n",
       "recall      0.75395\n",
       "accuracy    0.77282\n",
       "F1_score    0.64149\n",
       "Name: 31, dtype: float64"
      ]
     },
     "execution_count": 310,
     "metadata": {},
     "output_type": "execute_result"
    }
   ],
   "source": [
    "df6 = recall75(x = train_x2, y = train_y, model = logit6)\n",
    "df6.iloc[0,:]"
   ]
  },
  {
   "cell_type": "code",
   "execution_count": null,
   "metadata": {},
   "outputs": [],
   "source": [
    "## there no improvement from logit6 to logit5"
   ]
  },
  {
   "cell_type": "markdown",
   "metadata": {},
   "source": [
    "## 6. What are the advantage and disadvantage of using logistic regression on this dataset?"
   ]
  },
  {
   "cell_type": "markdown",
   "metadata": {},
   "source": [
    "The advantages of logitistic regreesion for this dataset would be easy implementation and relatively fast computational time. It does not have many parameters to tune. The predictors are easy to explain.\n",
    "\n",
    "The disadvantages would be some of the variables are highly correlated. like no internet will leads to no streaming. The corralted features will result in lower performance."
   ]
  }
 ],
 "metadata": {
  "kernelspec": {
   "display_name": "Python 3",
   "language": "python",
   "name": "python3"
  },
  "language_info": {
   "codemirror_mode": {
    "name": "ipython",
    "version": 3
   },
   "file_extension": ".py",
   "mimetype": "text/x-python",
   "name": "python",
   "nbconvert_exporter": "python",
   "pygments_lexer": "ipython3",
   "version": "3.8.3"
  }
 },
 "nbformat": 4,
 "nbformat_minor": 4
}
