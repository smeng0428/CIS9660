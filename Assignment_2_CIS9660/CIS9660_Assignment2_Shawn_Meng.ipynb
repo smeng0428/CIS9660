{
 "cells": [
  {
   "cell_type": "markdown",
   "metadata": {},
   "source": [
    "## Assignment2: Tree Based Models\n",
    "## 7/10/2021\n",
    "## Shawn Meng"
   ]
  },
  {
   "cell_type": "markdown",
   "metadata": {},
   "source": [
    "### 1. Read in the Sportify data and perform the standard 70/30 split into train/validation. Perform any data visualization relevant for this dataset."
   ]
  },
  {
   "cell_type": "code",
   "execution_count": 36,
   "metadata": {},
   "outputs": [],
   "source": [
    "import pandas as pd\n",
    "import numpy as np\n",
    "import matplotlib.pyplot as plt\n",
    "import seaborn as sns\n",
    "from sklearn.model_selection import train_test_split, GridSearchCV, RandomizedSearchCV\n",
    "from sklearn import metrics\n",
    "pd.set_option('display.float_format', lambda x: '%.5f' % x)"
   ]
  },
  {
   "cell_type": "code",
   "execution_count": 2,
   "metadata": {},
   "outputs": [],
   "source": [
    "df1 = pd.read_csv(\"dataset-of-00s.csv\")"
   ]
  },
  {
   "cell_type": "code",
   "execution_count": 3,
   "metadata": {},
   "outputs": [
    {
     "data": {
      "text/plain": [
       "(5872, 19)"
      ]
     },
     "execution_count": 3,
     "metadata": {},
     "output_type": "execute_result"
    }
   ],
   "source": [
    "df1.shape"
   ]
  },
  {
   "cell_type": "code",
   "execution_count": 4,
   "metadata": {},
   "outputs": [
    {
     "data": {
      "text/html": [
       "<div>\n",
       "<style scoped>\n",
       "    .dataframe tbody tr th:only-of-type {\n",
       "        vertical-align: middle;\n",
       "    }\n",
       "\n",
       "    .dataframe tbody tr th {\n",
       "        vertical-align: top;\n",
       "    }\n",
       "\n",
       "    .dataframe thead th {\n",
       "        text-align: right;\n",
       "    }\n",
       "</style>\n",
       "<table border=\"1\" class=\"dataframe\">\n",
       "  <thead>\n",
       "    <tr style=\"text-align: right;\">\n",
       "      <th></th>\n",
       "      <th>track</th>\n",
       "      <th>artist</th>\n",
       "      <th>uri</th>\n",
       "      <th>danceability</th>\n",
       "      <th>energy</th>\n",
       "      <th>key</th>\n",
       "      <th>loudness</th>\n",
       "      <th>mode</th>\n",
       "      <th>speechiness</th>\n",
       "      <th>acousticness</th>\n",
       "      <th>instrumentalness</th>\n",
       "      <th>liveness</th>\n",
       "      <th>valence</th>\n",
       "      <th>tempo</th>\n",
       "      <th>duration_ms</th>\n",
       "      <th>time_signature</th>\n",
       "      <th>chorus_hit</th>\n",
       "      <th>sections</th>\n",
       "      <th>target</th>\n",
       "    </tr>\n",
       "  </thead>\n",
       "  <tbody>\n",
       "    <tr>\n",
       "      <th>0</th>\n",
       "      <td>Lucky Man</td>\n",
       "      <td>Montgomery Gentry</td>\n",
       "      <td>spotify:track:4GiXBCUF7H6YfNQsnBRIzl</td>\n",
       "      <td>0.57800</td>\n",
       "      <td>0.47100</td>\n",
       "      <td>4</td>\n",
       "      <td>-7.27000</td>\n",
       "      <td>1</td>\n",
       "      <td>0.02890</td>\n",
       "      <td>0.36800</td>\n",
       "      <td>0.00000</td>\n",
       "      <td>0.15900</td>\n",
       "      <td>0.53200</td>\n",
       "      <td>133.06100</td>\n",
       "      <td>196707</td>\n",
       "      <td>4</td>\n",
       "      <td>30.88059</td>\n",
       "      <td>13</td>\n",
       "      <td>1</td>\n",
       "    </tr>\n",
       "    <tr>\n",
       "      <th>1</th>\n",
       "      <td>On The Hotline</td>\n",
       "      <td>Pretty Ricky</td>\n",
       "      <td>spotify:track:1zyqZONW985Cs4osz9wlsu</td>\n",
       "      <td>0.70400</td>\n",
       "      <td>0.85400</td>\n",
       "      <td>10</td>\n",
       "      <td>-5.47700</td>\n",
       "      <td>0</td>\n",
       "      <td>0.18300</td>\n",
       "      <td>0.01850</td>\n",
       "      <td>0.00000</td>\n",
       "      <td>0.14800</td>\n",
       "      <td>0.68800</td>\n",
       "      <td>92.98800</td>\n",
       "      <td>242587</td>\n",
       "      <td>4</td>\n",
       "      <td>41.51106</td>\n",
       "      <td>10</td>\n",
       "      <td>1</td>\n",
       "    </tr>\n",
       "    <tr>\n",
       "      <th>2</th>\n",
       "      <td>Clouds Of Dementia</td>\n",
       "      <td>Candlemass</td>\n",
       "      <td>spotify:track:6cHZf7RbxXCKwEkgAZT4mY</td>\n",
       "      <td>0.16200</td>\n",
       "      <td>0.83600</td>\n",
       "      <td>9</td>\n",
       "      <td>-3.00900</td>\n",
       "      <td>1</td>\n",
       "      <td>0.04730</td>\n",
       "      <td>0.00011</td>\n",
       "      <td>0.00457</td>\n",
       "      <td>0.17400</td>\n",
       "      <td>0.30000</td>\n",
       "      <td>86.96400</td>\n",
       "      <td>338893</td>\n",
       "      <td>4</td>\n",
       "      <td>65.32887</td>\n",
       "      <td>13</td>\n",
       "      <td>0</td>\n",
       "    </tr>\n",
       "    <tr>\n",
       "      <th>3</th>\n",
       "      <td>Heavy Metal, Raise Hell!</td>\n",
       "      <td>Zwartketterij</td>\n",
       "      <td>spotify:track:2IjBPp2vMeX7LggzRN3iSX</td>\n",
       "      <td>0.18800</td>\n",
       "      <td>0.99400</td>\n",
       "      <td>4</td>\n",
       "      <td>-3.74500</td>\n",
       "      <td>1</td>\n",
       "      <td>0.16600</td>\n",
       "      <td>0.00001</td>\n",
       "      <td>0.07840</td>\n",
       "      <td>0.19200</td>\n",
       "      <td>0.33300</td>\n",
       "      <td>148.44000</td>\n",
       "      <td>255667</td>\n",
       "      <td>4</td>\n",
       "      <td>58.59528</td>\n",
       "      <td>9</td>\n",
       "      <td>0</td>\n",
       "    </tr>\n",
       "    <tr>\n",
       "      <th>4</th>\n",
       "      <td>I Got A Feelin'</td>\n",
       "      <td>Billy Currington</td>\n",
       "      <td>spotify:track:1tF370eYXUcWwkIvaq3IGz</td>\n",
       "      <td>0.63000</td>\n",
       "      <td>0.76400</td>\n",
       "      <td>2</td>\n",
       "      <td>-4.35300</td>\n",
       "      <td>1</td>\n",
       "      <td>0.02750</td>\n",
       "      <td>0.36300</td>\n",
       "      <td>0.00000</td>\n",
       "      <td>0.12500</td>\n",
       "      <td>0.63100</td>\n",
       "      <td>112.09800</td>\n",
       "      <td>193760</td>\n",
       "      <td>4</td>\n",
       "      <td>22.62384</td>\n",
       "      <td>10</td>\n",
       "      <td>1</td>\n",
       "    </tr>\n",
       "  </tbody>\n",
       "</table>\n",
       "</div>"
      ],
      "text/plain": [
       "                      track             artist  \\\n",
       "0                 Lucky Man  Montgomery Gentry   \n",
       "1            On The Hotline       Pretty Ricky   \n",
       "2        Clouds Of Dementia         Candlemass   \n",
       "3  Heavy Metal, Raise Hell!      Zwartketterij   \n",
       "4           I Got A Feelin'   Billy Currington   \n",
       "\n",
       "                                    uri  danceability  energy  key  loudness  \\\n",
       "0  spotify:track:4GiXBCUF7H6YfNQsnBRIzl       0.57800 0.47100    4  -7.27000   \n",
       "1  spotify:track:1zyqZONW985Cs4osz9wlsu       0.70400 0.85400   10  -5.47700   \n",
       "2  spotify:track:6cHZf7RbxXCKwEkgAZT4mY       0.16200 0.83600    9  -3.00900   \n",
       "3  spotify:track:2IjBPp2vMeX7LggzRN3iSX       0.18800 0.99400    4  -3.74500   \n",
       "4  spotify:track:1tF370eYXUcWwkIvaq3IGz       0.63000 0.76400    2  -4.35300   \n",
       "\n",
       "   mode  speechiness  acousticness  instrumentalness  liveness  valence  \\\n",
       "0     1      0.02890       0.36800           0.00000   0.15900  0.53200   \n",
       "1     0      0.18300       0.01850           0.00000   0.14800  0.68800   \n",
       "2     1      0.04730       0.00011           0.00457   0.17400  0.30000   \n",
       "3     1      0.16600       0.00001           0.07840   0.19200  0.33300   \n",
       "4     1      0.02750       0.36300           0.00000   0.12500  0.63100   \n",
       "\n",
       "      tempo  duration_ms  time_signature  chorus_hit  sections  target  \n",
       "0 133.06100       196707               4    30.88059        13       1  \n",
       "1  92.98800       242587               4    41.51106        10       1  \n",
       "2  86.96400       338893               4    65.32887        13       0  \n",
       "3 148.44000       255667               4    58.59528         9       0  \n",
       "4 112.09800       193760               4    22.62384        10       1  "
      ]
     },
     "execution_count": 4,
     "metadata": {},
     "output_type": "execute_result"
    }
   ],
   "source": [
    "df1.head()"
   ]
  },
  {
   "cell_type": "code",
   "execution_count": 5,
   "metadata": {},
   "outputs": [],
   "source": [
    "train_set, val_set = train_test_split(df1, train_size = 0.7, random_state = 9660)"
   ]
  },
  {
   "cell_type": "code",
   "execution_count": 6,
   "metadata": {},
   "outputs": [
    {
     "data": {
      "text/plain": [
       "track               False\n",
       "artist              False\n",
       "uri                 False\n",
       "danceability        False\n",
       "energy              False\n",
       "key                 False\n",
       "loudness            False\n",
       "mode                False\n",
       "speechiness         False\n",
       "acousticness        False\n",
       "instrumentalness    False\n",
       "liveness            False\n",
       "valence             False\n",
       "tempo               False\n",
       "duration_ms         False\n",
       "time_signature      False\n",
       "chorus_hit          False\n",
       "sections            False\n",
       "target              False\n",
       "dtype: bool"
      ]
     },
     "execution_count": 6,
     "metadata": {},
     "output_type": "execute_result"
    }
   ],
   "source": [
    "## check for missing values first\n",
    "df1.isna().any()"
   ]
  },
  {
   "cell_type": "code",
   "execution_count": 7,
   "metadata": {},
   "outputs": [
    {
     "name": "stdout",
     "output_type": "stream",
     "text": [
      "<class 'pandas.core.frame.DataFrame'>\n",
      "RangeIndex: 5872 entries, 0 to 5871\n",
      "Data columns (total 19 columns):\n",
      " #   Column            Non-Null Count  Dtype  \n",
      "---  ------            --------------  -----  \n",
      " 0   track             5872 non-null   object \n",
      " 1   artist            5872 non-null   object \n",
      " 2   uri               5872 non-null   object \n",
      " 3   danceability      5872 non-null   float64\n",
      " 4   energy            5872 non-null   float64\n",
      " 5   key               5872 non-null   int64  \n",
      " 6   loudness          5872 non-null   float64\n",
      " 7   mode              5872 non-null   int64  \n",
      " 8   speechiness       5872 non-null   float64\n",
      " 9   acousticness      5872 non-null   float64\n",
      " 10  instrumentalness  5872 non-null   float64\n",
      " 11  liveness          5872 non-null   float64\n",
      " 12  valence           5872 non-null   float64\n",
      " 13  tempo             5872 non-null   float64\n",
      " 14  duration_ms       5872 non-null   int64  \n",
      " 15  time_signature    5872 non-null   int64  \n",
      " 16  chorus_hit        5872 non-null   float64\n",
      " 17  sections          5872 non-null   int64  \n",
      " 18  target            5872 non-null   int64  \n",
      "dtypes: float64(10), int64(6), object(3)\n",
      "memory usage: 871.8+ KB\n"
     ]
    }
   ],
   "source": [
    "## this dataset appears to be pretty clean.\n",
    "df1.info()"
   ]
  },
  {
   "cell_type": "code",
   "execution_count": 8,
   "metadata": {},
   "outputs": [],
   "source": [
    "## split the label and predictors\n",
    "train_y = train_set.target\n",
    "val_y = val_set.target"
   ]
  },
  {
   "cell_type": "code",
   "execution_count": 9,
   "metadata": {},
   "outputs": [],
   "source": [
    "train_x = train_set.drop(['target','uri','artist'], axis = 1)\n",
    "val_x = val_set.drop(['target','uri','artist'], axis = 1)"
   ]
  },
  {
   "cell_type": "code",
   "execution_count": 10,
   "metadata": {},
   "outputs": [],
   "source": [
    "unique_n = []\n",
    "unique_values = []\n",
    "\n",
    "for i in train_x.columns:\n",
    "    unique_n.append(len(train_x[i].unique()))\n",
    "    unique_values.append(train_x[i].unique())\n",
    "    "
   ]
  },
  {
   "cell_type": "code",
   "execution_count": 11,
   "metadata": {
    "scrolled": true
   },
   "outputs": [
    {
     "data": {
      "text/html": [
       "<div>\n",
       "<style scoped>\n",
       "    .dataframe tbody tr th:only-of-type {\n",
       "        vertical-align: middle;\n",
       "    }\n",
       "\n",
       "    .dataframe tbody tr th {\n",
       "        vertical-align: top;\n",
       "    }\n",
       "\n",
       "    .dataframe thead th {\n",
       "        text-align: right;\n",
       "    }\n",
       "</style>\n",
       "<table border=\"1\" class=\"dataframe\">\n",
       "  <thead>\n",
       "    <tr style=\"text-align: right;\">\n",
       "      <th></th>\n",
       "      <th>Feature</th>\n",
       "      <th>unique_counts</th>\n",
       "      <th>unique_values</th>\n",
       "    </tr>\n",
       "  </thead>\n",
       "  <tbody>\n",
       "    <tr>\n",
       "      <th>0</th>\n",
       "      <td>track</td>\n",
       "      <td>3981</td>\n",
       "      <td>[Money Maker, Discoblood (Demo), Burarum, So S...</td>\n",
       "    </tr>\n",
       "    <tr>\n",
       "      <th>1</th>\n",
       "      <td>danceability</td>\n",
       "      <td>839</td>\n",
       "      <td>[0.46399999999999997, 0.24, 0.305, 0.426, 0.50...</td>\n",
       "    </tr>\n",
       "    <tr>\n",
       "      <th>2</th>\n",
       "      <td>energy</td>\n",
       "      <td>919</td>\n",
       "      <td>[0.598, 0.9640000000000001, 0.551, 0.784, 0.78...</td>\n",
       "    </tr>\n",
       "    <tr>\n",
       "      <th>3</th>\n",
       "      <td>key</td>\n",
       "      <td>12</td>\n",
       "      <td>[1, 10, 3, 7, 5, 2, 11, 9, 8, 0, 4, 6]</td>\n",
       "    </tr>\n",
       "    <tr>\n",
       "      <th>4</th>\n",
       "      <td>loudness</td>\n",
       "      <td>3345</td>\n",
       "      <td>[-6.79, -3.765, -6.984, -3.225, -6.205, -6.949...</td>\n",
       "    </tr>\n",
       "    <tr>\n",
       "      <th>5</th>\n",
       "      <td>mode</td>\n",
       "      <td>2</td>\n",
       "      <td>[1, 0]</td>\n",
       "    </tr>\n",
       "    <tr>\n",
       "      <th>6</th>\n",
       "      <td>speechiness</td>\n",
       "      <td>1000</td>\n",
       "      <td>[0.27, 0.1, 0.0423, 0.0421, 0.0329, 0.0321, 0....</td>\n",
       "    </tr>\n",
       "    <tr>\n",
       "      <th>7</th>\n",
       "      <td>acousticness</td>\n",
       "      <td>2257</td>\n",
       "      <td>[0.149, 0.0211, 0.0038200000000000005, 0.306, ...</td>\n",
       "    </tr>\n",
       "    <tr>\n",
       "      <th>8</th>\n",
       "      <td>instrumentalness</td>\n",
       "      <td>1817</td>\n",
       "      <td>[0.0, 0.0556, 0.37200000000000005, 0.0128, 0.7...</td>\n",
       "    </tr>\n",
       "    <tr>\n",
       "      <th>9</th>\n",
       "      <td>liveness</td>\n",
       "      <td>1063</td>\n",
       "      <td>[0.299, 0.35200000000000004, 0.301, 0.0695, 0....</td>\n",
       "    </tr>\n",
       "    <tr>\n",
       "      <th>10</th>\n",
       "      <td>valence</td>\n",
       "      <td>1070</td>\n",
       "      <td>[0.612, 0.125, 0.105, 0.272, 0.21, 0.0932, 0.2...</td>\n",
       "    </tr>\n",
       "    <tr>\n",
       "      <th>11</th>\n",
       "      <td>tempo</td>\n",
       "      <td>3893</td>\n",
       "      <td>[79.732, 119.79, 99.97, 147.939, 94.109, 96.92...</td>\n",
       "    </tr>\n",
       "    <tr>\n",
       "      <th>12</th>\n",
       "      <td>duration_ms</td>\n",
       "      <td>3610</td>\n",
       "      <td>[230613, 240107, 314760, 225213, 334933, 38163...</td>\n",
       "    </tr>\n",
       "    <tr>\n",
       "      <th>13</th>\n",
       "      <td>time_signature</td>\n",
       "      <td>5</td>\n",
       "      <td>[4, 3, 5, 1, 0]</td>\n",
       "    </tr>\n",
       "    <tr>\n",
       "      <th>14</th>\n",
       "      <td>chorus_hit</td>\n",
       "      <td>4085</td>\n",
       "      <td>[31.67163, 63.611880000000006, 81.47703, 39.06...</td>\n",
       "    </tr>\n",
       "    <tr>\n",
       "      <th>15</th>\n",
       "      <td>sections</td>\n",
       "      <td>50</td>\n",
       "      <td>[9, 8, 7, 10, 145, 13, 26, 11, 21, 6, 15, 28, ...</td>\n",
       "    </tr>\n",
       "  </tbody>\n",
       "</table>\n",
       "</div>"
      ],
      "text/plain": [
       "             Feature  unique_counts  \\\n",
       "0              track           3981   \n",
       "1       danceability            839   \n",
       "2             energy            919   \n",
       "3                key             12   \n",
       "4           loudness           3345   \n",
       "5               mode              2   \n",
       "6        speechiness           1000   \n",
       "7       acousticness           2257   \n",
       "8   instrumentalness           1817   \n",
       "9           liveness           1063   \n",
       "10           valence           1070   \n",
       "11             tempo           3893   \n",
       "12       duration_ms           3610   \n",
       "13    time_signature              5   \n",
       "14        chorus_hit           4085   \n",
       "15          sections             50   \n",
       "\n",
       "                                        unique_values  \n",
       "0   [Money Maker, Discoblood (Demo), Burarum, So S...  \n",
       "1   [0.46399999999999997, 0.24, 0.305, 0.426, 0.50...  \n",
       "2   [0.598, 0.9640000000000001, 0.551, 0.784, 0.78...  \n",
       "3              [1, 10, 3, 7, 5, 2, 11, 9, 8, 0, 4, 6]  \n",
       "4   [-6.79, -3.765, -6.984, -3.225, -6.205, -6.949...  \n",
       "5                                              [1, 0]  \n",
       "6   [0.27, 0.1, 0.0423, 0.0421, 0.0329, 0.0321, 0....  \n",
       "7   [0.149, 0.0211, 0.0038200000000000005, 0.306, ...  \n",
       "8   [0.0, 0.0556, 0.37200000000000005, 0.0128, 0.7...  \n",
       "9   [0.299, 0.35200000000000004, 0.301, 0.0695, 0....  \n",
       "10  [0.612, 0.125, 0.105, 0.272, 0.21, 0.0932, 0.2...  \n",
       "11  [79.732, 119.79, 99.97, 147.939, 94.109, 96.92...  \n",
       "12  [230613, 240107, 314760, 225213, 334933, 38163...  \n",
       "13                                    [4, 3, 5, 1, 0]  \n",
       "14  [31.67163, 63.611880000000006, 81.47703, 39.06...  \n",
       "15  [9, 8, 7, 10, 145, 13, 26, 11, 21, 6, 15, 28, ...  "
      ]
     },
     "execution_count": 11,
     "metadata": {},
     "output_type": "execute_result"
    }
   ],
   "source": [
    "feature_df = pd.DataFrame(list(zip(train_x.columns, unique_n, unique_values)), columns = ['Feature', 'unique_counts', 'unique_values'])\n",
    "feature_df"
   ]
  },
  {
   "cell_type": "code",
   "execution_count": 18,
   "metadata": {},
   "outputs": [
    {
     "data": {
      "text/html": [
       "<div>\n",
       "<style scoped>\n",
       "    .dataframe tbody tr th:only-of-type {\n",
       "        vertical-align: middle;\n",
       "    }\n",
       "\n",
       "    .dataframe tbody tr th {\n",
       "        vertical-align: top;\n",
       "    }\n",
       "\n",
       "    .dataframe thead th {\n",
       "        text-align: right;\n",
       "    }\n",
       "</style>\n",
       "<table border=\"1\" class=\"dataframe\">\n",
       "  <thead>\n",
       "    <tr style=\"text-align: right;\">\n",
       "      <th></th>\n",
       "      <th>track</th>\n",
       "      <th>danceability</th>\n",
       "      <th>energy</th>\n",
       "      <th>key</th>\n",
       "      <th>loudness</th>\n",
       "      <th>mode</th>\n",
       "      <th>speechiness</th>\n",
       "      <th>acousticness</th>\n",
       "      <th>instrumentalness</th>\n",
       "      <th>liveness</th>\n",
       "      <th>valence</th>\n",
       "      <th>tempo</th>\n",
       "      <th>duration_ms</th>\n",
       "      <th>time_signature</th>\n",
       "      <th>chorus_hit</th>\n",
       "      <th>sections</th>\n",
       "    </tr>\n",
       "  </thead>\n",
       "  <tbody>\n",
       "    <tr>\n",
       "      <th>5052</th>\n",
       "      <td>Money Maker</td>\n",
       "      <td>0.46400</td>\n",
       "      <td>0.59800</td>\n",
       "      <td>1</td>\n",
       "      <td>-6.79000</td>\n",
       "      <td>1</td>\n",
       "      <td>0.27000</td>\n",
       "      <td>0.14900</td>\n",
       "      <td>0.00000</td>\n",
       "      <td>0.29900</td>\n",
       "      <td>0.61200</td>\n",
       "      <td>79.73200</td>\n",
       "      <td>230613</td>\n",
       "      <td>4</td>\n",
       "      <td>31.67163</td>\n",
       "      <td>9</td>\n",
       "    </tr>\n",
       "    <tr>\n",
       "      <th>1991</th>\n",
       "      <td>Discoblood (Demo)</td>\n",
       "      <td>0.24000</td>\n",
       "      <td>0.96400</td>\n",
       "      <td>1</td>\n",
       "      <td>-3.76500</td>\n",
       "      <td>1</td>\n",
       "      <td>0.10000</td>\n",
       "      <td>0.02110</td>\n",
       "      <td>0.05560</td>\n",
       "      <td>0.35200</td>\n",
       "      <td>0.12500</td>\n",
       "      <td>119.79000</td>\n",
       "      <td>240107</td>\n",
       "      <td>4</td>\n",
       "      <td>63.61188</td>\n",
       "      <td>9</td>\n",
       "    </tr>\n",
       "    <tr>\n",
       "      <th>4133</th>\n",
       "      <td>Burarum</td>\n",
       "      <td>0.30500</td>\n",
       "      <td>0.55100</td>\n",
       "      <td>10</td>\n",
       "      <td>-6.98400</td>\n",
       "      <td>1</td>\n",
       "      <td>0.04230</td>\n",
       "      <td>0.00382</td>\n",
       "      <td>0.37200</td>\n",
       "      <td>0.30100</td>\n",
       "      <td>0.10500</td>\n",
       "      <td>99.97000</td>\n",
       "      <td>314760</td>\n",
       "      <td>4</td>\n",
       "      <td>81.47703</td>\n",
       "      <td>8</td>\n",
       "    </tr>\n",
       "    <tr>\n",
       "      <th>3229</th>\n",
       "      <td>So Small</td>\n",
       "      <td>0.42600</td>\n",
       "      <td>0.78400</td>\n",
       "      <td>3</td>\n",
       "      <td>-3.22500</td>\n",
       "      <td>1</td>\n",
       "      <td>0.04210</td>\n",
       "      <td>0.30600</td>\n",
       "      <td>0.00000</td>\n",
       "      <td>0.06950</td>\n",
       "      <td>0.27200</td>\n",
       "      <td>147.93900</td>\n",
       "      <td>225213</td>\n",
       "      <td>3</td>\n",
       "      <td>39.06367</td>\n",
       "      <td>7</td>\n",
       "    </tr>\n",
       "    <tr>\n",
       "      <th>4479</th>\n",
       "      <td>Where Do We Go From Here</td>\n",
       "      <td>0.50100</td>\n",
       "      <td>0.78500</td>\n",
       "      <td>7</td>\n",
       "      <td>-6.20500</td>\n",
       "      <td>1</td>\n",
       "      <td>0.03290</td>\n",
       "      <td>0.00027</td>\n",
       "      <td>0.01280</td>\n",
       "      <td>0.36000</td>\n",
       "      <td>0.21000</td>\n",
       "      <td>94.10900</td>\n",
       "      <td>334933</td>\n",
       "      <td>4</td>\n",
       "      <td>47.03959</td>\n",
       "      <td>10</td>\n",
       "    </tr>\n",
       "    <tr>\n",
       "      <th>...</th>\n",
       "      <td>...</td>\n",
       "      <td>...</td>\n",
       "      <td>...</td>\n",
       "      <td>...</td>\n",
       "      <td>...</td>\n",
       "      <td>...</td>\n",
       "      <td>...</td>\n",
       "      <td>...</td>\n",
       "      <td>...</td>\n",
       "      <td>...</td>\n",
       "      <td>...</td>\n",
       "      <td>...</td>\n",
       "      <td>...</td>\n",
       "      <td>...</td>\n",
       "      <td>...</td>\n",
       "      <td>...</td>\n",
       "    </tr>\n",
       "    <tr>\n",
       "      <th>5606</th>\n",
       "      <td>Apologize</td>\n",
       "      <td>0.59300</td>\n",
       "      <td>0.74000</td>\n",
       "      <td>8</td>\n",
       "      <td>-6.12000</td>\n",
       "      <td>1</td>\n",
       "      <td>0.03390</td>\n",
       "      <td>0.36300</td>\n",
       "      <td>0.00002</td>\n",
       "      <td>0.10200</td>\n",
       "      <td>0.50200</td>\n",
       "      <td>118.00800</td>\n",
       "      <td>208107</td>\n",
       "      <td>4</td>\n",
       "      <td>30.48457</td>\n",
       "      <td>7</td>\n",
       "    </tr>\n",
       "    <tr>\n",
       "      <th>4468</th>\n",
       "      <td>Life Is Too Short</td>\n",
       "      <td>0.57400</td>\n",
       "      <td>0.80700</td>\n",
       "      <td>0</td>\n",
       "      <td>-7.71000</td>\n",
       "      <td>1</td>\n",
       "      <td>0.04700</td>\n",
       "      <td>0.00874</td>\n",
       "      <td>0.09650</td>\n",
       "      <td>0.10600</td>\n",
       "      <td>0.62400</td>\n",
       "      <td>135.00400</td>\n",
       "      <td>221205</td>\n",
       "      <td>4</td>\n",
       "      <td>35.06677</td>\n",
       "      <td>7</td>\n",
       "    </tr>\n",
       "    <tr>\n",
       "      <th>2211</th>\n",
       "      <td>Soak Up The Sun</td>\n",
       "      <td>0.71700</td>\n",
       "      <td>0.73300</td>\n",
       "      <td>4</td>\n",
       "      <td>-4.98500</td>\n",
       "      <td>1</td>\n",
       "      <td>0.04270</td>\n",
       "      <td>0.03980</td>\n",
       "      <td>0.00000</td>\n",
       "      <td>0.13600</td>\n",
       "      <td>0.71300</td>\n",
       "      <td>119.99600</td>\n",
       "      <td>292307</td>\n",
       "      <td>4</td>\n",
       "      <td>32.94086</td>\n",
       "      <td>15</td>\n",
       "    </tr>\n",
       "    <tr>\n",
       "      <th>506</th>\n",
       "      <td>Who The F*** Is That?</td>\n",
       "      <td>0.83900</td>\n",
       "      <td>0.50800</td>\n",
       "      <td>11</td>\n",
       "      <td>-6.18200</td>\n",
       "      <td>1</td>\n",
       "      <td>0.08790</td>\n",
       "      <td>0.00974</td>\n",
       "      <td>0.00000</td>\n",
       "      <td>0.09620</td>\n",
       "      <td>0.55900</td>\n",
       "      <td>82.02700</td>\n",
       "      <td>250627</td>\n",
       "      <td>4</td>\n",
       "      <td>25.53615</td>\n",
       "      <td>17</td>\n",
       "    </tr>\n",
       "    <tr>\n",
       "      <th>809</th>\n",
       "      <td>Ehu Girl</td>\n",
       "      <td>0.80300</td>\n",
       "      <td>0.62500</td>\n",
       "      <td>0</td>\n",
       "      <td>-5.37900</td>\n",
       "      <td>1</td>\n",
       "      <td>0.03820</td>\n",
       "      <td>0.13500</td>\n",
       "      <td>0.00000</td>\n",
       "      <td>0.08880</td>\n",
       "      <td>0.94000</td>\n",
       "      <td>133.01300</td>\n",
       "      <td>229760</td>\n",
       "      <td>4</td>\n",
       "      <td>22.91969</td>\n",
       "      <td>9</td>\n",
       "    </tr>\n",
       "  </tbody>\n",
       "</table>\n",
       "<p>4110 rows × 16 columns</p>\n",
       "</div>"
      ],
      "text/plain": [
       "                         track  danceability  energy  key  loudness  mode  \\\n",
       "5052               Money Maker       0.46400 0.59800    1  -6.79000     1   \n",
       "1991         Discoblood (Demo)       0.24000 0.96400    1  -3.76500     1   \n",
       "4133                   Burarum       0.30500 0.55100   10  -6.98400     1   \n",
       "3229                  So Small       0.42600 0.78400    3  -3.22500     1   \n",
       "4479  Where Do We Go From Here       0.50100 0.78500    7  -6.20500     1   \n",
       "...                        ...           ...     ...  ...       ...   ...   \n",
       "5606                 Apologize       0.59300 0.74000    8  -6.12000     1   \n",
       "4468         Life Is Too Short       0.57400 0.80700    0  -7.71000     1   \n",
       "2211           Soak Up The Sun       0.71700 0.73300    4  -4.98500     1   \n",
       "506      Who The F*** Is That?       0.83900 0.50800   11  -6.18200     1   \n",
       "809                   Ehu Girl       0.80300 0.62500    0  -5.37900     1   \n",
       "\n",
       "      speechiness  acousticness  instrumentalness  liveness  valence  \\\n",
       "5052      0.27000       0.14900           0.00000   0.29900  0.61200   \n",
       "1991      0.10000       0.02110           0.05560   0.35200  0.12500   \n",
       "4133      0.04230       0.00382           0.37200   0.30100  0.10500   \n",
       "3229      0.04210       0.30600           0.00000   0.06950  0.27200   \n",
       "4479      0.03290       0.00027           0.01280   0.36000  0.21000   \n",
       "...           ...           ...               ...       ...      ...   \n",
       "5606      0.03390       0.36300           0.00002   0.10200  0.50200   \n",
       "4468      0.04700       0.00874           0.09650   0.10600  0.62400   \n",
       "2211      0.04270       0.03980           0.00000   0.13600  0.71300   \n",
       "506       0.08790       0.00974           0.00000   0.09620  0.55900   \n",
       "809       0.03820       0.13500           0.00000   0.08880  0.94000   \n",
       "\n",
       "         tempo  duration_ms  time_signature  chorus_hit  sections  \n",
       "5052  79.73200       230613               4    31.67163         9  \n",
       "1991 119.79000       240107               4    63.61188         9  \n",
       "4133  99.97000       314760               4    81.47703         8  \n",
       "3229 147.93900       225213               3    39.06367         7  \n",
       "4479  94.10900       334933               4    47.03959        10  \n",
       "...        ...          ...             ...         ...       ...  \n",
       "5606 118.00800       208107               4    30.48457         7  \n",
       "4468 135.00400       221205               4    35.06677         7  \n",
       "2211 119.99600       292307               4    32.94086        15  \n",
       "506   82.02700       250627               4    25.53615        17  \n",
       "809  133.01300       229760               4    22.91969         9  \n",
       "\n",
       "[4110 rows x 16 columns]"
      ]
     },
     "execution_count": 18,
     "metadata": {},
     "output_type": "execute_result"
    }
   ],
   "source": [
    "train_x"
   ]
  },
  {
   "cell_type": "code",
   "execution_count": 12,
   "metadata": {},
   "outputs": [
    {
     "data": {
      "text/plain": [
       "Text(0.5, 1.0, 'distribution of label of the spotify dataset')"
      ]
     },
     "execution_count": 12,
     "metadata": {},
     "output_type": "execute_result"
    },
    {
     "data": {
      "image/png": "[encoded data removed]",
      "text/plain": [
       "<Figure size 432x288 with 1 Axes>"
      ]
     },
     "metadata": {
      "needs_background": "light"
     },
     "output_type": "display_data"
    }
   ],
   "source": [
    "df1.target.hist()\n",
    "plt.title('distribution of label of the spotify dataset')"
   ]
  },
  {
   "cell_type": "markdown",
   "metadata": {},
   "source": [
    "### the labels of the spotify dataset are equally distributed."
   ]
  },
  {
   "cell_type": "code",
   "execution_count": 19,
   "metadata": {},
   "outputs": [
    {
     "data": {
      "image/png": "[encoded data removed]",
      "text/plain": [
       "<Figure size 432x288 with 1 Axes>"
      ]
     },
     "metadata": {
      "needs_background": "light"
     },
     "output_type": "display_data"
    },
    {
     "data": {
      "image/png": "[encoded data removed]",
      "text/plain": [
       "<Figure size 432x288 with 1 Axes>"
      ]
     },
     "metadata": {
      "needs_background": "light"
     },
     "output_type": "display_data"
    },
    {
     "data": {
      "image/png": "[encoded data removed]",
      "text/plain": [
       "<Figure size 432x288 with 1 Axes>"
      ]
     },
     "metadata": {
      "needs_background": "light"
     },
     "output_type": "display_data"
    },
    {
     "data": {
      "image/png": "[encoded data removed]",
      "text/plain": [
       "<Figure size 432x288 with 1 Axes>"
      ]
     },
     "metadata": {
      "needs_background": "light"
     },
     "output_type": "display_data"
    },
    {
     "data": {
      "image/png": "[encoded data removed]",
      "text/plain": [
       "<Figure size 432x288 with 1 Axes>"
      ]
     },
     "metadata": {
      "needs_background": "light"
     },
     "output_type": "display_data"
    },
    {
     "data": {
      "image/png": "[encoded data removed]",
      "text/plain": [
       "<Figure size 432x288 with 1 Axes>"
      ]
     },
     "metadata": {
      "needs_background": "light"
     },
     "output_type": "display_data"
    },
    {
     "data": {
      "image/png": "[encoded data removed]",
      "text/plain": [
       "<Figure size 432x288 with 1 Axes>"
      ]
     },
     "metadata": {
      "needs_background": "light"
     },
     "output_type": "display_data"
    },
    {
     "data": {
      "image/png": "[encoded data removed]",
      "text/plain": [
       "<Figure size 432x288 with 1 Axes>"
      ]
     },
     "metadata": {
      "needs_background": "light"
     },
     "output_type": "display_data"
    },
    {
     "data": {
      "image/png": "[encoded data removed]",
      "text/plain": [
       "<Figure size 432x288 with 1 Axes>"
      ]
     },
     "metadata": {
      "needs_background": "light"
     },
     "output_type": "display_data"
    },
    {
     "data": {
      "image/png": "[encoded data removed]",
      "text/plain": [
       "<Figure size 432x288 with 1 Axes>"
      ]
     },
     "metadata": {
      "needs_background": "light"
     },
     "output_type": "display_data"
    },
    {
     "data": {
      "image/png": "[encoded data removed]",
      "text/plain": [
       "<Figure size 432x288 with 1 Axes>"
      ]
     },
     "metadata": {
      "needs_background": "light"
     },
     "output_type": "display_data"
    },
    {
     "data": {
      "image/png": "[encoded data removed]",
      "text/plain": [
       "<Figure size 432x288 with 1 Axes>"
      ]
     },
     "metadata": {
      "needs_background": "light"
     },
     "output_type": "display_data"
    },
    {
     "data": {
      "image/png": "[encoded data removed]",
      "text/plain": [
       "<Figure size 432x288 with 1 Axes>"
      ]
     },
     "metadata": {
      "needs_background": "light"
     },
     "output_type": "display_data"
    },
    {
     "data": {
      "image/png": "[encoded data removed]",
      "text/plain": [
       "<Figure size 432x288 with 1 Axes>"
      ]
     },
     "metadata": {
      "needs_background": "light"
     },
     "output_type": "display_data"
    },
    {
     "data": {
      "image/png": "[encoded data removed]",
      "text/plain": [
       "<Figure size 432x288 with 1 Axes>"
      ]
     },
     "metadata": {
      "needs_background": "light"
     },
     "output_type": "display_data"
    }
   ],
   "source": [
    "for i in train_x.columns[1:]:\n",
    "    train_x[i].hist()\n",
    "    plt.title(i)\n",
    "    plt.show()"
   ]
  },
  {
   "cell_type": "code",
   "execution_count": 22,
   "metadata": {},
   "outputs": [],
   "source": [
    "## feature engineering for the 'track'\n",
    "## Use the len of track name as a feature\n",
    "## there may be more engineering to be done with nlp, but leave it for another time.\n",
    "train_x[\"track_len\"] = [len(x) for x in train_x[\"track\"]]"
   ]
  },
  {
   "cell_type": "code",
   "execution_count": 23,
   "metadata": {},
   "outputs": [
    {
     "data": {
      "image/png": "[encoded data removed]",
      "text/plain": [
       "<Figure size 432x288 with 1 Axes>"
      ]
     },
     "metadata": {
      "needs_background": "light"
     },
     "output_type": "display_data"
    }
   ],
   "source": [
    "## histogram of the track_len in train set\n",
    "train_x[\"track_len\"].hist()\n",
    "plt.title('distribution of track lengenth')\n",
    "plt.show()"
   ]
  },
  {
   "cell_type": "code",
   "execution_count": 24,
   "metadata": {},
   "outputs": [],
   "source": [
    "## same for val set\n",
    "val_x['track_len'] = [len(x) for x in val_x['track']]"
   ]
  },
  {
   "cell_type": "code",
   "execution_count": 25,
   "metadata": {},
   "outputs": [
    {
     "data": {
      "image/png": "[encoded data removed]",
      "text/plain": [
       "<Figure size 432x288 with 1 Axes>"
      ]
     },
     "metadata": {
      "needs_background": "light"
     },
     "output_type": "display_data"
    }
   ],
   "source": [
    "val_x['track_len'].hist()\n",
    "plt.title('distribution of track lengenth in validation set')\n",
    "plt.show()"
   ]
  },
  {
   "cell_type": "code",
   "execution_count": 26,
   "metadata": {},
   "outputs": [
    {
     "data": {
      "text/html": [
       "<div>\n",
       "<style scoped>\n",
       "    .dataframe tbody tr th:only-of-type {\n",
       "        vertical-align: middle;\n",
       "    }\n",
       "\n",
       "    .dataframe tbody tr th {\n",
       "        vertical-align: top;\n",
       "    }\n",
       "\n",
       "    .dataframe thead th {\n",
       "        text-align: right;\n",
       "    }\n",
       "</style>\n",
       "<table border=\"1\" class=\"dataframe\">\n",
       "  <thead>\n",
       "    <tr style=\"text-align: right;\">\n",
       "      <th></th>\n",
       "      <th>danceability</th>\n",
       "      <th>energy</th>\n",
       "      <th>key</th>\n",
       "      <th>loudness</th>\n",
       "      <th>mode</th>\n",
       "      <th>speechiness</th>\n",
       "      <th>acousticness</th>\n",
       "      <th>instrumentalness</th>\n",
       "      <th>liveness</th>\n",
       "      <th>valence</th>\n",
       "      <th>tempo</th>\n",
       "      <th>duration_ms</th>\n",
       "      <th>time_signature</th>\n",
       "      <th>chorus_hit</th>\n",
       "      <th>sections</th>\n",
       "      <th>track_len</th>\n",
       "    </tr>\n",
       "  </thead>\n",
       "  <tbody>\n",
       "    <tr>\n",
       "      <th>count</th>\n",
       "      <td>4110.00000</td>\n",
       "      <td>4110.00000</td>\n",
       "      <td>4110.00000</td>\n",
       "      <td>4110.00000</td>\n",
       "      <td>4110.00000</td>\n",
       "      <td>4110.00000</td>\n",
       "      <td>4110.00000</td>\n",
       "      <td>4110.00000</td>\n",
       "      <td>4110.00000</td>\n",
       "      <td>4110.00000</td>\n",
       "      <td>4110.00000</td>\n",
       "      <td>4110.00000</td>\n",
       "      <td>4110.00000</td>\n",
       "      <td>4110.00000</td>\n",
       "      <td>4110.00000</td>\n",
       "      <td>4110.00000</td>\n",
       "    </tr>\n",
       "    <tr>\n",
       "      <th>mean</th>\n",
       "      <td>0.54189</td>\n",
       "      <td>0.69360</td>\n",
       "      <td>5.27421</td>\n",
       "      <td>-7.39984</td>\n",
       "      <td>0.64745</td>\n",
       "      <td>0.09155</td>\n",
       "      <td>0.21447</td>\n",
       "      <td>0.14953</td>\n",
       "      <td>0.19492</td>\n",
       "      <td>0.48246</td>\n",
       "      <td>121.59498</td>\n",
       "      <td>256507.51825</td>\n",
       "      <td>3.91022</td>\n",
       "      <td>40.71470</td>\n",
       "      <td>10.98540</td>\n",
       "      <td>17.41436</td>\n",
       "    </tr>\n",
       "    <tr>\n",
       "      <th>std</th>\n",
       "      <td>0.19079</td>\n",
       "      <td>0.23856</td>\n",
       "      <td>3.55138</td>\n",
       "      <td>5.06293</td>\n",
       "      <td>0.47782</td>\n",
       "      <td>0.09379</td>\n",
       "      <td>0.29678</td>\n",
       "      <td>0.29986</td>\n",
       "      <td>0.15995</td>\n",
       "      <td>0.25415</td>\n",
       "      <td>30.18265</td>\n",
       "      <td>134985.59914</td>\n",
       "      <td>0.42030</td>\n",
       "      <td>20.40899</td>\n",
       "      <td>5.47036</td>\n",
       "      <td>12.36399</td>\n",
       "    </tr>\n",
       "    <tr>\n",
       "      <th>min</th>\n",
       "      <td>0.06000</td>\n",
       "      <td>0.00035</td>\n",
       "      <td>0.00000</td>\n",
       "      <td>-39.98200</td>\n",
       "      <td>0.00000</td>\n",
       "      <td>0.02240</td>\n",
       "      <td>0.00000</td>\n",
       "      <td>0.00000</td>\n",
       "      <td>0.01930</td>\n",
       "      <td>0.00000</td>\n",
       "      <td>47.37000</td>\n",
       "      <td>15920.00000</td>\n",
       "      <td>0.00000</td>\n",
       "      <td>0.00000</td>\n",
       "      <td>1.00000</td>\n",
       "      <td>1.00000</td>\n",
       "    </tr>\n",
       "    <tr>\n",
       "      <th>25%</th>\n",
       "      <td>0.41400</td>\n",
       "      <td>0.56700</td>\n",
       "      <td>2.00000</td>\n",
       "      <td>-8.26400</td>\n",
       "      <td>0.00000</td>\n",
       "      <td>0.03630</td>\n",
       "      <td>0.00438</td>\n",
       "      <td>0.00000</td>\n",
       "      <td>0.09420</td>\n",
       "      <td>0.28000</td>\n",
       "      <td>96.98025</td>\n",
       "      <td>206387.00000</td>\n",
       "      <td>4.00000</td>\n",
       "      <td>27.57311</td>\n",
       "      <td>9.00000</td>\n",
       "      <td>10.00000</td>\n",
       "    </tr>\n",
       "    <tr>\n",
       "      <th>50%</th>\n",
       "      <td>0.55400</td>\n",
       "      <td>0.74600</td>\n",
       "      <td>5.00000</td>\n",
       "      <td>-5.97900</td>\n",
       "      <td>1.00000</td>\n",
       "      <td>0.05250</td>\n",
       "      <td>0.05935</td>\n",
       "      <td>0.00002</td>\n",
       "      <td>0.13100</td>\n",
       "      <td>0.48500</td>\n",
       "      <td>119.98600</td>\n",
       "      <td>236727.00000</td>\n",
       "      <td>4.00000</td>\n",
       "      <td>36.00292</td>\n",
       "      <td>10.00000</td>\n",
       "      <td>14.00000</td>\n",
       "    </tr>\n",
       "    <tr>\n",
       "      <th>75%</th>\n",
       "      <td>0.68100</td>\n",
       "      <td>0.88400</td>\n",
       "      <td>8.00000</td>\n",
       "      <td>-4.51600</td>\n",
       "      <td>1.00000</td>\n",
       "      <td>0.10600</td>\n",
       "      <td>0.31400</td>\n",
       "      <td>0.04830</td>\n",
       "      <td>0.26200</td>\n",
       "      <td>0.68600</td>\n",
       "      <td>141.91350</td>\n",
       "      <td>276890.00000</td>\n",
       "      <td>4.00000</td>\n",
       "      <td>47.64612</td>\n",
       "      <td>12.00000</td>\n",
       "      <td>21.00000</td>\n",
       "    </tr>\n",
       "    <tr>\n",
       "      <th>max</th>\n",
       "      <td>0.97800</td>\n",
       "      <td>0.99900</td>\n",
       "      <td>11.00000</td>\n",
       "      <td>1.13700</td>\n",
       "      <td>1.00000</td>\n",
       "      <td>0.94100</td>\n",
       "      <td>0.99600</td>\n",
       "      <td>0.99800</td>\n",
       "      <td>0.98700</td>\n",
       "      <td>0.98200</td>\n",
       "      <td>213.23300</td>\n",
       "      <td>3816373.00000</td>\n",
       "      <td>5.00000</td>\n",
       "      <td>262.61540</td>\n",
       "      <td>159.00000</td>\n",
       "      <td>123.00000</td>\n",
       "    </tr>\n",
       "  </tbody>\n",
       "</table>\n",
       "</div>"
      ],
      "text/plain": [
       "       danceability     energy        key   loudness       mode  speechiness  \\\n",
       "count    4110.00000 4110.00000 4110.00000 4110.00000 4110.00000   4110.00000   \n",
       "mean        0.54189    0.69360    5.27421   -7.39984    0.64745      0.09155   \n",
       "std         0.19079    0.23856    3.55138    5.06293    0.47782      0.09379   \n",
       "min         0.06000    0.00035    0.00000  -39.98200    0.00000      0.02240   \n",
       "25%         0.41400    0.56700    2.00000   -8.26400    0.00000      0.03630   \n",
       "50%         0.55400    0.74600    5.00000   -5.97900    1.00000      0.05250   \n",
       "75%         0.68100    0.88400    8.00000   -4.51600    1.00000      0.10600   \n",
       "max         0.97800    0.99900   11.00000    1.13700    1.00000      0.94100   \n",
       "\n",
       "       acousticness  instrumentalness   liveness    valence      tempo  \\\n",
       "count    4110.00000        4110.00000 4110.00000 4110.00000 4110.00000   \n",
       "mean        0.21447           0.14953    0.19492    0.48246  121.59498   \n",
       "std         0.29678           0.29986    0.15995    0.25415   30.18265   \n",
       "min         0.00000           0.00000    0.01930    0.00000   47.37000   \n",
       "25%         0.00438           0.00000    0.09420    0.28000   96.98025   \n",
       "50%         0.05935           0.00002    0.13100    0.48500  119.98600   \n",
       "75%         0.31400           0.04830    0.26200    0.68600  141.91350   \n",
       "max         0.99600           0.99800    0.98700    0.98200  213.23300   \n",
       "\n",
       "        duration_ms  time_signature  chorus_hit   sections  track_len  \n",
       "count    4110.00000      4110.00000  4110.00000 4110.00000 4110.00000  \n",
       "mean   256507.51825         3.91022    40.71470   10.98540   17.41436  \n",
       "std    134985.59914         0.42030    20.40899    5.47036   12.36399  \n",
       "min     15920.00000         0.00000     0.00000    1.00000    1.00000  \n",
       "25%    206387.00000         4.00000    27.57311    9.00000   10.00000  \n",
       "50%    236727.00000         4.00000    36.00292   10.00000   14.00000  \n",
       "75%    276890.00000         4.00000    47.64612   12.00000   21.00000  \n",
       "max   3816373.00000         5.00000   262.61540  159.00000  123.00000  "
      ]
     },
     "execution_count": 26,
     "metadata": {},
     "output_type": "execute_result"
    }
   ],
   "source": [
    "train_x.describe()"
   ]
  },
  {
   "cell_type": "code",
   "execution_count": null,
   "metadata": {},
   "outputs": [],
   "source": []
  },
  {
   "cell_type": "code",
   "execution_count": 28,
   "metadata": {},
   "outputs": [],
   "source": [
    "## drop the original track from train and val set\n",
    "train_x = train_x.drop('track', axis = 1)\n",
    "val_x = val_x.drop('track', axis = 1)"
   ]
  },
  {
   "cell_type": "code",
   "execution_count": 30,
   "metadata": {},
   "outputs": [],
   "source": [
    "## feature engineering for categorical variables.\n",
    "## at first,I thought Key and time_signature would be categorical variables.\n",
    "## but after more research on the music theory, it seems key is countinous as higher number means higher pitch.\n",
    "## similar to key, time_signature represent the rythem which usually in fractional notation. Not sure why it is integer here.\n",
    "## I assume time_signature is continous variable here but it may needs furture clarification."
   ]
  },
  {
   "cell_type": "code",
   "execution_count": 32,
   "metadata": {},
   "outputs": [
    {
     "data": {
      "text/html": [
       "<div>\n",
       "<style scoped>\n",
       "    .dataframe tbody tr th:only-of-type {\n",
       "        vertical-align: middle;\n",
       "    }\n",
       "\n",
       "    .dataframe tbody tr th {\n",
       "        vertical-align: top;\n",
       "    }\n",
       "\n",
       "    .dataframe thead th {\n",
       "        text-align: right;\n",
       "    }\n",
       "</style>\n",
       "<table border=\"1\" class=\"dataframe\">\n",
       "  <thead>\n",
       "    <tr style=\"text-align: right;\">\n",
       "      <th></th>\n",
       "      <th>danceability</th>\n",
       "      <th>energy</th>\n",
       "      <th>key</th>\n",
       "      <th>loudness</th>\n",
       "      <th>mode</th>\n",
       "      <th>speechiness</th>\n",
       "      <th>acousticness</th>\n",
       "      <th>instrumentalness</th>\n",
       "      <th>liveness</th>\n",
       "      <th>valence</th>\n",
       "      <th>tempo</th>\n",
       "      <th>duration_ms</th>\n",
       "      <th>time_signature</th>\n",
       "      <th>chorus_hit</th>\n",
       "      <th>sections</th>\n",
       "      <th>track_len</th>\n",
       "    </tr>\n",
       "  </thead>\n",
       "  <tbody>\n",
       "    <tr>\n",
       "      <th>danceability</th>\n",
       "      <td>1.00000</td>\n",
       "      <td>0.06033</td>\n",
       "      <td>0.01593</td>\n",
       "      <td>0.27920</td>\n",
       "      <td>-0.05502</td>\n",
       "      <td>0.16540</td>\n",
       "      <td>-0.16817</td>\n",
       "      <td>-0.33947</td>\n",
       "      <td>-0.10386</td>\n",
       "      <td>0.60062</td>\n",
       "      <td>-0.14745</td>\n",
       "      <td>-0.08745</td>\n",
       "      <td>0.17600</td>\n",
       "      <td>-0.08963</td>\n",
       "      <td>-0.05755</td>\n",
       "      <td>-0.16668</td>\n",
       "    </tr>\n",
       "    <tr>\n",
       "      <th>energy</th>\n",
       "      <td>0.06033</td>\n",
       "      <td>1.00000</td>\n",
       "      <td>0.01816</td>\n",
       "      <td>0.78083</td>\n",
       "      <td>-0.01095</td>\n",
       "      <td>0.13566</td>\n",
       "      <td>-0.74729</td>\n",
       "      <td>-0.24013</td>\n",
       "      <td>0.21717</td>\n",
       "      <td>0.28693</td>\n",
       "      <td>0.22024</td>\n",
       "      <td>-0.12704</td>\n",
       "      <td>0.15177</td>\n",
       "      <td>0.00055</td>\n",
       "      <td>-0.15360</td>\n",
       "      <td>-0.19869</td>\n",
       "    </tr>\n",
       "    <tr>\n",
       "      <th>key</th>\n",
       "      <td>0.01593</td>\n",
       "      <td>0.01816</td>\n",
       "      <td>1.00000</td>\n",
       "      <td>0.01478</td>\n",
       "      <td>-0.13261</td>\n",
       "      <td>0.02990</td>\n",
       "      <td>-0.00797</td>\n",
       "      <td>-0.00389</td>\n",
       "      <td>-0.02182</td>\n",
       "      <td>0.00522</td>\n",
       "      <td>0.01382</td>\n",
       "      <td>0.00393</td>\n",
       "      <td>-0.00225</td>\n",
       "      <td>-0.00824</td>\n",
       "      <td>-0.00837</td>\n",
       "      <td>0.00674</td>\n",
       "    </tr>\n",
       "    <tr>\n",
       "      <th>loudness</th>\n",
       "      <td>0.27920</td>\n",
       "      <td>0.78083</td>\n",
       "      <td>0.01478</td>\n",
       "      <td>1.00000</td>\n",
       "      <td>0.02119</td>\n",
       "      <td>0.10359</td>\n",
       "      <td>-0.68998</td>\n",
       "      <td>-0.45247</td>\n",
       "      <td>0.13155</td>\n",
       "      <td>0.33654</td>\n",
       "      <td>0.16523</td>\n",
       "      <td>-0.14012</td>\n",
       "      <td>0.18619</td>\n",
       "      <td>-0.04808</td>\n",
       "      <td>-0.14712</td>\n",
       "      <td>-0.30180</td>\n",
       "    </tr>\n",
       "    <tr>\n",
       "      <th>mode</th>\n",
       "      <td>-0.05502</td>\n",
       "      <td>-0.01095</td>\n",
       "      <td>-0.13261</td>\n",
       "      <td>0.02119</td>\n",
       "      <td>1.00000</td>\n",
       "      <td>-0.06850</td>\n",
       "      <td>0.01749</td>\n",
       "      <td>-0.07196</td>\n",
       "      <td>0.00604</td>\n",
       "      <td>-0.02154</td>\n",
       "      <td>0.02319</td>\n",
       "      <td>-0.04211</td>\n",
       "      <td>0.01322</td>\n",
       "      <td>-0.04045</td>\n",
       "      <td>-0.02804</td>\n",
       "      <td>0.01077</td>\n",
       "    </tr>\n",
       "    <tr>\n",
       "      <th>speechiness</th>\n",
       "      <td>0.16540</td>\n",
       "      <td>0.13566</td>\n",
       "      <td>0.02990</td>\n",
       "      <td>0.10359</td>\n",
       "      <td>-0.06850</td>\n",
       "      <td>1.00000</td>\n",
       "      <td>-0.05872</td>\n",
       "      <td>-0.12031</td>\n",
       "      <td>0.13589</td>\n",
       "      <td>0.15900</td>\n",
       "      <td>-0.02549</td>\n",
       "      <td>0.00786</td>\n",
       "      <td>0.02124</td>\n",
       "      <td>-0.00820</td>\n",
       "      <td>0.01448</td>\n",
       "      <td>-0.05898</td>\n",
       "    </tr>\n",
       "    <tr>\n",
       "      <th>acousticness</th>\n",
       "      <td>-0.16817</td>\n",
       "      <td>-0.74729</td>\n",
       "      <td>-0.00797</td>\n",
       "      <td>-0.68998</td>\n",
       "      <td>0.01749</td>\n",
       "      <td>-0.05872</td>\n",
       "      <td>1.00000</td>\n",
       "      <td>0.26397</td>\n",
       "      <td>-0.11411</td>\n",
       "      <td>-0.18660</td>\n",
       "      <td>-0.15727</td>\n",
       "      <td>0.11379</td>\n",
       "      <td>-0.18074</td>\n",
       "      <td>-0.01494</td>\n",
       "      <td>0.14166</td>\n",
       "      <td>0.27111</td>\n",
       "    </tr>\n",
       "    <tr>\n",
       "      <th>instrumentalness</th>\n",
       "      <td>-0.33947</td>\n",
       "      <td>-0.24013</td>\n",
       "      <td>-0.00389</td>\n",
       "      <td>-0.45247</td>\n",
       "      <td>-0.07196</td>\n",
       "      <td>-0.12031</td>\n",
       "      <td>0.26397</td>\n",
       "      <td>1.00000</td>\n",
       "      <td>-0.04912</td>\n",
       "      <td>-0.33455</td>\n",
       "      <td>-0.02342</td>\n",
       "      <td>0.16277</td>\n",
       "      <td>-0.10308</td>\n",
       "      <td>0.09284</td>\n",
       "      <td>0.11353</td>\n",
       "      <td>0.14637</td>\n",
       "    </tr>\n",
       "    <tr>\n",
       "      <th>liveness</th>\n",
       "      <td>-0.10386</td>\n",
       "      <td>0.21717</td>\n",
       "      <td>-0.02182</td>\n",
       "      <td>0.13155</td>\n",
       "      <td>0.00604</td>\n",
       "      <td>0.13589</td>\n",
       "      <td>-0.11411</td>\n",
       "      <td>-0.04912</td>\n",
       "      <td>1.00000</td>\n",
       "      <td>-0.01385</td>\n",
       "      <td>0.04357</td>\n",
       "      <td>-0.00940</td>\n",
       "      <td>0.01874</td>\n",
       "      <td>0.02714</td>\n",
       "      <td>-0.01992</td>\n",
       "      <td>0.03128</td>\n",
       "    </tr>\n",
       "    <tr>\n",
       "      <th>valence</th>\n",
       "      <td>0.60062</td>\n",
       "      <td>0.28693</td>\n",
       "      <td>0.00522</td>\n",
       "      <td>0.33654</td>\n",
       "      <td>-0.02154</td>\n",
       "      <td>0.15900</td>\n",
       "      <td>-0.18660</td>\n",
       "      <td>-0.33455</td>\n",
       "      <td>-0.01385</td>\n",
       "      <td>1.00000</td>\n",
       "      <td>0.02001</td>\n",
       "      <td>-0.14845</td>\n",
       "      <td>0.15249</td>\n",
       "      <td>-0.07280</td>\n",
       "      <td>-0.10047</td>\n",
       "      <td>-0.10338</td>\n",
       "    </tr>\n",
       "    <tr>\n",
       "      <th>tempo</th>\n",
       "      <td>-0.14745</td>\n",
       "      <td>0.22024</td>\n",
       "      <td>0.01382</td>\n",
       "      <td>0.16523</td>\n",
       "      <td>0.02319</td>\n",
       "      <td>-0.02549</td>\n",
       "      <td>-0.15727</td>\n",
       "      <td>-0.02342</td>\n",
       "      <td>0.04357</td>\n",
       "      <td>0.02001</td>\n",
       "      <td>1.00000</td>\n",
       "      <td>-0.01956</td>\n",
       "      <td>0.01726</td>\n",
       "      <td>-0.07371</td>\n",
       "      <td>0.02782</td>\n",
       "      <td>-0.02443</td>\n",
       "    </tr>\n",
       "    <tr>\n",
       "      <th>duration_ms</th>\n",
       "      <td>-0.08745</td>\n",
       "      <td>-0.12704</td>\n",
       "      <td>0.00393</td>\n",
       "      <td>-0.14012</td>\n",
       "      <td>-0.04211</td>\n",
       "      <td>0.00786</td>\n",
       "      <td>0.11379</td>\n",
       "      <td>0.16277</td>\n",
       "      <td>-0.00940</td>\n",
       "      <td>-0.14845</td>\n",
       "      <td>-0.01956</td>\n",
       "      <td>1.00000</td>\n",
       "      <td>-0.02048</td>\n",
       "      <td>0.05881</td>\n",
       "      <td>0.90704</td>\n",
       "      <td>0.12582</td>\n",
       "    </tr>\n",
       "    <tr>\n",
       "      <th>time_signature</th>\n",
       "      <td>0.17600</td>\n",
       "      <td>0.15177</td>\n",
       "      <td>-0.00225</td>\n",
       "      <td>0.18619</td>\n",
       "      <td>0.01322</td>\n",
       "      <td>0.02124</td>\n",
       "      <td>-0.18074</td>\n",
       "      <td>-0.10308</td>\n",
       "      <td>0.01874</td>\n",
       "      <td>0.15249</td>\n",
       "      <td>0.01726</td>\n",
       "      <td>-0.02048</td>\n",
       "      <td>1.00000</td>\n",
       "      <td>-0.03731</td>\n",
       "      <td>-0.00597</td>\n",
       "      <td>-0.09667</td>\n",
       "    </tr>\n",
       "    <tr>\n",
       "      <th>chorus_hit</th>\n",
       "      <td>-0.08963</td>\n",
       "      <td>0.00055</td>\n",
       "      <td>-0.00824</td>\n",
       "      <td>-0.04808</td>\n",
       "      <td>-0.04045</td>\n",
       "      <td>-0.00820</td>\n",
       "      <td>-0.01494</td>\n",
       "      <td>0.09284</td>\n",
       "      <td>0.02714</td>\n",
       "      <td>-0.07280</td>\n",
       "      <td>-0.07371</td>\n",
       "      <td>0.05881</td>\n",
       "      <td>-0.03731</td>\n",
       "      <td>1.00000</td>\n",
       "      <td>-0.10803</td>\n",
       "      <td>0.02096</td>\n",
       "    </tr>\n",
       "    <tr>\n",
       "      <th>sections</th>\n",
       "      <td>-0.05755</td>\n",
       "      <td>-0.15360</td>\n",
       "      <td>-0.00837</td>\n",
       "      <td>-0.14712</td>\n",
       "      <td>-0.02804</td>\n",
       "      <td>0.01448</td>\n",
       "      <td>0.14166</td>\n",
       "      <td>0.11353</td>\n",
       "      <td>-0.01992</td>\n",
       "      <td>-0.10047</td>\n",
       "      <td>0.02782</td>\n",
       "      <td>0.90704</td>\n",
       "      <td>-0.00597</td>\n",
       "      <td>-0.10803</td>\n",
       "      <td>1.00000</td>\n",
       "      <td>0.11955</td>\n",
       "    </tr>\n",
       "    <tr>\n",
       "      <th>track_len</th>\n",
       "      <td>-0.16668</td>\n",
       "      <td>-0.19869</td>\n",
       "      <td>0.00674</td>\n",
       "      <td>-0.30180</td>\n",
       "      <td>0.01077</td>\n",
       "      <td>-0.05898</td>\n",
       "      <td>0.27111</td>\n",
       "      <td>0.14637</td>\n",
       "      <td>0.03128</td>\n",
       "      <td>-0.10338</td>\n",
       "      <td>-0.02443</td>\n",
       "      <td>0.12582</td>\n",
       "      <td>-0.09667</td>\n",
       "      <td>0.02096</td>\n",
       "      <td>0.11955</td>\n",
       "      <td>1.00000</td>\n",
       "    </tr>\n",
       "  </tbody>\n",
       "</table>\n",
       "</div>"
      ],
      "text/plain": [
       "                  danceability   energy      key  loudness     mode  \\\n",
       "danceability           1.00000  0.06033  0.01593   0.27920 -0.05502   \n",
       "energy                 0.06033  1.00000  0.01816   0.78083 -0.01095   \n",
       "key                    0.01593  0.01816  1.00000   0.01478 -0.13261   \n",
       "loudness               0.27920  0.78083  0.01478   1.00000  0.02119   \n",
       "mode                  -0.05502 -0.01095 -0.13261   0.02119  1.00000   \n",
       "speechiness            0.16540  0.13566  0.02990   0.10359 -0.06850   \n",
       "acousticness          -0.16817 -0.74729 -0.00797  -0.68998  0.01749   \n",
       "instrumentalness      -0.33947 -0.24013 -0.00389  -0.45247 -0.07196   \n",
       "liveness              -0.10386  0.21717 -0.02182   0.13155  0.00604   \n",
       "valence                0.60062  0.28693  0.00522   0.33654 -0.02154   \n",
       "tempo                 -0.14745  0.22024  0.01382   0.16523  0.02319   \n",
       "duration_ms           -0.08745 -0.12704  0.00393  -0.14012 -0.04211   \n",
       "time_signature         0.17600  0.15177 -0.00225   0.18619  0.01322   \n",
       "chorus_hit            -0.08963  0.00055 -0.00824  -0.04808 -0.04045   \n",
       "sections              -0.05755 -0.15360 -0.00837  -0.14712 -0.02804   \n",
       "track_len             -0.16668 -0.19869  0.00674  -0.30180  0.01077   \n",
       "\n",
       "                  speechiness  acousticness  instrumentalness  liveness  \\\n",
       "danceability          0.16540      -0.16817          -0.33947  -0.10386   \n",
       "energy                0.13566      -0.74729          -0.24013   0.21717   \n",
       "key                   0.02990      -0.00797          -0.00389  -0.02182   \n",
       "loudness              0.10359      -0.68998          -0.45247   0.13155   \n",
       "mode                 -0.06850       0.01749          -0.07196   0.00604   \n",
       "speechiness           1.00000      -0.05872          -0.12031   0.13589   \n",
       "acousticness         -0.05872       1.00000           0.26397  -0.11411   \n",
       "instrumentalness     -0.12031       0.26397           1.00000  -0.04912   \n",
       "liveness              0.13589      -0.11411          -0.04912   1.00000   \n",
       "valence               0.15900      -0.18660          -0.33455  -0.01385   \n",
       "tempo                -0.02549      -0.15727          -0.02342   0.04357   \n",
       "duration_ms           0.00786       0.11379           0.16277  -0.00940   \n",
       "time_signature        0.02124      -0.18074          -0.10308   0.01874   \n",
       "chorus_hit           -0.00820      -0.01494           0.09284   0.02714   \n",
       "sections              0.01448       0.14166           0.11353  -0.01992   \n",
       "track_len            -0.05898       0.27111           0.14637   0.03128   \n",
       "\n",
       "                  valence    tempo  duration_ms  time_signature  chorus_hit  \\\n",
       "danceability      0.60062 -0.14745     -0.08745         0.17600    -0.08963   \n",
       "energy            0.28693  0.22024     -0.12704         0.15177     0.00055   \n",
       "key               0.00522  0.01382      0.00393        -0.00225    -0.00824   \n",
       "loudness          0.33654  0.16523     -0.14012         0.18619    -0.04808   \n",
       "mode             -0.02154  0.02319     -0.04211         0.01322    -0.04045   \n",
       "speechiness       0.15900 -0.02549      0.00786         0.02124    -0.00820   \n",
       "acousticness     -0.18660 -0.15727      0.11379        -0.18074    -0.01494   \n",
       "instrumentalness -0.33455 -0.02342      0.16277        -0.10308     0.09284   \n",
       "liveness         -0.01385  0.04357     -0.00940         0.01874     0.02714   \n",
       "valence           1.00000  0.02001     -0.14845         0.15249    -0.07280   \n",
       "tempo             0.02001  1.00000     -0.01956         0.01726    -0.07371   \n",
       "duration_ms      -0.14845 -0.01956      1.00000        -0.02048     0.05881   \n",
       "time_signature    0.15249  0.01726     -0.02048         1.00000    -0.03731   \n",
       "chorus_hit       -0.07280 -0.07371      0.05881        -0.03731     1.00000   \n",
       "sections         -0.10047  0.02782      0.90704        -0.00597    -0.10803   \n",
       "track_len        -0.10338 -0.02443      0.12582        -0.09667     0.02096   \n",
       "\n",
       "                  sections  track_len  \n",
       "danceability      -0.05755   -0.16668  \n",
       "energy            -0.15360   -0.19869  \n",
       "key               -0.00837    0.00674  \n",
       "loudness          -0.14712   -0.30180  \n",
       "mode              -0.02804    0.01077  \n",
       "speechiness        0.01448   -0.05898  \n",
       "acousticness       0.14166    0.27111  \n",
       "instrumentalness   0.11353    0.14637  \n",
       "liveness          -0.01992    0.03128  \n",
       "valence           -0.10047   -0.10338  \n",
       "tempo              0.02782   -0.02443  \n",
       "duration_ms        0.90704    0.12582  \n",
       "time_signature    -0.00597   -0.09667  \n",
       "chorus_hit        -0.10803    0.02096  \n",
       "sections           1.00000    0.11955  \n",
       "track_len          0.11955    1.00000  "
      ]
     },
     "execution_count": 32,
     "metadata": {},
     "output_type": "execute_result"
    }
   ],
   "source": [
    "## create correlation matrix for the predictors\n",
    "corr_matrix = train_x.corr()\n",
    "corr_matrix"
   ]
  },
  {
   "cell_type": "code",
   "execution_count": 33,
   "metadata": {},
   "outputs": [
    {
     "data": {
      "image/png": "[encoded data removed]",
      "text/plain": [
       "<Figure size 432x288 with 2 Axes>"
      ]
     },
     "metadata": {
      "needs_background": "light"
     },
     "output_type": "display_data"
    }
   ],
   "source": [
    "## heatmap of correlation matrix\n",
    "corr_plot = sns.heatmap(\n",
    "    corr_matrix,\n",
    "    vmin = -1, vmax = 1, center = 0,\n",
    "    cmap = sns.diverging_palette(20, 220, n = 200),\n",
    "    square = True\n",
    ")"
   ]
  },
  {
   "cell_type": "code",
   "execution_count": 34,
   "metadata": {},
   "outputs": [],
   "source": [
    "## it seems sections and duration_ms has strong positive correlation\n",
    "## acounticness has strong negative correlation with energy and loudness.\n",
    "## Becuase we are using tree based models in this exercise, the interaction between features is less important."
   ]
  },
  {
   "cell_type": "code",
   "execution_count": null,
   "metadata": {},
   "outputs": [],
   "source": []
  },
  {
   "cell_type": "markdown",
   "metadata": {},
   "source": [
    "## 2. train a decision tree using the training data. When you train the decision tree model, use a search grid (either grid search or randomized search) to optimize the hyperparameters. Report the AUC on the training and validation set."
   ]
  },
  {
   "cell_type": "code",
   "execution_count": 35,
   "metadata": {},
   "outputs": [],
   "source": [
    "from sklearn.tree import DecisionTreeClassifier, plot_tree"
   ]
  },
  {
   "cell_type": "code",
   "execution_count": 37,
   "metadata": {},
   "outputs": [],
   "source": [
    "## set hyperparameters to a dictionary\n",
    "params = {'max_depth':range(2,8), 'min_samples_leaf':range(5,55,5), \"min_samples_split\": range(10,110,5)}"
   ]
  },
  {
   "cell_type": "code",
   "execution_count": 38,
   "metadata": {},
   "outputs": [
    {
     "data": {
      "text/plain": [
       "GridSearchCV(estimator=DecisionTreeClassifier(), n_jobs=2,\n",
       "             param_grid={'max_depth': range(2, 8),\n",
       "                         'min_samples_leaf': range(5, 55, 5),\n",
       "                         'min_samples_split': range(10, 110, 5)},\n",
       "             scoring='roc_auc')"
      ]
     },
     "execution_count": 38,
     "metadata": {},
     "output_type": "execute_result"
    }
   ],
   "source": [
    "## using grid search to get the optimal hyperparamters\n",
    "## using n_jobs = 2 because cpu only has two cores.\n",
    "tree1 = GridSearchCV(DecisionTreeClassifier(), params, n_jobs = 2, scoring = \"roc_auc\")\n",
    "tree1.fit(train_x, train_y)"
   ]
  },
  {
   "cell_type": "code",
   "execution_count": 39,
   "metadata": {},
   "outputs": [
    {
     "data": {
      "text/plain": [
       "{'max_depth': 7, 'min_samples_leaf': 50, 'min_samples_split': 35}"
      ]
     },
     "execution_count": 39,
     "metadata": {},
     "output_type": "execute_result"
    }
   ],
   "source": [
    "tree1.best_params_"
   ]
  },
  {
   "cell_type": "markdown",
   "metadata": {},
   "source": [
    "### the dictionary above shows the optimal hyperparameters."
   ]
  },
  {
   "cell_type": "code",
   "execution_count": 43,
   "metadata": {},
   "outputs": [
    {
     "data": {
      "text/plain": [
       "array([1.41912468e-01, 2.57080098e-02, 0.00000000e+00, 1.84058283e-02,\n",
       "       0.00000000e+00, 1.90930697e-02, 7.02421694e-02, 6.29777935e-01,\n",
       "       0.00000000e+00, 7.31220905e-03, 7.13680603e-04, 7.52438219e-02,\n",
       "       0.00000000e+00, 0.00000000e+00, 4.68466643e-04, 1.11223425e-02])"
      ]
     },
     "execution_count": 43,
     "metadata": {},
     "output_type": "execute_result"
    }
   ],
   "source": [
    "tree1.best_estimator_.feature_importances_"
   ]
  },
  {
   "cell_type": "code",
   "execution_count": 48,
   "metadata": {},
   "outputs": [
    {
     "data": {
      "text/html": [
       "<div>\n",
       "<style scoped>\n",
       "    .dataframe tbody tr th:only-of-type {\n",
       "        vertical-align: middle;\n",
       "    }\n",
       "\n",
       "    .dataframe tbody tr th {\n",
       "        vertical-align: top;\n",
       "    }\n",
       "\n",
       "    .dataframe thead th {\n",
       "        text-align: right;\n",
       "    }\n",
       "</style>\n",
       "<table border=\"1\" class=\"dataframe\">\n",
       "  <thead>\n",
       "    <tr style=\"text-align: right;\">\n",
       "      <th></th>\n",
       "      <th>feature</th>\n",
       "      <th>importance</th>\n",
       "    </tr>\n",
       "  </thead>\n",
       "  <tbody>\n",
       "    <tr>\n",
       "      <th>0</th>\n",
       "      <td>instrumentalness</td>\n",
       "      <td>0.62978</td>\n",
       "    </tr>\n",
       "    <tr>\n",
       "      <th>1</th>\n",
       "      <td>danceability</td>\n",
       "      <td>0.14191</td>\n",
       "    </tr>\n",
       "    <tr>\n",
       "      <th>2</th>\n",
       "      <td>duration_ms</td>\n",
       "      <td>0.07524</td>\n",
       "    </tr>\n",
       "    <tr>\n",
       "      <th>3</th>\n",
       "      <td>acousticness</td>\n",
       "      <td>0.07024</td>\n",
       "    </tr>\n",
       "    <tr>\n",
       "      <th>4</th>\n",
       "      <td>energy</td>\n",
       "      <td>0.02571</td>\n",
       "    </tr>\n",
       "    <tr>\n",
       "      <th>5</th>\n",
       "      <td>speechiness</td>\n",
       "      <td>0.01909</td>\n",
       "    </tr>\n",
       "    <tr>\n",
       "      <th>6</th>\n",
       "      <td>loudness</td>\n",
       "      <td>0.01841</td>\n",
       "    </tr>\n",
       "    <tr>\n",
       "      <th>7</th>\n",
       "      <td>track_len</td>\n",
       "      <td>0.01112</td>\n",
       "    </tr>\n",
       "    <tr>\n",
       "      <th>8</th>\n",
       "      <td>valence</td>\n",
       "      <td>0.00731</td>\n",
       "    </tr>\n",
       "    <tr>\n",
       "      <th>9</th>\n",
       "      <td>tempo</td>\n",
       "      <td>0.00071</td>\n",
       "    </tr>\n",
       "    <tr>\n",
       "      <th>10</th>\n",
       "      <td>sections</td>\n",
       "      <td>0.00047</td>\n",
       "    </tr>\n",
       "    <tr>\n",
       "      <th>11</th>\n",
       "      <td>key</td>\n",
       "      <td>0.00000</td>\n",
       "    </tr>\n",
       "    <tr>\n",
       "      <th>12</th>\n",
       "      <td>mode</td>\n",
       "      <td>0.00000</td>\n",
       "    </tr>\n",
       "    <tr>\n",
       "      <th>13</th>\n",
       "      <td>liveness</td>\n",
       "      <td>0.00000</td>\n",
       "    </tr>\n",
       "    <tr>\n",
       "      <th>14</th>\n",
       "      <td>time_signature</td>\n",
       "      <td>0.00000</td>\n",
       "    </tr>\n",
       "    <tr>\n",
       "      <th>15</th>\n",
       "      <td>chorus_hit</td>\n",
       "      <td>0.00000</td>\n",
       "    </tr>\n",
       "  </tbody>\n",
       "</table>\n",
       "</div>"
      ],
      "text/plain": [
       "             feature  importance\n",
       "0   instrumentalness     0.62978\n",
       "1       danceability     0.14191\n",
       "2        duration_ms     0.07524\n",
       "3       acousticness     0.07024\n",
       "4             energy     0.02571\n",
       "5        speechiness     0.01909\n",
       "6           loudness     0.01841\n",
       "7          track_len     0.01112\n",
       "8            valence     0.00731\n",
       "9              tempo     0.00071\n",
       "10          sections     0.00047\n",
       "11               key     0.00000\n",
       "12              mode     0.00000\n",
       "13          liveness     0.00000\n",
       "14    time_signature     0.00000\n",
       "15        chorus_hit     0.00000"
      ]
     },
     "execution_count": 48,
     "metadata": {},
     "output_type": "execute_result"
    }
   ],
   "source": [
    "tree1_imp = pd.DataFrame(zip(train_x.columns, tree1.best_estimator_.feature_importances_), columns= ['feature', 'importance'])\n",
    "tree1_imp = tree1_imp.sort_values('importance', ascending = False).reset_index(drop = True)\n",
    "tree1_imp"
   ]
  },
  {
   "cell_type": "code",
   "execution_count": 49,
   "metadata": {},
   "outputs": [],
   "source": [
    "train_y_prob = tree1.predict_proba(train_x)\n",
    "val_y_prob = tree1.predict_proba(val_x)"
   ]
  },
  {
   "cell_type": "code",
   "execution_count": 54,
   "metadata": {},
   "outputs": [],
   "source": [
    "##def a function for logistic model evaluation. reused code from assignment 1\n",
    "def tree_eva(x,y,model,train_val):\n",
    "    name = str(train_val)+\"_\"\n",
    "    yhat = model.predict(x)\n",
    "    prob = model.predict_proba(x)\n",
    "    accuracy = metrics.accuracy_score(y, yhat)\n",
    "    precision = metrics.precision_score(y, yhat)\n",
    "    recall = metrics.recall_score(y, yhat)\n",
    "    fpr, tpr, threshold = metrics.roc_curve(y, prob[:,1], pos_label=1)\n",
    "    auc = metrics.auc(fpr, tpr)\n",
    "    f1 = metrics.f1_score(y, yhat)\n",
    "    value_list = [accuracy, precision, recall, auc, f1]\n",
    "    name_list = ['accuracy','precision','recall','auc', 'F1_score']\n",
    "    df = pd.DataFrame(zip(name_list, value_list), columns=['metric','value'])\n",
    "    plt.plot(fpr, tpr)\n",
    "    plt.xlabel(\"FPR\")\n",
    "    plt.ylabel(\"TPR\")\n",
    "    plt.plot([0, 1], [0, 1], color = 'black', linestyle = \"dashed\")\n",
    "    plt.title(str(train_val)+\" set ROC\")\n",
    "    plt.show()\n",
    "    return df"
   ]
  },
  {
   "cell_type": "code",
   "execution_count": 55,
   "metadata": {},
   "outputs": [
    {
     "data": {
      "image/png": "[encoded data removed]",
      "text/plain": [
       "<Figure size 432x288 with 1 Axes>"
      ]
     },
     "metadata": {
      "needs_background": "light"
     },
     "output_type": "display_data"
    },
    {
     "data": {
      "text/html": [
       "<div>\n",
       "<style scoped>\n",
       "    .dataframe tbody tr th:only-of-type {\n",
       "        vertical-align: middle;\n",
       "    }\n",
       "\n",
       "    .dataframe tbody tr th {\n",
       "        vertical-align: top;\n",
       "    }\n",
       "\n",
       "    .dataframe thead th {\n",
       "        text-align: right;\n",
       "    }\n",
       "</style>\n",
       "<table border=\"1\" class=\"dataframe\">\n",
       "  <thead>\n",
       "    <tr style=\"text-align: right;\">\n",
       "      <th></th>\n",
       "      <th>metric</th>\n",
       "      <th>value</th>\n",
       "    </tr>\n",
       "  </thead>\n",
       "  <tbody>\n",
       "    <tr>\n",
       "      <th>0</th>\n",
       "      <td>accuracy</td>\n",
       "      <td>0.84282</td>\n",
       "    </tr>\n",
       "    <tr>\n",
       "      <th>1</th>\n",
       "      <td>precision</td>\n",
       "      <td>0.81480</td>\n",
       "    </tr>\n",
       "    <tr>\n",
       "      <th>2</th>\n",
       "      <td>recall</td>\n",
       "      <td>0.88970</td>\n",
       "    </tr>\n",
       "    <tr>\n",
       "      <th>3</th>\n",
       "      <td>auc</td>\n",
       "      <td>0.89290</td>\n",
       "    </tr>\n",
       "    <tr>\n",
       "      <th>4</th>\n",
       "      <td>F1_score</td>\n",
       "      <td>0.85060</td>\n",
       "    </tr>\n",
       "  </tbody>\n",
       "</table>\n",
       "</div>"
      ],
      "text/plain": [
       "      metric   value\n",
       "0   accuracy 0.84282\n",
       "1  precision 0.81480\n",
       "2     recall 0.88970\n",
       "3        auc 0.89290\n",
       "4   F1_score 0.85060"
      ]
     },
     "execution_count": 55,
     "metadata": {},
     "output_type": "execute_result"
    }
   ],
   "source": [
    "## evaluation for train set\n",
    "tree1_train_df = tree_eva(x = train_x, y = train_y, model = tree1, train_val = 'train')\n",
    "tree1_train_df"
   ]
  },
  {
   "cell_type": "code",
   "execution_count": 56,
   "metadata": {},
   "outputs": [
    {
     "data": {
      "image/png": "[encoded data removed]",
      "text/plain": [
       "<Figure size 432x288 with 1 Axes>"
      ]
     },
     "metadata": {
      "needs_background": "light"
     },
     "output_type": "display_data"
    },
    {
     "data": {
      "text/html": [
       "<div>\n",
       "<style scoped>\n",
       "    .dataframe tbody tr th:only-of-type {\n",
       "        vertical-align: middle;\n",
       "    }\n",
       "\n",
       "    .dataframe tbody tr th {\n",
       "        vertical-align: top;\n",
       "    }\n",
       "\n",
       "    .dataframe thead th {\n",
       "        text-align: right;\n",
       "    }\n",
       "</style>\n",
       "<table border=\"1\" class=\"dataframe\">\n",
       "  <thead>\n",
       "    <tr style=\"text-align: right;\">\n",
       "      <th></th>\n",
       "      <th>metric</th>\n",
       "      <th>value</th>\n",
       "    </tr>\n",
       "  </thead>\n",
       "  <tbody>\n",
       "    <tr>\n",
       "      <th>0</th>\n",
       "      <td>accuracy</td>\n",
       "      <td>0.82179</td>\n",
       "    </tr>\n",
       "    <tr>\n",
       "      <th>1</th>\n",
       "      <td>precision</td>\n",
       "      <td>0.78876</td>\n",
       "    </tr>\n",
       "    <tr>\n",
       "      <th>2</th>\n",
       "      <td>recall</td>\n",
       "      <td>0.87227</td>\n",
       "    </tr>\n",
       "    <tr>\n",
       "      <th>3</th>\n",
       "      <td>auc</td>\n",
       "      <td>0.87231</td>\n",
       "    </tr>\n",
       "    <tr>\n",
       "      <th>4</th>\n",
       "      <td>F1_score</td>\n",
       "      <td>0.82842</td>\n",
       "    </tr>\n",
       "  </tbody>\n",
       "</table>\n",
       "</div>"
      ],
      "text/plain": [
       "      metric   value\n",
       "0   accuracy 0.82179\n",
       "1  precision 0.78876\n",
       "2     recall 0.87227\n",
       "3        auc 0.87231\n",
       "4   F1_score 0.82842"
      ]
     },
     "execution_count": 56,
     "metadata": {},
     "output_type": "execute_result"
    }
   ],
   "source": [
    "## evaluation for validation set\n",
    "tree1_val_df = tree_eva(x = val_x, y = val_y, model = tree1, train_val = 'val')\n",
    "tree1_val_df "
   ]
  },
  {
   "cell_type": "markdown",
   "metadata": {},
   "source": [
    "### The AUC on the training set is 0.89290. \n",
    "### The AUC on the validation set is 0.87231."
   ]
  },
  {
   "cell_type": "markdown",
   "metadata": {},
   "source": [
    "## 3. Random Forest model."
   ]
  },
  {
   "cell_type": "code",
   "execution_count": 57,
   "metadata": {},
   "outputs": [],
   "source": [
    "from sklearn.ensemble import RandomForestClassifier"
   ]
  },
  {
   "cell_type": "code",
   "execution_count": 64,
   "metadata": {},
   "outputs": [],
   "source": [
    "## set the hyperparameter ranges\n",
    "## use same max_depth min_samples_leaf min_samples_split\n",
    "## since the dataset has 16 features, max features should be around 4\n",
    "params1 = params\n",
    "params1['max_samples'] = np.arange(0.1,0.4, 0.05).tolist()\n",
    "params1['max_features'] = range(2,7)\n",
    "params1['n_estimators'] = range(100, 400, 50)"
   ]
  },
  {
   "cell_type": "code",
   "execution_count": 66,
   "metadata": {},
   "outputs": [
    {
     "data": {
      "text/plain": [
       "{'max_depth': range(2, 8),\n",
       " 'min_samples_leaf': range(5, 55, 5),\n",
       " 'min_samples_split': range(10, 110, 5),\n",
       " 'max_samples': [0.1,\n",
       "  0.15000000000000002,\n",
       "  0.20000000000000004,\n",
       "  0.25000000000000006,\n",
       "  0.30000000000000004,\n",
       "  0.3500000000000001,\n",
       "  0.40000000000000013],\n",
       " 'max_features': range(2, 7),\n",
       " 'n_estimators': range(100, 400, 50)}"
      ]
     },
     "execution_count": 66,
     "metadata": {},
     "output_type": "execute_result"
    }
   ],
   "source": [
    "params1"
   ]
  },
  {
   "cell_type": "code",
   "execution_count": 67,
   "metadata": {},
   "outputs": [
    {
     "data": {
      "text/plain": [
       "RandomizedSearchCV(estimator=RandomForestClassifier(), n_iter=200, n_jobs=2,\n",
       "                   param_distributions={'max_depth': range(2, 8),\n",
       "                                        'max_features': range(2, 7),\n",
       "                                        'max_samples': [0.1,\n",
       "                                                        0.15000000000000002,\n",
       "                                                        0.20000000000000004,\n",
       "                                                        0.25000000000000006,\n",
       "                                                        0.30000000000000004,\n",
       "                                                        0.3500000000000001,\n",
       "                                                        0.40000000000000013],\n",
       "                                        'min_samples_leaf': range(5, 55, 5),\n",
       "                                        'min_samples_split': range(10, 110, 5),\n",
       "                                        'n_estimators': range(100, 400, 50)},\n",
       "                   random_state=9660, scoring='roc_auc')"
      ]
     },
     "execution_count": 67,
     "metadata": {},
     "output_type": "execute_result"
    }
   ],
   "source": [
    "## using randomized search to optimize the hyperparameters\n",
    "rf1 = RandomizedSearchCV(RandomForestClassifier(), params1, n_jobs = 2, scoring = \"roc_auc\", n_iter = 200, random_state = 9660)\n",
    "rf1.fit(train_x, train_y)"
   ]
  },
  {
   "cell_type": "code",
   "execution_count": 68,
   "metadata": {},
   "outputs": [
    {
     "data": {
      "text/plain": [
       "{'n_estimators': 150,\n",
       " 'min_samples_split': 10,\n",
       " 'min_samples_leaf': 10,\n",
       " 'max_samples': 0.20000000000000004,\n",
       " 'max_features': 4,\n",
       " 'max_depth': 7}"
      ]
     },
     "execution_count": 68,
     "metadata": {},
     "output_type": "execute_result"
    }
   ],
   "source": [
    "## optimal hyberparameters\n",
    "rf1.best_params_"
   ]
  },
  {
   "cell_type": "code",
   "execution_count": 70,
   "metadata": {},
   "outputs": [
    {
     "data": {
      "text/plain": [
       "array([0.16455008, 0.06838215, 0.00434343, 0.10978126, 0.0015313 ,\n",
       "       0.02603607, 0.08538129, 0.34298167, 0.0077091 , 0.03588303,\n",
       "       0.00958087, 0.0826794 , 0.00169572, 0.01061168, 0.01649045,\n",
       "       0.03236253])"
      ]
     },
     "execution_count": 70,
     "metadata": {},
     "output_type": "execute_result"
    }
   ],
   "source": [
    "rf1.best_estimator_.feature_importances_"
   ]
  },
  {
   "cell_type": "code",
   "execution_count": 71,
   "metadata": {},
   "outputs": [
    {
     "data": {
      "text/html": [
       "<div>\n",
       "<style scoped>\n",
       "    .dataframe tbody tr th:only-of-type {\n",
       "        vertical-align: middle;\n",
       "    }\n",
       "\n",
       "    .dataframe tbody tr th {\n",
       "        vertical-align: top;\n",
       "    }\n",
       "\n",
       "    .dataframe thead th {\n",
       "        text-align: right;\n",
       "    }\n",
       "</style>\n",
       "<table border=\"1\" class=\"dataframe\">\n",
       "  <thead>\n",
       "    <tr style=\"text-align: right;\">\n",
       "      <th></th>\n",
       "      <th>feature</th>\n",
       "      <th>importance</th>\n",
       "    </tr>\n",
       "  </thead>\n",
       "  <tbody>\n",
       "    <tr>\n",
       "      <th>0</th>\n",
       "      <td>instrumentalness</td>\n",
       "      <td>0.34298</td>\n",
       "    </tr>\n",
       "    <tr>\n",
       "      <th>1</th>\n",
       "      <td>danceability</td>\n",
       "      <td>0.16455</td>\n",
       "    </tr>\n",
       "    <tr>\n",
       "      <th>2</th>\n",
       "      <td>loudness</td>\n",
       "      <td>0.10978</td>\n",
       "    </tr>\n",
       "    <tr>\n",
       "      <th>3</th>\n",
       "      <td>acousticness</td>\n",
       "      <td>0.08538</td>\n",
       "    </tr>\n",
       "    <tr>\n",
       "      <th>4</th>\n",
       "      <td>duration_ms</td>\n",
       "      <td>0.08268</td>\n",
       "    </tr>\n",
       "    <tr>\n",
       "      <th>5</th>\n",
       "      <td>energy</td>\n",
       "      <td>0.06838</td>\n",
       "    </tr>\n",
       "    <tr>\n",
       "      <th>6</th>\n",
       "      <td>valence</td>\n",
       "      <td>0.03588</td>\n",
       "    </tr>\n",
       "    <tr>\n",
       "      <th>7</th>\n",
       "      <td>track_len</td>\n",
       "      <td>0.03236</td>\n",
       "    </tr>\n",
       "    <tr>\n",
       "      <th>8</th>\n",
       "      <td>speechiness</td>\n",
       "      <td>0.02604</td>\n",
       "    </tr>\n",
       "    <tr>\n",
       "      <th>9</th>\n",
       "      <td>sections</td>\n",
       "      <td>0.01649</td>\n",
       "    </tr>\n",
       "    <tr>\n",
       "      <th>10</th>\n",
       "      <td>chorus_hit</td>\n",
       "      <td>0.01061</td>\n",
       "    </tr>\n",
       "    <tr>\n",
       "      <th>11</th>\n",
       "      <td>tempo</td>\n",
       "      <td>0.00958</td>\n",
       "    </tr>\n",
       "    <tr>\n",
       "      <th>12</th>\n",
       "      <td>liveness</td>\n",
       "      <td>0.00771</td>\n",
       "    </tr>\n",
       "    <tr>\n",
       "      <th>13</th>\n",
       "      <td>key</td>\n",
       "      <td>0.00434</td>\n",
       "    </tr>\n",
       "    <tr>\n",
       "      <th>14</th>\n",
       "      <td>time_signature</td>\n",
       "      <td>0.00170</td>\n",
       "    </tr>\n",
       "    <tr>\n",
       "      <th>15</th>\n",
       "      <td>mode</td>\n",
       "      <td>0.00153</td>\n",
       "    </tr>\n",
       "  </tbody>\n",
       "</table>\n",
       "</div>"
      ],
      "text/plain": [
       "             feature  importance\n",
       "0   instrumentalness     0.34298\n",
       "1       danceability     0.16455\n",
       "2           loudness     0.10978\n",
       "3       acousticness     0.08538\n",
       "4        duration_ms     0.08268\n",
       "5             energy     0.06838\n",
       "6            valence     0.03588\n",
       "7          track_len     0.03236\n",
       "8        speechiness     0.02604\n",
       "9           sections     0.01649\n",
       "10        chorus_hit     0.01061\n",
       "11             tempo     0.00958\n",
       "12          liveness     0.00771\n",
       "13               key     0.00434\n",
       "14    time_signature     0.00170\n",
       "15              mode     0.00153"
      ]
     },
     "execution_count": 71,
     "metadata": {},
     "output_type": "execute_result"
    }
   ],
   "source": [
    "## feature importance for random forest model\n",
    "rf1_imp = pd.DataFrame(zip(train_x.columns, rf1.best_estimator_.feature_importances_), columns= ['feature', 'importance'])\n",
    "rf1_imp = rf1_imp.sort_values('importance', ascending = False).reset_index(drop = True)\n",
    "rf1_imp"
   ]
  },
  {
   "cell_type": "code",
   "execution_count": 73,
   "metadata": {},
   "outputs": [
    {
     "data": {
      "image/png": "[encoded data removed]",
      "text/plain": [
       "<Figure size 432x288 with 1 Axes>"
      ]
     },
     "metadata": {
      "needs_background": "light"
     },
     "output_type": "display_data"
    },
    {
     "data": {
      "text/html": [
       "<div>\n",
       "<style scoped>\n",
       "    .dataframe tbody tr th:only-of-type {\n",
       "        vertical-align: middle;\n",
       "    }\n",
       "\n",
       "    .dataframe tbody tr th {\n",
       "        vertical-align: top;\n",
       "    }\n",
       "\n",
       "    .dataframe thead th {\n",
       "        text-align: right;\n",
       "    }\n",
       "</style>\n",
       "<table border=\"1\" class=\"dataframe\">\n",
       "  <thead>\n",
       "    <tr style=\"text-align: right;\">\n",
       "      <th></th>\n",
       "      <th>metric</th>\n",
       "      <th>value</th>\n",
       "    </tr>\n",
       "  </thead>\n",
       "  <tbody>\n",
       "    <tr>\n",
       "      <th>0</th>\n",
       "      <td>accuracy</td>\n",
       "      <td>0.86180</td>\n",
       "    </tr>\n",
       "    <tr>\n",
       "      <th>1</th>\n",
       "      <td>precision</td>\n",
       "      <td>0.83595</td>\n",
       "    </tr>\n",
       "    <tr>\n",
       "      <th>2</th>\n",
       "      <td>recall</td>\n",
       "      <td>0.90227</td>\n",
       "    </tr>\n",
       "    <tr>\n",
       "      <th>3</th>\n",
       "      <td>auc</td>\n",
       "      <td>0.93035</td>\n",
       "    </tr>\n",
       "    <tr>\n",
       "      <th>4</th>\n",
       "      <td>F1_score</td>\n",
       "      <td>0.86785</td>\n",
       "    </tr>\n",
       "  </tbody>\n",
       "</table>\n",
       "</div>"
      ],
      "text/plain": [
       "      metric   value\n",
       "0   accuracy 0.86180\n",
       "1  precision 0.83595\n",
       "2     recall 0.90227\n",
       "3        auc 0.93035\n",
       "4   F1_score 0.86785"
      ]
     },
     "execution_count": 73,
     "metadata": {},
     "output_type": "execute_result"
    }
   ],
   "source": [
    "## evaluation for training set\n",
    "rf1_train_df = tree_eva(x = train_x, y = train_y, model = rf1, train_val = 'train')\n",
    "rf1_train_df"
   ]
  },
  {
   "cell_type": "code",
   "execution_count": 75,
   "metadata": {},
   "outputs": [
    {
     "data": {
      "image/png": "[encoded data removed]",
      "text/plain": [
       "<Figure size 432x288 with 1 Axes>"
      ]
     },
     "metadata": {
      "needs_background": "light"
     },
     "output_type": "display_data"
    },
    {
     "data": {
      "text/html": [
       "<div>\n",
       "<style scoped>\n",
       "    .dataframe tbody tr th:only-of-type {\n",
       "        vertical-align: middle;\n",
       "    }\n",
       "\n",
       "    .dataframe tbody tr th {\n",
       "        vertical-align: top;\n",
       "    }\n",
       "\n",
       "    .dataframe thead th {\n",
       "        text-align: right;\n",
       "    }\n",
       "</style>\n",
       "<table border=\"1\" class=\"dataframe\">\n",
       "  <thead>\n",
       "    <tr style=\"text-align: right;\">\n",
       "      <th></th>\n",
       "      <th>metric</th>\n",
       "      <th>value</th>\n",
       "    </tr>\n",
       "  </thead>\n",
       "  <tbody>\n",
       "    <tr>\n",
       "      <th>0</th>\n",
       "      <td>accuracy</td>\n",
       "      <td>0.84506</td>\n",
       "    </tr>\n",
       "    <tr>\n",
       "      <th>1</th>\n",
       "      <td>precision</td>\n",
       "      <td>0.81368</td>\n",
       "    </tr>\n",
       "    <tr>\n",
       "      <th>2</th>\n",
       "      <td>recall</td>\n",
       "      <td>0.88953</td>\n",
       "    </tr>\n",
       "    <tr>\n",
       "      <th>3</th>\n",
       "      <td>auc</td>\n",
       "      <td>0.91405</td>\n",
       "    </tr>\n",
       "    <tr>\n",
       "      <th>4</th>\n",
       "      <td>F1_score</td>\n",
       "      <td>0.84992</td>\n",
       "    </tr>\n",
       "  </tbody>\n",
       "</table>\n",
       "</div>"
      ],
      "text/plain": [
       "      metric   value\n",
       "0   accuracy 0.84506\n",
       "1  precision 0.81368\n",
       "2     recall 0.88953\n",
       "3        auc 0.91405\n",
       "4   F1_score 0.84992"
      ]
     },
     "execution_count": 75,
     "metadata": {},
     "output_type": "execute_result"
    }
   ],
   "source": [
    "## evaluation for validation set\n",
    "rf1_val_df = tree_eva(x = val_x, y = val_y, model = rf1, train_val = \"val\")\n",
    "rf1_val_df"
   ]
  },
  {
   "cell_type": "markdown",
   "metadata": {},
   "source": [
    "### The AUC for the training set is 0.93035\n",
    "### The AUC for the validation set is 0.91405. Pretty good improvement from the decision tree model."
   ]
  },
  {
   "cell_type": "markdown",
   "metadata": {},
   "source": [
    "## 4. Gredient boosting model"
   ]
  },
  {
   "cell_type": "code",
   "execution_count": 76,
   "metadata": {},
   "outputs": [],
   "source": [
    "from sklearn.ensemble import GradientBoostingClassifier"
   ]
  },
  {
   "cell_type": "code",
   "execution_count": null,
   "metadata": {},
   "outputs": [],
   "source": [
    "## setting up hyperparameter ranges\n",
    "params2 = "
   ]
  }
 ],
 "metadata": {
  "kernelspec": {
   "display_name": "Python 3",
   "language": "python",
   "name": "python3"
  },
  "language_info": {
   "codemirror_mode": {
    "name": "ipython",
    "version": 3
   },
   "file_extension": ".py",
   "mimetype": "text/x-python",
   "name": "python",
   "nbconvert_exporter": "python",
   "pygments_lexer": "ipython3",
   "version": "3.8.3"
  }
 },
 "nbformat": 4,
 "nbformat_minor": 4
}
